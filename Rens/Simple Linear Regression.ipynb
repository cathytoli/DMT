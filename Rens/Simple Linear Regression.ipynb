{
 "cells": [
  {
   "cell_type": "markdown",
   "metadata": {},
   "source": [
    "Importing the libraries"
   ]
  },
  {
   "cell_type": "code",
   "execution_count": 96,
   "metadata": {},
   "outputs": [],
   "source": [
    "import sklearn\n",
    "import pandas as pd\n",
    "from sklearn.linear_model import LinearRegression\n",
    "from sklearn.model_selection import cross_val_score\n",
    "from sklearn.model_selection import cross_validate\n",
    "from sklearn.preprocessing import OneHotEncoder\n",
    "from sklearn import metrics\n",
    "from sklearn import preprocessing\n",
    "import numpy as np"
   ]
  },
  {
   "cell_type": "markdown",
   "metadata": {},
   "source": [
    "Read data file"
   ]
  },
  {
   "cell_type": "code",
   "execution_count": 97,
   "metadata": {},
   "outputs": [],
   "source": [
    "df = pd.read_csv(\"out_without_nan_mood_normalised_extra_temp_train.csv\")\n",
    "clf = LinearRegression()"
   ]
  },
  {
   "cell_type": "markdown",
   "metadata": {},
   "source": [
    "Add dummies, remove weekDay mean, remove day mean"
   ]
  },
  {
   "cell_type": "code",
   "execution_count": 98,
   "metadata": {},
   "outputs": [],
   "source": [
    "df['mood_mean_TARGET'] = df['mood_mean_TARGET'].astype(float)\n",
    "df = pd.concat([df,pd.get_dummies(df['id'])],axis=1)\n",
    "df = pd.concat([df,pd.get_dummies(df['weekDay'],prefix=\"day_\")],axis=1)\n",
    "df = df.drop(['weekDay_time_5','day_time_5','weekDay_time_4','day_time_4','weekDay_time_3','day_time_3','weekDay_time_2','day_time_2','weekDay_time_1','day_time_1','weekDay_time_5','mood_mean_time_1','circumplex.valence_mean_time_1'],axis=1)\n",
    "df = df.fillna(0)\n",
    "df = df.loc[:, (df != 0).any(axis=0)]"
   ]
  },
  {
   "cell_type": "code",
   "execution_count": 99,
   "metadata": {},
   "outputs": [],
   "source": [
    "def correlation(dataset, threshold):\n",
    "    col_corr = set() # Set of all the names of deleted columns\n",
    "    corr_matrix = dataset.corr()\n",
    "    \n",
    "    for i in range(len(corr_matrix.columns)):\n",
    "        for j in range(i):\n",
    "            if (abs(corr_matrix.iloc[i, j]) >= threshold) and (corr_matrix.columns[j] not in col_corr) and corr_matrix.columns[i] != \"mood_mean_TARGET\" and corr_matrix.columns[j] != \"mood_mean_TARGET\":\n",
    "                \n",
    "                colnameI = corr_matrix.columns[i]\n",
    "                colnameJ = corr_matrix.columns[j]\n",
    "                if abs(corr_matrix.mood_mean_TARGET[colnameI]) > abs(corr_matrix.mood_mean_TARGET[colnameJ]):\n",
    "                    colname = colnameJ\n",
    "                else:\n",
    "                    colname = colnameI\n",
    "                col_corr.add(colname)\n",
    "                if colname in dataset.columns:\n",
    "                    del dataset[colname] # deleting the column from the dataset\n",
    "    \n",
    "    return(dataset)\n",
    "\n",
    "#correlation(df,0.7) #Won't do this since it isn't actually needed\n"
   ]
  },
  {
   "cell_type": "code",
   "execution_count": 100,
   "metadata": {},
   "outputs": [
    {
     "name": "stdout",
     "output_type": "stream",
     "text": [
      "numberOfTimesSeenMood5Days_5     -0.309945\n",
      "numberOfTimesSeenMood5Days_4     -0.304778\n",
      "AS14.07                          -0.284923\n",
      "lastTimeSeenMood_7               -0.284289\n",
      "circumplex.valence_mean_time_3    0.258131\n",
      "circumplex.valence_mean_time_2    0.275123\n",
      "circumplex.valence_mean           0.287016\n",
      "mood_mean                         0.487427\n",
      "mood_mean_time_3                  0.504293\n",
      "mood_mean_time_2                  0.511067\n",
      "mood_mean_time_4                  0.512087\n",
      "mood_mean_time_5                  0.519371\n",
      "Name: mood_mean_TARGET, dtype: float64\n"
     ]
    }
   ],
   "source": [
    "corr=df.corr()\n",
    "goodColumns= corr[abs(corr['mood_mean_TARGET'])>0.25]['mood_mean_TARGET'].sort_values()\n",
    "goodColumns = goodColumns.drop(['mood_mean_TARGET'])\n",
    "print(goodColumns)\n"
   ]
  },
  {
   "cell_type": "code",
   "execution_count": 101,
   "metadata": {},
   "outputs": [],
   "source": [
    "notRelevantAll=df.drop(['id','date'],axis=1).dropna()\n",
    "goldY= notRelevantAll['mood_mean_TARGET']\n",
    "relevant = notRelevantAll.drop(['mood_mean_TARGET'],axis=1)"
   ]
  },
  {
   "cell_type": "code",
   "execution_count": 102,
   "metadata": {},
   "outputs": [
    {
     "name": "stdout",
     "output_type": "stream",
     "text": [
      "R2: 0.27 (+/- 0.15)\n",
      "MSE: -0.39 (+/- 0.21)\n",
      "EXPLAINED VARIANCE: 0.29 (+/- 0.17)\n"
     ]
    }
   ],
   "source": [
    "scoring = {'R2': 'r2',\n",
    "           'Mean squared Error': 'neg_mean_squared_error',\n",
    "           'Explained variance': 'explained_variance'}\n",
    "\n",
    "scores = cross_validate(clf, relevant[goodColumns.keys()], goldY, cv=7,scoring=scoring)\n",
    "print(\"R2: %0.2f (+/- %0.2f)\" % (scores['test_R2'].mean(), scores['test_R2'].std() * 2))\n",
    "print(\"MSE: %0.2f (+/- %0.2f)\" % (scores['test_Mean squared Error'].mean(), scores['test_Mean squared Error'].std() * 2))\n",
    "print(\"EXPLAINED VARIANCE: %0.2f (+/- %0.2f)\" % (scores['test_Explained variance'].mean(), scores['test_Explained variance'].std() * 2))\n"
   ]
  },
  {
   "cell_type": "markdown",
   "metadata": {},
   "source": [
    "Evaluate on real test set"
   ]
  },
  {
   "cell_type": "code",
   "execution_count": 103,
   "metadata": {},
   "outputs": [
    {
     "data": {
      "text/plain": [
       "LinearRegression(copy_X=True, fit_intercept=True, n_jobs=None,\n",
       "         normalize=False)"
      ]
     },
     "execution_count": 103,
     "metadata": {},
     "output_type": "execute_result"
    }
   ],
   "source": [
    "clf.fit(relevant[goodColumns.keys()], goldY)"
   ]
  },
  {
   "cell_type": "code",
   "execution_count": 104,
   "metadata": {},
   "outputs": [],
   "source": [
    "dfTest = pd.read_csv(\"out_without_nan_mood_normalised_extra_temp_test.csv\")\n",
    "dfTest['mood_mean_TARGET'] = dfTest['mood_mean_TARGET'].astype(float)\n",
    "dfTest = pd.concat([dfTest,pd.get_dummies(dfTest['id'])],axis=1)\n",
    "dfTest = pd.concat([dfTest,pd.get_dummies(dfTest['weekDay'],prefix=\"day_\")],axis=1)"
   ]
  },
  {
   "cell_type": "code",
   "execution_count": 105,
   "metadata": {},
   "outputs": [
    {
     "name": "stdout",
     "output_type": "stream",
     "text": [
      "MAE\n",
      "0.46883653626876887\n",
      "MSE\n",
      "0.3837113522382853\n",
      "RMSE\n",
      "0.6194443899481901\n",
      "R2\n",
      "0.25949503123791406\n",
      "[('numberOfTimesSeenMood5Days_5', -0.2831431690240392), ('numberOfTimesSeenMood5Days_4', -0.07888628443047128), ('AS14.07', -0.3985265858616264), ('lastTimeSeenMood_7', -0.01572978299963433), ('circumplex.valence_mean_time_3', 0.19280186312153264), ('circumplex.valence_mean_time_2', -0.6356772355453106), ('circumplex.valence_mean', 0.25406534905016265), ('mood_mean', 0.9100693188446287), ('mood_mean_time_3', -1.122173483399908), ('mood_mean_time_2', 1.5658383569285583), ('mood_mean_time_4', -0.5632312538722019), ('mood_mean_time_5', 2.2649535752867807)]\n"
     ]
    },
    {
     "data": {
      "image/png": "[encoded data removed]",
      "text/plain": [
       "<Figure size 432x288 with 1 Axes>"
      ]
     },
     "metadata": {
      "needs_background": "light"
     },
     "output_type": "display_data"
    }
   ],
   "source": [
    "y_pred =clf.predict(dfTest[goodColumns.keys()])\n",
    "print(\"MAE\")\n",
    "print(metrics.mean_absolute_error(dfTest['mood_mean_TARGET'],y_pred))\n",
    "print(\"MSE\")\n",
    "print(metrics.mean_squared_error(dfTest['mood_mean_TARGET'],y_pred))\n",
    "print(\"RMSE\")\n",
    "print(np.sqrt(metrics.mean_squared_error(dfTest['mood_mean_TARGET'],y_pred)))\n",
    "print(\"R2\")\n",
    "print(metrics.r2_score(dfTest['mood_mean_TARGET'],y_pred))\n",
    "\n",
    "\n",
    "print(list(zip(goodColumns.keys(),clf.coef_)))\n",
    "import matplotlib.pyplot as plt\n",
    "plt.plot(y_pred-dfTest['mood_mean_TARGET'])\n",
    "plt.show()"
   ]
  },
  {
   "cell_type": "code",
   "execution_count": 88,
   "metadata": {},
   "outputs": [
    {
     "data": {
      "text/plain": [
       "array(['id', 'date', 'activity_mean', 'circumplex.arousal_mean',\n",
       "       'circumplex.valence_mean', 'mood_mean', 'appCat.builtin_sum',\n",
       "       'appCat.communication_sum', 'appCat.entertainment_sum',\n",
       "       'appCat.finance_sum', 'appCat.game_sum', 'appCat.office_sum',\n",
       "       'appCat.other_sum', 'appCat.social_sum', 'appCat.travel_sum',\n",
       "       'appCat.unknown_sum', 'appCat.utilities_sum', 'appCat.weather_sum',\n",
       "       'call_sum', 'screen_sum', 'sms_sum', 'day', 'weekDay',\n",
       "       'activity_mean_time_1', 'circumplex.arousal_mean_time_1',\n",
       "       'circumplex.valence_mean_time_1', 'appCat.builtin_sum_time_1',\n",
       "       'appCat.communication_sum_time_1',\n",
       "       'appCat.entertainment_sum_time_1', 'appCat.finance_sum_time_1',\n",
       "       'appCat.game_sum_time_1', 'appCat.other_sum_time_1',\n",
       "       'appCat.social_sum_time_1', 'appCat.travel_sum_time_1',\n",
       "       'appCat.unknown_sum_time_1', 'appCat.utilities_sum_time_1',\n",
       "       'appCat.weather_sum_time_1', 'call_sum_time_1',\n",
       "       'screen_sum_time_1', 'sms_sum_time_1', 'activity_mean_time_2',\n",
       "       'circumplex.arousal_mean_time_2', 'circumplex.valence_mean_time_2',\n",
       "       'mood_mean_time_2', 'appCat.builtin_sum_time_2',\n",
       "       'appCat.communication_sum_time_2',\n",
       "       'appCat.entertainment_sum_time_2', 'appCat.finance_sum_time_2',\n",
       "       'appCat.game_sum_time_2', 'appCat.office_sum_time_2',\n",
       "       'appCat.other_sum_time_2', 'appCat.social_sum_time_2',\n",
       "       'appCat.travel_sum_time_2', 'appCat.unknown_sum_time_2',\n",
       "       'appCat.utilities_sum_time_2', 'appCat.weather_sum_time_2',\n",
       "       'call_sum_time_2', 'screen_sum_time_2', 'sms_sum_time_2',\n",
       "       'activity_mean_time_3', 'circumplex.arousal_mean_time_3',\n",
       "       'circumplex.valence_mean_time_3', 'mood_mean_time_3',\n",
       "       'appCat.builtin_sum_time_3', 'appCat.communication_sum_time_3',\n",
       "       'appCat.entertainment_sum_time_3', 'appCat.finance_sum_time_3',\n",
       "       'appCat.game_sum_time_3', 'appCat.office_sum_time_3',\n",
       "       'appCat.other_sum_time_3', 'appCat.social_sum_time_3',\n",
       "       'appCat.travel_sum_time_3', 'appCat.unknown_sum_time_3',\n",
       "       'appCat.utilities_sum_time_3', 'appCat.weather_sum_time_3',\n",
       "       'call_sum_time_3', 'screen_sum_time_3', 'sms_sum_time_3',\n",
       "       'activity_mean_time_4', 'circumplex.arousal_mean_time_4',\n",
       "       'circumplex.valence_mean_time_4', 'mood_mean_time_4',\n",
       "       'appCat.builtin_sum_time_4', 'appCat.communication_sum_time_4',\n",
       "       'appCat.entertainment_sum_time_4', 'appCat.finance_sum_time_4',\n",
       "       'appCat.game_sum_time_4', 'appCat.office_sum_time_4',\n",
       "       'appCat.other_sum_time_4', 'appCat.social_sum_time_4',\n",
       "       'appCat.travel_sum_time_4', 'appCat.unknown_sum_time_4',\n",
       "       'appCat.utilities_sum_time_4', 'appCat.weather_sum_time_4',\n",
       "       'call_sum_time_4', 'screen_sum_time_4', 'sms_sum_time_4',\n",
       "       'activity_mean_time_5', 'circumplex.arousal_mean_time_5',\n",
       "       'circumplex.valence_mean_time_5', 'mood_mean_time_5',\n",
       "       'appCat.builtin_sum_time_5', 'appCat.communication_sum_time_5',\n",
       "       'appCat.entertainment_sum_time_5', 'appCat.finance_sum_time_5',\n",
       "       'appCat.game_sum_time_5', 'appCat.office_sum_time_5',\n",
       "       'appCat.other_sum_time_5', 'appCat.social_sum_time_5',\n",
       "       'appCat.travel_sum_time_5', 'appCat.unknown_sum_time_5',\n",
       "       'appCat.utilities_sum_time_5', 'appCat.weather_sum_time_5',\n",
       "       'call_sum_time_5', 'screen_sum_time_5', 'sms_sum_time_5',\n",
       "       'numberOfTimesSeenMood5Days_3', 'lastTimeSeenMood_4',\n",
       "       'numberOfTimesSeenMood5Days_4', 'lastTimeSeenMood_5',\n",
       "       'numberOfTimesSeenMood5Days_5', 'lastTimeSeenMood_6',\n",
       "       'numberOfTimesSeenMood5Days_6', 'lastTimeSeenMood_7',\n",
       "       'numberOfTimesSeenMood5Days_7', 'lastTimeSeenMood_8',\n",
       "       'numberOfTimesSeenMood5Days_8', 'lastTimeSeenMood_9',\n",
       "       'numberOfTimesSeenMood5Days_9', 'mood_mean_TARGET', 'AS14.01',\n",
       "       'AS14.02', 'AS14.03', 'AS14.05', 'AS14.06', 'AS14.07', 'AS14.08',\n",
       "       'AS14.09', 'AS14.12', 'AS14.13', 'AS14.14', 'AS14.15', 'AS14.16',\n",
       "       'AS14.17', 'AS14.19', 'AS14.20', 'AS14.23', 'AS14.24', 'AS14.25',\n",
       "       'AS14.26', 'AS14.27', 'AS14.28', 'AS14.29', 'AS14.30', 'AS14.31',\n",
       "       'AS14.32', 'AS14.33', 'day__0.0', 'day__0.16666666666666666',\n",
       "       'day__0.3333333333333333', 'day__0.5', 'day__0.6666666666666666',\n",
       "       'day__0.8333333333333334', 'day__1.0'], dtype=object)"
      ]
     },
     "execution_count": 88,
     "metadata": {},
     "output_type": "execute_result"
    }
   ],
   "source": [
    "df.columns.values"
   ]
  }
 ],
 "metadata": {
  "kernelspec": {
   "display_name": "Python 3",
   "language": "python",
   "name": "python3"
  },
  "language_info": {
   "codemirror_mode": {
    "name": "ipython",
    "version": 3
   },
   "file_extension": ".py",
   "mimetype": "text/x-python",
   "name": "python",
   "nbconvert_exporter": "python",
   "pygments_lexer": "ipython3",
   "version": "3.6.8"
  }
 },
 "nbformat": 4,
 "nbformat_minor": 2
}
