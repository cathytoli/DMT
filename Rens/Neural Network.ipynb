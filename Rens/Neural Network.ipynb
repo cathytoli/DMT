{
 "cells": [
  {
   "cell_type": "markdown",
   "metadata": {},
   "source": [
    "Importing the libraries"
   ]
  },
  {
   "cell_type": "code",
   "execution_count": 1,
   "metadata": {},
   "outputs": [
    {
     "name": "stderr",
     "output_type": "stream",
     "text": [
      "C:\\Users\\Rens\\Anaconda3\\lib\\site-packages\\h5py\\__init__.py:36: FutureWarning: Conversion of the second argument of issubdtype from `float` to `np.floating` is deprecated. In future, it will be treated as `np.float64 == np.dtype(float).type`.\n",
      "  from ._conv import register_converters as _register_converters\n",
      "Using TensorFlow backend.\n"
     ]
    }
   ],
   "source": [
    "import sklearn\n",
    "import pandas as pd\n",
    "from sklearn.model_selection import train_test_split\n",
    "from sklearn.metrics import classification_report\n",
    "from sklearn.model_selection import StratifiedKFold\n",
    "from keras.models import Sequential\n",
    "from keras.layers import Dense\n",
    "from keras.layers import Dropout\n",
    "import numpy as np\n",
    "import keras"
   ]
  },
  {
   "cell_type": "markdown",
   "metadata": {},
   "source": [
    "Read data file"
   ]
  },
  {
   "cell_type": "code",
   "execution_count": 2,
   "metadata": {},
   "outputs": [],
   "source": [
    "df2 = pd.read_csv(\"out_without_nan_mood_target.csv\")"
   ]
  },
  {
   "cell_type": "markdown",
   "metadata": {},
   "source": [
    "Mood back to whole numbers"
   ]
  },
  {
   "cell_type": "code",
   "execution_count": 10,
   "metadata": {},
   "outputs": [],
   "source": [
    "df=df2\n",
    "df2['mood_mean_TARGET'] = df2['mood_mean_TARGET'].astype(float)\n",
    "dfNonNan = df2.dropna(subset = ['mood_mean_TARGET'] )\n",
    "dfNonNan = pd.concat([dfNonNan,pd.get_dummies(dfNonNan['id'])],axis=1)\n",
    "df['mood_mean_TARGET'] = df['mood_mean_TARGET'].astype(float).round().astype(str)\n",
    "df = pd.concat([df,pd.get_dummies(df['id'])],axis=1)"
   ]
  },
  {
   "cell_type": "markdown",
   "metadata": {},
   "source": [
    "Only select columns with high correlation"
   ]
  },
  {
   "cell_type": "code",
   "execution_count": 11,
   "metadata": {},
   "outputs": [
    {
     "name": "stdout",
     "output_type": "stream",
     "text": [
      "AS14.07                           -0.238830\n",
      "AS14.12                           -0.171698\n",
      "AS14.33                           -0.111774\n",
      "sms_sum_time_5                    -0.106388\n",
      "weekDay_time_5                    -0.104009\n",
      "sms_sum_time_4                    -0.100267\n",
      "appCat.communication_sum_time_5    0.100607\n",
      "appCat.game_sum_time_3             0.105983\n",
      "appCat.entertainment_sum_time_3    0.107478\n",
      "AS14.27                            0.110542\n",
      "appCat.other_sum_time_5            0.115242\n",
      "appCat.game_sum_time_5             0.121776\n",
      "appCat.game_sum_time_4             0.122873\n",
      "AS14.32                            0.123148\n",
      "appCat.entertainment_sum_time_4    0.123462\n",
      "appCat.entertainment_sum_time_5    0.131728\n",
      "AS14.29                            0.137814\n",
      "AS14.03                            0.161710\n",
      "circumplex.valence_mean_time_5     0.211159\n",
      "circumplex.valence_mean_time_4     0.212472\n",
      "circumplex.valence_mean_time_3     0.213423\n",
      "AS14.30                            0.223710\n",
      "circumplex.valence_mean_time_2     0.233791\n",
      "circumplex.valence_mean_time_1     0.234568\n",
      "circumplex.valence_mean            0.234568\n",
      "mood_mean                          0.437926\n",
      "mood_mean_time_1                   0.437926\n",
      "mood_mean_time_3                   0.445038\n",
      "mood_mean_time_4                   0.451826\n",
      "mood_mean_time_2                   0.459582\n",
      "mood_mean_time_5                   0.463284\n",
      "Name: mood_mean_TARGET, dtype: float64\n"
     ]
    }
   ],
   "source": [
    "corr=dfNonNan.corr()\n",
    "goodColumns= corr[abs(corr['mood_mean_TARGET'])>0.10]['mood_mean_TARGET'].sort_values()\n",
    "goodColumns = goodColumns.drop(['mood_mean_TARGET'])\n",
    "print(goodColumns)"
   ]
  },
  {
   "cell_type": "markdown",
   "metadata": {},
   "source": [
    "Split in train and test set"
   ]
  },
  {
   "cell_type": "code",
   "execution_count": 5,
   "metadata": {},
   "outputs": [],
   "source": [
    "notRelevantAll=df.drop(['id','date'],axis=1).dropna()\n",
    "goldY= notRelevantAll['mood_mean_TARGET']\n",
    "relevant = notRelevantAll.drop(['mood_mean_TARGET'],axis=1)\n",
    "X_train, X_test, y_train, y_test = train_test_split(relevant[goodColumns.keys()], goldY, test_size=0.33, random_state=42)\n",
    "y_train_cat = keras.utils.to_categorical(y_train.astype(float).astype(int))\n",
    "y_test_cat = keras.utils.to_categorical(y_test.astype(float).astype(int))\n",
    "\n",
    "goldY_train = keras.utils.to_categorical(goldY.astype(float).astype(int))"
   ]
  },
  {
   "cell_type": "markdown",
   "metadata": {},
   "source": [
    "Setup model"
   ]
  },
  {
   "cell_type": "code",
   "execution_count": 6,
   "metadata": {},
   "outputs": [
    {
     "name": "stdout",
     "output_type": "stream",
     "text": [
      "WARNING:tensorflow:From C:\\Users\\Rens\\Anaconda3\\lib\\site-packages\\tensorflow\\python\\framework\\op_def_library.py:263: colocate_with (from tensorflow.python.framework.ops) is deprecated and will be removed in a future version.\n",
      "Instructions for updating:\n",
      "Colocations handled automatically by placer.\n"
     ]
    }
   ],
   "source": [
    "model = Sequential()\n",
    "model.add(Dense(len(X_test.columns), activation='relu', input_shape=(len(X_test.columns),)))\n",
    "model.add(Dense(8, activation='relu'))\n",
    "model.add(Dense(10, activation='softmax'))"
   ]
  },
  {
   "cell_type": "code",
   "execution_count": 7,
   "metadata": {},
   "outputs": [
    {
     "name": "stdout",
     "output_type": "stream",
     "text": [
      "_________________________________________________________________\n",
      "Layer (type)                 Output Shape              Param #   \n",
      "=================================================================\n",
      "dense_1 (Dense)              (None, 35)                1260      \n",
      "_________________________________________________________________\n",
      "dense_2 (Dense)              (None, 8)                 288       \n",
      "_________________________________________________________________\n",
      "dense_3 (Dense)              (None, 10)                90        \n",
      "=================================================================\n",
      "Total params: 1,638\n",
      "Trainable params: 1,638\n",
      "Non-trainable params: 0\n",
      "_________________________________________________________________\n"
     ]
    }
   ],
   "source": [
    "model.summary()"
   ]
  },
  {
   "cell_type": "code",
   "execution_count": 8,
   "metadata": {},
   "outputs": [
    {
     "name": "stdout",
     "output_type": "stream",
     "text": [
      "WARNING:tensorflow:From C:\\Users\\Rens\\Anaconda3\\lib\\site-packages\\tensorflow\\python\\ops\\math_ops.py:3066: to_int32 (from tensorflow.python.ops.math_ops) is deprecated and will be removed in a future version.\n",
      "Instructions for updating:\n",
      "Use tf.cast instead.\n",
      "Epoch 1/100\n",
      "814/814 [==============================] - 2s 2ms/step - loss: 1.4560 - acc: 0.4779\n",
      "Epoch 2/100\n",
      "814/814 [==============================] - 1s 1ms/step - loss: 1.1597 - acc: 0.4951\n",
      "Epoch 3/100\n",
      "814/814 [==============================] - 1s 1ms/step - loss: 1.1170 - acc: 0.5332\n",
      "Epoch 4/100\n",
      "814/814 [==============================] - 1s 1ms/step - loss: 1.0938 - acc: 0.5356\n",
      "Epoch 5/100\n",
      "814/814 [==============================] - 1s 1ms/step - loss: 1.0840 - acc: 0.5356\n",
      "Epoch 6/100\n",
      "814/814 [==============================] - 1s 1ms/step - loss: 1.0688 - acc: 0.5393\n",
      "Epoch 7/100\n",
      "814/814 [==============================] - 1s 1ms/step - loss: 1.0644 - acc: 0.5455\n",
      "Epoch 8/100\n",
      "814/814 [==============================] - 1s 1ms/step - loss: 1.0564 - acc: 0.5553\n",
      "Epoch 9/100\n",
      "814/814 [==============================] - 1s 952us/step - loss: 1.0439 - acc: 0.5614\n",
      "Epoch 10/100\n",
      "814/814 [==============================] - 1s 1ms/step - loss: 1.0460 - acc: 0.5688\n",
      "Epoch 11/100\n",
      "814/814 [==============================] - 1s 957us/step - loss: 1.0322 - acc: 0.5725\n",
      "Epoch 12/100\n",
      "814/814 [==============================] - 1s 912us/step - loss: 1.0284 - acc: 0.5749\n",
      "Epoch 13/100\n",
      "814/814 [==============================] - 1s 1ms/step - loss: 1.0220 - acc: 0.5774\n",
      "Epoch 14/100\n",
      "814/814 [==============================] - 1s 1ms/step - loss: 1.0164 - acc: 0.5786\n",
      "Epoch 15/100\n",
      "814/814 [==============================] - 1s 1ms/step - loss: 1.0087 - acc: 0.5811\n",
      "Epoch 16/100\n",
      "814/814 [==============================] - 1s 1ms/step - loss: 1.0109 - acc: 0.5811\n",
      "Epoch 17/100\n",
      "814/814 [==============================] - 1s 1ms/step - loss: 1.0107 - acc: 0.5749\n",
      "Epoch 18/100\n",
      "814/814 [==============================] - 1s 1ms/step - loss: 1.0047 - acc: 0.5737\n",
      "Epoch 19/100\n",
      "814/814 [==============================] - 1s 1ms/step - loss: 1.0039 - acc: 0.5762\n",
      "Epoch 20/100\n",
      "814/814 [==============================] - 1s 1ms/step - loss: 0.9998 - acc: 0.5774\n",
      "Epoch 21/100\n",
      "814/814 [==============================] - 1s 1ms/step - loss: 1.0004 - acc: 0.5823\n",
      "Epoch 22/100\n",
      "814/814 [==============================] - 1s 1ms/step - loss: 0.9998 - acc: 0.5885\n",
      "Epoch 23/100\n",
      "814/814 [==============================] - 1s 1ms/step - loss: 0.9950 - acc: 0.5749\n",
      "Epoch 24/100\n",
      "814/814 [==============================] - 1s 1ms/step - loss: 0.9909 - acc: 0.5971\n",
      "Epoch 25/100\n",
      "814/814 [==============================] - 1s 1ms/step - loss: 0.9890 - acc: 0.5897\n",
      "Epoch 26/100\n",
      "814/814 [==============================] - 1s 1ms/step - loss: 0.9916 - acc: 0.5921\n",
      "Epoch 27/100\n",
      "814/814 [==============================] - 1s 1ms/step - loss: 0.9875 - acc: 0.5835\n",
      "Epoch 28/100\n",
      "814/814 [==============================] - 1s 1ms/step - loss: 0.9886 - acc: 0.5921\n",
      "Epoch 29/100\n",
      "814/814 [==============================] - 1s 1ms/step - loss: 0.9816 - acc: 0.5811\n",
      "Epoch 30/100\n",
      "814/814 [==============================] - 1s 1ms/step - loss: 0.9940 - acc: 0.5946\n",
      "Epoch 31/100\n",
      "814/814 [==============================] - 1s 1ms/step - loss: 0.9794 - acc: 0.5958\n",
      "Epoch 32/100\n",
      "814/814 [==============================] - 1s 1ms/step - loss: 0.9774 - acc: 0.5921\n",
      "Epoch 33/100\n",
      "814/814 [==============================] - 1s 1ms/step - loss: 0.9796 - acc: 0.5946\n",
      "Epoch 34/100\n",
      "814/814 [==============================] - 1s 1ms/step - loss: 0.9814 - acc: 0.5848\n",
      "Epoch 35/100\n",
      "814/814 [==============================] - 1s 1ms/step - loss: 0.9756 - acc: 0.5946\n",
      "Epoch 36/100\n",
      "814/814 [==============================] - 1s 1ms/step - loss: 0.9793 - acc: 0.5971\n",
      "Epoch 37/100\n",
      "814/814 [==============================] - 1s 1ms/step - loss: 0.9738 - acc: 0.5983\n",
      "Epoch 38/100\n",
      "814/814 [==============================] - 1s 1ms/step - loss: 0.9762 - acc: 0.5872\n",
      "Epoch 39/100\n",
      "814/814 [==============================] - 1s 1ms/step - loss: 0.9781 - acc: 0.5799\n",
      "Epoch 40/100\n",
      "814/814 [==============================] - 1s 1ms/step - loss: 0.9811 - acc: 0.5848\n",
      "Epoch 41/100\n",
      "814/814 [==============================] - 1s 1ms/step - loss: 0.9768 - acc: 0.5921\n",
      "Epoch 42/100\n",
      "814/814 [==============================] - 1s 1ms/step - loss: 0.9731 - acc: 0.6081\n",
      "Epoch 43/100\n",
      "814/814 [==============================] - 1s 1ms/step - loss: 0.9693 - acc: 0.6032\n",
      "Epoch 44/100\n",
      "814/814 [==============================] - 1s 1ms/step - loss: 0.9730 - acc: 0.5860\n",
      "Epoch 45/100\n",
      "814/814 [==============================] - 1s 1ms/step - loss: 0.9626 - acc: 0.5995\n",
      "Epoch 46/100\n",
      "814/814 [==============================] - 1s 1ms/step - loss: 0.9715 - acc: 0.5946\n",
      "Epoch 47/100\n",
      "814/814 [==============================] - 1s 1ms/step - loss: 0.9714 - acc: 0.5971\n",
      "Epoch 48/100\n",
      "814/814 [==============================] - 1s 1ms/step - loss: 0.9738 - acc: 0.5774\n",
      "Epoch 49/100\n",
      "814/814 [==============================] - 1s 1ms/step - loss: 0.9750 - acc: 0.5897\n",
      "Epoch 50/100\n",
      "814/814 [==============================] - 1s 1ms/step - loss: 0.9632 - acc: 0.5958\n",
      "Epoch 51/100\n",
      "814/814 [==============================] - 1s 1ms/step - loss: 0.9658 - acc: 0.5934\n",
      "Epoch 52/100\n",
      "814/814 [==============================] - 1s 1ms/step - loss: 0.9672 - acc: 0.5897\n",
      "Epoch 53/100\n",
      "814/814 [==============================] - 1s 1ms/step - loss: 0.9615 - acc: 0.5958\n",
      "Epoch 54/100\n",
      "814/814 [==============================] - 1s 1ms/step - loss: 0.9619 - acc: 0.5995\n",
      "Epoch 55/100\n",
      "814/814 [==============================] - 1s 1ms/step - loss: 0.9598 - acc: 0.5872\n",
      "Epoch 56/100\n",
      "814/814 [==============================] - 1s 1ms/step - loss: 0.9639 - acc: 0.5971\n",
      "Epoch 57/100\n",
      "814/814 [==============================] - 1s 1ms/step - loss: 0.9585 - acc: 0.5971\n",
      "Epoch 58/100\n",
      "814/814 [==============================] - 1s 1ms/step - loss: 0.9572 - acc: 0.5958\n",
      "Epoch 59/100\n",
      "814/814 [==============================] - 1s 1ms/step - loss: 0.9498 - acc: 0.5934\n",
      "Epoch 60/100\n",
      "814/814 [==============================] - 1s 1ms/step - loss: 0.9596 - acc: 0.5921\n",
      "Epoch 61/100\n",
      "814/814 [==============================] - 1s 1ms/step - loss: 0.9644 - acc: 0.5848\n",
      "Epoch 62/100\n",
      "814/814 [==============================] - 1s 1ms/step - loss: 0.9546 - acc: 0.5946\n",
      "Epoch 63/100\n",
      "814/814 [==============================] - 1s 1ms/step - loss: 0.9503 - acc: 0.5885\n",
      "Epoch 64/100\n",
      "814/814 [==============================] - 1s 1ms/step - loss: 0.9463 - acc: 0.5958\n",
      "Epoch 65/100\n",
      "814/814 [==============================] - 1s 1ms/step - loss: 0.9461 - acc: 0.5995\n",
      "Epoch 66/100\n",
      "814/814 [==============================] - 1s 1ms/step - loss: 0.9454 - acc: 0.6020\n",
      "Epoch 67/100\n",
      "814/814 [==============================] - 1s 1ms/step - loss: 0.9462 - acc: 0.6057\n",
      "Epoch 68/100\n",
      "814/814 [==============================] - 1s 1ms/step - loss: 0.9505 - acc: 0.5983\n",
      "Epoch 69/100\n",
      "814/814 [==============================] - 1s 1ms/step - loss: 0.9432 - acc: 0.6057\n",
      "Epoch 70/100\n",
      "814/814 [==============================] - 1s 1ms/step - loss: 0.9443 - acc: 0.5872\n",
      "Epoch 71/100\n",
      "814/814 [==============================] - 1s 1ms/step - loss: 0.9470 - acc: 0.6032\n",
      "Epoch 72/100\n",
      "814/814 [==============================] - 1s 1ms/step - loss: 0.9434 - acc: 0.5946\n",
      "Epoch 73/100\n",
      "814/814 [==============================] - 1s 1ms/step - loss: 0.9473 - acc: 0.6106\n",
      "Epoch 74/100\n",
      "814/814 [==============================] - 1s 1ms/step - loss: 0.9364 - acc: 0.6093\n",
      "Epoch 75/100\n",
      "814/814 [==============================] - 1s 1ms/step - loss: 0.9392 - acc: 0.5958\n",
      "Epoch 76/100\n",
      "814/814 [==============================] - 1s 1ms/step - loss: 0.9428 - acc: 0.6032\n",
      "Epoch 77/100\n",
      "814/814 [==============================] - 1s 1ms/step - loss: 0.9447 - acc: 0.5934\n",
      "Epoch 78/100\n",
      "814/814 [==============================] - 1s 1ms/step - loss: 0.9431 - acc: 0.5921\n",
      "Epoch 79/100\n",
      "814/814 [==============================] - 1s 895us/step - loss: 0.9299 - acc: 0.6007\n",
      "Epoch 80/100\n",
      "814/814 [==============================] - 1s 1ms/step - loss: 0.9358 - acc: 0.6032\n",
      "Epoch 81/100\n",
      "814/814 [==============================] - 1s 1ms/step - loss: 0.9339 - acc: 0.6106\n",
      "Epoch 82/100\n",
      "814/814 [==============================] - 1s 985us/step - loss: 0.9379 - acc: 0.6081\n",
      "Epoch 83/100\n",
      "814/814 [==============================] - 1s 980us/step - loss: 0.9329 - acc: 0.6020\n",
      "Epoch 84/100\n",
      "814/814 [==============================] - 1s 1ms/step - loss: 0.9353 - acc: 0.6155\n",
      "Epoch 85/100\n",
      "814/814 [==============================] - 1s 1ms/step - loss: 0.9236 - acc: 0.6020\n",
      "Epoch 86/100\n",
      "814/814 [==============================] - 1s 1ms/step - loss: 0.9338 - acc: 0.5971\n",
      "Epoch 87/100\n",
      "814/814 [==============================] - 1s 1ms/step - loss: 0.9273 - acc: 0.6118\n",
      "Epoch 88/100\n",
      "814/814 [==============================] - 1s 1ms/step - loss: 0.9322 - acc: 0.6106\n",
      "Epoch 89/100\n",
      "814/814 [==============================] - 1s 1ms/step - loss: 0.9278 - acc: 0.6069\n",
      "Epoch 90/100\n",
      "814/814 [==============================] - 1s 1ms/step - loss: 0.9339 - acc: 0.6069\n",
      "Epoch 91/100\n",
      "814/814 [==============================] - 1s 1ms/step - loss: 0.9231 - acc: 0.6020\n",
      "Epoch 92/100\n",
      "814/814 [==============================] - 1s 1ms/step - loss: 0.9259 - acc: 0.6155\n",
      "Epoch 93/100\n",
      "814/814 [==============================] - 1s 1ms/step - loss: 0.9351 - acc: 0.6007\n",
      "Epoch 94/100\n",
      "814/814 [==============================] - 1s 1ms/step - loss: 0.9272 - acc: 0.6044\n",
      "Epoch 95/100\n",
      "814/814 [==============================] - 1s 952us/step - loss: 0.9246 - acc: 0.6081\n",
      "Epoch 96/100\n",
      "814/814 [==============================] - 1s 1ms/step - loss: 0.9194 - acc: 0.6155\n",
      "Epoch 97/100\n",
      "814/814 [==============================] - 1s 1ms/step - loss: 0.9215 - acc: 0.6020\n",
      "Epoch 98/100\n",
      "814/814 [==============================] - 1s 1ms/step - loss: 0.9200 - acc: 0.6032\n",
      "Epoch 99/100\n",
      "814/814 [==============================] - 1s 1ms/step - loss: 0.9222 - acc: 0.6069\n",
      "Epoch 100/100\n",
      "814/814 [==============================] - 1s 1ms/step - loss: 0.9126 - acc: 0.6155\n"
     ]
    },
    {
     "data": {
      "text/plain": [
       "<keras.callbacks.History at 0x2034f095b70>"
      ]
     },
     "execution_count": 8,
     "metadata": {},
     "output_type": "execute_result"
    }
   ],
   "source": [
    "model.compile(loss='categorical_crossentropy',\n",
    "              optimizer='adam',\n",
    "              metrics=['accuracy'])\n",
    "                   \n",
    "model.fit(X_train, y_train_cat,epochs=100, batch_size=1, verbose=1)"
   ]
  },
  {
   "cell_type": "code",
   "execution_count": 9,
   "metadata": {},
   "outputs": [
    {
     "name": "stdout",
     "output_type": "stream",
     "text": [
      "402/402 [==============================] - 0s 127us/step\n",
      "Test accuracy: 0.6044776113472174\n"
     ]
    }
   ],
   "source": [
    "test_loss, test_acc = model.evaluate(X_test, y_test_cat)\n",
    "\n",
    "print('Test accuracy:', test_acc)"
   ]
  }
 ],
 "metadata": {
  "kernelspec": {
   "display_name": "Python 3",
   "language": "python",
   "name": "python3"
  },
  "language_info": {
   "codemirror_mode": {
    "name": "ipython",
    "version": 3
   },
   "file_extension": ".py",
   "mimetype": "text/x-python",
   "name": "python",
   "nbconvert_exporter": "python",
   "pygments_lexer": "ipython3",
   "version": "3.6.5"
  }
 },
 "nbformat": 4,
 "nbformat_minor": 2
}
