{
 "cells": [
  {
   "cell_type": "markdown",
   "metadata": {},
   "source": [
    "Importing the libraries"
   ]
  },
  {
   "cell_type": "code",
   "execution_count": 1,
   "metadata": {},
   "outputs": [],
   "source": [
    "import sklearn\n",
    "import pandas as pd\n",
    "from sklearn.linear_model import LinearRegression\n",
    "from sklearn.model_selection import train_test_split\n",
    "from sklearn.ensemble import RandomForestClassifier\n",
    "from sklearn.model_selection import cross_val_score\n",
    "from sklearn.ensemble import GradientBoostingClassifier\n",
    "from sklearn.metrics import classification_report\n",
    "from sklearn.preprocessing import OneHotEncoder\n",
    "from sklearn import tree\n",
    "from sklearn import preprocessing\n",
    "import numpy as np"
   ]
  },
  {
   "cell_type": "markdown",
   "metadata": {},
   "source": [
    "Read data file"
   ]
  },
  {
   "cell_type": "code",
   "execution_count": 2,
   "metadata": {},
   "outputs": [],
   "source": [
    "df2 = pd.read_csv(\"out_without_nan_mood_target.csv\")"
   ]
  },
  {
   "cell_type": "markdown",
   "metadata": {},
   "source": [
    "Mood back to whole numbers"
   ]
  },
  {
   "cell_type": "code",
   "execution_count": 3,
   "metadata": {},
   "outputs": [],
   "source": [
    "df=df2\n",
    "df2['mood_mean_TARGET'] = df2['mood_mean_TARGET'].astype(float)\n",
    "dfNonNan = df2.dropna(subset = ['mood_mean_TARGET'] )\n",
    "dfNonNan = pd.concat([dfNonNan,pd.get_dummies(dfNonNan['id'])],axis=1)\n",
    "df['mood_mean_TARGET'] = df['mood_mean_TARGET'].astype(float).round().astype(str)\n",
    "df = pd.concat([df,pd.get_dummies(df['id'])],axis=1)"
   ]
  },
  {
   "cell_type": "markdown",
   "metadata": {},
   "source": [
    "Id to dummy variable"
   ]
  },
  {
   "cell_type": "markdown",
   "metadata": {},
   "source": [
    "Split in train and test set"
   ]
  },
  {
   "cell_type": "code",
   "execution_count": 15,
   "metadata": {},
   "outputs": [
    {
     "name": "stdout",
     "output_type": "stream",
     "text": [
      "AS14.07                          -0.264961\n",
      "circumplex.valence_mean_time_1    0.250137\n",
      "circumplex.valence_mean           0.250137\n",
      "circumplex.valence_mean_time_2    0.251291\n",
      "mood_mean                         0.472047\n",
      "mood_mean_time_1                  0.472047\n",
      "mood_mean_time_3                  0.477074\n",
      "mood_mean_time_4                  0.486367\n",
      "mood_mean_time_5                  0.495198\n",
      "mood_mean_time_2                  0.496638\n",
      "Name: mood_mean_TARGET, dtype: float64\n"
     ]
    }
   ],
   "source": [
    "corr=dfNonNan.corr()\n",
    "goodColumns= corr[abs(corr['mood_mean_TARGET'])>0.25]['mood_mean_TARGET'].sort_values()\n",
    "goodColumns = goodColumns.drop(['mood_mean_TARGET'])\n",
    "print(goodColumns)"
   ]
  },
  {
   "cell_type": "code",
   "execution_count": 16,
   "metadata": {},
   "outputs": [],
   "source": [
    "notRelevantAll=df.drop(['id','date'],axis=1).dropna()\n",
    "goldY= notRelevantAll['mood_mean_TARGET']\n",
    "relevant = notRelevantAll.drop(['mood_mean_TARGET'],axis=1)\n",
    "X_train, X_test, y_train, y_test = train_test_split(relevant[goodColumns.keys()], goldY, test_size=0.33, random_state=42)"
   ]
  },
  {
   "cell_type": "markdown",
   "metadata": {},
   "source": [
    "RANDOM FOREST CLASSIFIER"
   ]
  },
  {
   "cell_type": "code",
   "execution_count": 17,
   "metadata": {},
   "outputs": [],
   "source": [
    "clf = RandomForestClassifier(n_estimators=10, max_depth=3,random_state=0)\n",
    "clf = clf.fit(X_train, y_train)"
   ]
  },
  {
   "cell_type": "code",
   "execution_count": 18,
   "metadata": {},
   "outputs": [
    {
     "name": "stdout",
     "output_type": "stream",
     "text": [
      "             precision    recall  f1-score   support\n",
      "\n",
      "        3.0       0.00      0.00      0.00         1\n",
      "        4.0       0.00      0.00      0.00         3\n",
      "        5.0       0.00      0.00      0.00         7\n",
      "        6.0       0.43      0.29      0.35        83\n",
      "        7.0       0.63      0.78      0.70       226\n",
      "        8.0       0.49      0.38      0.43        81\n",
      "        9.0       0.00      0.00      0.00         1\n",
      "\n",
      "avg / total       0.54      0.58      0.55       402\n",
      "\n",
      "[0.53672316 0.48       0.56321839 0.52298851 0.61627907 0.63953488\n",
      " 0.59302326]\n",
      "7.0    613\n",
      "8.0    301\n",
      "6.0    259\n",
      "5.0     22\n",
      "9.0     11\n",
      "4.0      8\n",
      "3.0      2\n",
      "Name: mood_mean_TARGET, dtype: int64\n",
      "Accuracy: 0.56 (+/- 0.10)\n"
     ]
    },
    {
     "name": "stderr",
     "output_type": "stream",
     "text": [
      "C:\\Users\\Rens\\Anaconda3\\lib\\site-packages\\sklearn\\metrics\\classification.py:1135: UndefinedMetricWarning: Precision and F-score are ill-defined and being set to 0.0 in labels with no predicted samples.\n",
      "  'precision', 'predicted', average, warn_for)\n",
      "C:\\Users\\Rens\\Anaconda3\\lib\\site-packages\\sklearn\\model_selection\\_split.py:605: Warning: The least populated class in y has only 2 members, which is too few. The minimum number of members in any class cannot be less than n_splits=7.\n",
      "  % (min_groups, self.n_splits)), Warning)\n"
     ]
    }
   ],
   "source": [
    "y_pred = clf.predict(X_test)\n",
    "print(classification_report(y_test, y_pred))\n",
    "\n",
    "scores = cross_val_score(clf, relevant[goodColumns.keys()], goldY, cv=7)\n",
    "print(scores)\n",
    "print(goldY.value_counts())\n",
    "print(\"Accuracy: %0.2f (+/- %0.2f)\" % (scores.mean(), scores.std() * 2))\n"
   ]
  },
  {
   "cell_type": "markdown",
   "metadata": {},
   "source": [
    "GRADIENT BOOSTED CLASSIFIER"
   ]
  },
  {
   "cell_type": "code",
   "execution_count": 8,
   "metadata": {},
   "outputs": [
    {
     "name": "stdout",
     "output_type": "stream",
     "text": [
      "      Iter       Train Loss   Remaining Time \n",
      "         1        1302.6177            0.20s\n",
      "         2        1208.5844            0.17s\n",
      "         3        1134.8368            0.15s\n",
      "         4        1075.2139            0.13s\n",
      "         5        1023.6881            0.12s\n",
      "         6         979.6208            0.11s\n",
      "         7         941.2040            0.10s\n",
      "         8         906.5678            0.09s\n",
      "         9         875.9362            0.08s\n",
      "        10         849.9764            0.08s\n",
      "        20         688.5247            0.00s\n"
     ]
    }
   ],
   "source": [
    "clf = GradientBoostingClassifier(n_estimators=20, max_depth=3,random_state=0,verbose=1)\n",
    "clf = clf.fit(X_train, y_train)"
   ]
  },
  {
   "cell_type": "code",
   "execution_count": 9,
   "metadata": {},
   "outputs": [
    {
     "name": "stdout",
     "output_type": "stream",
     "text": [
      "             precision    recall  f1-score   support\n",
      "\n",
      "        3.0       0.00      0.00      0.00         1\n",
      "        4.0       0.00      0.00      0.00         3\n",
      "        5.0       0.00      0.00      0.00         7\n",
      "        6.0       0.45      0.33      0.38        83\n",
      "        7.0       0.65      0.78      0.71       226\n",
      "        8.0       0.50      0.41      0.45        81\n",
      "        9.0       0.00      0.00      0.00         1\n",
      "\n",
      "avg / total       0.56      0.59      0.57       402\n",
      "\n"
     ]
    },
    {
     "name": "stderr",
     "output_type": "stream",
     "text": [
      "C:\\Users\\Rens\\Anaconda3\\lib\\site-packages\\sklearn\\metrics\\classification.py:1135: UndefinedMetricWarning: Precision and F-score are ill-defined and being set to 0.0 in labels with no predicted samples.\n",
      "  'precision', 'predicted', average, warn_for)\n"
     ]
    }
   ],
   "source": [
    "y_pred = clf.predict(X_test)\n",
    "print(classification_report(y_test, y_pred))"
   ]
  },
  {
   "cell_type": "markdown",
   "metadata": {},
   "source": [
    "## PER ID"
   ]
  },
  {
   "cell_type": "code",
   "execution_count": 10,
   "metadata": {},
   "outputs": [
    {
     "name": "stdout",
     "output_type": "stream",
     "text": [
      "AS14.01\n",
      "[0.25       0.28571429 0.         0.28571429 0.66666667 0.2\n",
      " 0.4       ]\n",
      "7.0    19\n",
      "8.0    15\n",
      "6.0    11\n",
      "Name: mood_mean_TARGET, dtype: int64\n",
      "Accuracy: 0.30 (+/- 0.38)\n"
     ]
    },
    {
     "name": "stderr",
     "output_type": "stream",
     "text": [
      "C:\\Users\\Rens\\Anaconda3\\lib\\site-packages\\sklearn\\model_selection\\_split.py:605: Warning: The least populated class in y has only 1 members, which is too few. The minimum number of members in any class cannot be less than n_splits=7.\n",
      "  % (min_groups, self.n_splits)), Warning)\n"
     ]
    },
    {
     "name": "stdout",
     "output_type": "stream",
     "text": [
      "AS14.02\n",
      "[0.4        0.33333333 0.66666667 0.66666667 1.         0.5\n",
      " 0.        ]\n",
      "7.0    18\n",
      "6.0    15\n",
      "8.0     4\n",
      "4.0     1\n",
      "5.0     1\n",
      "9.0     1\n",
      "Name: mood_mean_TARGET, dtype: int64\n",
      "Accuracy: 0.51 (+/- 0.58)\n"
     ]
    },
    {
     "name": "stderr",
     "output_type": "stream",
     "text": [
      "C:\\Users\\Rens\\Anaconda3\\lib\\site-packages\\sklearn\\model_selection\\_split.py:605: Warning: The least populated class in y has only 1 members, which is too few. The minimum number of members in any class cannot be less than n_splits=7.\n",
      "  % (min_groups, self.n_splits)), Warning)\n"
     ]
    },
    {
     "name": "stdout",
     "output_type": "stream",
     "text": [
      "AS14.03\n",
      "[0.375      0.71428571 0.42857143 0.57142857 1.         0.8\n",
      " 0.6       ]\n",
      "8.0    26\n",
      "7.0    18\n",
      "9.0     1\n",
      "Name: mood_mean_TARGET, dtype: int64\n",
      "Accuracy: 0.64 (+/- 0.40)\n"
     ]
    },
    {
     "name": "stderr",
     "output_type": "stream",
     "text": [
      "C:\\Users\\Rens\\Anaconda3\\lib\\site-packages\\sklearn\\model_selection\\_split.py:605: Warning: The least populated class in y has only 1 members, which is too few. The minimum number of members in any class cannot be less than n_splits=7.\n",
      "  % (min_groups, self.n_splits)), Warning)\n"
     ]
    },
    {
     "name": "stdout",
     "output_type": "stream",
     "text": [
      "AS14.05\n",
      "[0.7        0.88888889 0.88888889 0.71428571 0.85714286 0.6\n",
      " 0.6       ]\n",
      "7.0    33\n",
      "6.0    10\n",
      "8.0     5\n",
      "4.0     3\n",
      "5.0     1\n",
      "Name: mood_mean_TARGET, dtype: int64\n",
      "Accuracy: 0.75 (+/- 0.24)\n",
      "AS14.06\n",
      "[0.42857143 0.57142857 0.71428571 0.5        0.5        0.8\n",
      " 0.4       ]\n",
      "7.0    24\n",
      "8.0    14\n",
      "6.0     5\n",
      "Name: mood_mean_TARGET, dtype: int64\n",
      "Accuracy: 0.56 (+/- 0.27)\n"
     ]
    },
    {
     "name": "stderr",
     "output_type": "stream",
     "text": [
      "C:\\Users\\Rens\\Anaconda3\\lib\\site-packages\\sklearn\\model_selection\\_split.py:605: Warning: The least populated class in y has only 5 members, which is too few. The minimum number of members in any class cannot be less than n_splits=7.\n",
      "  % (min_groups, self.n_splits)), Warning)\n",
      "C:\\Users\\Rens\\Anaconda3\\lib\\site-packages\\sklearn\\model_selection\\_split.py:605: Warning: The least populated class in y has only 2 members, which is too few. The minimum number of members in any class cannot be less than n_splits=7.\n",
      "  % (min_groups, self.n_splits)), Warning)\n"
     ]
    },
    {
     "name": "stdout",
     "output_type": "stream",
     "text": [
      "AS14.07\n",
      "[0.1        0.44444444 0.125      0.33333333 0.         0.25\n",
      " 0.5       ]\n",
      "6.0    19\n",
      "7.0    10\n",
      "5.0     8\n",
      "8.0     5\n",
      "4.0     3\n",
      "3.0     2\n",
      "Name: mood_mean_TARGET, dtype: int64\n",
      "Accuracy: 0.25 (+/- 0.34)\n"
     ]
    },
    {
     "name": "stderr",
     "output_type": "stream",
     "text": [
      "C:\\Users\\Rens\\Anaconda3\\lib\\site-packages\\sklearn\\model_selection\\_split.py:605: Warning: The least populated class in y has only 1 members, which is too few. The minimum number of members in any class cannot be less than n_splits=7.\n",
      "  % (min_groups, self.n_splits)), Warning)\n"
     ]
    },
    {
     "name": "stdout",
     "output_type": "stream",
     "text": [
      "AS14.08\n",
      "[0.4        0.55555556 0.44444444 0.44444444 0.25       0.625\n",
      " 0.5       ]\n",
      "7.0    32\n",
      "6.0    21\n",
      "8.0     7\n",
      "5.0     1\n",
      "Name: mood_mean_TARGET, dtype: int64\n",
      "Accuracy: 0.46 (+/- 0.22)\n",
      "AS14.09\n",
      "[0.42857143 0.57142857 0.42857143 0.28571429 0.5        0.16666667\n",
      " 0.6       ]\n",
      "7.0    18\n",
      "6.0    14\n",
      "8.0    13\n",
      "Name: mood_mean_TARGET, dtype: int64\n",
      "Accuracy: 0.43 (+/- 0.29)\n"
     ]
    },
    {
     "name": "stderr",
     "output_type": "stream",
     "text": [
      "C:\\Users\\Rens\\Anaconda3\\lib\\site-packages\\sklearn\\model_selection\\_split.py:605: Warning: The least populated class in y has only 3 members, which is too few. The minimum number of members in any class cannot be less than n_splits=7.\n",
      "  % (min_groups, self.n_splits)), Warning)\n",
      "C:\\Users\\Rens\\Anaconda3\\lib\\site-packages\\sklearn\\model_selection\\_split.py:605: Warning: The least populated class in y has only 1 members, which is too few. The minimum number of members in any class cannot be less than n_splits=7.\n",
      "  % (min_groups, self.n_splits)), Warning)\n"
     ]
    },
    {
     "name": "stdout",
     "output_type": "stream",
     "text": [
      "AS14.12\n",
      "[0.28571429 0.57142857 0.42857143 0.6        0.4        0.75\n",
      " 0.5       ]\n",
      "6.0    24\n",
      "7.0    12\n",
      "5.0     3\n",
      "Name: mood_mean_TARGET, dtype: int64\n",
      "Accuracy: 0.51 (+/- 0.28)\n",
      "AS14.13\n",
      "[0.4        0.33333333 0.28571429 0.14285714 0.28571429 0.33333333\n",
      " 0.33333333]\n",
      "8.0    21\n",
      "7.0    19\n",
      "6.0     9\n",
      "9.0     2\n",
      "4.0     1\n",
      "Name: mood_mean_TARGET, dtype: int64\n",
      "Accuracy: 0.30 (+/- 0.15)\n",
      "AS14.14\n",
      "[0.28571429 0.42857143 0.         0.16666667 0.66666667 0.2\n",
      " 0.5       ]\n",
      "7.0    19\n",
      "6.0    13\n",
      "8.0     9\n",
      "Name: mood_mean_TARGET, dtype: int64\n",
      "Accuracy: 0.32 (+/- 0.42)\n",
      "AS14.15\n",
      "[0.77777778 1.         0.875      0.85714286 1.         0.85714286\n",
      " 0.85714286]\n",
      "7.0    45\n",
      "6.0     7\n",
      "8.0     1\n",
      "Name: mood_mean_TARGET, dtype: int64\n",
      "Accuracy: 0.89 (+/- 0.15)\n"
     ]
    },
    {
     "name": "stderr",
     "output_type": "stream",
     "text": [
      "C:\\Users\\Rens\\Anaconda3\\lib\\site-packages\\sklearn\\model_selection\\_split.py:605: Warning: The least populated class in y has only 1 members, which is too few. The minimum number of members in any class cannot be less than n_splits=7.\n",
      "  % (min_groups, self.n_splits)), Warning)\n",
      "C:\\Users\\Rens\\Anaconda3\\lib\\site-packages\\sklearn\\model_selection\\_split.py:605: Warning: The least populated class in y has only 2 members, which is too few. The minimum number of members in any class cannot be less than n_splits=7.\n",
      "  % (min_groups, self.n_splits)), Warning)\n"
     ]
    },
    {
     "name": "stdout",
     "output_type": "stream",
     "text": [
      "AS14.16\n",
      "[0.2        0.3        0.85714286 0.66666667 1.         0.83333333\n",
      " 0.        ]\n",
      "7.0    30\n",
      "6.0    17\n",
      "5.0     2\n",
      "8.0     2\n",
      "Name: mood_mean_TARGET, dtype: int64\n",
      "Accuracy: 0.55 (+/- 0.71)\n",
      "AS14.17\n",
      "[0.66666667 0.66666667 1.         0.85714286 1.         1.\n",
      " 0.85714286]\n",
      "7.0    42\n",
      "8.0     9\n",
      "6.0     2\n",
      "Name: mood_mean_TARGET, dtype: int64\n",
      "Accuracy: 0.86 (+/- 0.28)\n"
     ]
    },
    {
     "name": "stderr",
     "output_type": "stream",
     "text": [
      "C:\\Users\\Rens\\Anaconda3\\lib\\site-packages\\sklearn\\model_selection\\_split.py:605: Warning: The least populated class in y has only 2 members, which is too few. The minimum number of members in any class cannot be less than n_splits=7.\n",
      "  % (min_groups, self.n_splits)), Warning)\n",
      "C:\\Users\\Rens\\Anaconda3\\lib\\site-packages\\sklearn\\model_selection\\_split.py:605: Warning: The least populated class in y has only 5 members, which is too few. The minimum number of members in any class cannot be less than n_splits=7.\n",
      "  % (min_groups, self.n_splits)), Warning)\n"
     ]
    },
    {
     "name": "stdout",
     "output_type": "stream",
     "text": [
      "AS14.19\n",
      "[0.25       0.5        0.71428571 0.33333333 0.33333333 0.4\n",
      " 0.8       ]\n",
      "7.0    31\n",
      "6.0     9\n",
      "8.0     5\n",
      "Name: mood_mean_TARGET, dtype: int64\n",
      "Accuracy: 0.48 (+/- 0.39)\n",
      "AS14.20\n",
      "[0.28571429 0.57142857 0.85714286 0.57142857 0.57142857 0.5\n",
      " 0.        ]\n",
      "7.0    33\n",
      "8.0     7\n",
      "6.0     6\n",
      "Name: mood_mean_TARGET, dtype: int64"
     ]
    },
    {
     "name": "stderr",
     "output_type": "stream",
     "text": [
      "C:\\Users\\Rens\\Anaconda3\\lib\\site-packages\\sklearn\\model_selection\\_split.py:605: Warning: The least populated class in y has only 6 members, which is too few. The minimum number of members in any class cannot be less than n_splits=7.\n",
      "  % (min_groups, self.n_splits)), Warning)\n",
      "C:\\Users\\Rens\\Anaconda3\\lib\\site-packages\\sklearn\\model_selection\\_split.py:605: Warning: The least populated class in y has only 1 members, which is too few. The minimum number of members in any class cannot be less than n_splits=7.\n",
      "  % (min_groups, self.n_splits)), Warning)\n"
     ]
    },
    {
     "name": "stdout",
     "output_type": "stream",
     "text": [
      "\n",
      "Accuracy: 0.48 (+/- 0.50)\n",
      "AS14.23\n",
      "[0.25       0.33333333 0.8        0.6        0.6        0.75\n",
      " 0.25      ]\n",
      "7.0    22\n",
      "8.0     9\n",
      "6.0     5\n",
      "9.0     1\n",
      "Name: mood_mean_TARGET, dtype: int64\n",
      "Accuracy: 0.51 (+/- 0.43)\n"
     ]
    },
    {
     "name": "stderr",
     "output_type": "stream",
     "text": [
      "C:\\Users\\Rens\\Anaconda3\\lib\\site-packages\\sklearn\\model_selection\\_split.py:605: Warning: The least populated class in y has only 1 members, which is too few. The minimum number of members in any class cannot be less than n_splits=7.\n",
      "  % (min_groups, self.n_splits)), Warning)\n"
     ]
    },
    {
     "name": "stdout",
     "output_type": "stream",
     "text": [
      "AS14.24\n",
      "[0.6        0.5        0.75       0.625      0.71428571 0.5\n",
      " 0.83333333]\n",
      "7.0    33\n",
      "8.0    11\n",
      "6.0     8\n",
      "5.0     1\n",
      "Name: mood_mean_TARGET, dtype: int64\n",
      "Accuracy: 0.65 (+/- 0.23)\n",
      "AS14.25\n",
      "[0.6        0.2        0.6        0.75       0.75       0.66666667\n",
      " 0.        ]\n",
      "7.0    13\n",
      "6.0    12\n",
      "8.0     3\n",
      "Name: mood_mean_TARGET, dtype: int64\n",
      "Accuracy: 0.51 (+/- 0.54)\n"
     ]
    },
    {
     "name": "stderr",
     "output_type": "stream",
     "text": [
      "C:\\Users\\Rens\\Anaconda3\\lib\\site-packages\\sklearn\\model_selection\\_split.py:605: Warning: The least populated class in y has only 3 members, which is too few. The minimum number of members in any class cannot be less than n_splits=7.\n",
      "  % (min_groups, self.n_splits)), Warning)\n",
      "C:\\Users\\Rens\\Anaconda3\\lib\\site-packages\\sklearn\\model_selection\\_split.py:605: Warning: The least populated class in y has only 1 members, which is too few. The minimum number of members in any class cannot be less than n_splits=7.\n",
      "  % (min_groups, self.n_splits)), Warning)\n"
     ]
    },
    {
     "name": "stdout",
     "output_type": "stream",
     "text": [
      "AS14.26\n",
      "[0.45454545 0.7        0.6        0.7        0.55555556 0.375\n",
      " 0.375     ]\n",
      "7.0    33\n",
      "6.0    18\n",
      "8.0    14\n",
      "5.0     1\n",
      "Name: mood_mean_TARGET, dtype: int64\n",
      "Accuracy: 0.54 (+/- 0.26)\n"
     ]
    },
    {
     "name": "stderr",
     "output_type": "stream",
     "text": [
      "C:\\Users\\Rens\\Anaconda3\\lib\\site-packages\\sklearn\\model_selection\\_split.py:605: Warning: The least populated class in y has only 3 members, which is too few. The minimum number of members in any class cannot be less than n_splits=7.\n",
      "  % (min_groups, self.n_splits)), Warning)\n"
     ]
    },
    {
     "name": "stdout",
     "output_type": "stream",
     "text": [
      "AS14.27\n",
      "[0.625      0.125      0.14285714 0.4        0.75       0.5\n",
      " 0.25      ]\n",
      "7.0    18\n",
      "8.0    16\n",
      "6.0     3\n",
      "9.0     3\n",
      "Name: mood_mean_TARGET, dtype: int64\n",
      "Accuracy: 0.40 (+/- 0.45)\n"
     ]
    },
    {
     "name": "stderr",
     "output_type": "stream",
     "text": [
      "C:\\Users\\Rens\\Anaconda3\\lib\\site-packages\\sklearn\\model_selection\\_split.py:605: Warning: The least populated class in y has only 6 members, which is too few. The minimum number of members in any class cannot be less than n_splits=7.\n",
      "  % (min_groups, self.n_splits)), Warning)\n"
     ]
    },
    {
     "name": "stdout",
     "output_type": "stream",
     "text": [
      "AS14.28\n",
      "[0.33333333 0.5        0.5        0.5        0.4        0.5\n",
      " 0.66666667]\n",
      "7.0    18\n",
      "8.0    12\n",
      "6.0     6\n",
      "Name: mood_mean_TARGET, dtype: int64\n",
      "Accuracy: 0.49 (+/- 0.19)\n"
     ]
    },
    {
     "name": "stderr",
     "output_type": "stream",
     "text": [
      "C:\\Users\\Rens\\Anaconda3\\lib\\site-packages\\sklearn\\model_selection\\_split.py:605: Warning: The least populated class in y has only 1 members, which is too few. The minimum number of members in any class cannot be less than n_splits=7.\n",
      "  % (min_groups, self.n_splits)), Warning)\n"
     ]
    },
    {
     "name": "stdout",
     "output_type": "stream",
     "text": [
      "AS14.29\n",
      "[0.625      0.71428571 0.42857143 0.2        1.         0.5\n",
      " 0.        ]\n",
      "8.0    24\n",
      "7.0    10\n",
      "6.0     4\n",
      "9.0     1\n",
      "Name: mood_mean_TARGET, dtype: int64\n",
      "Accuracy: 0.50 (+/- 0.61)\n",
      "AS14.30\n",
      "[0.875      0.85714286 0.57142857 1.         1.         1.\n",
      " 1.        ]\n",
      "8.0    43\n",
      "7.0     3\n",
      "Name: mood_mean_TARGET, dtype: int64\n",
      "Accuracy: 0.90 (+/- 0.29)\n"
     ]
    },
    {
     "name": "stderr",
     "output_type": "stream",
     "text": [
      "C:\\Users\\Rens\\Anaconda3\\lib\\site-packages\\sklearn\\model_selection\\_split.py:605: Warning: The least populated class in y has only 3 members, which is too few. The minimum number of members in any class cannot be less than n_splits=7.\n",
      "  % (min_groups, self.n_splits)), Warning)\n",
      "C:\\Users\\Rens\\Anaconda3\\lib\\site-packages\\sklearn\\model_selection\\_split.py:605: Warning: The least populated class in y has only 3 members, which is too few. The minimum number of members in any class cannot be less than n_splits=7.\n",
      "  % (min_groups, self.n_splits)), Warning)\n"
     ]
    },
    {
     "name": "stdout",
     "output_type": "stream",
     "text": [
      "AS14.31\n",
      "[0.57142857 0.85714286 0.71428571 0.8        1.         1.\n",
      " 1.        ]\n",
      "7.0    35\n",
      "6.0     3\n",
      "8.0     3\n",
      "Name: mood_mean_TARGET, dtype: int64\n",
      "Accuracy: 0.85 (+/- 0.31)\n"
     ]
    },
    {
     "name": "stderr",
     "output_type": "stream",
     "text": [
      "C:\\Users\\Rens\\Anaconda3\\lib\\site-packages\\sklearn\\model_selection\\_split.py:605: Warning: The least populated class in y has only 1 members, which is too few. The minimum number of members in any class cannot be less than n_splits=7.\n",
      "  % (min_groups, self.n_splits)), Warning)\n"
     ]
    },
    {
     "name": "stdout",
     "output_type": "stream",
     "text": [
      "AS14.32\n",
      "[0.42857143 0.33333333 0.6        0.6        0.66666667 0.33333333\n",
      " 0.33333333]\n",
      "8.0    18\n",
      "7.0    11\n",
      "9.0     2\n",
      "6.0     1\n",
      "Name: mood_mean_TARGET, dtype: int64\n",
      "Accuracy: 0.47 (+/- 0.27)\n"
     ]
    },
    {
     "name": "stderr",
     "output_type": "stream",
     "text": [
      "C:\\Users\\Rens\\Anaconda3\\lib\\site-packages\\sklearn\\model_selection\\_split.py:605: Warning: The least populated class in y has only 4 members, which is too few. The minimum number of members in any class cannot be less than n_splits=7.\n",
      "  % (min_groups, self.n_splits)), Warning)\n"
     ]
    },
    {
     "name": "stdout",
     "output_type": "stream",
     "text": [
      "AS14.33\n",
      "[0.57142857 0.42857143 0.28571429 0.5        0.6        0.75\n",
      " 0.5       ]\n",
      "6.0    17\n",
      "7.0    14\n",
      "8.0     5\n",
      "5.0     4\n",
      "Name: mood_mean_TARGET, dtype: int64\n",
      "Accuracy: 0.52 (+/- 0.27)\n"
     ]
    }
   ],
   "source": [
    "for curID in df.id.unique():\n",
    "    notRelevantAll=df[df['id']==curID]\n",
    "    notRelevantAll=notRelevantAll.drop(['id','date'],axis=1).dropna()\n",
    "    goldY= notRelevantAll['mood_mean_TARGET']\n",
    "    relevant = notRelevantAll.drop(['mood_mean_TARGET'],axis=1)\n",
    "\n",
    "    corr=dfNonNan[dfNonNan['id']==curID].corr()\n",
    "    goodColumns= corr[abs(corr['mood_mean_TARGET'])>0.3]['mood_mean_TARGET'].sort_values()\n",
    "    goodColumns = goodColumns.drop(['mood_mean_TARGET'])\n",
    "\n",
    "\n",
    "    #X_train, X_test, y_train, y_test = train_test_split(relevant[goodColumns.keys()], goldY, test_size=0.25, random_state=42)\n",
    "    clf = GradientBoostingClassifier(n_estimators=20, max_depth=3,random_state=0,verbose=0)\n",
    "    #clf = clf.fit(X_train, y_train)\n",
    "    #y_pred = clf.predict(X_test)\n",
    "    scores = cross_val_score(clf, relevant[goodColumns.keys()], goldY, cv=7)\n",
    "    print(curID)\n",
    "    print(scores)\n",
    "    print(goldY.value_counts())\n",
    "    print(\"Accuracy: %0.2f (+/- %0.2f)\" % (scores.mean(), scores.std() * 2))"
   ]
  }
 ],
 "metadata": {
  "kernelspec": {
   "display_name": "Python 3",
   "language": "python",
   "name": "python3"
  },
  "language_info": {
   "codemirror_mode": {
    "name": "ipython",
    "version": 3
   },
   "file_extension": ".py",
   "mimetype": "text/x-python",
   "name": "python",
   "nbconvert_exporter": "python",
   "pygments_lexer": "ipython3",
   "version": "3.6.5"
  }
 },
 "nbformat": 4,
 "nbformat_minor": 2
}
