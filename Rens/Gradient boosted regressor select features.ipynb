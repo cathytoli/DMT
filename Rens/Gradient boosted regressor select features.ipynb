{
 "cells": [
  {
   "cell_type": "markdown",
   "metadata": {},
   "source": [
    "Importing the libraries"
   ]
  },
  {
   "cell_type": "code",
   "execution_count": 1,
   "metadata": {},
   "outputs": [],
   "source": [
    "import sklearn\n",
    "import pandas as pd\n",
    "from sklearn.linear_model import LinearRegression\n",
    "from sklearn.model_selection import train_test_split\n",
    "from sklearn.model_selection import cross_validate\n",
    "from sklearn.ensemble import RandomForestRegressor\n",
    "from sklearn.metrics import classification_report\n",
    "from sklearn.preprocessing import OneHotEncoder\n",
    "from sklearn.svm import SVR\n",
    "from sklearn.tree import DecisionTreeRegressor\n",
    "from sklearn.feature_selection import RFECV\n",
    "from sklearn import tree\n",
    "from sklearn import metrics\n",
    "from sklearn import preprocessing\n",
    "import numpy as np"
   ]
  },
  {
   "cell_type": "markdown",
   "metadata": {},
   "source": [
    "Read data file"
   ]
  },
  {
   "cell_type": "code",
   "execution_count": 2,
   "metadata": {},
   "outputs": [],
   "source": [
    "df = pd.read_csv(\"out_without_nan_mood_normalised_extra_temp_train.csv\")"
   ]
  },
  {
   "cell_type": "markdown",
   "metadata": {},
   "source": [
    "Add dummies, remove weekDay mean, remove day mean"
   ]
  },
  {
   "cell_type": "code",
   "execution_count": 3,
   "metadata": {},
   "outputs": [],
   "source": [
    "df['mood_mean_TARGET'] = df['mood_mean_TARGET'].astype(float)\n",
    "df = pd.concat([df,pd.get_dummies(df['id'])],axis=1)\n",
    "df = pd.concat([df,pd.get_dummies(df['weekDay'],prefix=\"day_\")],axis=1)\n",
    "df = df.drop(['weekDay_time_5','day_time_5','weekDay_time_4','day_time_4','weekDay_time_3','day_time_3','weekDay_time_2','day_time_2','weekDay_time_1','day_time_1','weekDay_time_5'],axis=1)\n",
    "df = df.fillna(0)\n",
    "df = df.loc[:, (df != 0).any(axis=0)]"
   ]
  },
  {
   "cell_type": "markdown",
   "metadata": {},
   "source": [
    "Split in train and test set"
   ]
  },
  {
   "cell_type": "code",
   "execution_count": 4,
   "metadata": {},
   "outputs": [
    {
     "name": "stdout",
     "output_type": "stream",
     "text": [
      "numberOfTimesSeenMood5Days_5      -0.268224\n",
      "numberOfTimesSeenMood5Days_6      -0.266362\n",
      "numberOfTimesSeenMood5Days_4      -0.264096\n",
      "AS14.07                           -0.238132\n",
      "lastTimeSeenMood_7                -0.217298\n",
      "AS14.12                           -0.164646\n",
      "numberOfTimesSeenMood5Days_3      -0.154276\n",
      "lastTimeSeenMood_8                -0.143156\n",
      "lastTimeSeenMood_4                -0.126671\n",
      "AS14.16                           -0.116964\n",
      "AS14.05                           -0.113905\n",
      "sms_sum_time_5                    -0.105072\n",
      "sms_sum_time_4                    -0.097740\n",
      "lastTimeSeenMood_6                -0.092742\n",
      "AS14.33                           -0.090548\n",
      "sms_sum_time_3                    -0.088051\n",
      "sms_sum_time_2                    -0.069055\n",
      "AS14.08                           -0.056615\n",
      "day__1.0                          -0.052260\n",
      "lastTimeSeenMood_5                -0.051633\n",
      "appCat.social_sum_time_2          -0.048294\n",
      "appCat.social_sum_time_3          -0.046565\n",
      "AS14.14                           -0.046322\n",
      "day__0.16666666666666666          -0.045273\n",
      "AS14.19                           -0.045228\n",
      "day__0.0                          -0.045199\n",
      "appCat.social_sum_time_4          -0.037060\n",
      "AS14.02                           -0.036728\n",
      "appCat.social_sum_time_1          -0.034923\n",
      "appCat.social_sum                 -0.034923\n",
      "                                     ...   \n",
      "appCat.weather_sum_time_4          0.111344\n",
      "appCat.weather_sum_time_2          0.112727\n",
      "circumplex.arousal_mean_time_2     0.113706\n",
      "appCat.game_sum_time_3             0.119577\n",
      "appCat.entertainment_sum_time_4    0.120169\n",
      "circumplex.arousal_mean            0.120359\n",
      "circumplex.arousal_mean_time_1     0.120359\n",
      "appCat.weather_sum_time_5          0.124609\n",
      "appCat.entertainment_sum_time_5    0.126880\n",
      "AS14.27                            0.132525\n",
      "appCat.game_sum_time_4             0.133833\n",
      "AS14.29                            0.138416\n",
      "appCat.game_sum_time_5             0.139714\n",
      "day__0.6666666666666666            0.142170\n",
      "AS14.32                            0.177747\n",
      "AS14.03                            0.179867\n",
      "circumplex.valence_mean_time_5     0.181197\n",
      "numberOfTimesSeenMood5Days_9       0.185732\n",
      "circumplex.valence_mean_time_4     0.194967\n",
      "numberOfTimesSeenMood5Days_8       0.195949\n",
      "circumplex.valence_mean_time_3     0.199865\n",
      "AS14.30                            0.214046\n",
      "circumplex.valence_mean_time_2     0.233771\n",
      "circumplex.valence_mean_time_1     0.234266\n",
      "circumplex.valence_mean            0.234266\n",
      "mood_mean                          0.440403\n",
      "mood_mean_time_3                   0.463065\n",
      "mood_mean_time_4                   0.473673\n",
      "mood_mean_time_2                   0.476974\n",
      "mood_mean_time_5                   0.478291\n",
      "Name: mood_mean_TARGET, Length: 144, dtype: float64\n"
     ]
    }
   ],
   "source": [
    "corr=df.corr()\n",
    "goodColumns= corr[abs(corr['mood_mean_TARGET'])>0.01]['mood_mean_TARGET'].sort_values()\n",
    "goodColumns = goodColumns.drop(['mood_mean_TARGET','mood_mean_time_1'])\n",
    "print(goodColumns)\n"
   ]
  },
  {
   "cell_type": "code",
   "execution_count": 5,
   "metadata": {},
   "outputs": [],
   "source": [
    "notRelevantAll=df.drop(['id','date'],axis=1).dropna()\n",
    "goldY= notRelevantAll['mood_mean_TARGET']\n",
    "relevant = notRelevantAll.drop(['mood_mean_TARGET'],axis=1)\n",
    "X_train, X_test, y_train, y_test = train_test_split(relevant[goodColumns.keys()], goldY, test_size=0.33, random_state=42)"
   ]
  },
  {
   "cell_type": "code",
   "execution_count": 13,
   "metadata": {},
   "outputs": [],
   "source": [
    "clf = sklearn.ensemble.GradientBoostingRegressor(n_estimators=25)\n",
    "clf = clf.fit(X_train, y_train)\n"
   ]
  },
  {
   "cell_type": "code",
   "execution_count": 14,
   "metadata": {},
   "outputs": [],
   "source": [
    "selector = RFECV(clf, step=1, cv=10)\n",
    "selector = selector.fit(relevant, goldY)"
   ]
  },
  {
   "cell_type": "code",
   "execution_count": 15,
   "metadata": {},
   "outputs": [
    {
     "name": "stdout",
     "output_type": "stream",
     "text": [
      "['circumplex.arousal_mean_time_1', 'mood_mean_time_1', 'mood_mean_time_2', 'circumplex.arousal_mean_time_3', 'circumplex.valence_mean_time_3', 'mood_mean_time_3', 'mood_mean_time_4', 'appCat.other_sum_time_4', 'mood_mean_time_5', 'appCat.travel_sum_time_5', 'numberOfTimesSeenMood5Days_6', 'lastTimeSeenMood_9', 'day__0.6666666666666666']\n"
     ]
    }
   ],
   "source": [
    "new_features = []\n",
    "for bool, feature in zip(selector.get_support(), relevant.columns.values):\n",
    "    if bool:\n",
    "        new_features.append(feature)\n",
    "print(new_features)"
   ]
  },
  {
   "cell_type": "code",
   "execution_count": 16,
   "metadata": {},
   "outputs": [
    {
     "data": {
      "text/plain": [
       "GradientBoostingRegressor(alpha=0.9, criterion='friedman_mse', init=None,\n",
       "             learning_rate=0.1, loss='ls', max_depth=3, max_features=None,\n",
       "             max_leaf_nodes=None, min_impurity_decrease=0.0,\n",
       "             min_impurity_split=None, min_samples_leaf=1,\n",
       "             min_samples_split=2, min_weight_fraction_leaf=0.0,\n",
       "             n_estimators=100, presort='auto', random_state=None,\n",
       "             subsample=1.0, verbose=0, warm_start=False)"
      ]
     },
     "execution_count": 16,
     "metadata": {},
     "output_type": "execute_result"
    }
   ],
   "source": [
    "clf = sklearn.ensemble.GradientBoostingRegressor(n_estimators=100)\n",
    "clf.fit(relevant[new_features],goldY)"
   ]
  },
  {
   "cell_type": "markdown",
   "metadata": {},
   "source": [
    "Define scoring"
   ]
  },
  {
   "cell_type": "code",
   "execution_count": 17,
   "metadata": {},
   "outputs": [],
   "source": [
    "scoring = {'R2': 'r2',\n",
    "           'Mean squared Error': 'neg_mean_squared_error',\n",
    "           'Explained variance': 'explained_variance'}"
   ]
  },
  {
   "cell_type": "code",
   "execution_count": 18,
   "metadata": {},
   "outputs": [
    {
     "name": "stdout",
     "output_type": "stream",
     "text": [
      "R2: 0.10 (+/- 0.22)\n",
      "MSE: -0.43 (+/- 0.30)\n",
      "EXPLAINED VARIANCE: 0.12 (+/- 0.23)\n"
     ]
    }
   ],
   "source": [
    "\n",
    "scores = cross_validate(clf, relevant[new_features], goldY, cv=7,scoring=scoring)\n",
    "\n",
    "print(\"R2: %0.2f (+/- %0.2f)\" % (scores['test_R2'].mean(), scores['test_R2'].std() * 2))\n",
    "print(\"MSE: %0.2f (+/- %0.2f)\" % (scores['test_Mean squared Error'].mean(), scores['test_Mean squared Error'].std() * 2))\n",
    "print(\"EXPLAINED VARIANCE: %0.2f (+/- %0.2f)\" % (scores['test_Explained variance'].mean(), scores['test_Explained variance'].std() * 2))\n"
   ]
  },
  {
   "cell_type": "code",
   "execution_count": 19,
   "metadata": {},
   "outputs": [
    {
     "name": "stdout",
     "output_type": "stream",
     "text": [
      "MAE\n",
      "0.4598149329800977\n",
      "MSE\n",
      "0.3932117214075758\n",
      "RMSE\n",
      "0.6270659625650047\n",
      "R2\n",
      "0.2928222283337467\n"
     ]
    }
   ],
   "source": [
    "dfTest = pd.read_csv(\"out_without_nan_mood_normalised_extra_temp_test.csv\")\n",
    "dfTest['mood_mean_TARGET'] = dfTest['mood_mean_TARGET'].astype(float)\n",
    "dfTest = pd.concat([dfTest,pd.get_dummies(dfTest['id'])],axis=1)\n",
    "dfTest = pd.concat([dfTest,pd.get_dummies(dfTest['weekDay'],prefix=\"day_\")],axis=1)\n",
    "dfTest = dfTest.fillna(0)\n",
    "\n",
    "y_pred =clf.predict(dfTest[new_features])\n",
    "print(\"MAE\")\n",
    "print(metrics.mean_absolute_error(dfTest['mood_mean_TARGET'],y_pred))\n",
    "print(\"MSE\")\n",
    "print(metrics.mean_squared_error(dfTest['mood_mean_TARGET'],y_pred))\n",
    "print(\"RMSE\")\n",
    "print(np.sqrt(metrics.mean_squared_error(dfTest['mood_mean_TARGET'],y_pred)))\n",
    "print(\"R2\")\n",
    "print(metrics.r2_score(dfTest['mood_mean_TARGET'],y_pred))\n",
    "\n"
   ]
  }
 ],
 "metadata": {
  "kernelspec": {
   "display_name": "Python 3",
   "language": "python",
   "name": "python3"
  },
  "language_info": {
   "codemirror_mode": {
    "name": "ipython",
    "version": 3
   },
   "file_extension": ".py",
   "mimetype": "text/x-python",
   "name": "python",
   "nbconvert_exporter": "python",
   "pygments_lexer": "ipython3",
   "version": "3.6.5"
  }
 },
 "nbformat": 4,
 "nbformat_minor": 2
}
