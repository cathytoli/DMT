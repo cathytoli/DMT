{
 "cells": [
  {
   "cell_type": "markdown",
   "metadata": {},
   "source": [
    "Importing the libraries"
   ]
  },
  {
   "cell_type": "code",
   "execution_count": 81,
   "metadata": {},
   "outputs": [],
   "source": [
    "import sklearn\n",
    "import pandas as pd\n",
    "from sklearn.linear_model import LinearRegression\n",
    "from sklearn.model_selection import train_test_split\n",
    "from sklearn.model_selection import cross_validate\n",
    "from sklearn.ensemble import RandomForestRegressor\n",
    "from sklearn.metrics import classification_report\n",
    "from sklearn.preprocessing import OneHotEncoder\n",
    "from sklearn.svm import SVR\n",
    "from sklearn.tree import DecisionTreeRegressor\n",
    "from sklearn import tree\n",
    "from sklearn import metrics\n",
    "from sklearn import preprocessing\n",
    "import numpy as np"
   ]
  },
  {
   "cell_type": "markdown",
   "metadata": {},
   "source": [
    "Read data file"
   ]
  },
  {
   "cell_type": "code",
   "execution_count": 82,
   "metadata": {},
   "outputs": [],
   "source": [
    "df = pd.read_csv(\"out_without_nan_mood_normalised_extra_temp_train.csv\")"
   ]
  },
  {
   "cell_type": "markdown",
   "metadata": {},
   "source": [
    "Add dummies, remove weekDay mean, remove day mean"
   ]
  },
  {
   "cell_type": "code",
   "execution_count": 83,
   "metadata": {},
   "outputs": [],
   "source": [
    "df['mood_mean_TARGET'] = df['mood_mean_TARGET'].astype(float)\n",
    "df = pd.concat([df,pd.get_dummies(df['id'])],axis=1)\n",
    "df = pd.concat([df,pd.get_dummies(df['weekDay'],prefix=\"day_\")],axis=1)\n",
    "df = df.drop(['weekDay_time_5','day_time_5','weekDay_time_4','day_time_4','weekDay_time_3','day_time_3','weekDay_time_2','day_time_2','weekDay_time_1','day_time_1','weekDay_time_5','mood_mean_time_1','circumplex.valence_mean_time_1'],axis=1)\n",
    "df = df.fillna(0)\n",
    "df = df.loc[:, (df != 0).any(axis=0)]"
   ]
  },
  {
   "cell_type": "markdown",
   "metadata": {},
   "source": [
    "Split in train and test set"
   ]
  },
  {
   "cell_type": "code",
   "execution_count": 84,
   "metadata": {},
   "outputs": [
    {
     "name": "stdout",
     "output_type": "stream",
     "text": [
      "numberOfTimesSeenMood5Days_5     -0.327055\n",
      "numberOfTimesSeenMood5Days_4     -0.314874\n",
      "AS14.07                          -0.272723\n",
      "lastTimeSeenMood_7               -0.268945\n",
      "numberOfTimesSeenMood5Days_6     -0.261476\n",
      "circumplex.valence_mean_time_3    0.260973\n",
      "circumplex.valence_mean_time_5    0.273790\n",
      "circumplex.valence_mean_time_4    0.275021\n",
      "circumplex.valence_mean_time_2    0.291143\n",
      "circumplex.valence_mean           0.300689\n",
      "mood_mean                         0.479960\n",
      "mood_mean_time_3                  0.485320\n",
      "mood_mean_time_2                  0.502291\n",
      "mood_mean_time_4                  0.509455\n",
      "mood_mean_time_5                  0.522146\n",
      "Name: mood_mean_TARGET, dtype: float64\n"
     ]
    }
   ],
   "source": [
    "corr=df.corr()\n",
    "goodColumns= corr[abs(corr['mood_mean_TARGET'])>0.25]['mood_mean_TARGET'].sort_values()\n",
    "goodColumns = goodColumns.drop(['mood_mean_TARGET'])\n",
    "print(goodColumns)\n"
   ]
  },
  {
   "cell_type": "code",
   "execution_count": 85,
   "metadata": {},
   "outputs": [],
   "source": [
    "notRelevantAll=df.drop(['id','date'],axis=1).dropna()\n",
    "goldY= notRelevantAll['mood_mean_TARGET']\n",
    "relevant = notRelevantAll.drop(['mood_mean_TARGET'],axis=1)"
   ]
  },
  {
   "cell_type": "code",
   "execution_count": 86,
   "metadata": {},
   "outputs": [],
   "source": [
    "clf = sklearn.svm.SVR(gamma=\"scale\",kernel=\"rbf\")"
   ]
  },
  {
   "cell_type": "markdown",
   "metadata": {},
   "source": [
    "Define scoring"
   ]
  },
  {
   "cell_type": "code",
   "execution_count": 87,
   "metadata": {},
   "outputs": [],
   "source": [
    "scoring = {'R2': 'r2',\n",
    "           'Mean squared Error': 'neg_mean_squared_error',\n",
    "           'Explained variance': 'explained_variance'}"
   ]
  },
  {
   "cell_type": "code",
   "execution_count": 88,
   "metadata": {},
   "outputs": [],
   "source": [
    "testColumns = ['appCat.office_sum', 'mood_mean_time_2', 'appCat.communication_sum_time_2', 'appCat.office_sum_time_2', 'appCat.travel_sum_time_2', 'call_sum_time_2', 'mood_mean_time_3', 'appCat.office_sum_time_3', 'screen_sum_time_3', 'appCat.communication_sum_time_4', 'appCat.finance_sum_time_4', 'screen_sum_time_4', 'mood_mean_time_5', 'appCat.communication_sum_time_5', 'appCat.finance_sum_time_5', 'appCat.game_sum_time_5', 'appCat.travel_sum_time_5', 'screen_sum_time_5', 'lastTimeSeenMood_4', 'numberOfTimesSeenMood5Days_4', 'numberOfTimesSeenMood5Days_5', 'numberOfTimesSeenMood5Days_6']"
   ]
  },
  {
   "cell_type": "code",
   "execution_count": 89,
   "metadata": {},
   "outputs": [
    {
     "name": "stdout",
     "output_type": "stream",
     "text": [
      "R2: 0.27 (+/- 0.16)\n",
      "MSE: -0.39 (+/- 0.14)\n",
      "EXPLAINED VARIANCE: 0.28 (+/- 0.16)\n"
     ]
    }
   ],
   "source": [
    "scores = cross_validate(clf, relevant[goodColumns.keys()], goldY, cv=7,scoring=scoring)\n",
    "\n",
    "print(\"R2: %0.2f (+/- %0.2f)\" % (scores['test_R2'].mean(), scores['test_R2'].std() * 2))\n",
    "print(\"MSE: %0.2f (+/- %0.2f)\" % (scores['test_Mean squared Error'].mean(), scores['test_Mean squared Error'].std() * 2))\n",
    "print(\"EXPLAINED VARIANCE: %0.2f (+/- %0.2f)\" % (scores['test_Explained variance'].mean(), scores['test_Explained variance'].std() * 2))\n"
   ]
  },
  {
   "cell_type": "code",
   "execution_count": 90,
   "metadata": {},
   "outputs": [
    {
     "data": {
      "text/plain": [
       "SVR(C=1.0, cache_size=200, coef0=0.0, degree=3, epsilon=0.1, gamma='scale',\n",
       "  kernel='rbf', max_iter=-1, shrinking=True, tol=0.001, verbose=False)"
      ]
     },
     "execution_count": 90,
     "metadata": {},
     "output_type": "execute_result"
    }
   ],
   "source": [
    "clf.fit(relevant[goodColumns.keys()], goldY)"
   ]
  },
  {
   "cell_type": "code",
   "execution_count": 91,
   "metadata": {},
   "outputs": [],
   "source": [
    "dfTest = pd.read_csv(\"out_without_nan_mood_normalised_extra_temp_test.csv\")\n",
    "dfTest['mood_mean_TARGET'] = dfTest['mood_mean_TARGET'].astype(float)\n",
    "dfTest = pd.concat([dfTest,pd.get_dummies(dfTest['id'])],axis=1)\n",
    "dfTest = pd.concat([dfTest,pd.get_dummies(dfTest['weekDay'],prefix=\"day_\")],axis=1)"
   ]
  },
  {
   "cell_type": "code",
   "execution_count": 92,
   "metadata": {},
   "outputs": [
    {
     "name": "stdout",
     "output_type": "stream",
     "text": [
      "MAE\n",
      "0.4616314829408122\n",
      "MSE\n",
      "0.3901536174557047\n",
      "RMSE\n",
      "0.6246227801286988\n",
      "R2\n",
      "0.25990286870736257\n"
     ]
    },
    {
     "data": {
      "image/png": "[encoded data removed]",
      "text/plain": [
       "<Figure size 432x288 with 1 Axes>"
      ]
     },
     "metadata": {
      "needs_background": "light"
     },
     "output_type": "display_data"
    }
   ],
   "source": [
    "y_pred =clf.predict(dfTest[goodColumns.keys()])\n",
    "print(\"MAE\")\n",
    "print(metrics.mean_absolute_error(dfTest['mood_mean_TARGET'],y_pred))\n",
    "print(\"MSE\")\n",
    "print(metrics.mean_squared_error(dfTest['mood_mean_TARGET'],y_pred))\n",
    "print(\"RMSE\")\n",
    "print(np.sqrt(metrics.mean_squared_error(dfTest['mood_mean_TARGET'],y_pred)))\n",
    "print(\"R2\")\n",
    "print(metrics.r2_score(dfTest['mood_mean_TARGET'],y_pred))\n",
    "\n",
    "import matplotlib.pyplot as plt\n",
    "plt.plot(y_pred-dfTest['mood_mean_TARGET'])\n",
    "plt.show()"
   ]
  }
 ],
 "metadata": {
  "kernelspec": {
   "display_name": "Python 3",
   "language": "python",
   "name": "python3"
  },
  "language_info": {
   "codemirror_mode": {
    "name": "ipython",
    "version": 3
   },
   "file_extension": ".py",
   "mimetype": "text/x-python",
   "name": "python",
   "nbconvert_exporter": "python",
   "pygments_lexer": "ipython3",
   "version": "3.6.8"
  }
 },
 "nbformat": 4,
 "nbformat_minor": 2
}
