{
 "cells": [
  {
   "cell_type": "code",
   "execution_count": 69,
   "metadata": {},
   "outputs": [],
   "source": [
    "import numpy\n",
    "import pandas as pd\n",
    "from keras.models import Sequential\n",
    "from keras.layers import Dense\n",
    "from keras.wrappers.scikit_learn import KerasRegressor\n",
    "from sklearn.model_selection import cross_val_score\n",
    "from sklearn.model_selection import cross_validate\n",
    "from sklearn.model_selection import KFold\n",
    "from sklearn.preprocessing import StandardScaler\n",
    "from sklearn import metrics\n",
    "from sklearn.pipeline import Pipeline\n",
    "import numpy as np"
   ]
  },
  {
   "cell_type": "code",
   "execution_count": 70,
   "metadata": {},
   "outputs": [],
   "source": [
    "df = pd.read_csv(\"out_without_nan_mood_normalised_extra_temp_train.csv\")\n",
    "df['mood_mean_TARGET'] = df['mood_mean_TARGET'].astype(float)\n",
    "df = pd.concat([df,pd.get_dummies(df['id'])],axis=1)\n",
    "df = pd.concat([df,pd.get_dummies(df['weekDay'],prefix=\"day_\")],axis=1)\n",
    "df = df.drop(['weekDay_time_5','day_time_5','weekDay_time_4','day_time_4','weekDay_time_3','day_time_3','weekDay_time_2','day_time_2','weekDay_time_1','day_time_1','weekDay_time_5','mood_mean_time_1','circumplex.valence_mean_time_1'],axis=1)\n",
    "df = df.fillna(0)\n",
    "df = df.loc[:, (df != 0).any(axis=0)]"
   ]
  },
  {
   "cell_type": "markdown",
   "metadata": {},
   "source": [
    "Lets remove highly correlated features"
   ]
  },
  {
   "cell_type": "code",
   "execution_count": 58,
   "metadata": {},
   "outputs": [
    {
     "name": "stdout",
     "output_type": "stream",
     "text": [
      "['id' 'date' 'activity_mean' 'circumplex.arousal_mean'\n",
      " 'circumplex.valence_mean' 'mood_mean' 'appCat.builtin_sum'\n",
      " 'appCat.communication_sum' 'appCat.entertainment_sum'\n",
      " 'appCat.finance_sum' 'appCat.game_sum' 'appCat.office_sum'\n",
      " 'appCat.other_sum' 'appCat.social_sum' 'appCat.travel_sum'\n",
      " 'appCat.unknown_sum' 'appCat.utilities_sum' 'appCat.weather_sum'\n",
      " 'call_sum' 'screen_sum' 'sms_sum' 'day' 'weekDay' 'activity_mean_time_1'\n",
      " 'circumplex.arousal_mean_time_1' 'appCat.builtin_sum_time_1'\n",
      " 'appCat.communication_sum_time_1' 'appCat.entertainment_sum_time_1'\n",
      " 'appCat.finance_sum_time_1' 'appCat.game_sum_time_1'\n",
      " 'appCat.office_sum_time_1' 'appCat.other_sum_time_1'\n",
      " 'appCat.social_sum_time_1' 'appCat.travel_sum_time_1'\n",
      " 'appCat.unknown_sum_time_1' 'appCat.utilities_sum_time_1'\n",
      " 'appCat.weather_sum_time_1' 'call_sum_time_1' 'screen_sum_time_1'\n",
      " 'sms_sum_time_1' 'activity_mean_time_2' 'circumplex.arousal_mean_time_2'\n",
      " 'circumplex.valence_mean_time_2' 'mood_mean_time_2'\n",
      " 'appCat.builtin_sum_time_2' 'appCat.communication_sum_time_2'\n",
      " 'appCat.entertainment_sum_time_2' 'appCat.finance_sum_time_2'\n",
      " 'appCat.game_sum_time_2' 'appCat.office_sum_time_2'\n",
      " 'appCat.other_sum_time_2' 'appCat.social_sum_time_2'\n",
      " 'appCat.travel_sum_time_2' 'appCat.unknown_sum_time_2'\n",
      " 'appCat.utilities_sum_time_2' 'appCat.weather_sum_time_2'\n",
      " 'call_sum_time_2' 'screen_sum_time_2' 'sms_sum_time_2'\n",
      " 'activity_mean_time_3' 'circumplex.arousal_mean_time_3'\n",
      " 'circumplex.valence_mean_time_3' 'mood_mean_time_3'\n",
      " 'appCat.builtin_sum_time_3' 'appCat.communication_sum_time_3'\n",
      " 'appCat.entertainment_sum_time_3' 'appCat.finance_sum_time_3'\n",
      " 'appCat.game_sum_time_3' 'appCat.office_sum_time_3'\n",
      " 'appCat.other_sum_time_3' 'appCat.social_sum_time_3'\n",
      " 'appCat.travel_sum_time_3' 'appCat.unknown_sum_time_3'\n",
      " 'appCat.utilities_sum_time_3' 'appCat.weather_sum_time_3'\n",
      " 'call_sum_time_3' 'screen_sum_time_3' 'sms_sum_time_3'\n",
      " 'activity_mean_time_4' 'circumplex.arousal_mean_time_4'\n",
      " 'circumplex.valence_mean_time_4' 'mood_mean_time_4'\n",
      " 'appCat.builtin_sum_time_4' 'appCat.communication_sum_time_4'\n",
      " 'appCat.entertainment_sum_time_4' 'appCat.finance_sum_time_4'\n",
      " 'appCat.game_sum_time_4' 'appCat.office_sum_time_4'\n",
      " 'appCat.other_sum_time_4' 'appCat.social_sum_time_4'\n",
      " 'appCat.travel_sum_time_4' 'appCat.unknown_sum_time_4'\n",
      " 'appCat.utilities_sum_time_4' 'appCat.weather_sum_time_4'\n",
      " 'call_sum_time_4' 'screen_sum_time_4' 'sms_sum_time_4'\n",
      " 'activity_mean_time_5' 'circumplex.arousal_mean_time_5'\n",
      " 'circumplex.valence_mean_time_5' 'mood_mean_time_5'\n",
      " 'appCat.builtin_sum_time_5' 'appCat.communication_sum_time_5'\n",
      " 'appCat.entertainment_sum_time_5' 'appCat.finance_sum_time_5'\n",
      " 'appCat.game_sum_time_5' 'appCat.office_sum_time_5'\n",
      " 'appCat.other_sum_time_5' 'appCat.social_sum_time_5'\n",
      " 'appCat.travel_sum_time_5' 'appCat.unknown_sum_time_5'\n",
      " 'appCat.utilities_sum_time_5' 'appCat.weather_sum_time_5'\n",
      " 'call_sum_time_5' 'screen_sum_time_5' 'sms_sum_time_5'\n",
      " 'numberOfTimesSeenMood5Days_3' 'lastTimeSeenMood_4'\n",
      " 'numberOfTimesSeenMood5Days_4' 'lastTimeSeenMood_5'\n",
      " 'numberOfTimesSeenMood5Days_5' 'lastTimeSeenMood_6'\n",
      " 'numberOfTimesSeenMood5Days_6' 'lastTimeSeenMood_7'\n",
      " 'numberOfTimesSeenMood5Days_7' 'lastTimeSeenMood_8'\n",
      " 'numberOfTimesSeenMood5Days_8' 'lastTimeSeenMood_9'\n",
      " 'numberOfTimesSeenMood5Days_9' 'mood_mean_TARGET' 'AS14.01' 'AS14.02'\n",
      " 'AS14.03' 'AS14.05' 'AS14.06' 'AS14.07' 'AS14.08' 'AS14.09' 'AS14.12'\n",
      " 'AS14.13' 'AS14.14' 'AS14.15' 'AS14.16' 'AS14.17' 'AS14.19' 'AS14.20'\n",
      " 'AS14.23' 'AS14.24' 'AS14.25' 'AS14.26' 'AS14.27' 'AS14.28' 'AS14.29'\n",
      " 'AS14.30' 'AS14.31' 'AS14.32' 'AS14.33' 'day__0.0'\n",
      " 'day__0.16666666666666666' 'day__0.3333333333333333' 'day__0.5'\n",
      " 'day__0.6666666666666666' 'day__0.8333333333333334' 'day__1.0']\n"
     ]
    }
   ],
   "source": [
    "def correlation(dataset, threshold):\n",
    "    col_corr = set() # Set of all the names of deleted columns\n",
    "    corr_matrix = dataset.corr()\n",
    "    \n",
    "    for i in range(len(corr_matrix.columns)):\n",
    "        for j in range(i):\n",
    "            if (abs(corr_matrix.iloc[i, j]) >= threshold) and (corr_matrix.columns[j] not in col_corr) and corr_matrix.columns[i] != \"mood_mean_TARGET\" and corr_matrix.columns[j] != \"mood_mean_TARGET\":\n",
    "                \n",
    "                colnameI = corr_matrix.columns[i]\n",
    "                colnameJ = corr_matrix.columns[j]\n",
    "                if abs(corr_matrix.mood_mean_TARGET[colnameI]) > abs(corr_matrix.mood_mean_TARGET[colnameJ]):\n",
    "                    colname = colnameJ\n",
    "                else:\n",
    "                    colname = colnameI\n",
    "                col_corr.add(colname)\n",
    "                if colname in dataset.columns:\n",
    "                    del dataset[colname] # deleting the column from the dataset\n",
    "    \n",
    "    return(dataset)\n",
    "newDF =df\n",
    "#correlation(newDF,0.7)\n",
    "print(newDF.columns.values)"
   ]
  },
  {
   "cell_type": "code",
   "execution_count": 73,
   "metadata": {},
   "outputs": [],
   "source": [
    "corr=df.corr()\n",
    "goodColumns= corr[abs(corr['mood_mean_TARGET'])>0.25]['mood_mean_TARGET'].sort_values()\n",
    "goodColumns = goodColumns.drop(['mood_mean_TARGET'])\n",
    "\n",
    "usedColumns = goodColumns.keys()\n",
    "\n"
   ]
  },
  {
   "cell_type": "code",
   "execution_count": 75,
   "metadata": {},
   "outputs": [
    {
     "data": {
      "text/plain": [
       "Index(['numberOfTimesSeenMood5Days_5', 'numberOfTimesSeenMood5Days_6',\n",
       "       'numberOfTimesSeenMood5Days_4', 'mood_mean', 'mood_mean_time_3',\n",
       "       'mood_mean_time_4', 'mood_mean_time_2', 'mood_mean_time_5'],\n",
       "      dtype='object')"
      ]
     },
     "execution_count": 75,
     "metadata": {},
     "output_type": "execute_result"
    }
   ],
   "source": [
    "usedColumns\n"
   ]
  },
  {
   "cell_type": "code",
   "execution_count": 76,
   "metadata": {},
   "outputs": [],
   "source": [
    "notRelevantAll=df.drop(['id','date'],axis=1).dropna()\n",
    "goldY= notRelevantAll['mood_mean_TARGET']\n",
    "relevant = notRelevantAll.drop(['mood_mean_TARGET'],axis=1)\n"
   ]
  },
  {
   "cell_type": "code",
   "execution_count": 80,
   "metadata": {},
   "outputs": [],
   "source": [
    "# define base model\n",
    "def baseline_model():\n",
    "    # create model\n",
    "    model = Sequential()\n",
    "    model.add(Dense(len(usedColumns), input_dim=len(usedColumns), kernel_initializer='normal', activation='relu'))\n",
    "    # The Hidden Layers :\n",
    "    #model.add(Dense(len(usedColumns)*2, kernel_initializer='normal',activation='relu'))\n",
    "\n",
    "    model.add(Dense(1, kernel_initializer='normal'))\n",
    "    # Compile model\n",
    "    model.compile(loss='mean_squared_error', optimizer='adam')\n",
    "    return model"
   ]
  },
  {
   "cell_type": "code",
   "execution_count": 81,
   "metadata": {},
   "outputs": [],
   "source": [
    "# fix random seed for reproducibility\n",
    "seed = 99\n",
    "numpy.random.seed(seed)\n",
    "# evaluate model with standardized dataset\n",
    "estimator = KerasRegressor(build_fn=baseline_model, epochs=100, batch_size=5, verbose=0)"
   ]
  },
  {
   "cell_type": "code",
   "execution_count": null,
   "metadata": {},
   "outputs": [],
   "source": [
    "scoring = {'R2': 'r2',\n",
    "           'Mean squared Error': 'neg_mean_squared_error',\n",
    "           'Explained variance': 'explained_variance'}\n",
    "\n",
    "scores = cross_validate(estimator, relevant[usedColumns], goldY, cv=7,scoring=scoring)\n",
    "print(\"R2: %0.2f (+/- %0.2f)\" % (scores['test_R2'].mean(), scores['test_R2'].std() * 2))\n",
    "print(\"MSE: %0.2f (+/- %0.2f)\" % (scores['test_Mean squared Error'].mean(), scores['test_Mean squared Error'].std() * 2))\n",
    "print(\"EXPLAINED VARIANCE: %0.2f (+/- %0.2f)\" % (scores['test_Explained variance'].mean(), scores['test_Explained variance'].std() * 2))\n"
   ]
  },
  {
   "cell_type": "code",
   "execution_count": 84,
   "metadata": {},
   "outputs": [
    {
     "name": "stdout",
     "output_type": "stream",
     "text": [
      "MAE\n",
      "0.44135347953058557\n",
      "MSE\n",
      "0.35865445484439834\n",
      "RMSE\n",
      "0.598877662669429\n",
      "R2\n",
      "0.3549722849890866\n"
     ]
    },
    {
     "data": {
      "image/png": "[encoded data removed]",
      "text/plain": [
       "<Figure size 432x288 with 1 Axes>"
      ]
     },
     "metadata": {},
     "output_type": "display_data"
    }
   ],
   "source": [
    "estimator.fit(relevant[usedColumns], goldY)\n",
    "dfTest = pd.read_csv(\"out_without_nan_mood_normalised_extra_temp_test.csv\")\n",
    "dfTest['mood_mean_TARGET'] = dfTest['mood_mean_TARGET'].astype(float)\n",
    "dfTest = pd.concat([dfTest,pd.get_dummies(dfTest['id'])],axis=1)\n",
    "dfTest = pd.concat([dfTest,pd.get_dummies(dfTest['weekDay'],prefix=\"day_\")],axis=1)\n",
    "dfTest = dfTest.fillna(0)\n",
    "y_pred = estimator.predict(dfTest[usedColumns])\n",
    "print(\"MAE\")\n",
    "print(metrics.mean_absolute_error(dfTest['mood_mean_TARGET'],y_pred))\n",
    "print(\"MSE\")\n",
    "print(metrics.mean_squared_error(dfTest['mood_mean_TARGET'],y_pred))\n",
    "print(\"RMSE\")\n",
    "print(np.sqrt(metrics.mean_squared_error(dfTest['mood_mean_TARGET'],y_pred)))\n",
    "print(\"R2\")\n",
    "print(metrics.r2_score(dfTest['mood_mean_TARGET'],y_pred))\n",
    "\n",
    "import matplotlib.pyplot as plt\n",
    "plt.plot(y_pred-dfTest['mood_mean_TARGET'])\n",
    "plt.show()\n",
    "\n",
    "\n",
    "allTogether = pd.concat([dfTest['mood_mean_TARGET'],dfTest[usedColumns]],axis=1)\n",
    "allTogether['y_pred'] = y_pred\n",
    "allTogether.to_csv(\"pred.csv\")"
   ]
  }
 ],
 "metadata": {
  "kernelspec": {
   "display_name": "Python 3",
   "language": "python",
   "name": "python3"
  },
  "language_info": {
   "codemirror_mode": {
    "name": "ipython",
    "version": 3
   },
   "file_extension": ".py",
   "mimetype": "text/x-python",
   "name": "python",
   "nbconvert_exporter": "python",
   "pygments_lexer": "ipython3",
   "version": "3.6.5"
  }
 },
 "nbformat": 4,
 "nbformat_minor": 2
}
