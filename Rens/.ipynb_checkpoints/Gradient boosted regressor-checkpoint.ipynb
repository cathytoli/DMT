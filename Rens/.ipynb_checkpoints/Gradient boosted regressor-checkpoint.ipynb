{
 "cells": [
  {
   "cell_type": "markdown",
   "metadata": {},
   "source": [
    "Importing the libraries"
   ]
  },
  {
   "cell_type": "code",
   "execution_count": 30,
   "metadata": {},
   "outputs": [],
   "source": [
    "import sklearn\n",
    "import pandas as pd\n",
    "from sklearn.linear_model import LinearRegression\n",
    "from sklearn.model_selection import train_test_split\n",
    "from sklearn.model_selection import cross_validate\n",
    "from sklearn.ensemble import RandomForestRegressor\n",
    "from sklearn.metrics import classification_report\n",
    "from sklearn.preprocessing import OneHotEncoder\n",
    "from sklearn.svm import SVR\n",
    "from sklearn.tree import DecisionTreeRegressor\n",
    "from sklearn import tree\n",
    "from sklearn import metrics\n",
    "from sklearn import preprocessing\n",
    "import numpy as np"
   ]
  },
  {
   "cell_type": "markdown",
   "metadata": {},
   "source": [
    "Read data file"
   ]
  },
  {
   "cell_type": "code",
   "execution_count": 2,
   "metadata": {},
   "outputs": [],
   "source": [
    "df = pd.read_csv(\"out_without_nan_mood_normalised.csv\")"
   ]
  },
  {
   "cell_type": "markdown",
   "metadata": {},
   "source": [
    "Add dummies, remove weekDay mean, remove day mean"
   ]
  },
  {
   "cell_type": "code",
   "execution_count": 3,
   "metadata": {},
   "outputs": [],
   "source": [
    "df['mood_mean_TARGET'] = df['mood_mean_TARGET'].astype(float)\n",
    "df = pd.concat([df,pd.get_dummies(df['id'])],axis=1)\n",
    "df = pd.concat([df,pd.get_dummies(df['weekDay'],prefix=\"day_\")],axis=1)\n",
    "df = df.drop(['weekDay_time_5','day_time_5','weekDay_time_4','day_time_4','weekDay_time_3','day_time_3','weekDay_time_2','day_time_2','weekDay_time_1','day_time_1','weekDay_time_5'],axis=1)"
   ]
  },
  {
   "cell_type": "markdown",
   "metadata": {},
   "source": [
    "Split in train and test set"
   ]
  },
  {
   "cell_type": "code",
   "execution_count": 51,
   "metadata": {},
   "outputs": [
    {
     "name": "stdout",
     "output_type": "stream",
     "text": [
      "AS14.07                           -0.272238\n",
      "AS14.12                           -0.192850\n",
      "AS14.33                           -0.108809\n",
      "sms_sum_time_5                    -0.106459\n",
      "sms_sum_time_4                    -0.103463\n",
      "sms_sum_time_3                    -0.096754\n",
      "sms_sum_time_2                    -0.088256\n",
      "AS14.05                           -0.084734\n",
      "AS14.16                           -0.084196\n",
      "AS14.08                           -0.074184\n",
      "appCat.social_sum_time_3          -0.067920\n",
      "AS14.02                           -0.063129\n",
      "appCat.social_sum_time_2          -0.062280\n",
      "appCat.social_sum_time_4          -0.059626\n",
      "appCat.social_sum_time_5          -0.051124\n",
      "day__0.0                          -0.049937\n",
      "call_sum_time_5                   -0.049078\n",
      "sms_sum_time_1                    -0.047806\n",
      "sms_sum                           -0.047806\n",
      "appCat.social_sum_time_1          -0.045454\n",
      "appCat.social_sum                 -0.045454\n",
      "day__1.0                          -0.042210\n",
      "day__0.16666666666666666          -0.041898\n",
      "AS14.19                           -0.033234\n",
      "AS14.25                           -0.031980\n",
      "call_sum_time_4                   -0.031355\n",
      "AS14.14                           -0.026170\n",
      "day__0.3333333333333333           -0.024894\n",
      "call_sum_time_2                   -0.018130\n",
      "AS14.09                           -0.017495\n",
      "                                     ...   \n",
      "appCat.entertainment_sum           0.111191\n",
      "appCat.entertainment_sum_time_1    0.111191\n",
      "activity_mean_time_3               0.112081\n",
      "appCat.other_sum_time_4            0.112298\n",
      "appCat.game_sum_time_3             0.112958\n",
      "activity_mean                      0.115165\n",
      "activity_mean_time_1               0.115165\n",
      "activity_mean_time_2               0.119604\n",
      "appCat.entertainment_sum_time_3    0.119642\n",
      "day__0.6666666666666666            0.124541\n",
      "appCat.game_sum_time_4             0.125494\n",
      "appCat.other_sum_time_5            0.127561\n",
      "appCat.entertainment_sum_time_4    0.130020\n",
      "AS14.29                            0.131271\n",
      "appCat.game_sum_time_5             0.132978\n",
      "appCat.entertainment_sum_time_5    0.135844\n",
      "AS14.32                            0.146203\n",
      "AS14.03                            0.156134\n",
      "AS14.30                            0.219508\n",
      "circumplex.valence_mean_time_5     0.240403\n",
      "circumplex.valence_mean_time_3     0.244947\n",
      "circumplex.valence_mean_time_4     0.245535\n",
      "circumplex.valence_mean            0.273115\n",
      "circumplex.valence_mean_time_1     0.273115\n",
      "circumplex.valence_mean_time_2     0.273929\n",
      "mood_mean                          0.472047\n",
      "mood_mean_time_3                   0.483793\n",
      "mood_mean_time_4                   0.494474\n",
      "mood_mean_time_2                   0.499446\n",
      "mood_mean_time_5                   0.504306\n",
      "Name: mood_mean_TARGET, Length: 142, dtype: float64\n"
     ]
    }
   ],
   "source": [
    "corr=df.corr()\n",
    "goodColumns= corr[abs(corr['mood_mean_TARGET'])>0.01]['mood_mean_TARGET'].sort_values()\n",
    "goodColumns = goodColumns.drop(['mood_mean_TARGET','mood_mean_time_1'])\n",
    "print(goodColumns)\n"
   ]
  },
  {
   "cell_type": "code",
   "execution_count": 52,
   "metadata": {},
   "outputs": [],
   "source": [
    "notRelevantAll=df.drop(['id','date'],axis=1).dropna()\n",
    "goldY= notRelevantAll['mood_mean_TARGET']\n",
    "relevant = notRelevantAll.drop(['mood_mean_TARGET'],axis=1)\n",
    "X_train, X_test, y_train, y_test = train_test_split(relevant[goodColumns.keys()], goldY, test_size=0.33, random_state=42)"
   ]
  },
  {
   "cell_type": "code",
   "execution_count": 53,
   "metadata": {},
   "outputs": [],
   "source": [
    "clf = sklearn.svm.SVR(gamma=\"scale\")\n",
    "clf = clf.fit(X_train, y_train)"
   ]
  },
  {
   "cell_type": "markdown",
   "metadata": {},
   "source": [
    "Define scoring"
   ]
  },
  {
   "cell_type": "code",
   "execution_count": 54,
   "metadata": {},
   "outputs": [],
   "source": [
    "scoring = {'R2': 'r2',\n",
    "           'Mean squared Error': 'neg_mean_squared_error',\n",
    "           'Explained variance': 'explained_variance'}"
   ]
  },
  {
   "cell_type": "code",
   "execution_count": null,
   "metadata": {},
   "outputs": [],
   "source": [
    "y_pred = clf.predict(X_test)\n",
    "scores = cross_validate(clf, relevant[goodColumns.keys()], goldY, cv=7,scoring=scoring)\n",
    "\n",
    "print(\"R2: %0.2f (+/- %0.2f)\" % (scores['test_R2'].mean(), scores['test_R2'].std() * 2))\n",
    "print(\"MSE: %0.2f (+/- %0.2f)\" % (scores['test_Mean squared Error'].mean(), scores['test_Mean squared Error'].std() * 2))\n",
    "print(\"EXPLAINED VARIANCE: %0.2f (+/- %0.2f)\" % (scores['test_Explained variance'].mean(), scores['test_Explained variance'].std() * 2))\n"
   ]
  },
  {
   "cell_type": "code",
   "execution_count": 44,
   "metadata": {},
   "outputs": [
    {
     "name": "stdout",
     "output_type": "stream",
     "text": [
      "MAE\n",
      "0.4490406467440644\n",
      "MSE\n",
      "0.380698441663204\n",
      "RMSE\n",
      "0.6170076512193378\n",
      "R2\n",
      "0.2530612517382077\n"
     ]
    }
   ],
   "source": [
    "y_pred = clf.predict(X_test)\n",
    "print(\"MAE\")\n",
    "print(metrics.mean_absolute_error(y_test,y_pred))\n",
    "print(\"MSE\")\n",
    "print(metrics.mean_squared_error(y_test,y_pred))\n",
    "print(\"RMSE\")\n",
    "print(np.sqrt(metrics.mean_squared_error(y_test,y_pred)))\n",
    "print(\"R2\")\n",
    "print(metrics.r2_score(y_test,y_pred))"
   ]
  }
 ],
 "metadata": {
  "kernelspec": {
   "display_name": "Python 3",
   "language": "python",
   "name": "python3"
  },
  "language_info": {
   "codemirror_mode": {
    "name": "ipython",
    "version": 3
   },
   "file_extension": ".py",
   "mimetype": "text/x-python",
   "name": "python",
   "nbconvert_exporter": "python",
   "pygments_lexer": "ipython3",
   "version": "3.6.8"
  }
 },
 "nbformat": 4,
 "nbformat_minor": 2
}
