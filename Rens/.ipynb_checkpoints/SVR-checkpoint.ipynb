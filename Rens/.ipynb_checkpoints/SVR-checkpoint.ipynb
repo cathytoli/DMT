{
 "cells": [
  {
   "cell_type": "markdown",
   "metadata": {},
   "source": [
    "Importing the libraries"
   ]
  },
  {
   "cell_type": "code",
   "execution_count": 9,
   "metadata": {},
   "outputs": [],
   "source": [
    "import sklearn\n",
    "import pandas as pd\n",
    "from sklearn.linear_model import LinearRegression\n",
    "from sklearn.model_selection import train_test_split\n",
    "from sklearn.ensemble import RandomForestClassifier\n",
    "from sklearn.model_selection import cross_val_score\n",
    "from sklearn.ensemble import GradientBoostingClassifier\n",
    "from sklearn.ensemble import RandomForestRegressor\n",
    "from sklearn.metrics import classification_report\n",
    "from sklearn.preprocessing import OneHotEncoder\n",
    "from sklearn.tree import DecisionTreeRegressor\n",
    "from sklearn import tree\n",
    "from sklearn import metrics\n",
    "from sklearn import preprocessing\n",
    "import numpy as np"
   ]
  },
  {
   "cell_type": "markdown",
   "metadata": {},
   "source": [
    "Read data file"
   ]
  },
  {
   "cell_type": "code",
   "execution_count": 114,
   "metadata": {},
   "outputs": [],
   "source": [
    "df = pd.read_csv(\"out_without_nan_mood_normalised.csv\")"
   ]
  },
  {
   "cell_type": "markdown",
   "metadata": {},
   "source": [
    "Add dummies, remove weekDay mean, remove day mean"
   ]
  },
  {
   "cell_type": "code",
   "execution_count": 115,
   "metadata": {},
   "outputs": [],
   "source": [
    "df['mood_mean_TARGET'] = df['mood_mean_TARGET'].astype(float)\n",
    "df = pd.concat([df,pd.get_dummies(df['id'])],axis=1)\n",
    "df = pd.concat([df,pd.get_dummies(df['weekDay'],prefix=\"day_\")],axis=1)\n",
    "df = df.drop(['weekDay_time_5','day_time_5','weekDay_time_4','day_time_4','weekDay_time_3','day_time_3','weekDay_time_2','day_time_2','weekDay_time_1','day_time_1','weekDay_time_5'],axis=1)"
   ]
  },
  {
   "cell_type": "markdown",
   "metadata": {},
   "source": [
    "Id to dummy variable"
   ]
  },
  {
   "cell_type": "markdown",
   "metadata": {},
   "source": [
    "Split in train and test set"
   ]
  },
  {
   "cell_type": "code",
   "execution_count": 116,
   "metadata": {},
   "outputs": [
    {
     "name": "stdout",
     "output_type": "stream",
     "text": [
      "AS14.07                           -0.272238\n",
      "AS14.12                           -0.192850\n",
      "AS14.33                           -0.108809\n",
      "sms_sum_time_5                    -0.106459\n",
      "sms_sum_time_4                    -0.103463\n",
      "activity_mean_time_4               0.101738\n",
      "appCat.game_sum_time_2             0.102986\n",
      "appCat.communication_sum_time_4    0.103935\n",
      "appCat.entertainment_sum_time_2    0.106336\n",
      "appCat.communication_sum_time_5    0.107773\n",
      "appCat.entertainment_sum           0.111191\n",
      "appCat.entertainment_sum_time_1    0.111191\n",
      "activity_mean_time_3               0.112081\n",
      "appCat.other_sum_time_4            0.112298\n",
      "appCat.game_sum_time_3             0.112958\n",
      "activity_mean                      0.115165\n",
      "activity_mean_time_1               0.115165\n",
      "activity_mean_time_2               0.119604\n",
      "appCat.entertainment_sum_time_3    0.119642\n",
      "day__0.6666666666666666            0.124541\n",
      "appCat.game_sum_time_4             0.125494\n",
      "appCat.other_sum_time_5            0.127561\n",
      "appCat.entertainment_sum_time_4    0.130020\n",
      "AS14.29                            0.131271\n",
      "appCat.game_sum_time_5             0.132978\n",
      "appCat.entertainment_sum_time_5    0.135844\n",
      "AS14.32                            0.146203\n",
      "AS14.03                            0.156134\n",
      "AS14.30                            0.219508\n",
      "circumplex.valence_mean_time_5     0.240403\n",
      "circumplex.valence_mean_time_3     0.244947\n",
      "circumplex.valence_mean_time_4     0.245535\n",
      "circumplex.valence_mean            0.273115\n",
      "circumplex.valence_mean_time_1     0.273115\n",
      "circumplex.valence_mean_time_2     0.273929\n",
      "mood_mean                          0.472047\n",
      "mood_mean_time_3                   0.483793\n",
      "mood_mean_time_4                   0.494474\n",
      "mood_mean_time_2                   0.499446\n",
      "mood_mean_time_5                   0.504306\n",
      "Name: mood_mean_TARGET, dtype: float64\n"
     ]
    }
   ],
   "source": [
    "corr=df.corr()\n",
    "goodColumns= corr[abs(corr['mood_mean_TARGET'])>0.1]['mood_mean_TARGET'].sort_values()\n",
    "goodColumns = goodColumns.drop(['mood_mean_TARGET','mood_mean_time_1'])\n",
    "print(goodColumns)\n"
   ]
  },
  {
   "cell_type": "code",
   "execution_count": 117,
   "metadata": {},
   "outputs": [],
   "source": [
    "notRelevantAll=df.drop(['id','date'],axis=1).dropna()\n",
    "goldY= notRelevantAll['mood_mean_TARGET']\n",
    "relevant = notRelevantAll.drop(['mood_mean_TARGET'],axis=1)\n",
    "X_train, X_test, y_train, y_test = train_test_split(relevant[goodColumns.keys()], goldY, test_size=0.33, random_state=42)"
   ]
  },
  {
   "cell_type": "code",
   "execution_count": 118,
   "metadata": {},
   "outputs": [],
   "source": [
    "clf = sklearn.linear_model.LinearRegression()\n",
    "clf = clf.fit(X_train, y_train)"
   ]
  },
  {
   "cell_type": "code",
   "execution_count": 120,
   "metadata": {},
   "outputs": [
    {
     "name": "stdout",
     "output_type": "stream",
     "text": [
      "R2: 0.20 (+/- 0.22)\n"
     ]
    }
   ],
   "source": [
    "y_pred = clf.predict(X_test)\n",
    "scores = cross_val_score(clf, relevant[goodColumns.keys()], goldY, cv=7,scoring='r2')\n",
    "\n",
    "print(\"R2: %0.2f (+/- %0.2f)\" % (scores.mean(), scores.std() * 2))\n"
   ]
  },
  {
   "cell_type": "code",
   "execution_count": 121,
   "metadata": {},
   "outputs": [
    {
     "name": "stdout",
     "output_type": "stream",
     "text": [
      "MAE\n",
      "0.44283006021583604\n",
      "MSE\n",
      "0.3599118222109737\n",
      "RMSE\n",
      "0.5999265140089857\n",
      "R2\n",
      "0.2938450580664168\n"
     ]
    }
   ],
   "source": [
    "y_pred = clf.predict(X_test)\n",
    "print(\"MAE\")\n",
    "print(metrics.mean_absolute_error(y_test,y_pred))\n",
    "print(\"MSE\")\n",
    "print(metrics.mean_squared_error(y_test,y_pred))\n",
    "print(\"RMSE\")\n",
    "print(np.sqrt(metrics.mean_squared_error(y_test,y_pred)))\n",
    "print(\"R2\")\n",
    "print(metrics.r2_score(y_test,y_pred))"
   ]
  }
 ],
 "metadata": {
  "kernelspec": {
   "display_name": "Python 3",
   "language": "python",
   "name": "python3"
  },
  "language_info": {
   "codemirror_mode": {
    "name": "ipython",
    "version": 3
   },
   "file_extension": ".py",
   "mimetype": "text/x-python",
   "name": "python",
   "nbconvert_exporter": "python",
   "pygments_lexer": "ipython3",
   "version": "3.6.8"
  }
 },
 "nbformat": 4,
 "nbformat_minor": 2
}
