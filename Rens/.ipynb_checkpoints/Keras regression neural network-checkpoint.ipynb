{
 "cells": [
  {
   "cell_type": "code",
   "execution_count": 46,
   "metadata": {},
   "outputs": [],
   "source": [
    "import numpy\n",
    "import pandas as pd\n",
    "from keras.models import Sequential\n",
    "from keras.layers import Dense\n",
    "from keras.wrappers.scikit_learn import KerasRegressor\n",
    "from sklearn.model_selection import cross_val_score\n",
    "from sklearn.model_selection import cross_validate\n",
    "from sklearn.model_selection import KFold\n",
    "from sklearn.preprocessing import StandardScaler\n",
    "from sklearn.pipeline import Pipeline"
   ]
  },
  {
   "cell_type": "code",
   "execution_count": 47,
   "metadata": {},
   "outputs": [],
   "source": [
    "df = pd.read_csv(\"out_without_nan_mood_normalised.csv\")\n",
    "df['mood_mean_TARGET'] = df['mood_mean_TARGET'].astype(float)\n",
    "df = pd.concat([df,pd.get_dummies(df['id'])],axis=1)\n",
    "df = pd.concat([df,pd.get_dummies(df['weekDay'],prefix=\"day_\")],axis=1)\n",
    "df = df.drop(['weekDay_time_5','day_time_5','weekDay_time_4','day_time_4','weekDay_time_3','day_time_3','weekDay_time_2','day_time_2','weekDay_time_1','day_time_1','weekDay_time_5','circumplex.valence_mean_time_1'],axis=1)"
   ]
  },
  {
   "cell_type": "code",
   "execution_count": 48,
   "metadata": {},
   "outputs": [
    {
     "name": "stdout",
     "output_type": "stream",
     "text": [
      "AS14.07                           -0.272238\n",
      "AS14.12                           -0.192850\n",
      "AS14.33                           -0.108809\n",
      "sms_sum_time_5                    -0.106459\n",
      "sms_sum_time_4                    -0.103463\n",
      "activity_mean_time_4               0.101738\n",
      "appCat.game_sum_time_2             0.102986\n",
      "appCat.communication_sum_time_4    0.103935\n",
      "appCat.entertainment_sum_time_2    0.106336\n",
      "appCat.communication_sum_time_5    0.107773\n",
      "appCat.entertainment_sum           0.111191\n",
      "appCat.entertainment_sum_time_1    0.111191\n",
      "activity_mean_time_3               0.112081\n",
      "appCat.other_sum_time_4            0.112298\n",
      "appCat.game_sum_time_3             0.112958\n",
      "activity_mean                      0.115165\n",
      "activity_mean_time_1               0.115165\n",
      "activity_mean_time_2               0.119604\n",
      "appCat.entertainment_sum_time_3    0.119642\n",
      "day__0.6666666666666666            0.124541\n",
      "appCat.game_sum_time_4             0.125494\n",
      "appCat.other_sum_time_5            0.127561\n",
      "appCat.entertainment_sum_time_4    0.130020\n",
      "AS14.29                            0.131271\n",
      "appCat.game_sum_time_5             0.132978\n",
      "appCat.entertainment_sum_time_5    0.135844\n",
      "AS14.32                            0.146203\n",
      "AS14.03                            0.156134\n",
      "AS14.30                            0.219508\n",
      "circumplex.valence_mean_time_5     0.240403\n",
      "circumplex.valence_mean_time_3     0.244947\n",
      "circumplex.valence_mean_time_4     0.245535\n",
      "circumplex.valence_mean            0.273115\n",
      "circumplex.valence_mean_time_2     0.273929\n",
      "mood_mean                          0.472047\n",
      "mood_mean_time_3                   0.483793\n",
      "mood_mean_time_4                   0.494474\n",
      "mood_mean_time_2                   0.499446\n",
      "mood_mean_time_5                   0.504306\n",
      "Name: mood_mean_TARGET, dtype: float64\n"
     ]
    }
   ],
   "source": [
    "corr=df.corr()\n",
    "goodColumns= corr[abs(corr['mood_mean_TARGET'])>0.1]['mood_mean_TARGET'].sort_values()\n",
    "goodColumns = goodColumns.drop(['mood_mean_TARGET','mood_mean_time_1'])\n",
    "print(goodColumns)"
   ]
  },
  {
   "cell_type": "code",
   "execution_count": 49,
   "metadata": {},
   "outputs": [],
   "source": [
    "notRelevantAll=df.drop(['id','date'],axis=1).dropna()\n",
    "goldY= notRelevantAll['mood_mean_TARGET']\n",
    "relevant = notRelevantAll.drop(['mood_mean_TARGET'],axis=1)\n"
   ]
  },
  {
   "cell_type": "code",
   "execution_count": 53,
   "metadata": {},
   "outputs": [],
   "source": [
    "# define base model\n",
    "def baseline_model():\n",
    "    # create model\n",
    "    model = Sequential()\n",
    "    model.add(Dense(len(goodColumns.keys()), input_dim=len(goodColumns.keys()), kernel_initializer='normal', activation='relu'))\n",
    "    model.add(Dense(1, kernel_initializer='normal'))\n",
    "    # Compile model\n",
    "    model.compile(loss='mean_squared_error', optimizer='adam')\n",
    "    return model"
   ]
  },
  {
   "cell_type": "code",
   "execution_count": 54,
   "metadata": {},
   "outputs": [],
   "source": [
    "# fix random seed for reproducibility\n",
    "seed = 7\n",
    "numpy.random.seed(seed)\n",
    "# evaluate model with standardized dataset\n",
    "estimator = KerasRegressor(build_fn=baseline_model, epochs=100, batch_size=5, verbose=0)"
   ]
  },
  {
   "cell_type": "code",
   "execution_count": 55,
   "metadata": {},
   "outputs": [
    {
     "name": "stdout",
     "output_type": "stream",
     "text": [
      "R2: 0.19 (+/- 0.24)\n",
      "MSE: -0.40 (+/- 0.27)\n",
      "EXPLAINED VARIANCE: 0.21 (+/- 0.25)\n"
     ]
    }
   ],
   "source": [
    "scoring = {'R2': 'r2',\n",
    "           'Mean squared Error': 'neg_mean_squared_error',\n",
    "           'Explained variance': 'explained_variance'}\n",
    "\n",
    "scores = cross_validate(estimator, relevant[goodColumns.keys()], goldY, cv=7,scoring=scoring)\n",
    "print(\"R2: %0.2f (+/- %0.2f)\" % (scores['test_R2'].mean(), scores['test_R2'].std() * 2))\n",
    "print(\"MSE: %0.2f (+/- %0.2f)\" % (scores['test_Mean squared Error'].mean(), scores['test_Mean squared Error'].std() * 2))\n",
    "print(\"EXPLAINED VARIANCE: %0.2f (+/- %0.2f)\" % (scores['test_Explained variance'].mean(), scores['test_Explained variance'].std() * 2))\n"
   ]
  },
  {
   "cell_type": "code",
   "execution_count": 55,
   "metadata": {},
   "outputs": [
    {
     "name": "stdout",
     "output_type": "stream",
     "text": [
      "R2: 0.19 (+/- 0.24)\n",
      "MSE: -0.40 (+/- 0.27)\n",
      "EXPLAINED VARIANCE: 0.21 (+/- 0.25)\n"
     ]
    }
   ],
   "source": [
    "scoring = {'R2': 'r2',\n",
    "           'Mean squared Error': 'neg_mean_squared_error',\n",
    "           'Explained variance': 'explained_variance'}\n",
    "\n",
    "scores = cross_validate(estimator, relevant[goodColumns.keys()], goldY, cv=7,scoring=scoring)\n",
    "print(\"R2: %0.2f (+/- %0.2f)\" % (scores['test_R2'].mean(), scores['test_R2'].std() * 2))\n",
    "print(\"MSE: %0.2f (+/- %0.2f)\" % (scores['test_Mean squared Error'].mean(), scores['test_Mean squared Error'].std() * 2))\n",
    "print(\"EXPLAINED VARIANCE: %0.2f (+/- %0.2f)\" % (scores['test_Explained variance'].mean(), scores['test_Explained variance'].std() * 2))\n"
   ]
  }
 ],
 "metadata": {
  "kernelspec": {
   "display_name": "Python 3",
   "language": "python",
   "name": "python3"
  },
  "language_info": {
   "codemirror_mode": {
    "name": "ipython",
    "version": 3
   },
   "file_extension": ".py",
   "mimetype": "text/x-python",
   "name": "python",
   "nbconvert_exporter": "python",
   "pygments_lexer": "ipython3",
   "version": "3.6.8"
  }
 },
 "nbformat": 4,
 "nbformat_minor": 2
}
