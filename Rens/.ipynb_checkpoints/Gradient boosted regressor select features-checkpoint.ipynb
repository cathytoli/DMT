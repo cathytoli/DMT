{
 "cells": [
  {
   "cell_type": "markdown",
   "metadata": {},
   "source": [
    "Importing the libraries"
   ]
  },
  {
   "cell_type": "code",
   "execution_count": 3,
   "metadata": {},
   "outputs": [],
   "source": [
    "import sklearn\n",
    "import pandas as pd\n",
    "from sklearn.linear_model import LinearRegression\n",
    "from sklearn.model_selection import train_test_split\n",
    "from sklearn.model_selection import cross_validate\n",
    "from sklearn.ensemble import RandomForestRegressor\n",
    "from sklearn.metrics import classification_report\n",
    "from sklearn.preprocessing import OneHotEncoder\n",
    "from sklearn.svm import SVR\n",
    "from sklearn.tree import DecisionTreeRegressor\n",
    "from sklearn import tree\n",
    "from sklearn import metrics\n",
    "from sklearn import preprocessing\n",
    "import numpy as np"
   ]
  },
  {
   "cell_type": "markdown",
   "metadata": {},
   "source": [
    "Read data file"
   ]
  },
  {
   "cell_type": "code",
   "execution_count": 4,
   "metadata": {},
   "outputs": [],
   "source": [
    "df = pd.read_csv(\"out_without_nan_mood_normalised_extra_temp_train.csv\")"
   ]
  },
  {
   "cell_type": "markdown",
   "metadata": {},
   "source": [
    "Add dummies, remove weekDay mean, remove day mean"
   ]
  },
  {
   "cell_type": "code",
   "execution_count": 5,
   "metadata": {},
   "outputs": [],
   "source": [
    "df['mood_mean_TARGET'] = df['mood_mean_TARGET'].astype(float)\n",
    "df = pd.concat([df,pd.get_dummies(df['id'])],axis=1)\n",
    "df = pd.concat([df,pd.get_dummies(df['weekDay'],prefix=\"day_\")],axis=1)\n",
    "df = df.drop(['weekDay_time_5','day_time_5','weekDay_time_4','day_time_4','weekDay_time_3','day_time_3','weekDay_time_2','day_time_2','weekDay_time_1','day_time_1','weekDay_time_5'],axis=1)\n",
    "df = df.fillna(0)\n",
    "df = df.loc[:, (df != 0).any(axis=0)]"
   ]
  },
  {
   "cell_type": "markdown",
   "metadata": {},
   "source": [
    "Split in train and test set"
   ]
  },
  {
   "cell_type": "code",
   "execution_count": 38,
   "metadata": {},
   "outputs": [
    {
     "name": "stdout",
     "output_type": "stream",
     "text": [
      "numberOfTimesSeenMood5Days_5      -0.268224\n",
      "numberOfTimesSeenMood5Days_6      -0.266362\n",
      "numberOfTimesSeenMood5Days_4      -0.264096\n",
      "AS14.07                           -0.238132\n",
      "lastTimeSeenMood_7                -0.217298\n",
      "AS14.12                           -0.164646\n",
      "numberOfTimesSeenMood5Days_3      -0.154276\n",
      "lastTimeSeenMood_8                -0.143156\n",
      "lastTimeSeenMood_4                -0.126671\n",
      "AS14.16                           -0.116964\n",
      "AS14.05                           -0.113905\n",
      "sms_sum_time_5                    -0.105072\n",
      "sms_sum_time_4                    -0.097740\n",
      "lastTimeSeenMood_6                -0.092742\n",
      "AS14.33                           -0.090548\n",
      "sms_sum_time_3                    -0.088051\n",
      "sms_sum_time_2                    -0.069055\n",
      "AS14.08                           -0.056615\n",
      "day__1.0                          -0.052260\n",
      "lastTimeSeenMood_5                -0.051633\n",
      "appCat.social_sum_time_2          -0.048294\n",
      "appCat.social_sum_time_3          -0.046565\n",
      "AS14.14                           -0.046322\n",
      "day__0.16666666666666666          -0.045273\n",
      "AS14.19                           -0.045228\n",
      "day__0.0                          -0.045199\n",
      "appCat.social_sum_time_4          -0.037060\n",
      "AS14.02                           -0.036728\n",
      "appCat.social_sum_time_1          -0.034923\n",
      "appCat.social_sum                 -0.034923\n",
      "                                     ...   \n",
      "appCat.weather_sum_time_4          0.111344\n",
      "appCat.weather_sum_time_2          0.112727\n",
      "circumplex.arousal_mean_time_2     0.113706\n",
      "appCat.game_sum_time_3             0.119577\n",
      "appCat.entertainment_sum_time_4    0.120169\n",
      "circumplex.arousal_mean            0.120359\n",
      "circumplex.arousal_mean_time_1     0.120359\n",
      "appCat.weather_sum_time_5          0.124609\n",
      "appCat.entertainment_sum_time_5    0.126880\n",
      "AS14.27                            0.132525\n",
      "appCat.game_sum_time_4             0.133833\n",
      "AS14.29                            0.138416\n",
      "appCat.game_sum_time_5             0.139714\n",
      "day__0.6666666666666666            0.142170\n",
      "AS14.32                            0.177747\n",
      "AS14.03                            0.179867\n",
      "circumplex.valence_mean_time_5     0.181197\n",
      "numberOfTimesSeenMood5Days_9       0.185732\n",
      "circumplex.valence_mean_time_4     0.194967\n",
      "numberOfTimesSeenMood5Days_8       0.195949\n",
      "circumplex.valence_mean_time_3     0.199865\n",
      "AS14.30                            0.214046\n",
      "circumplex.valence_mean_time_2     0.233771\n",
      "circumplex.valence_mean_time_1     0.234266\n",
      "circumplex.valence_mean            0.234266\n",
      "mood_mean                          0.440403\n",
      "mood_mean_time_3                   0.463065\n",
      "mood_mean_time_4                   0.473673\n",
      "mood_mean_time_2                   0.476974\n",
      "mood_mean_time_5                   0.478291\n",
      "Name: mood_mean_TARGET, Length: 144, dtype: float64\n"
     ]
    }
   ],
   "source": [
    "corr=df.corr()\n",
    "goodColumns= corr[abs(corr['mood_mean_TARGET'])>0.01]['mood_mean_TARGET'].sort_values()\n",
    "goodColumns = goodColumns.drop(['mood_mean_TARGET','mood_mean_time_1'])\n",
    "print(goodColumns)\n"
   ]
  },
  {
   "cell_type": "code",
   "execution_count": 39,
   "metadata": {},
   "outputs": [],
   "source": [
    "notRelevantAll=df.drop(['id','date'],axis=1).dropna()\n",
    "goldY= notRelevantAll['mood_mean_TARGET']\n",
    "relevant = notRelevantAll.drop(['mood_mean_TARGET'],axis=1)\n",
    "X_train, X_test, y_train, y_test = train_test_split(relevant[goodColumns.keys()], goldY, test_size=0.33, random_state=42)"
   ]
  },
  {
   "cell_type": "code",
   "execution_count": 40,
   "metadata": {},
   "outputs": [
    {
     "name": "stdout",
     "output_type": "stream",
     "text": [
      "      Iter       Train Loss   Remaining Time \n",
      "         1           0.4544           49.87s\n",
      "         2           0.4264           56.19s\n",
      "         3           0.4020           55.91s\n",
      "         4           0.3822           56.89s\n",
      "         5           0.3650           53.55s\n",
      "         6           0.3484           49.60s\n",
      "         7           0.3340           48.20s\n",
      "         8           0.3213           47.52s\n",
      "         9           0.3099           48.15s\n",
      "        10           0.3011           46.97s\n",
      "        20           0.2329           45.90s\n",
      "        30           0.1997           42.20s\n",
      "        40           0.1771           39.88s\n",
      "        50           0.1597           37.99s\n",
      "        60           0.1461           37.08s\n",
      "        70           0.1319           36.21s\n",
      "        80           0.1194           37.10s\n",
      "        90           0.1072           37.40s\n",
      "       100           0.0988           36.82s\n",
      "       200           0.0406           42.13s\n",
      "       300           0.0185           44.90s\n",
      "       400           0.0082           47.39s\n",
      "       500           0.0037           47.72s\n",
      "       600           0.0018           48.06s\n",
      "       700           0.0009           47.46s\n",
      "       800           0.0005           46.74s\n",
      "       900           0.0002           46.46s\n",
      "      1000           0.0001           46.10s\n",
      "      2000           0.0000           41.86s\n",
      "      3000           0.0000           26.41s\n",
      "      4000           0.0000           17.25s\n",
      "      5000           0.0000           11.65s\n",
      "      6000           0.0000            7.85s\n",
      "      7000           0.0000            5.10s\n",
      "      8000           0.0000            3.01s\n",
      "      9000           0.0000            1.36s\n",
      "     10000           0.0000            0.00s\n"
     ]
    }
   ],
   "source": [
    "clf = sklearn.ensemble.GradientBoostingRegressor(n_estimators=10000,verbose=1)\n",
    "clf = clf.fit(X_train, y_train)"
   ]
  },
  {
   "cell_type": "markdown",
   "metadata": {},
   "source": [
    "Define scoring"
   ]
  },
  {
   "cell_type": "code",
   "execution_count": 26,
   "metadata": {},
   "outputs": [],
   "source": [
    "scoring = {'R2': 'r2',\n",
    "           'Mean squared Error': 'neg_mean_squared_error',\n",
    "           'Explained variance': 'explained_variance'}"
   ]
  },
  {
   "cell_type": "code",
   "execution_count": null,
   "metadata": {},
   "outputs": [
    {
     "name": "stdout",
     "output_type": "stream",
     "text": [
      "      Iter       Train Loss   Remaining Time \n",
      "         1           0.4793           54.26s\n",
      "         2           0.4531           47.07s\n",
      "         3           0.4309           58.15s\n",
      "         4           0.4127           56.07s\n",
      "         5           0.3963           57.99s\n",
      "         6           0.3816            1.07m\n",
      "         7           0.3686            1.06m\n",
      "         8           0.3583            1.07m\n",
      "         9           0.3486            1.08m\n",
      "        10           0.3390            1.07m\n",
      "        20           0.2748            1.15m\n",
      "        30           0.2431            1.12m\n",
      "        40           0.2182            1.09m\n",
      "        50           0.1993            1.07m\n",
      "        60           0.1827            1.08m\n",
      "        70           0.1685            1.09m\n",
      "        80           0.1546            1.14m\n",
      "        90           0.1441            1.13m\n",
      "       100           0.1311            1.12m\n",
      "       200           0.0641            1.04m\n",
      "       300           0.0329            1.08m\n",
      "       400           0.0177            1.06m\n",
      "       500           0.0092            1.04m\n",
      "       600           0.0048            1.06m\n",
      "       700           0.0026            1.02m\n",
      "       800           0.0015            1.02m\n",
      "       900           0.0008           59.62s\n",
      "      1000           0.0005           58.31s\n",
      "      2000           0.0000           52.01s\n",
      "      3000           0.0000           39.89s\n",
      "      4000           0.0000           26.03s\n",
      "      5000           0.0000           17.53s\n",
      "      6000           0.0000           11.86s\n",
      "      7000           0.0000            7.75s\n",
      "      8000           0.0000            4.57s\n",
      "      9000           0.0000            2.05s\n",
      "     10000           0.0000            0.00s\n",
      "      Iter       Train Loss   Remaining Time \n",
      "         1           0.4526           50.21s\n",
      "         2           0.4280           52.49s\n",
      "         3           0.4073           53.84s\n",
      "         4           0.3899           54.93s\n",
      "         5           0.3749           59.89s\n",
      "         6           0.3612            1.02m\n",
      "         7           0.3477            1.06m\n",
      "         8           0.3352            1.09m\n",
      "         9           0.3261            1.11m\n",
      "        10           0.3173            1.15m\n",
      "        20           0.2596            1.14m\n",
      "        30           0.2236            1.10m\n",
      "        40           0.1991            1.05m\n",
      "        50           0.1821            1.03m\n",
      "        60           0.1683           59.93s\n",
      "        70           0.1549           59.49s\n",
      "        80           0.1451           57.97s\n",
      "        90           0.1351           57.00s\n",
      "       100           0.1252           55.80s\n",
      "       200           0.0619            1.03m\n",
      "       300           0.0293            1.01m\n",
      "       400           0.0153            1.01m\n",
      "       500           0.0081           59.97s\n",
      "       600           0.0043           59.98s\n",
      "       700           0.0023            1.00m\n",
      "       800           0.0013           59.91s\n",
      "       900           0.0007           59.33s\n",
      "      1000           0.0004           58.89s\n"
     ]
    }
   ],
   "source": [
    "y_pred = clf.predict(X_test)\n",
    "scores = cross_validate(clf, relevant[goodColumns.keys()], goldY, cv=7,scoring=scoring)\n",
    "\n",
    "print(\"R2: %0.2f (+/- %0.2f)\" % (scores['test_R2'].mean(), scores['test_R2'].std() * 2))\n",
    "print(\"MSE: %0.2f (+/- %0.2f)\" % (scores['test_Mean squared Error'].mean(), scores['test_Mean squared Error'].std() * 2))\n",
    "print(\"EXPLAINED VARIANCE: %0.2f (+/- %0.2f)\" % (scores['test_Explained variance'].mean(), scores['test_Explained variance'].std() * 2))\n"
   ]
  },
  {
   "cell_type": "code",
   "execution_count": 36,
   "metadata": {},
   "outputs": [
    {
     "name": "stdout",
     "output_type": "stream",
     "text": [
      "MAE\n",
      "0.5948984320535927\n",
      "MSE\n",
      "0.7094820930082864\n",
      "RMSE\n",
      "0.8423075999943763\n",
      "R2\n",
      "-0.15737974043588476\n"
     ]
    }
   ],
   "source": [
    "y_pred = clf.predict(X_test)\n",
    "print(\"MAE\")\n",
    "print(metrics.mean_absolute_error(y_test,y_pred))\n",
    "print(\"MSE\")\n",
    "print(metrics.mean_squared_error(y_test,y_pred))\n",
    "print(\"RMSE\")\n",
    "print(np.sqrt(metrics.mean_squared_error(y_test,y_pred)))\n",
    "print(\"R2\")\n",
    "print(metrics.r2_score(y_test,y_pred))"
   ]
  },
  {
   "cell_type": "code",
   "execution_count": 37,
   "metadata": {},
   "outputs": [
    {
     "name": "stdout",
     "output_type": "stream",
     "text": [
      "MAE\n",
      "0.5707467072371769\n",
      "MSE\n",
      "0.5544901642946719\n",
      "RMSE\n",
      "0.7446409633472174\n",
      "R2\n",
      "0.0027684897258866137\n"
     ]
    }
   ],
   "source": [
    "dfTest = pd.read_csv(\"out_without_nan_mood_normalised_extra_temp_test.csv\")\n",
    "dfTest['mood_mean_TARGET'] = dfTest['mood_mean_TARGET'].astype(float)\n",
    "dfTest = pd.concat([dfTest,pd.get_dummies(dfTest['id'])],axis=1)\n",
    "dfTest = pd.concat([dfTest,pd.get_dummies(dfTest['weekDay'],prefix=\"day_\")],axis=1)\n",
    "dfTest = dfTest.fillna(0)\n",
    "\n",
    "y_pred =clf.predict(dfTest[goodColumns.keys()])\n",
    "print(\"MAE\")\n",
    "print(metrics.mean_absolute_error(dfTest['mood_mean_TARGET'],y_pred))\n",
    "print(\"MSE\")\n",
    "print(metrics.mean_squared_error(dfTest['mood_mean_TARGET'],y_pred))\n",
    "print(\"RMSE\")\n",
    "print(np.sqrt(metrics.mean_squared_error(dfTest['mood_mean_TARGET'],y_pred)))\n",
    "print(\"R2\")\n",
    "print(metrics.r2_score(dfTest['mood_mean_TARGET'],y_pred))\n",
    "\n"
   ]
  }
 ],
 "metadata": {
  "kernelspec": {
   "display_name": "Python 3",
   "language": "python",
   "name": "python3"
  },
  "language_info": {
   "codemirror_mode": {
    "name": "ipython",
    "version": 3
   },
   "file_extension": ".py",
   "mimetype": "text/x-python",
   "name": "python",
   "nbconvert_exporter": "python",
   "pygments_lexer": "ipython3",
   "version": "3.6.5"
  }
 },
 "nbformat": 4,
 "nbformat_minor": 2
}
