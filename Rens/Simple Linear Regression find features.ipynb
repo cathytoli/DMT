{
 "cells": [
  {
   "cell_type": "markdown",
   "metadata": {},
   "source": [
    "Importing the libraries"
   ]
  },
  {
   "cell_type": "code",
   "execution_count": 64,
   "metadata": {},
   "outputs": [],
   "source": [
    "import sklearn\n",
    "import pandas as pd\n",
    "from sklearn.linear_model import LinearRegression\n",
    "from sklearn.model_selection import cross_val_score\n",
    "from sklearn.model_selection import cross_validate\n",
    "from sklearn.feature_selection import RFECV\n",
    "from sklearn.preprocessing import OneHotEncoder\n",
    "from sklearn import metrics\n",
    "from sklearn import preprocessing\n",
    "import numpy as np"
   ]
  },
  {
   "cell_type": "markdown",
   "metadata": {},
   "source": [
    "Read data file"
   ]
  },
  {
   "cell_type": "code",
   "execution_count": 65,
   "metadata": {},
   "outputs": [],
   "source": [
    "df = pd.read_csv(\"out_without_nan_mood_normalised_extra_temp_train.csv\")\n",
    "clf = LinearRegression()"
   ]
  },
  {
   "cell_type": "markdown",
   "metadata": {},
   "source": [
    "Add dummies, remove double features"
   ]
  },
  {
   "cell_type": "code",
   "execution_count": 66,
   "metadata": {},
   "outputs": [],
   "source": [
    "df['mood_mean_TARGET'] = df['mood_mean_TARGET'].astype(float)\n",
    "df = pd.concat([df,pd.get_dummies(df['id'])],axis=1)\n",
    "df = pd.concat([df,pd.get_dummies(df['weekDay'],prefix=\"day_\")],axis=1)\n",
    "df = df.drop(['weekDay_time_5','day_time_5','weekDay_time_4','day_time_4','weekDay_time_3','day_time_3','weekDay_time_2','day_time_2','weekDay_time_1','day_time_1','weekDay_time_5','mood_mean_time_1','appCat.office_sum_time_1'],axis=1)\n",
    "df = df.fillna(0)\n",
    "df = df.loc[:, (df != 0).any(axis=0)]\n",
    "\n"
   ]
  },
  {
   "cell_type": "code",
   "execution_count": 67,
   "metadata": {},
   "outputs": [],
   "source": [
    "notRelevantAll=df.drop(['id','date'],axis=1).dropna()\n",
    "goldY= notRelevantAll['mood_mean_TARGET']\n",
    "relevant = notRelevantAll.drop(['mood_mean_TARGET'],axis=1)"
   ]
  },
  {
   "cell_type": "code",
   "execution_count": 68,
   "metadata": {},
   "outputs": [
    {
     "data": {
      "text/plain": [
       "RFECV(cv=5,\n",
       "   estimator=LinearRegression(copy_X=True, fit_intercept=True, n_jobs=None,\n",
       "         normalize=False),\n",
       "   min_features_to_select=1, n_jobs=None, scoring='r2', step=1, verbose=0)"
      ]
     },
     "execution_count": 68,
     "metadata": {},
     "output_type": "execute_result"
    }
   ],
   "source": [
    "selector = RFECV(clf, step=1,cv=5,scoring=\"r2\")\n",
    "selector.fit(relevant,goldY)\n"
   ]
  },
  {
   "cell_type": "code",
   "execution_count": 69,
   "metadata": {},
   "outputs": [
    {
     "name": "stdout",
     "output_type": "stream",
     "text": [
      "['mood_mean', 'appCat.entertainment_sum_time_1', 'appCat.entertainment_sum_time_2', 'appCat.office_sum_time_2', 'appCat.office_sum_time_3', 'appCat.entertainment_sum_time_4', 'appCat.finance_sum_time_4', 'call_sum_time_4', 'mood_mean_time_5', 'appCat.entertainment_sum_time_5', 'appCat.finance_sum_time_5', 'call_sum_time_5', 'lastTimeSeenMood_4', 'lastTimeSeenMood_5']\n"
     ]
    }
   ],
   "source": [
    "new_features = []\n",
    "for bool, feature in zip(selector.get_support(), relevant.columns.values):\n",
    "    if bool:\n",
    "        new_features.append(feature)\n",
    "print(new_features)"
   ]
  },
  {
   "cell_type": "code",
   "execution_count": 59,
   "metadata": {},
   "outputs": [
    {
     "name": "stdout",
     "output_type": "stream",
     "text": [
      "R2: 0.12 (+/- 0.67)\n",
      "MSE: -0.49 (+/- 0.51)\n",
      "EXPLAINED VARIANCE: 0.14 (+/- 0.68)\n"
     ]
    }
   ],
   "source": [
    "scoring = {'R2': 'r2',\n",
    "           'Mean squared Error': 'neg_mean_squared_error',\n",
    "           'Explained variance': 'explained_variance'}\n",
    "\n",
    "scores = cross_validate(clf, relevant[new_features], goldY, cv=7,scoring=scoring)\n",
    "print(\"R2: %0.2f (+/- %0.2f)\" % (scores['test_R2'].mean(), scores['test_R2'].std() * 2))\n",
    "print(\"MSE: %0.2f (+/- %0.2f)\" % (scores['test_Mean squared Error'].mean(), scores['test_Mean squared Error'].std() * 2))\n",
    "print(\"EXPLAINED VARIANCE: %0.2f (+/- %0.2f)\" % (scores['test_Explained variance'].mean(), scores['test_Explained variance'].std() * 2))\n"
   ]
  },
  {
   "cell_type": "markdown",
   "metadata": {},
   "source": [
    "Evaluate on real test set"
   ]
  },
  {
   "cell_type": "code",
   "execution_count": 60,
   "metadata": {},
   "outputs": [
    {
     "data": {
      "text/plain": [
       "LinearRegression(copy_X=True, fit_intercept=True, n_jobs=None,\n",
       "         normalize=False)"
      ]
     },
     "execution_count": 60,
     "metadata": {},
     "output_type": "execute_result"
    }
   ],
   "source": [
    "clf.fit(relevant[new_features], goldY)"
   ]
  },
  {
   "cell_type": "code",
   "execution_count": 61,
   "metadata": {},
   "outputs": [],
   "source": [
    "dfTest = pd.read_csv(\"out_without_nan_mood_normalised_extra_temp_test.csv\")\n",
    "dfTest['mood_mean_TARGET'] = dfTest['mood_mean_TARGET'].astype(float)\n",
    "dfTest = pd.concat([dfTest,pd.get_dummies(dfTest['id'])],axis=1)\n",
    "dfTest = pd.concat([dfTest,pd.get_dummies(dfTest['weekDay'],prefix=\"day_\")],axis=1)\n",
    "dfTest = dfTest.fillna(0)\n"
   ]
  },
  {
   "cell_type": "code",
   "execution_count": 62,
   "metadata": {},
   "outputs": [
    {
     "name": "stdout",
     "output_type": "stream",
     "text": [
      "MAE\n",
      "0.4930708928442205\n",
      "MSE\n",
      "0.4807247873847458\n",
      "RMSE\n",
      "0.6933431959605184\n",
      "R2\n",
      "0.07227375059667751\n"
     ]
    },
    {
     "data": {
      "image/png": "[encoded data removed]",
      "text/plain": [
       "<Figure size 432x288 with 1 Axes>"
      ]
     },
     "metadata": {
      "needs_background": "light"
     },
     "output_type": "display_data"
    },
    {
     "name": "stdout",
     "output_type": "stream",
     "text": [
      "[('mood_mean', 1.52339852169728), ('appCat.entertainment_sum_time_1', 1.6298712467054282), ('appCat.entertainment_sum_time_2', -1.5008828412030626), ('appCat.office_sum_time_2', -4.814246602455994), ('appCat.office_sum_time_3', 4.920793792864882), ('appCat.entertainment_sum_time_4', 2.198475353025588), ('appCat.finance_sum_time_4', -2.2227565749498344), ('call_sum_time_4', 1.3913962125133807), ('mood_mean_time_5', 2.0875295200981685), ('appCat.entertainment_sum_time_5', -1.4763925826982662), ('appCat.finance_sum_time_5', 2.336659137894168), ('call_sum_time_5', -1.4001530893522913), ('lastTimeSeenMood_4', 15.4751900335465), ('lastTimeSeenMood_5', 2.3351171258809535)]\n"
     ]
    }
   ],
   "source": [
    "y_pred =clf.predict(dfTest[new_features])\n",
    "print(\"MAE\")\n",
    "print(metrics.mean_absolute_error(dfTest['mood_mean_TARGET'],y_pred))\n",
    "print(\"MSE\")\n",
    "print(metrics.mean_squared_error(dfTest['mood_mean_TARGET'],y_pred))\n",
    "print(\"RMSE\")\n",
    "print(np.sqrt(metrics.mean_squared_error(dfTest['mood_mean_TARGET'],y_pred)))\n",
    "print(\"R2\")\n",
    "print(metrics.r2_score(dfTest['mood_mean_TARGET'],y_pred))\n",
    "\n",
    "import matplotlib.pyplot as plt\n",
    "plt.plot(y_pred-dfTest['mood_mean_TARGET'])\n",
    "plt.show()\n",
    "\n",
    "print(list(zip(new_features,clf.coef_)))\n",
    "allTogether = pd.concat([dfTest['mood_mean_TARGET'],dfTest[new_features]],axis=1)\n",
    "allTogether['y_pred'] = y_pred\n",
    "allTogether.to_csv(\"pred.csv\")"
   ]
  }
 ],
 "metadata": {
  "kernelspec": {
   "display_name": "Python 3",
   "language": "python",
   "name": "python3"
  },
  "language_info": {
   "codemirror_mode": {
    "name": "ipython",
    "version": 3
   },
   "file_extension": ".py",
   "mimetype": "text/x-python",
   "name": "python",
   "nbconvert_exporter": "python",
   "pygments_lexer": "ipython3",
   "version": "3.6.8"
  }
 },
 "nbformat": 4,
 "nbformat_minor": 2
}
