{
 "cells": [
  {
   "cell_type": "code",
   "execution_count": 2,
   "metadata": {},
   "outputs": [],
   "source": [
    "# iMPORT PACKAGES\n",
    "import pandas as pd\n",
    "import datetime as dt\n",
    "import numpy as np\n",
    "import math\n",
    "from datetime import timedelta\n",
    "from statsmodels.tsa.vector_ar.var_model import VAR\n",
    "from statsmodels.tsa.arima_model import ARIMA\n",
    "import warnings\n",
    "warnings.filterwarnings('ignore')"
   ]
  },
  {
   "cell_type": "code",
   "execution_count": 3,
   "metadata": {
    "scrolled": true
   },
   "outputs": [],
   "source": [
    "data = pd.read_csv(\"out_without_nan_mood_target.csv\")\n",
    "data['date'] = pd.to_datetime(data['date'])\n",
    "df = data.dropna(subset = ['mood_mean','mood_mean_TARGET'] )"
   ]
  },
  {
   "cell_type": "code",
   "execution_count": 5,
   "metadata": {},
   "outputs": [],
   "source": [
    "# Create test and train set\n",
    "def createTrainTest(length_train):\n",
    "    length_train = length_train\n",
    "    index_test = np.random.choice(np.arange(len(df)), length_train, False)\n",
    "\n",
    "    test = df.iloc[index_test]\n",
    "    train = df.drop(df.index[index_test])\n",
    "    \n",
    "    return train, test"
   ]
  },
  {
   "cell_type": "code",
   "execution_count": 6,
   "metadata": {},
   "outputs": [],
   "source": [
    "# Calculate MSQ\n",
    "def calculateAccMSQ(solutions, name_target,name_predicted):\n",
    "    correct = 0\n",
    "    squared_error = 0\n",
    "\n",
    "    for index, row in solutions.iterrows():\n",
    "        squared_error += math.pow(row[name_target]-row[name_predicted],2)\n",
    "        if (row[name_target] == row[name_predicted]):\n",
    "            correct = correct + 1\n",
    "        \n",
    "    accuracy = correct/ len(solutions.index)\n",
    "    msq = squared_error / len(solutions.index)\n",
    "    return accuracy, msq\n"
   ]
  },
  {
   "cell_type": "code",
   "execution_count": 12,
   "metadata": {},
   "outputs": [],
   "source": [
    "# Predict row\n",
    "def predictMoodPersonARIMA(row, order):    \n",
    "    #get train data\n",
    "    train_data_person = df.loc[(df['id'] == row.id) & (df['date'] < row.date)]\n",
    "    train_data_person_correct = train_data_person[['mood_mean_TARGET']]\n",
    "    \n",
    "    prediction_mood_target = None\n",
    "    #fit the model\n",
    "    if len(train_data_person_correct) > 10:\n",
    "        model = ARIMA(train_data_person_correct, order=order)\n",
    "        model_fit = model.fit()\n",
    "    \n",
    "        # make prediction on validation\n",
    "        prediction = model_fit.forecast()\n",
    "        prediction_mood_target = prediction[0][0]\n",
    "    \n",
    "    return prediction_mood_target "
   ]
  },
  {
   "cell_type": "code",
   "execution_count": 13,
   "metadata": {},
   "outputs": [],
   "source": [
    "# Find for every row in test set the predicted mood\n",
    "def predictARIMA(test, order):\n",
    "    solutions = pd.DataFrame(data={'id': [], 'date': [], 'mood_mean_target': [], 'predicted_mood_mean_target':[]})\n",
    "    for index, row in test.iterrows():\n",
    "        prediction_mood_target = predictMoodPersonARIMA(row, order)\n",
    "    \n",
    "        #add solution to solution df\n",
    "        if prediction_mood_target is not None:\n",
    "            solutions = solutions.append({'id': row.id, 'date': row.date, 'mood_mean_target': row.mood_mean_TARGET,\n",
    "                                      'predicted_mood_mean_target': prediction_mood_target}, ignore_index=True)\n",
    "    return solutions"
   ]
  },
  {
   "cell_type": "code",
   "execution_count": 14,
   "metadata": {},
   "outputs": [],
   "source": [
    "test = pd.read_csv(\"test_set.csv\")\n",
    "train = pd.read_csv(\"train_set.csv\")"
   ]
  },
  {
   "cell_type": "code",
   "execution_count": 15,
   "metadata": {},
   "outputs": [],
   "source": [
    "#train, test = createTrainTest(100)"
   ]
  },
  {
   "cell_type": "code",
   "execution_count": 16,
   "metadata": {},
   "outputs": [
    {
     "name": "stdout",
     "output_type": "stream",
     "text": [
      "0.4909540987694328\n"
     ]
    }
   ],
   "source": [
    "solutions = predictARIMA(test, (0,1,1))\n",
    "accuracy, msq = calculateAccMSQ(solutions, \"mood_mean_target\", \"predicted_mood_mean_target\")\n",
    "print(msq)"
   ]
  },
  {
   "cell_type": "code",
   "execution_count": 11,
   "metadata": {},
   "outputs": [
    {
     "ename": "SyntaxError",
     "evalue": "can't assign to literal (<ipython-input-11-f4155a6eed94>, line 1)",
     "output_type": "error",
     "traceback": [
      "\u001b[1;36m  File \u001b[1;32m\"<ipython-input-11-f4155a6eed94>\"\u001b[1;36m, line \u001b[1;32m1\u001b[0m\n\u001b[1;33m    (1,0,0) = 0.23438219609414976\u001b[0m\n\u001b[1;37m                                 ^\u001b[0m\n\u001b[1;31mSyntaxError\u001b[0m\u001b[1;31m:\u001b[0m can't assign to literal\n"
     ]
    }
   ],
   "source": [
    "(1,0,0) = 0.23438219609414976\n",
    "(0,1,0) = 0.43916991521125376\n",
    "(0,2,0) = 1.591560337768915\n",
    "(1,2,0) = 0.8812095702372237\n",
    "(2,2,0) = 0.7547504645377935\n",
    "(3,2,0) = error\n",
    "(3,1,0) = 0.32514441411836276\n",
    "(4,1,0) = error\n",
    "(1,1,0) = 0.4145036325619722\n",
    "(3,0,0) = 0.3425771089769928\n",
    "(4,0,0) = 0.351796666069525\n",
    "(0,0,1) = 0.3009717375417968\n",
    "(0,0,2) = 0.3740895788190101\n",
    "(0,0,3) = error\n",
    "(1,0,1) = error\n",
    "(0,1,1) = 0.24253054075758185\n",
    "(1,1,1) = error\n",
    "(0,2,1) = 0.5064616756505296"
   ]
  },
  {
   "cell_type": "code",
   "execution_count": 17,
   "metadata": {},
   "outputs": [
    {
     "name": "stdout",
     "output_type": "stream",
     "text": [
      "(0, 0, 0) 0.41810922512615606\n",
      "(0, 0, 1) 0.41641966863411967\n",
      "(0, 1, 0) 0.49571671193075895\n",
      "(0, 1, 1) 0.4909540987694328\n",
      "(0, 2, 0) 1.4683218653686347\n",
      "(0, 2, 1) 0.5720363783103162\n",
      "(1, 0, 0) 0.37527300490579213\n",
      "(1, 1, 0) 0.4702238678638187\n",
      "(1, 2, 0) 0.8778453673204697\n",
      "(2, 1, 0) 0.5038950893250652\n",
      "(3, 0, 0) 0.41875901327480214\n"
     ]
    }
   ],
   "source": [
    "for p in range(4):\n",
    "    for d in range(4):\n",
    "        for q in range(4):\n",
    "            try:\n",
    "                solutions = predictARIMA(test, (p,d,q))\n",
    "                accuracy, msq = calculateAccMSQ(solutions, \"mood_mean_target\", \"predicted_mood_mean_target\")\n",
    "                x1= p,d,q\n",
    "                print (x1,msq)\n",
    "            except:\n",
    "                pass"
   ]
  },
  {
   "cell_type": "code",
   "execution_count": null,
   "metadata": {},
   "outputs": [],
   "source": []
  }
 ],
 "metadata": {
  "kernelspec": {
   "display_name": "Python 3",
   "language": "python",
   "name": "python3"
  },
  "language_info": {
   "codemirror_mode": {
    "name": "ipython",
    "version": 3
   },
   "file_extension": ".py",
   "mimetype": "text/x-python",
   "name": "python",
   "nbconvert_exporter": "python",
   "pygments_lexer": "ipython3",
   "version": "3.6.5"
  }
 },
 "nbformat": 4,
 "nbformat_minor": 2
}
