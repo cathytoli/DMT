{
 "cells": [
  {
   "cell_type": "code",
   "execution_count": null,
   "metadata": {},
   "outputs": [],
   "source": []
  },
  {
   "cell_type": "code",
   "execution_count": null,
   "metadata": {},
   "outputs": [],
   "source": []
  },
  {
   "cell_type": "code",
   "execution_count": 156,
   "metadata": {},
   "outputs": [],
   "source": [
    "# iMPORT PACKAGES\n",
    "import pandas as pd\n",
    "import datetime as dt\n",
    "import numpy as np\n",
    "\n",
    "from datetime import timedelta\n",
    "\n",
    "import matplotlib.pyplot as plt\n",
    "\n",
    "import math\n",
    "\n",
    "from keras.models import Sequential\n",
    "from keras.layers import Dense\n",
    "from keras.layers import LSTM\n",
    "\n",
    "from sklearn.preprocessing import MinMaxScaler\n",
    "from sklearn.metrics import mean_squared_error\n",
    "\n",
    "from time import time"
   ]
  },
  {
   "cell_type": "code",
   "execution_count": 182,
   "metadata": {},
   "outputs": [],
   "source": [
    "# fix random seed for reproducibility\n",
    "np.random.seed(7)"
   ]
  },
  {
   "cell_type": "code",
   "execution_count": 183,
   "metadata": {},
   "outputs": [],
   "source": [
    "# READ FILE\n",
    "path = '/Users/cathytol/Documents/DMT/DMT/'\n",
    "inputPath = path + \"out_without_nan_mood_target.csv\"\n",
    "df = pd.read_csv(inputPath)\n",
    "df['date'] = pd.to_datetime(df['date'])\n"
   ]
  },
  {
   "cell_type": "code",
   "execution_count": 184,
   "metadata": {},
   "outputs": [
    {
     "data": {
      "text/html": [
       "<div>\n",
       "<style scoped>\n",
       "    .dataframe tbody tr th:only-of-type {\n",
       "        vertical-align: middle;\n",
       "    }\n",
       "\n",
       "    .dataframe tbody tr th {\n",
       "        vertical-align: top;\n",
       "    }\n",
       "\n",
       "    .dataframe thead th {\n",
       "        text-align: right;\n",
       "    }\n",
       "</style>\n",
       "<table border=\"1\" class=\"dataframe\">\n",
       "  <thead>\n",
       "    <tr style=\"text-align: right;\">\n",
       "      <th></th>\n",
       "      <th>id</th>\n",
       "      <th>date</th>\n",
       "      <th>activity_mean</th>\n",
       "      <th>circumplex.arousal_mean</th>\n",
       "      <th>circumplex.valence_mean</th>\n",
       "      <th>mood_mean</th>\n",
       "      <th>appCat.builtin_sum</th>\n",
       "      <th>appCat.communication_sum</th>\n",
       "      <th>appCat.entertainment_sum</th>\n",
       "      <th>appCat.finance_sum</th>\n",
       "      <th>...</th>\n",
       "      <th>appCat.travel_sum_time_5</th>\n",
       "      <th>appCat.unknown_sum_time_5</th>\n",
       "      <th>appCat.utilities_sum_time_5</th>\n",
       "      <th>appCat.weather_sum_time_5</th>\n",
       "      <th>call_sum_time_5</th>\n",
       "      <th>screen_sum_time_5</th>\n",
       "      <th>sms_sum_time_5</th>\n",
       "      <th>day_time_5</th>\n",
       "      <th>weekDay_time_5</th>\n",
       "      <th>mood_mean_TARGET</th>\n",
       "    </tr>\n",
       "  </thead>\n",
       "  <tbody>\n",
       "    <tr>\n",
       "      <th>0</th>\n",
       "      <td>AS14.01</td>\n",
       "      <td>2014-02-25</td>\n",
       "      <td>0.000000</td>\n",
       "      <td>0.5000</td>\n",
       "      <td>0.384615</td>\n",
       "      <td>NaN</td>\n",
       "      <td>0.000000</td>\n",
       "      <td>0.000000</td>\n",
       "      <td>0.000000</td>\n",
       "      <td>0.000000</td>\n",
       "      <td>...</td>\n",
       "      <td>0.000000</td>\n",
       "      <td>0.000000</td>\n",
       "      <td>0.000000</td>\n",
       "      <td>0.0</td>\n",
       "      <td>0.215385</td>\n",
       "      <td>0.000000</td>\n",
       "      <td>0.152174</td>\n",
       "      <td>0.040000</td>\n",
       "      <td>0.625000</td>\n",
       "      <td>6.250000</td>\n",
       "    </tr>\n",
       "    <tr>\n",
       "      <th>1</th>\n",
       "      <td>AS14.01</td>\n",
       "      <td>2014-02-26</td>\n",
       "      <td>0.000000</td>\n",
       "      <td>0.4375</td>\n",
       "      <td>0.615385</td>\n",
       "      <td>6.25</td>\n",
       "      <td>0.000000</td>\n",
       "      <td>0.000000</td>\n",
       "      <td>0.000000</td>\n",
       "      <td>0.000000</td>\n",
       "      <td>...</td>\n",
       "      <td>0.000000</td>\n",
       "      <td>0.000000</td>\n",
       "      <td>0.000000</td>\n",
       "      <td>0.0</td>\n",
       "      <td>0.123077</td>\n",
       "      <td>0.000000</td>\n",
       "      <td>0.152174</td>\n",
       "      <td>0.052727</td>\n",
       "      <td>0.625000</td>\n",
       "      <td>6.333333</td>\n",
       "    </tr>\n",
       "    <tr>\n",
       "      <th>2</th>\n",
       "      <td>AS14.01</td>\n",
       "      <td>2014-03-20</td>\n",
       "      <td>0.144034</td>\n",
       "      <td>0.5000</td>\n",
       "      <td>0.384615</td>\n",
       "      <td>NaN</td>\n",
       "      <td>0.006174</td>\n",
       "      <td>0.104651</td>\n",
       "      <td>0.009763</td>\n",
       "      <td>0.000000</td>\n",
       "      <td>...</td>\n",
       "      <td>0.000000</td>\n",
       "      <td>0.012146</td>\n",
       "      <td>0.004709</td>\n",
       "      <td>0.0</td>\n",
       "      <td>0.046154</td>\n",
       "      <td>0.025445</td>\n",
       "      <td>0.130435</td>\n",
       "      <td>0.263636</td>\n",
       "      <td>0.500000</td>\n",
       "      <td>6.200000</td>\n",
       "    </tr>\n",
       "    <tr>\n",
       "      <th>3</th>\n",
       "      <td>AS14.01</td>\n",
       "      <td>2014-03-21</td>\n",
       "      <td>0.236766</td>\n",
       "      <td>0.5500</td>\n",
       "      <td>0.446154</td>\n",
       "      <td>6.20</td>\n",
       "      <td>0.077850</td>\n",
       "      <td>0.303150</td>\n",
       "      <td>0.028033</td>\n",
       "      <td>0.037502</td>\n",
       "      <td>...</td>\n",
       "      <td>0.067479</td>\n",
       "      <td>0.012146</td>\n",
       "      <td>0.138491</td>\n",
       "      <td>0.0</td>\n",
       "      <td>0.138462</td>\n",
       "      <td>0.226449</td>\n",
       "      <td>0.065217</td>\n",
       "      <td>0.272727</td>\n",
       "      <td>0.416667</td>\n",
       "      <td>6.400000</td>\n",
       "    </tr>\n",
       "    <tr>\n",
       "      <th>4</th>\n",
       "      <td>AS14.01</td>\n",
       "      <td>2014-03-22</td>\n",
       "      <td>0.418390</td>\n",
       "      <td>0.6500</td>\n",
       "      <td>0.538462</td>\n",
       "      <td>6.40</td>\n",
       "      <td>0.018139</td>\n",
       "      <td>0.239538</td>\n",
       "      <td>0.002597</td>\n",
       "      <td>0.015953</td>\n",
       "      <td>...</td>\n",
       "      <td>0.070228</td>\n",
       "      <td>0.012146</td>\n",
       "      <td>0.164772</td>\n",
       "      <td>0.0</td>\n",
       "      <td>0.184615</td>\n",
       "      <td>0.295118</td>\n",
       "      <td>0.065217</td>\n",
       "      <td>0.281818</td>\n",
       "      <td>0.625000</td>\n",
       "      <td>6.800000</td>\n",
       "    </tr>\n",
       "  </tbody>\n",
       "</table>\n",
       "<p>5 rows × 129 columns</p>\n",
       "</div>"
      ],
      "text/plain": [
       "        id       date  activity_mean  circumplex.arousal_mean  \\\n",
       "0  AS14.01 2014-02-25       0.000000                   0.5000   \n",
       "1  AS14.01 2014-02-26       0.000000                   0.4375   \n",
       "2  AS14.01 2014-03-20       0.144034                   0.5000   \n",
       "3  AS14.01 2014-03-21       0.236766                   0.5500   \n",
       "4  AS14.01 2014-03-22       0.418390                   0.6500   \n",
       "\n",
       "   circumplex.valence_mean  mood_mean  appCat.builtin_sum  \\\n",
       "0                 0.384615        NaN            0.000000   \n",
       "1                 0.615385       6.25            0.000000   \n",
       "2                 0.384615        NaN            0.006174   \n",
       "3                 0.446154       6.20            0.077850   \n",
       "4                 0.538462       6.40            0.018139   \n",
       "\n",
       "   appCat.communication_sum  appCat.entertainment_sum  appCat.finance_sum  \\\n",
       "0                  0.000000                  0.000000            0.000000   \n",
       "1                  0.000000                  0.000000            0.000000   \n",
       "2                  0.104651                  0.009763            0.000000   \n",
       "3                  0.303150                  0.028033            0.037502   \n",
       "4                  0.239538                  0.002597            0.015953   \n",
       "\n",
       "   ...  appCat.travel_sum_time_5  appCat.unknown_sum_time_5  \\\n",
       "0  ...                  0.000000                   0.000000   \n",
       "1  ...                  0.000000                   0.000000   \n",
       "2  ...                  0.000000                   0.012146   \n",
       "3  ...                  0.067479                   0.012146   \n",
       "4  ...                  0.070228                   0.012146   \n",
       "\n",
       "   appCat.utilities_sum_time_5  appCat.weather_sum_time_5  call_sum_time_5  \\\n",
       "0                     0.000000                        0.0         0.215385   \n",
       "1                     0.000000                        0.0         0.123077   \n",
       "2                     0.004709                        0.0         0.046154   \n",
       "3                     0.138491                        0.0         0.138462   \n",
       "4                     0.164772                        0.0         0.184615   \n",
       "\n",
       "   screen_sum_time_5  sms_sum_time_5  day_time_5  weekDay_time_5  \\\n",
       "0           0.000000        0.152174    0.040000        0.625000   \n",
       "1           0.000000        0.152174    0.052727        0.625000   \n",
       "2           0.025445        0.130435    0.263636        0.500000   \n",
       "3           0.226449        0.065217    0.272727        0.416667   \n",
       "4           0.295118        0.065217    0.281818        0.625000   \n",
       "\n",
       "   mood_mean_TARGET  \n",
       "0          6.250000  \n",
       "1          6.333333  \n",
       "2          6.200000  \n",
       "3          6.400000  \n",
       "4          6.800000  \n",
       "\n",
       "[5 rows x 129 columns]"
      ]
     },
     "execution_count": 184,
     "metadata": {},
     "output_type": "execute_result"
    }
   ],
   "source": [
    "df.head()"
   ]
  },
  {
   "cell_type": "code",
   "execution_count": 185,
   "metadata": {},
   "outputs": [],
   "source": [
    "df = df.dropna(subset = ['mood_mean','mood_mean_TARGET'] )"
   ]
  },
  {
   "cell_type": "code",
   "execution_count": 186,
   "metadata": {},
   "outputs": [],
   "source": [
    "# Create test and train set\n",
    "length_test = round(len(df)*0.33)\n",
    "index_test = np.random.choice(np.arange(len(df)), length_test, False)\n",
    "\n",
    "test = df.iloc[index_test]\n",
    "train = df.drop(df.index[index_test])"
   ]
  },
  {
   "cell_type": "code",
   "execution_count": 187,
   "metadata": {},
   "outputs": [
    {
     "data": {
      "text/html": [
       "<div>\n",
       "<style scoped>\n",
       "    .dataframe tbody tr th:only-of-type {\n",
       "        vertical-align: middle;\n",
       "    }\n",
       "\n",
       "    .dataframe tbody tr th {\n",
       "        vertical-align: top;\n",
       "    }\n",
       "\n",
       "    .dataframe thead th {\n",
       "        text-align: right;\n",
       "    }\n",
       "</style>\n",
       "<table border=\"1\" class=\"dataframe\">\n",
       "  <thead>\n",
       "    <tr style=\"text-align: right;\">\n",
       "      <th></th>\n",
       "      <th>id</th>\n",
       "      <th>date</th>\n",
       "      <th>activity_mean</th>\n",
       "      <th>circumplex.arousal_mean</th>\n",
       "      <th>circumplex.valence_mean</th>\n",
       "      <th>mood_mean</th>\n",
       "      <th>appCat.builtin_sum</th>\n",
       "      <th>appCat.communication_sum</th>\n",
       "      <th>appCat.entertainment_sum</th>\n",
       "      <th>appCat.finance_sum</th>\n",
       "      <th>...</th>\n",
       "      <th>appCat.travel_sum_time_5</th>\n",
       "      <th>appCat.unknown_sum_time_5</th>\n",
       "      <th>appCat.utilities_sum_time_5</th>\n",
       "      <th>appCat.weather_sum_time_5</th>\n",
       "      <th>call_sum_time_5</th>\n",
       "      <th>screen_sum_time_5</th>\n",
       "      <th>sms_sum_time_5</th>\n",
       "      <th>day_time_5</th>\n",
       "      <th>weekDay_time_5</th>\n",
       "      <th>mood_mean_TARGET</th>\n",
       "    </tr>\n",
       "  </thead>\n",
       "  <tbody>\n",
       "    <tr>\n",
       "      <th>1</th>\n",
       "      <td>AS14.01</td>\n",
       "      <td>2014-02-26</td>\n",
       "      <td>0.000000</td>\n",
       "      <td>0.4375</td>\n",
       "      <td>0.615385</td>\n",
       "      <td>6.25</td>\n",
       "      <td>0.000000</td>\n",
       "      <td>0.000000</td>\n",
       "      <td>0.000000</td>\n",
       "      <td>0.000000</td>\n",
       "      <td>...</td>\n",
       "      <td>0.000000</td>\n",
       "      <td>0.000000</td>\n",
       "      <td>0.000000</td>\n",
       "      <td>0.00000</td>\n",
       "      <td>0.123077</td>\n",
       "      <td>0.000000</td>\n",
       "      <td>0.152174</td>\n",
       "      <td>0.052727</td>\n",
       "      <td>0.625000</td>\n",
       "      <td>6.333333</td>\n",
       "    </tr>\n",
       "    <tr>\n",
       "      <th>3</th>\n",
       "      <td>AS14.01</td>\n",
       "      <td>2014-03-21</td>\n",
       "      <td>0.236766</td>\n",
       "      <td>0.5500</td>\n",
       "      <td>0.446154</td>\n",
       "      <td>6.20</td>\n",
       "      <td>0.077850</td>\n",
       "      <td>0.303150</td>\n",
       "      <td>0.028033</td>\n",
       "      <td>0.037502</td>\n",
       "      <td>...</td>\n",
       "      <td>0.067479</td>\n",
       "      <td>0.012146</td>\n",
       "      <td>0.138491</td>\n",
       "      <td>0.00000</td>\n",
       "      <td>0.138462</td>\n",
       "      <td>0.226449</td>\n",
       "      <td>0.065217</td>\n",
       "      <td>0.272727</td>\n",
       "      <td>0.416667</td>\n",
       "      <td>6.400000</td>\n",
       "    </tr>\n",
       "    <tr>\n",
       "      <th>4</th>\n",
       "      <td>AS14.01</td>\n",
       "      <td>2014-03-22</td>\n",
       "      <td>0.418390</td>\n",
       "      <td>0.6500</td>\n",
       "      <td>0.538462</td>\n",
       "      <td>6.40</td>\n",
       "      <td>0.018139</td>\n",
       "      <td>0.239538</td>\n",
       "      <td>0.002597</td>\n",
       "      <td>0.015953</td>\n",
       "      <td>...</td>\n",
       "      <td>0.070228</td>\n",
       "      <td>0.012146</td>\n",
       "      <td>0.164772</td>\n",
       "      <td>0.00000</td>\n",
       "      <td>0.184615</td>\n",
       "      <td>0.295118</td>\n",
       "      <td>0.065217</td>\n",
       "      <td>0.281818</td>\n",
       "      <td>0.625000</td>\n",
       "      <td>6.800000</td>\n",
       "    </tr>\n",
       "    <tr>\n",
       "      <th>7</th>\n",
       "      <td>AS14.01</td>\n",
       "      <td>2014-03-25</td>\n",
       "      <td>0.173753</td>\n",
       "      <td>0.6250</td>\n",
       "      <td>0.538462</td>\n",
       "      <td>6.75</td>\n",
       "      <td>0.025612</td>\n",
       "      <td>0.496012</td>\n",
       "      <td>0.001898</td>\n",
       "      <td>0.032589</td>\n",
       "      <td>...</td>\n",
       "      <td>0.101173</td>\n",
       "      <td>0.063247</td>\n",
       "      <td>0.256523</td>\n",
       "      <td>0.05825</td>\n",
       "      <td>0.292308</td>\n",
       "      <td>0.753727</td>\n",
       "      <td>0.043478</td>\n",
       "      <td>0.309091</td>\n",
       "      <td>0.666667</td>\n",
       "      <td>6.600000</td>\n",
       "    </tr>\n",
       "    <tr>\n",
       "      <th>9</th>\n",
       "      <td>AS14.01</td>\n",
       "      <td>2014-03-27</td>\n",
       "      <td>0.281736</td>\n",
       "      <td>0.5500</td>\n",
       "      <td>0.630769</td>\n",
       "      <td>7.00</td>\n",
       "      <td>0.030486</td>\n",
       "      <td>0.334794</td>\n",
       "      <td>0.017790</td>\n",
       "      <td>0.031957</td>\n",
       "      <td>...</td>\n",
       "      <td>0.034432</td>\n",
       "      <td>0.063247</td>\n",
       "      <td>0.143916</td>\n",
       "      <td>0.05825</td>\n",
       "      <td>0.184615</td>\n",
       "      <td>0.862674</td>\n",
       "      <td>0.043478</td>\n",
       "      <td>0.327273</td>\n",
       "      <td>0.500000</td>\n",
       "      <td>6.400000</td>\n",
       "    </tr>\n",
       "  </tbody>\n",
       "</table>\n",
       "<p>5 rows × 129 columns</p>\n",
       "</div>"
      ],
      "text/plain": [
       "        id       date  activity_mean  circumplex.arousal_mean  \\\n",
       "1  AS14.01 2014-02-26       0.000000                   0.4375   \n",
       "3  AS14.01 2014-03-21       0.236766                   0.5500   \n",
       "4  AS14.01 2014-03-22       0.418390                   0.6500   \n",
       "7  AS14.01 2014-03-25       0.173753                   0.6250   \n",
       "9  AS14.01 2014-03-27       0.281736                   0.5500   \n",
       "\n",
       "   circumplex.valence_mean  mood_mean  appCat.builtin_sum  \\\n",
       "1                 0.615385       6.25            0.000000   \n",
       "3                 0.446154       6.20            0.077850   \n",
       "4                 0.538462       6.40            0.018139   \n",
       "7                 0.538462       6.75            0.025612   \n",
       "9                 0.630769       7.00            0.030486   \n",
       "\n",
       "   appCat.communication_sum  appCat.entertainment_sum  appCat.finance_sum  \\\n",
       "1                  0.000000                  0.000000            0.000000   \n",
       "3                  0.303150                  0.028033            0.037502   \n",
       "4                  0.239538                  0.002597            0.015953   \n",
       "7                  0.496012                  0.001898            0.032589   \n",
       "9                  0.334794                  0.017790            0.031957   \n",
       "\n",
       "   ...  appCat.travel_sum_time_5  appCat.unknown_sum_time_5  \\\n",
       "1  ...                  0.000000                   0.000000   \n",
       "3  ...                  0.067479                   0.012146   \n",
       "4  ...                  0.070228                   0.012146   \n",
       "7  ...                  0.101173                   0.063247   \n",
       "9  ...                  0.034432                   0.063247   \n",
       "\n",
       "   appCat.utilities_sum_time_5  appCat.weather_sum_time_5  call_sum_time_5  \\\n",
       "1                     0.000000                    0.00000         0.123077   \n",
       "3                     0.138491                    0.00000         0.138462   \n",
       "4                     0.164772                    0.00000         0.184615   \n",
       "7                     0.256523                    0.05825         0.292308   \n",
       "9                     0.143916                    0.05825         0.184615   \n",
       "\n",
       "   screen_sum_time_5  sms_sum_time_5  day_time_5  weekDay_time_5  \\\n",
       "1           0.000000        0.152174    0.052727        0.625000   \n",
       "3           0.226449        0.065217    0.272727        0.416667   \n",
       "4           0.295118        0.065217    0.281818        0.625000   \n",
       "7           0.753727        0.043478    0.309091        0.666667   \n",
       "9           0.862674        0.043478    0.327273        0.500000   \n",
       "\n",
       "   mood_mean_TARGET  \n",
       "1          6.333333  \n",
       "3          6.400000  \n",
       "4          6.800000  \n",
       "7          6.600000  \n",
       "9          6.400000  \n",
       "\n",
       "[5 rows x 129 columns]"
      ]
     },
     "execution_count": 187,
     "metadata": {},
     "output_type": "execute_result"
    }
   ],
   "source": [
    "train.head()"
   ]
  },
  {
   "cell_type": "code",
   "execution_count": 51,
   "metadata": {},
   "outputs": [],
   "source": [
    "#list(train.columns)"
   ]
  },
  {
   "cell_type": "code",
   "execution_count": 188,
   "metadata": {
    "scrolled": true
   },
   "outputs": [],
   "source": [
    "#test[['id','date','mood_mean', 'mood_mean_TARGET']].head(40)"
   ]
  },
  {
   "cell_type": "code",
   "execution_count": 189,
   "metadata": {},
   "outputs": [
    {
     "data": {
      "text/plain": [
       "\" \\nfor name, group in train[['id','date','mood_mean']].groupby('id'):\\n    if name == 'AS14.01':\\n        print(len(group))\\n        #print(group)\\n        print(list(group['mood_mean']))\\n        print(list(group['mood_mean'])[34])\\n\""
      ]
     },
     "execution_count": 189,
     "metadata": {},
     "output_type": "execute_result"
    }
   ],
   "source": [
    "\"\"\" \n",
    "for name, group in train[['id','date','mood_mean']].groupby('id'):\n",
    "    if name == 'AS14.01':\n",
    "        print(len(group))\n",
    "        #print(group)\n",
    "        print(list(group['mood_mean']))\n",
    "        print(list(group['mood_mean'])[34])\n",
    "\"\"\""
   ]
  },
  {
   "cell_type": "code",
   "execution_count": 190,
   "metadata": {
    "scrolled": true
   },
   "outputs": [
    {
     "data": {
      "text/plain": [
       "\"\\nlook_back = 2\\ndataX, dataY = [],[]\\nfor name, group in train[['id','date','mood_mean']].groupby('id'):\\n    if 2 ==2: #name == 'AS14.01':\\n        x = list(group['mood_mean'])\\n        for i in range(len(group)-look_back):\\n            print(i, x[i])\\n            print(x[i:(i+look_back)], '--', x[i + look_back])\\n            dataX.append(x[i:(i+look_back)])\\n            dataY.append(x[i + look_back])\\n\""
      ]
     },
     "execution_count": 190,
     "metadata": {},
     "output_type": "execute_result"
    }
   ],
   "source": [
    "\"\"\"\n",
    "look_back = 2\n",
    "dataX, dataY = [],[]\n",
    "for name, group in train[['id','date','mood_mean']].groupby('id'):\n",
    "    if 2 ==2: #name == 'AS14.01':\n",
    "        x = list(group['mood_mean'])\n",
    "        for i in range(len(group)-look_back):\n",
    "            print(i, x[i])\n",
    "            print(x[i:(i+look_back)], '--', x[i + look_back])\n",
    "            dataX.append(x[i:(i+look_back)])\n",
    "            dataY.append(x[i + look_back])\n",
    "\"\"\""
   ]
  },
  {
   "cell_type": "code",
   "execution_count": 191,
   "metadata": {},
   "outputs": [],
   "source": [
    "#dataX"
   ]
  },
  {
   "cell_type": "code",
   "execution_count": 193,
   "metadata": {},
   "outputs": [],
   "source": [
    "def create_dataset(dataset, look_back=1):\n",
    "    dataX, dataY = [], []\n",
    "    for name, group in dataset.groupby('id'):\n",
    "        x = list(group['mood_mean'])\n",
    "        #dataX, dataY = [], []\n",
    "        for i in range(len(group)-look_back):\n",
    "            dataX.append(x[i:(i+look_back)])\n",
    "            dataY.append(x[i + look_back])\n",
    "    return np.array(dataX), np.array(dataY)\n",
    "\n",
    "\n",
    "look_back = 3\n",
    "trainX, trainY = create_dataset(train[['id', 'mood_mean']], look_back)\n",
    "testX, testY = create_dataset(test[['id', 'mood_mean']], look_back)\n"
   ]
  },
  {
   "cell_type": "code",
   "execution_count": null,
   "metadata": {},
   "outputs": [],
   "source": [
    "\"\"\" \n",
    "def create_dataset(dataset, look_back=1):\n",
    "    for name, group in dataset.groupby('id'):\n",
    "    dataX, dataY = [], []\n",
    "    for i in range(len(dataset)-look_back-1):\n",
    "        a = dataset[i:(i+look_back)]\n",
    "        dataX.append(a)\n",
    "        dataY.append(dataset[i + look_back])\n",
    "    return np.array(dataX), np.array(dataY)\n",
    "\"\"\""
   ]
  },
  {
   "cell_type": "code",
   "execution_count": 100,
   "metadata": {},
   "outputs": [],
   "source": [
    "#create_dataset(list(train['mood_mean']),1)[0]"
   ]
  },
  {
   "cell_type": "code",
   "execution_count": 53,
   "metadata": {},
   "outputs": [],
   "source": [
    "\"\"\" \n",
    "trainX = np.array([train['mood_mean']])\n",
    "trainY = np.array([train['mood_mean_TARGET']])\n",
    "\n",
    "testX = np.array([test['mood_mean']])\n",
    "testY = np.array([test['mood_mean_TARGET']])\n",
    "\"\"\""
   ]
  },
  {
   "cell_type": "code",
   "execution_count": 194,
   "metadata": {},
   "outputs": [],
   "source": [
    "# reshape input to be [samples, time steps, features]\n",
    "trainX = np.reshape(trainX, (trainX.shape[0], 1, trainX.shape[1]))\n",
    "testX = np.reshape(testX, (testX.shape[0], 1, testX.shape[1]))"
   ]
  },
  {
   "cell_type": "code",
   "execution_count": 195,
   "metadata": {},
   "outputs": [
    {
     "data": {
      "text/plain": [
       "(734, 1, 3)"
      ]
     },
     "execution_count": 195,
     "metadata": {},
     "output_type": "execute_result"
    }
   ],
   "source": [
    "trainX.shape"
   ]
  },
  {
   "cell_type": "code",
   "execution_count": null,
   "metadata": {},
   "outputs": [],
   "source": [
    "# define model\n",
    "model = Sequential()\n",
    "model.add(LSTM(50, activation='relu', input_shape=(n_steps, n_features)))\n",
    "model.add(Dense(1))\n",
    "model.compile(optimizer='adam', loss='mse')"
   ]
  },
  {
   "cell_type": "code",
   "execution_count": 196,
   "metadata": {
    "scrolled": true
   },
   "outputs": [
    {
     "name": "stdout",
     "output_type": "stream",
     "text": [
      "Epoch 1/10\n",
      " - 2s - loss: 35.1151\n",
      "Epoch 2/10\n",
      " - 1s - loss: 9.0718\n",
      "Epoch 3/10\n",
      " - 1s - loss: 2.6489\n",
      "Epoch 4/10\n",
      " - 1s - loss: 0.8697\n",
      "Epoch 5/10\n",
      " - 1s - loss: 0.5642\n",
      "Epoch 6/10\n",
      " - 1s - loss: 0.5337\n",
      "Epoch 7/10\n",
      " - 1s - loss: 0.5101\n",
      "Epoch 8/10\n",
      " - 1s - loss: 0.4854\n",
      "Epoch 9/10\n",
      " - 1s - loss: 0.4790\n",
      "Epoch 10/10\n",
      " - 1s - loss: 0.4746\n",
      "Time to train the model: 0.24 mins\n"
     ]
    }
   ],
   "source": [
    "# For calculating runtime. \n",
    "t = time()\n",
    "\n",
    "# create and fit the LSTM network\n",
    "model = Sequential()\n",
    "model.add(LSTM(4, input_shape=(1, look_back)))\n",
    "model.add(Dense(1))\n",
    "model.compile(loss='mean_squared_error', optimizer='adam')\n",
    "model.fit(trainX, trainY, epochs=10, batch_size=1, verbose=2)\n",
    "\n",
    "print('Time to train the model: {} mins'.format(round((time() - t) / 60, 2)))"
   ]
  },
  {
   "cell_type": "code",
   "execution_count": 197,
   "metadata": {},
   "outputs": [
    {
     "name": "stdout",
     "output_type": "stream",
     "text": [
      "Train Score: 0.685 RMSE\n",
      "Test Score: 0.723 RMSE\n",
      "Time to predict: 0.0 mins\n"
     ]
    }
   ],
   "source": [
    "# For calculating runtime. \n",
    "t = time()\n",
    "\n",
    "# make predictions\n",
    "trainPredict = model.predict(trainX)\n",
    "testPredict = model.predict(testX)\n",
    "# invert predictions\n",
    "#trainPredict = scaler.inverse_transform(trainPredict)\n",
    "#trainY = scaler.inverse_transform([trainY])\n",
    "#testPredict = scaler.inverse_transform(testPredict)\n",
    "#testY = scaler.inverse_transform([testY])\n",
    "# calculate root mean squared error\n",
    "trainScore = math.sqrt(mean_squared_error(trainY, trainPredict[:,0]))\n",
    "print('Train Score: %.3f RMSE' % (trainScore))\n",
    "testScore = math.sqrt(mean_squared_error(testY, testPredict[:,0]))\n",
    "print('Test Score: %.3f RMSE' % (testScore))\n",
    "\n",
    "print('Time to predict: {} mins'.format(round((time() - t) / 60, 2)))"
   ]
  },
  {
   "cell_type": "code",
   "execution_count": null,
   "metadata": {},
   "outputs": [],
   "source": []
  },
  {
   "cell_type": "code",
   "execution_count": null,
   "metadata": {},
   "outputs": [],
   "source": []
  },
  {
   "cell_type": "code",
   "execution_count": null,
   "metadata": {},
   "outputs": [],
   "source": [
    "def predictMoodPersonRNN(row):\n",
    "    None "
   ]
  },
  {
   "cell_type": "code",
   "execution_count": null,
   "metadata": {},
   "outputs": [],
   "source": [
    "# Create empty df to save solutions\n",
    "solutions = pd.DataFrame(data={'id': [], 'date': [], 'mood_mean_target': [], 'predicted_mood_mean_target':[]})"
   ]
  },
  {
   "cell_type": "code",
   "execution_count": null,
   "metadata": {},
   "outputs": [],
   "source": [
    "# Find for every row in test set the predicted mood\n",
    "for index, row in test.iterrows():\n",
    "    prediction_mood_target = predictMoodPersonRNN(row)\n",
    "    \n",
    "    #add solution to solution df\n",
    "    if prediction_mood_target is not None:\n",
    "        solutions = solutions.append({'id': row.id, 'date': row.date, 'mood_mean_target': row.mood_mean_TARGET,\n",
    "                                      'predicted_mood_mean_target': prediction_mood_target}, ignore_index=True)"
   ]
  },
  {
   "cell_type": "code",
   "execution_count": null,
   "metadata": {},
   "outputs": [],
   "source": []
  },
  {
   "cell_type": "code",
   "execution_count": null,
   "metadata": {},
   "outputs": [],
   "source": [
    "def calculateAccMSQ(solutions, name_target,name_predicted):\n",
    "    correct = 0\n",
    "    squared_error = 0\n",
    "\n",
    "    for index, row in solutions.iterrows():\n",
    "        squared_error += math.pow(row[name_target]-row[name_predicted],2)\n",
    "        if (row[name_target] == row[name_predicted]):\n",
    "            correct = correct + 1\n",
    "        \n",
    "    accuracy = correct/ len(solutions.index)\n",
    "    msq = squared_error / len(solutions.index)\n",
    "    return accuracy, msq"
   ]
  },
  {
   "cell_type": "code",
   "execution_count": null,
   "metadata": {},
   "outputs": [],
   "source": [
    "accuracy, msq = calculateAccMSQ(solutions, \"mood_mean_target\", \"predicted_mood_mean_target\")\n",
    "print(accuracy, msq)"
   ]
  },
  {
   "cell_type": "code",
   "execution_count": null,
   "metadata": {},
   "outputs": [],
   "source": [
    "solutions2 = solutions.round({'mood_mean_target': 0, 'predicted_mood_mean_target': 0})\n",
    "accuracy, msq = calculateAccMSQ(solutions2, \"mood_mean_target\", \"predicted_mood_mean_target\")\n",
    "print(accuracy, msq)"
   ]
  },
  {
   "cell_type": "code",
   "execution_count": null,
   "metadata": {},
   "outputs": [],
   "source": []
  }
 ],
 "metadata": {
  "kernelspec": {
   "display_name": "Python 3",
   "language": "python",
   "name": "python3"
  },
  "language_info": {
   "codemirror_mode": {
    "name": "ipython",
    "version": 3
   },
   "file_extension": ".py",
   "mimetype": "text/x-python",
   "name": "python",
   "nbconvert_exporter": "python",
   "pygments_lexer": "ipython3",
   "version": "3.6.8"
  }
 },
 "nbformat": 4,
 "nbformat_minor": 2
}
