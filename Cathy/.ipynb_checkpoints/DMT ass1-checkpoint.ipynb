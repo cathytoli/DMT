{
 "cells": [
  {
   "cell_type": "code",
   "execution_count": null,
   "metadata": {},
   "outputs": [],
   "source": [
    "# iMPORT PACKAGES\n",
    "import pandas as pd\n",
    "import datetime as dt\n",
    "import numpy as np\n",
    "\n",
    "from datetime import timedelta"
   ]
  },
  {
   "cell_type": "code",
   "execution_count": null,
   "metadata": {},
   "outputs": [],
   "source": [
    "# READ FILE\n",
    "inputFile = \"dataset_mood_smartphone.csv\"\n",
    "df = pd.read_csv(inputFile, sep = ',')"
   ]
  },
  {
   "cell_type": "code",
   "execution_count": null,
   "metadata": {},
   "outputs": [],
   "source": [
    "# DATE TO DATETIME \n",
    "def getDate(x):\n",
    "    return x.date()\n",
    "    \n",
    "df['date'] = pd.to_datetime(df['time'])\n",
    "df['date'] = df['date'].apply(getDate)"
   ]
  },
  {
   "cell_type": "code",
   "execution_count": null,
   "metadata": {},
   "outputs": [],
   "source": [
    "print(min(df['date']))\n",
    "print(max(df['date']))\n",
    "\n",
    "print((max(df['date'])-min(df['date'])).days)"
   ]
  },
  {
   "cell_type": "code",
   "execution_count": null,
   "metadata": {},
   "outputs": [],
   "source": [
    "ind = df[(df['value']<0) & (df['variable'] != 'circumplex.arousal') & (df['variable'] != 'circumplex.valence')].index\n",
    "df = df.drop(df.index[ind])"
   ]
  },
  {
   "cell_type": "code",
   "execution_count": null,
   "metadata": {},
   "outputs": [],
   "source": [
    "df.head()"
   ]
  },
  {
   "cell_type": "code",
   "execution_count": null,
   "metadata": {},
   "outputs": [],
   "source": [
    "# MAKE PIVOT\n",
    "\n",
    "dfGrouped = df.groupby(['id', 'date', 'variable'])['value'].agg(['mean', 'sum']).reset_index()\n",
    "dfPivot = dfGrouped.pivot_table(index=['id','date'], columns='variable', values=['mean','sum'])\n",
    "\n",
    "# only keep relevant variables\n",
    "dfPivot = dfPivot[[('mean', 'activity'), ('mean', 'circumplex.arousal'), ('mean', 'circumplex.valence'), \n",
    "         ('mean', 'mood'), ('sum', 'appCat.builtin'), ('sum', 'appCat.communication'), \n",
    "         ('sum', 'appCat.entertainment'), ('sum', 'appCat.finance'), ('sum', 'appCat.game'), \n",
    "        ('sum', 'appCat.office'), ('sum', 'appCat.other'), ('sum', 'appCat.social'), ('sum', 'appCat.travel'),\n",
    "        ('sum', 'appCat.unknown'), ('sum', 'appCat.utilities'), ('sum', 'appCat.weather'), ('sum', 'call'), \n",
    "         ('sum', 'screen'), ('sum', 'sms')]].reset_index()\n",
    "\n",
    "# rename columns\n",
    "cols = ['id', 'date','activity_mean', 'circumplex.arousal_mean',\n",
    "       'circumplex.valence_mean', 'mood_mean', 'appCat.builtin_sum',\n",
    "       'appCat.communication_sum', 'appCat.entertainment_sum',\n",
    "       'appCat.finance_sum', 'appCat.game_sum', 'appCat.office_sum',\n",
    "       'appCat.other_sum', 'appCat.social_sum', 'appCat.travel_sum',\n",
    "       'appCat.unknown_sum', 'appCat.utilities_sum', 'appCat.weather_sum',\n",
    "       'call_sum', 'screen_sum', 'sms_sum']\n",
    "dfPivot.columns = cols\n",
    "\n",
    "print(len(dfPivot))\n",
    "dfPivot.head()"
   ]
  },
  {
   "cell_type": "code",
   "execution_count": null,
   "metadata": {},
   "outputs": [],
   "source": [
    "# ADD VALUES DAY AND WEEKDAY\n",
    "df = dfPivot\n",
    "\n",
    "def getDay(x):\n",
    "    return x.days\n",
    "\n",
    "def getWeekday(x):\n",
    "    return x.weekday()\n",
    "\n",
    "df['day'] = (df['date']-min(df['date']))\n",
    "df['day'] = df['day'].apply(getDay)\n",
    "df['weekDay'] = df['date'].apply(getWeekday)\n",
    "\n",
    "df.head()"
   ]
  },
  {
   "cell_type": "code",
   "execution_count": null,
   "metadata": {
    "scrolled": true
   },
   "outputs": [],
   "source": []
  },
  {
   "cell_type": "code",
   "execution_count": null,
   "metadata": {},
   "outputs": [],
   "source": []
  },
  {
   "cell_type": "code",
   "execution_count": null,
   "metadata": {},
   "outputs": [],
   "source": [
    "# FILL NAN VALUES OF CERTAIN COLUMNS WITH 0 \n",
    "df[['activity_mean','circumplex.arousal_mean', 'circumplex.valence_mean', 'appCat.builtin_sum',\n",
    "       'appCat.communication_sum', 'appCat.entertainment_sum',\n",
    "       'appCat.finance_sum', 'appCat.game_sum', 'appCat.office_sum',\n",
    "       'appCat.other_sum', 'appCat.social_sum', 'appCat.travel_sum',\n",
    "       'appCat.unknown_sum', 'appCat.utilities_sum', 'appCat.weather_sum',\n",
    "       'call_sum', 'screen_sum', 'sms_sum']] = df[['activity_mean', 'circumplex.arousal_mean', \n",
    "        'circumplex.valence_mean', 'appCat.builtin_sum',\n",
    "       'appCat.communication_sum', 'appCat.entertainment_sum',\n",
    "       'appCat.finance_sum', 'appCat.game_sum', 'appCat.office_sum',\n",
    "       'appCat.other_sum', 'appCat.social_sum', 'appCat.travel_sum',\n",
    "       'appCat.unknown_sum', 'appCat.utilities_sum', 'appCat.weather_sum',\n",
    "       'call_sum', 'screen_sum', 'sms_sum']].fillna(0)\n",
    "\n",
    "df.head()"
   ]
  },
  {
   "cell_type": "code",
   "execution_count": null,
   "metadata": {},
   "outputs": [],
   "source": [
    "print(df['mood_mean'].isna().sum())\n",
    "print(len(df))"
   ]
  },
  {
   "cell_type": "code",
   "execution_count": null,
   "metadata": {},
   "outputs": [],
   "source": [
    "\"\"\" \n",
    "#df.to_csv('out.csv', index = False)\n",
    "\n",
    "df = pd.read_csv('out.csv', sep = ',')\n",
    "df['date'] = pd.to_datetime(df['date'])\n",
    "df['date'] = df['date'].apply(getDate)\n",
    "df.head()\n",
    "\"\"\""
   ]
  },
  {
   "cell_type": "code",
   "execution_count": null,
   "metadata": {},
   "outputs": [],
   "source": [
    "## ADD TIME COLUMNS\n",
    "\n",
    "timePeriods = 5 \n",
    "colNames = df.columns.values\n",
    "\n",
    "for timePeriod in range(1,timePeriods+1):\n",
    "    for colname in colNames:\n",
    "        if (colname != \"id\") and (colname != \"date\"):\n",
    "            df[colname+\"_time_\"+str(timePeriod)] = df.groupby('id')[colname].rolling(window=timePeriod, min_periods = 1).mean().reset_index().iloc[:,2]\n",
    "        \n",
    "print(len(df))"
   ]
  },
  {
   "cell_type": "code",
   "execution_count": null,
   "metadata": {},
   "outputs": [],
   "source": [
    "## NORMALISE \n",
    "def normaliseDF(df):\n",
    "    maxList = []\n",
    "    minList = []\n",
    "    for column in df.columns:\n",
    "        maxi = df[column].max()\n",
    "        maxList += [maxi]\n",
    "        mini = df[column].min()\n",
    "        minList += [mini]\n",
    "        if (column != \"id\") and (column != \"date\") and (column != \"mood_mean\"):\n",
    "            df[column] = ((df[column]-mini)/(maxi-mini))\n",
    "    return df, maxList, minList\n",
    "\n",
    "df, maxList, minList = normaliseDF(df)"
   ]
  },
  {
   "cell_type": "code",
   "execution_count": null,
   "metadata": {},
   "outputs": [],
   "source": [
    "## NORMALISE \n",
    "def normaliseDF(df):\n",
    "    maxDict = {}\n",
    "    minDict = {}\n",
    "    for column in df.columns:\n",
    "        maxi = df[column].max()\n",
    "        maxDict[column] = maxi\n",
    "        mini = df[column].min()\n",
    "        minDict[column] = mini\n",
    "        if (column != \"id\") and (column != \"date\") and (column != \"mood_mean\"):\n",
    "            df[column] = ((df[column]-mini)/(maxi-mini))\n",
    "    return df, maxDict, minDict\n",
    "\n",
    "df, maxDict, minDict = normaliseDF(df)"
   ]
  },
  {
   "cell_type": "code",
   "execution_count": null,
   "metadata": {},
   "outputs": [],
   "source": [
    "## REVERSE - NORMALISE \n",
    "def reverseNormaliseDF(df, maxDict, minDict):\n",
    "    for column in df.columns:\n",
    "        maxi = maxDict[column]\n",
    "        mini = minDict[column]\n",
    "        if (column != \"id\") and (column != \"date\") and (column != \"mood_mean\"):\n",
    "            df[column] = (df[column]*(maxi-mini)) + mini\n",
    "    return df\n",
    "\n",
    "df = reverseNormaliseDF(df, maxDict, minDict)"
   ]
  },
  {
   "cell_type": "code",
   "execution_count": null,
   "metadata": {},
   "outputs": [],
   "source": [
    "df.head()"
   ]
  },
  {
   "cell_type": "code",
   "execution_count": null,
   "metadata": {},
   "outputs": [],
   "source": []
  },
  {
   "cell_type": "code",
   "execution_count": null,
   "metadata": {},
   "outputs": [],
   "source": [
    "# ADD (REAL) TARGET VALUE \n",
    "\n",
    "df['previousDay'] = df['date'] + timedelta(days = -1)\n",
    "\n",
    "target = df[['id','previousDay', 'mood_mean']]\n",
    "target.columns = ['id','date', 'mood_mean_TARGET']\n",
    "\n",
    "df = df.set_index(['id','date']).join(target.set_index(['id','date'])).reset_index()\n",
    "\n",
    "df = df.drop('previousDay', axis = 1)\n",
    "\n",
    "print(len(df))"
   ]
  },
  {
   "cell_type": "code",
   "execution_count": null,
   "metadata": {},
   "outputs": [],
   "source": [
    "df.head()"
   ]
  },
  {
   "cell_type": "code",
   "execution_count": null,
   "metadata": {},
   "outputs": [],
   "source": []
  },
  {
   "cell_type": "code",
   "execution_count": null,
   "metadata": {},
   "outputs": [],
   "source": [
    "#df.to_csv(\"out_with_nan_mood.csv\", index = False)"
   ]
  },
  {
   "cell_type": "code",
   "execution_count": null,
   "metadata": {},
   "outputs": [],
   "source": [
    "#df.dropna(subset = ['mood_mean'] ).to_csv(\"out_without_nan_mood.csv\", index = False)"
   ]
  },
  {
   "cell_type": "code",
   "execution_count": null,
   "metadata": {},
   "outputs": [],
   "source": [
    "#df.dropna(subset = ['mood_mean_TARGET'] ).to_csv(\"out_without_nan_mood_target.csv\", index = False)"
   ]
  },
  {
   "cell_type": "code",
   "execution_count": null,
   "metadata": {},
   "outputs": [],
   "source": [
    "dfNonNan = df.dropna(subset = ['mood_mean_TARGET'] )"
   ]
  },
  {
   "cell_type": "code",
   "execution_count": null,
   "metadata": {},
   "outputs": [],
   "source": []
  },
  {
   "cell_type": "code",
   "execution_count": null,
   "metadata": {
    "scrolled": true
   },
   "outputs": [],
   "source": [
    "## SHOW CORRELATIONS \n",
    "corr = df.corr()\n",
    "corr.style.background_gradient(cmap='coolwarm')"
   ]
  },
  {
   "cell_type": "code",
   "execution_count": null,
   "metadata": {},
   "outputs": [],
   "source": [
    "corr = dfNonNan.corr()\n",
    "corr[['mood_mean_TARGET','mood_mean']].style.background_gradient(cmap='coolwarm')"
   ]
  },
  {
   "cell_type": "code",
   "execution_count": null,
   "metadata": {
    "scrolled": true
   },
   "outputs": [],
   "source": [
    "corr[abs(corr['mood_mean_TARGET'])>0.1]['mood_mean_TARGET'].sort_values()"
   ]
  },
  {
   "cell_type": "code",
   "execution_count": null,
   "metadata": {},
   "outputs": [],
   "source": []
  },
  {
   "cell_type": "code",
   "execution_count": null,
   "metadata": {},
   "outputs": [],
   "source": []
  },
  {
   "cell_type": "code",
   "execution_count": null,
   "metadata": {},
   "outputs": [],
   "source": []
  },
  {
   "cell_type": "code",
   "execution_count": null,
   "metadata": {},
   "outputs": [],
   "source": []
  },
  {
   "cell_type": "code",
   "execution_count": null,
   "metadata": {},
   "outputs": [],
   "source": []
  }
 ],
 "metadata": {
  "kernelspec": {
   "display_name": "Python 3",
   "language": "python",
   "name": "python3"
  },
  "language_info": {
   "codemirror_mode": {
    "name": "ipython",
    "version": 3
   },
   "file_extension": ".py",
   "mimetype": "text/x-python",
   "name": "python",
   "nbconvert_exporter": "python",
   "pygments_lexer": "ipython3",
   "version": "3.6.8"
  }
 },
 "nbformat": 4,
 "nbformat_minor": 2
}
