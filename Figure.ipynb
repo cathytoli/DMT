{
 "cells": [
  {
   "cell_type": "code",
   "execution_count": null,
   "metadata": {},
   "outputs": [],
   "source": [
    "import matplotlib.pyplot as plt\n",
    "plt.plot(solutions['predicted_mood_mean_target'])\n",
    "plt.plot(solutions['mood_mean_target'])\n",
    "plt.legend([\"Predicted mood mean\", \"Mood mean\"])\n",
    "plt.xlabel('Observation of test set')\n",
    "plt.ylabel('Value for mood mean')\n",
    "plt.title('Predicted mood mean of ARIMA \\nand real mood mean')\n",
    "plt.savefig(\"arima1\")"
   ]
  },
  {
   "cell_type": "code",
   "execution_count": null,
   "metadata": {},
   "outputs": [],
   "source": [
    "plt.plot(solutions['predicted_mood_mean_target'] - solutions['mood_mean_target'])\n",
    "plt.xlabel('Observation of test set')\n",
    "plt.ylabel('Difference')\n",
    "plt.title('Difference between predicted mood mean \\n of ARIMA and real mood mean')\n",
    "\n",
    "plt.savefig(\"arima2\")"
   ]
  }
 ],
 "metadata": {
  "kernelspec": {
   "display_name": "Python 3",
   "language": "python",
   "name": "python3"
  },
  "language_info": {
   "codemirror_mode": {
    "name": "ipython",
    "version": 3
   },
   "file_extension": ".py",
   "mimetype": "text/x-python",
   "name": "python",
   "nbconvert_exporter": "python",
   "pygments_lexer": "ipython3",
   "version": "3.6.8"
  }
 },
 "nbformat": 4,
 "nbformat_minor": 2
}
