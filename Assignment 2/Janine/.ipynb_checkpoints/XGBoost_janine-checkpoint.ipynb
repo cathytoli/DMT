{
 "cells": [
  {
   "cell_type": "code",
   "execution_count": 2,
   "metadata": {},
   "outputs": [
    {
     "name": "stdout",
     "output_type": "stream",
     "text": [
      "Collecting xgboost\n",
      "  Downloading https://files.pythonhosted.org/packages/51/c1/198915b13e98b62a98f48309c41012638464651da755d941f4abe384c012/xgboost-0.82-py2.py3-none-win_amd64.whl (7.7MB)\n",
      "Requirement already satisfied: scipy in c:\\users\\janine van wonderen\\appdata\\roaming\\python\\python36\\site-packages (from xgboost) (1.1.0)\n",
      "Requirement already satisfied: numpy in c:\\users\\janine van wonderen\\anaconda3\\lib\\site-packages (from xgboost) (1.14.3)\n",
      "Installing collected packages: xgboost\n",
      "Successfully installed xgboost-0.82\n"
     ]
    },
    {
     "name": "stderr",
     "output_type": "stream",
     "text": [
      "distributed 1.21.8 requires msgpack, which is not installed.\n",
      "You are using pip version 10.0.1, however version 19.1 is available.\n",
      "You should consider upgrading via the 'python -m pip install --upgrade pip' command.\n"
     ]
    }
   ],
   "source": [
    "!pip install xgboost"
   ]
  },
  {
   "cell_type": "code",
   "execution_count": 3,
   "metadata": {},
   "outputs": [],
   "source": [
    "import pandas as pd\n",
    "import numpy as np\n",
    "import sklearn\n",
    "from xgboost import XGBClassifier\n",
    "import xgboost\n",
    "from collections import Counter\n",
    "from sklearn.model_selection import train_test_split\n",
    "from sklearn.metrics import accuracy_score\n",
    "from sklearn.metrics import classification_report\n",
    "import pickle\n",
    "from sklearn.utils import shuffle"
   ]
  },
  {
   "cell_type": "code",
   "execution_count": 26,
   "metadata": {},
   "outputs": [],
   "source": [
    "df = pd.read_csv(\"C:/Users/janine van wonderen/Desktop/dmt2/training_set_VU_DM.csv\",delimiter=\",\", \n",
    "                 usecols = ['srch_id', 'site_id', 'visitor_location_country_id','visitor_hist_starrating', \n",
    "                            'visitor_hist_adr_usd', 'prop_country_id','prop_id', 'prop_starrating', \n",
    "                            'prop_review_score', 'prop_brand_bool','prop_location_score1', 'prop_location_score2',\n",
    "                            'prop_log_historical_price', 'position', 'price_usd', 'promotion_flag',\n",
    "                            'srch_destination_id', 'srch_length_of_stay', 'srch_booking_window','srch_adults_count', \n",
    "                            'srch_children_count', 'srch_room_count','srch_saturday_night_bool', 'srch_query_affinity_score',\n",
    "                            'orig_destination_distance', 'random_bool', 'comp1_rate', 'comp1_inv', 'click_bool', \n",
    "                            'gross_bookings_usd','booking_bool'])\n",
    "df = shuffle(df)"
   ]
  },
  {
   "cell_type": "markdown",
   "metadata": {},
   "source": [
    "Lets train it on clicking"
   ]
  },
  {
   "cell_type": "code",
   "execution_count": 27,
   "metadata": {},
   "outputs": [],
   "source": [
    "trainOnlyColumns = ['position','click_bool','booking_bool','gross_bookings_usd']\n",
    "Y = df['click_bool']\n",
    "df.drop(trainOnlyColumns, axis=1,inplace=True)"
   ]
  },
  {
   "cell_type": "code",
   "execution_count": 11,
   "metadata": {},
   "outputs": [],
   "source": [
    "n = 50\n",
    "numOfRowsTest = (int(len(df)*(n/100)))\n",
    "X_test = df.tail(numOfRowsTest)\n",
    "Y_test = Y[-numOfRowsTest:]\n",
    "df.drop(df.tail(numOfRowsTest).index,inplace=True)\n",
    "y_train = Y[:(len(Y)-numOfRowsTest)]"
   ]
  },
  {
   "cell_type": "code",
   "execution_count": 12,
   "metadata": {},
   "outputs": [
    {
     "name": "stderr",
     "output_type": "stream",
     "text": [
      "C:\\Users\\janine van wonderen\\Anaconda3\\lib\\site-packages\\xgboost\\core.py:587: FutureWarning: Series.base is deprecated and will be removed in a future version\n",
      "  if getattr(data, 'base', None) is not None and \\\n",
      "C:\\Users\\janine van wonderen\\Anaconda3\\lib\\site-packages\\xgboost\\core.py:588: FutureWarning: Series.base is deprecated and will be removed in a future version\n",
      "  data.base is not None and isinstance(data, np.ndarray) \\\n"
     ]
    },
    {
     "name": "stdout",
     "output_type": "stream",
     "text": [
      "loading data end, start to boost trees\n",
      "[0]\ttrain-auc:0.664911\ttrain-ams@0.15:63.0607\n",
      "[1]\ttrain-auc:0.668627\ttrain-ams@0.15:63.8916\n",
      "[2]\ttrain-auc:0.670858\ttrain-ams@0.15:64.5629\n",
      "[3]\ttrain-auc:0.672682\ttrain-ams@0.15:64.9084\n",
      "[4]\ttrain-auc:0.673955\ttrain-ams@0.15:65.5787\n",
      "[5]\ttrain-auc:0.674724\ttrain-ams@0.15:65.5469\n",
      "[6]\ttrain-auc:0.675498\ttrain-ams@0.15:65.8522\n",
      "[7]\ttrain-auc:0.676444\ttrain-ams@0.15:65.9387\n",
      "[8]\ttrain-auc:0.67717\ttrain-ams@0.15:66.2636\n",
      "[9]\ttrain-auc:0.678222\ttrain-ams@0.15:66.4067\n",
      "[10]\ttrain-auc:0.678887\ttrain-ams@0.15:66.4968\n",
      "[11]\ttrain-auc:0.679659\ttrain-ams@0.15:66.7388\n",
      "[12]\ttrain-auc:0.680349\ttrain-ams@0.15:66.8748\n",
      "[13]\ttrain-auc:0.680975\ttrain-ams@0.15:67.0357\n",
      "[14]\ttrain-auc:0.681515\ttrain-ams@0.15:67.1912\n",
      "[15]\ttrain-auc:0.68201\ttrain-ams@0.15:67.2054\n",
      "[16]\ttrain-auc:0.682724\ttrain-ams@0.15:67.2124\n",
      "[17]\ttrain-auc:0.683505\ttrain-ams@0.15:67.4246\n",
      "[18]\ttrain-auc:0.684065\ttrain-ams@0.15:67.4971\n",
      "[19]\ttrain-auc:0.684587\ttrain-ams@0.15:67.536\n",
      "[20]\ttrain-auc:0.685103\ttrain-ams@0.15:67.6758\n",
      "[21]\ttrain-auc:0.685727\ttrain-ams@0.15:67.8403\n",
      "[22]\ttrain-auc:0.686401\ttrain-ams@0.15:68.0579\n",
      "[23]\ttrain-auc:0.686774\ttrain-ams@0.15:68.1287\n",
      "[24]\ttrain-auc:0.687259\ttrain-ams@0.15:68.1783\n",
      "[25]\ttrain-auc:0.688006\ttrain-ams@0.15:68.4084\n",
      "[26]\ttrain-auc:0.688554\ttrain-ams@0.15:68.5234\n",
      "[27]\ttrain-auc:0.689377\ttrain-ams@0.15:68.6297\n",
      "[28]\ttrain-auc:0.689826\ttrain-ams@0.15:68.6616\n",
      "[29]\ttrain-auc:0.690288\ttrain-ams@0.15:68.8351\n",
      "[30]\ttrain-auc:0.690578\ttrain-ams@0.15:68.9361\n",
      "[31]\ttrain-auc:0.691115\ttrain-ams@0.15:69.0176\n",
      "[32]\ttrain-auc:0.691705\ttrain-ams@0.15:69.1859\n",
      "[33]\ttrain-auc:0.692195\ttrain-ams@0.15:69.4003\n",
      "[34]\ttrain-auc:0.692606\ttrain-ams@0.15:69.4907\n",
      "[35]\ttrain-auc:0.693083\ttrain-ams@0.15:69.6166\n",
      "[36]\ttrain-auc:0.693503\ttrain-ams@0.15:69.7619\n",
      "[37]\ttrain-auc:0.693962\ttrain-ams@0.15:69.8843\n",
      "[38]\ttrain-auc:0.694225\ttrain-ams@0.15:69.9499\n",
      "[39]\ttrain-auc:0.694644\ttrain-ams@0.15:70.0776\n",
      "[40]\ttrain-auc:0.694996\ttrain-ams@0.15:70.0776\n",
      "[41]\ttrain-auc:0.695452\ttrain-ams@0.15:70.1219\n",
      "[42]\ttrain-auc:0.695761\ttrain-ams@0.15:70.2319\n",
      "[43]\ttrain-auc:0.696191\ttrain-ams@0.15:70.294\n",
      "[44]\ttrain-auc:0.696352\ttrain-ams@0.15:70.3792\n",
      "[45]\ttrain-auc:0.696726\ttrain-ams@0.15:70.4271\n",
      "[46]\ttrain-auc:0.697169\ttrain-ams@0.15:70.4892\n",
      "[47]\ttrain-auc:0.697358\ttrain-ams@0.15:70.5708\n",
      "[48]\ttrain-auc:0.697745\ttrain-ams@0.15:70.7252\n",
      "[49]\ttrain-auc:0.698092\ttrain-ams@0.15:70.7625\n",
      "[50]\ttrain-auc:0.698399\ttrain-ams@0.15:70.8459\n",
      "[51]\ttrain-auc:0.698836\ttrain-ams@0.15:70.9116\n",
      "[52]\ttrain-auc:0.699036\ttrain-ams@0.15:70.9631\n",
      "[53]\ttrain-auc:0.699218\ttrain-ams@0.15:71.0359\n",
      "[54]\ttrain-auc:0.699576\ttrain-ams@0.15:71.1354\n",
      "[55]\ttrain-auc:0.699862\ttrain-ams@0.15:71.1869\n",
      "[56]\ttrain-auc:0.700161\ttrain-ams@0.15:71.249\n",
      "[57]\ttrain-auc:0.700474\ttrain-ams@0.15:71.3698\n",
      "[58]\ttrain-auc:0.70075\ttrain-ams@0.15:71.4071\n",
      "[59]\ttrain-auc:0.700894\ttrain-ams@0.15:71.448\n",
      "[60]\ttrain-auc:0.701041\ttrain-ams@0.15:71.4977\n",
      "[61]\ttrain-auc:0.70128\ttrain-ams@0.15:71.5332\n",
      "[62]\ttrain-auc:0.701539\ttrain-ams@0.15:71.5706\n",
      "[63]\ttrain-auc:0.701851\ttrain-ams@0.15:71.6292\n",
      "[64]\ttrain-auc:0.702084\ttrain-ams@0.15:71.6239\n",
      "[65]\ttrain-auc:0.702316\ttrain-ams@0.15:71.7163\n",
      "[66]\ttrain-auc:0.702561\ttrain-ams@0.15:71.7731\n",
      "[67]\ttrain-auc:0.702651\ttrain-ams@0.15:71.7785\n",
      "[68]\ttrain-auc:0.702885\ttrain-ams@0.15:71.8744\n",
      "[69]\ttrain-auc:0.703045\ttrain-ams@0.15:71.8993\n",
      "[70]\ttrain-auc:0.703253\ttrain-ams@0.15:71.9615\n",
      "[71]\ttrain-auc:0.703487\ttrain-ams@0.15:72.0966\n",
      "[72]\ttrain-auc:0.703681\ttrain-ams@0.15:72.1358\n",
      "[73]\ttrain-auc:0.704031\ttrain-ams@0.15:72.1606\n",
      "[74]\ttrain-auc:0.704166\ttrain-ams@0.15:72.1695\n",
      "[75]\ttrain-auc:0.704276\ttrain-ams@0.15:72.1873\n",
      "[76]\ttrain-auc:0.704517\ttrain-ams@0.15:72.2371\n",
      "[77]\ttrain-auc:0.704642\ttrain-ams@0.15:72.262\n",
      "[78]\ttrain-auc:0.704939\ttrain-ams@0.15:72.3224\n",
      "[79]\ttrain-auc:0.705186\ttrain-ams@0.15:72.4292\n",
      "[80]\ttrain-auc:0.705381\ttrain-ams@0.15:72.4665\n",
      "[81]\ttrain-auc:0.705537\ttrain-ams@0.15:72.4878\n",
      "[82]\ttrain-auc:0.705617\ttrain-ams@0.15:72.5127\n",
      "[83]\ttrain-auc:0.705846\ttrain-ams@0.15:72.5501\n",
      "[84]\ttrain-auc:0.706253\ttrain-ams@0.15:72.607\n",
      "[85]\ttrain-auc:0.706399\ttrain-ams@0.15:72.7031\n",
      "[86]\ttrain-auc:0.706545\ttrain-ams@0.15:72.7511\n",
      "[87]\ttrain-auc:0.7067\ttrain-ams@0.15:72.8259\n",
      "[88]\ttrain-auc:0.706922\ttrain-ams@0.15:72.8739\n",
      "[89]\ttrain-auc:0.707135\ttrain-ams@0.15:72.8792\n",
      "[90]\ttrain-auc:0.707316\ttrain-ams@0.15:72.9041\n",
      "[91]\ttrain-auc:0.707639\ttrain-ams@0.15:72.9753\n",
      "[92]\ttrain-auc:0.707753\ttrain-ams@0.15:73.0323\n",
      "[93]\ttrain-auc:0.707916\ttrain-ams@0.15:73.0536\n",
      "[94]\ttrain-auc:0.708265\ttrain-ams@0.15:73.1302\n",
      "[95]\ttrain-auc:0.708488\ttrain-ams@0.15:73.1658\n",
      "[96]\ttrain-auc:0.708593\ttrain-ams@0.15:73.1764\n",
      "[97]\ttrain-auc:0.70869\ttrain-ams@0.15:73.196\n",
      "[98]\ttrain-auc:0.708854\ttrain-ams@0.15:73.2476\n",
      "[99]\ttrain-auc:0.708939\ttrain-ams@0.15:73.253\n",
      "[100]\ttrain-auc:0.709237\ttrain-ams@0.15:73.3349\n",
      "[101]\ttrain-auc:0.709536\ttrain-ams@0.15:73.4203\n",
      "[102]\ttrain-auc:0.709899\ttrain-ams@0.15:73.4595\n",
      "[103]\ttrain-auc:0.710111\ttrain-ams@0.15:73.4933\n",
      "[104]\ttrain-auc:0.710287\ttrain-ams@0.15:73.5414\n",
      "[105]\ttrain-auc:0.71053\ttrain-ams@0.15:73.5699\n",
      "[106]\ttrain-auc:0.710721\ttrain-ams@0.15:73.6073\n",
      "[107]\ttrain-auc:0.710859\ttrain-ams@0.15:73.6625\n",
      "[108]\ttrain-auc:0.711077\ttrain-ams@0.15:73.6839\n",
      "[109]\ttrain-auc:0.711231\ttrain-ams@0.15:73.7249\n",
      "[110]\ttrain-auc:0.711354\ttrain-ams@0.15:73.7605\n",
      "[111]\ttrain-auc:0.711419\ttrain-ams@0.15:73.7765\n",
      "[112]\ttrain-auc:0.711618\ttrain-ams@0.15:73.8157\n",
      "[113]\ttrain-auc:0.711719\ttrain-ams@0.15:73.8567\n",
      "[114]\ttrain-auc:0.711891\ttrain-ams@0.15:73.8941\n",
      "[115]\ttrain-auc:0.712011\ttrain-ams@0.15:73.9351\n",
      "[116]\ttrain-auc:0.712159\ttrain-ams@0.15:73.9582\n",
      "[117]\ttrain-auc:0.712381\ttrain-ams@0.15:74.0046\n",
      "[118]\ttrain-auc:0.71251\ttrain-ams@0.15:74.0509\n",
      "[119]\ttrain-auc:0.712629\ttrain-ams@0.15:74.0669\n",
      "finish training\n"
     ]
    }
   ],
   "source": [
    "# construct xgboost.DMatrix from numpy array, treat -999.0 as missing value\n",
    "xgmat = xgboost.DMatrix( df, label=y_train)\n",
    "\n",
    "# setup parameters for xgboost\n",
    "param = {}\n",
    "# use logistic regression loss, use raw prediction before logistic transformation\n",
    "# since we only need the rank\n",
    "param['objective'] = 'reg:logistic'\n",
    "# scale weight of positive examples\n",
    "param['scale_pos_weight'] = sum(y_train==0)/sum(y_train==1)\n",
    "param['eta'] = 0.1\n",
    "param['max_depth'] = 6\n",
    "param['eval_metric'] = 'auc'\n",
    "param['silent'] = 0\n",
    "param['nthread'] = 10\n",
    "\n",
    "# you can directly throw param in, though we want to watch multiple metrics here\n",
    "plst = list(param.items())+[('eval_metric', 'ams@0.15')]\n",
    "\n",
    "watchlist = [ (xgmat,'train') ]\n",
    "# boost 120 trees\n",
    "num_round = 120\n",
    "print ('loading data end, start to boost trees')\n",
    "bst = xgboost.train( plst, xgmat, num_round, watchlist );\n",
    "# save out model\n",
    "bst.save_model('paraTest.model')\n",
    "\n",
    "print ('finish training')\n",
    "\n",
    "# fit model no training data\n",
    "#model = XGBClassifier()\n",
    "#model.fit(xs, ys)\n",
    "# make predictions for test data"
   ]
  },
  {
   "cell_type": "code",
   "execution_count": 13,
   "metadata": {
    "scrolled": true
   },
   "outputs": [
    {
     "name": "stderr",
     "output_type": "stream",
     "text": [
      "C:\\Users\\janine van wonderen\\Anaconda3\\lib\\site-packages\\xgboost\\core.py:587: FutureWarning: Series.base is deprecated and will be removed in a future version\n",
      "  if getattr(data, 'base', None) is not None and \\\n",
      "C:\\Users\\janine van wonderen\\Anaconda3\\lib\\site-packages\\xgboost\\core.py:588: FutureWarning: Series.base is deprecated and will be removed in a future version\n",
      "  data.base is not None and isinstance(data, np.ndarray) \\\n"
     ]
    },
    {
     "name": "stdout",
     "output_type": "stream",
     "text": [
      "Accuracy: 67.03%\n"
     ]
    },
    {
     "data": {
      "text/plain": [
       "Counter({0.0: 1638283, 1.0: 840890})"
      ]
     },
     "execution_count": 13,
     "metadata": {},
     "output_type": "execute_result"
    }
   ],
   "source": [
    "xgmat_test = xgboost.DMatrix( X_test, label=Y_test)\n",
    "y_pred = bst.predict(xgmat_test)\n",
    "predictions = [round(value) for value in y_pred]\n",
    "# evaluate predictions\n",
    "accuracy = accuracy_score(Y_test, predictions)\n",
    "print(\"Accuracy: %.2f%%\" % (accuracy * 100.0))\n",
    "Counter(predictions)"
   ]
  },
  {
   "cell_type": "code",
   "execution_count": 14,
   "metadata": {},
   "outputs": [
    {
     "data": {
      "text/plain": [
       "Index(['srch_id', 'site_id', 'visitor_location_country_id',\n",
       "       'visitor_hist_starrating', 'visitor_hist_adr_usd', 'prop_country_id',\n",
       "       'prop_id', 'prop_starrating', 'prop_review_score', 'prop_brand_bool',\n",
       "       'prop_location_score1', 'prop_location_score2',\n",
       "       'prop_log_historical_price', 'price_usd', 'promotion_flag',\n",
       "       'srch_destination_id', 'srch_length_of_stay', 'srch_booking_window',\n",
       "       'srch_adults_count', 'srch_children_count', 'srch_room_count',\n",
       "       'srch_saturday_night_bool', 'srch_query_affinity_score',\n",
       "       'orig_destination_distance', 'random_bool', 'comp1_rate', 'comp1_inv'],\n",
       "      dtype='object')"
      ]
     },
     "execution_count": 14,
     "metadata": {},
     "output_type": "execute_result"
    }
   ],
   "source": [
    "df.columns"
   ]
  },
  {
   "cell_type": "code",
   "execution_count": 22,
   "metadata": {},
   "outputs": [],
   "source": []
  },
  {
   "cell_type": "code",
   "execution_count": 38,
   "metadata": {},
   "outputs": [],
   "source": [
    "df2 = df[['site_id', 'visitor_location_country_id',\n",
    "       'visitor_hist_starrating', 'visitor_hist_adr_usd', 'prop_country_id',\n",
    "       'prop_id', 'prop_starrating', 'prop_review_score', 'prop_brand_bool',\n",
    "       'prop_location_score1', 'prop_location_score2',\n",
    "       'prop_log_historical_price', 'price_usd', 'promotion_flag',\n",
    "       'srch_destination_id', 'srch_length_of_stay', 'srch_booking_window',\n",
    "       'srch_adults_count', 'srch_children_count', 'srch_room_count',\n",
    "       'srch_saturday_night_bool', 'srch_query_affinity_score',\n",
    "       'orig_destination_distance', 'random_bool', 'comp1_rate', 'comp1_inv']]"
   ]
  },
  {
   "cell_type": "code",
   "execution_count": 39,
   "metadata": {},
   "outputs": [
    {
     "name": "stderr",
     "output_type": "stream",
     "text": [
      "C:\\Users\\janine van wonderen\\Anaconda3\\lib\\site-packages\\pandas\\core\\frame.py:3694: SettingWithCopyWarning: \n",
      "A value is trying to be set on a copy of a slice from a DataFrame\n",
      "\n",
      "See the caveats in the documentation: http://pandas.pydata.org/pandas-docs/stable/indexing.html#indexing-view-versus-copy\n",
      "  errors=errors)\n"
     ]
    }
   ],
   "source": [
    "n = 50\n",
    "numOfRowsTest = (int(len(df2)*(n/100)))\n",
    "X_test = df2.tail(numOfRowsTest)\n",
    "Y_test = Y[-numOfRowsTest:]\n",
    "df2.drop(df2.tail(numOfRowsTest).index,inplace=True)\n",
    "y_train = Y[:(len(Y)-numOfRowsTest)]"
   ]
  },
  {
   "cell_type": "code",
   "execution_count": 46,
   "metadata": {},
   "outputs": [
    {
     "name": "stderr",
     "output_type": "stream",
     "text": [
      "C:\\Users\\janine van wonderen\\Anaconda3\\lib\\site-packages\\xgboost\\core.py:587: FutureWarning: Series.base is deprecated and will be removed in a future version\n",
      "  if getattr(data, 'base', None) is not None and \\\n",
      "C:\\Users\\janine van wonderen\\Anaconda3\\lib\\site-packages\\xgboost\\core.py:588: FutureWarning: Series.base is deprecated and will be removed in a future version\n",
      "  data.base is not None and isinstance(data, np.ndarray) \\\n"
     ]
    },
    {
     "name": "stdout",
     "output_type": "stream",
     "text": [
      "loading data end, start to boost trees\n",
      "[0]\ttrain-auc:0.673874\ttrain-ams@0.15:64.718\n",
      "[1]\ttrain-auc:0.678764\ttrain-ams@0.15:65.8964\n",
      "[2]\ttrain-auc:0.680713\ttrain-ams@0.15:66.1788\n",
      "[3]\ttrain-auc:0.681925\ttrain-ams@0.15:66.6911\n",
      "[4]\ttrain-auc:0.682658\ttrain-ams@0.15:67.0074\n",
      "[5]\ttrain-auc:0.68387\ttrain-ams@0.15:67.2284\n",
      "[6]\ttrain-auc:0.684875\ttrain-ams@0.15:67.391\n",
      "[7]\ttrain-auc:0.68581\ttrain-ams@0.15:67.6793\n",
      "[8]\ttrain-auc:0.686907\ttrain-ams@0.15:67.8509\n",
      "[9]\ttrain-auc:0.687972\ttrain-ams@0.15:68.1499\n",
      "[10]\ttrain-auc:0.688869\ttrain-ams@0.15:68.1889\n",
      "[11]\ttrain-auc:0.689983\ttrain-ams@0.15:68.6084\n",
      "[12]\ttrain-auc:0.691152\ttrain-ams@0.15:68.759\n",
      "[13]\ttrain-auc:0.691995\ttrain-ams@0.15:68.8741\n",
      "[14]\ttrain-auc:0.692953\ttrain-ams@0.15:69.1008\n",
      "[15]\ttrain-auc:0.69392\ttrain-ams@0.15:69.4765\n",
      "[16]\ttrain-auc:0.694828\ttrain-ams@0.15:69.7176\n",
      "[17]\ttrain-auc:0.695859\ttrain-ams@0.15:69.9428\n",
      "[18]\ttrain-auc:0.696763\ttrain-ams@0.15:70.012\n",
      "[19]\ttrain-auc:0.697607\ttrain-ams@0.15:70.1592\n",
      "[20]\ttrain-auc:0.698403\ttrain-ams@0.15:70.3224\n",
      "[21]\ttrain-auc:0.699266\ttrain-ams@0.15:70.585\n",
      "[22]\ttrain-auc:0.700174\ttrain-ams@0.15:70.7749\n",
      "[23]\ttrain-auc:0.700938\ttrain-ams@0.15:70.9667\n",
      "[24]\ttrain-auc:0.701699\ttrain-ams@0.15:71.1194\n",
      "[25]\ttrain-auc:0.702563\ttrain-ams@0.15:71.265\n",
      "[26]\ttrain-auc:0.703366\ttrain-ams@0.15:71.4746\n",
      "[27]\ttrain-auc:0.704148\ttrain-ams@0.15:71.6701\n",
      "[28]\ttrain-auc:0.704997\ttrain-ams@0.15:71.7838\n",
      "[29]\ttrain-auc:0.70571\ttrain-ams@0.15:71.9989\n",
      "[30]\ttrain-auc:0.70656\ttrain-ams@0.15:72.2015\n",
      "[31]\ttrain-auc:0.707242\ttrain-ams@0.15:72.3705\n",
      "[32]\ttrain-auc:0.708017\ttrain-ams@0.15:72.5892\n",
      "[33]\ttrain-auc:0.708798\ttrain-ams@0.15:72.7956\n",
      "[34]\ttrain-auc:0.709555\ttrain-ams@0.15:73.0216\n",
      "[35]\ttrain-auc:0.71033\ttrain-ams@0.15:73.1462\n",
      "[36]\ttrain-auc:0.711023\ttrain-ams@0.15:73.3295\n",
      "[37]\ttrain-auc:0.711789\ttrain-ams@0.15:73.5005\n",
      "[38]\ttrain-auc:0.712687\ttrain-ams@0.15:73.7213\n",
      "[39]\ttrain-auc:0.713268\ttrain-ams@0.15:73.9404\n",
      "[40]\ttrain-auc:0.71403\ttrain-ams@0.15:74.042\n",
      "[41]\ttrain-auc:0.714657\ttrain-ams@0.15:74.1756\n",
      "[42]\ttrain-auc:0.715255\ttrain-ams@0.15:74.32\n",
      "[43]\ttrain-auc:0.71609\ttrain-ams@0.15:74.4679\n",
      "[44]\ttrain-auc:0.716617\ttrain-ams@0.15:74.5963\n",
      "[45]\ttrain-auc:0.717094\ttrain-ams@0.15:74.755\n",
      "[46]\ttrain-auc:0.717708\ttrain-ams@0.15:74.9084\n",
      "[47]\ttrain-auc:0.718334\ttrain-ams@0.15:75.0261\n",
      "[48]\ttrain-auc:0.718835\ttrain-ams@0.15:75.1474\n",
      "[49]\ttrain-auc:0.719335\ttrain-ams@0.15:75.2384\n",
      "[50]\ttrain-auc:0.719838\ttrain-ams@0.15:75.349\n",
      "[51]\ttrain-auc:0.720315\ttrain-ams@0.15:75.4757\n",
      "[52]\ttrain-auc:0.720785\ttrain-ams@0.15:75.6292\n",
      "[53]\ttrain-auc:0.721247\ttrain-ams@0.15:75.7131\n",
      "[54]\ttrain-auc:0.722044\ttrain-ams@0.15:75.8613\n",
      "[55]\ttrain-auc:0.722598\ttrain-ams@0.15:76.0577\n",
      "[56]\ttrain-auc:0.723002\ttrain-ams@0.15:76.2114\n",
      "[57]\ttrain-auc:0.723315\ttrain-ams@0.15:76.2971\n",
      "[58]\ttrain-auc:0.723818\ttrain-ams@0.15:76.415\n",
      "[59]\ttrain-auc:0.72458\ttrain-ams@0.15:76.5991\n",
      "[60]\ttrain-auc:0.724946\ttrain-ams@0.15:76.6688\n",
      "[61]\ttrain-auc:0.725404\ttrain-ams@0.15:76.7885\n",
      "[62]\ttrain-auc:0.725753\ttrain-ams@0.15:76.8725\n",
      "[63]\ttrain-auc:0.72625\ttrain-ams@0.15:77.0495\n",
      "[64]\ttrain-auc:0.72653\ttrain-ams@0.15:77.0459\n",
      "[65]\ttrain-auc:0.72697\ttrain-ams@0.15:77.223\n",
      "[66]\ttrain-auc:0.727506\ttrain-ams@0.15:77.3267\n",
      "[67]\ttrain-auc:0.727737\ttrain-ams@0.15:77.366\n",
      "[68]\ttrain-auc:0.728199\ttrain-ams@0.15:77.4644\n",
      "[69]\ttrain-auc:0.728488\ttrain-ams@0.15:77.5968\n",
      "[70]\ttrain-auc:0.728888\ttrain-ams@0.15:77.6809\n",
      "[71]\ttrain-auc:0.729291\ttrain-ams@0.15:77.7561\n",
      "[72]\ttrain-auc:0.729904\ttrain-ams@0.15:77.8956\n",
      "[73]\ttrain-auc:0.730528\ttrain-ams@0.15:78.0872\n",
      "[74]\ttrain-auc:0.730858\ttrain-ams@0.15:78.2071\n",
      "[75]\ttrain-auc:0.731174\ttrain-ams@0.15:78.3504\n",
      "[76]\ttrain-auc:0.731489\ttrain-ams@0.15:78.4041\n",
      "[77]\ttrain-auc:0.731771\ttrain-ams@0.15:78.4829\n",
      "[78]\ttrain-auc:0.732206\ttrain-ams@0.15:78.5671\n",
      "[79]\ttrain-auc:0.732647\ttrain-ams@0.15:78.6548\n",
      "[80]\ttrain-auc:0.733144\ttrain-ams@0.15:78.7175\n",
      "[81]\ttrain-auc:0.733657\ttrain-ams@0.15:78.834\n",
      "[82]\ttrain-auc:0.734014\ttrain-ams@0.15:78.9504\n",
      "[83]\ttrain-auc:0.734398\ttrain-ams@0.15:79.04\n",
      "[84]\ttrain-auc:0.734756\ttrain-ams@0.15:79.1583\n",
      "[85]\ttrain-auc:0.735029\ttrain-ams@0.15:79.2175\n",
      "[86]\ttrain-auc:0.735327\ttrain-ams@0.15:79.3232\n",
      "[87]\ttrain-auc:0.735648\ttrain-ams@0.15:79.4631\n",
      "[88]\ttrain-auc:0.735966\ttrain-ams@0.15:79.4595\n",
      "[89]\ttrain-auc:0.736115\ttrain-ams@0.15:79.5366\n",
      "[90]\ttrain-auc:0.736556\ttrain-ams@0.15:79.6012\n",
      "[91]\ttrain-auc:0.736989\ttrain-ams@0.15:79.6944\n",
      "[92]\ttrain-auc:0.737523\ttrain-ams@0.15:79.8594\n",
      "[93]\ttrain-auc:0.73793\ttrain-ams@0.15:79.9886\n",
      "[94]\ttrain-auc:0.73821\ttrain-ams@0.15:80.0639\n",
      "[95]\ttrain-auc:0.738385\ttrain-ams@0.15:80.098\n",
      "[96]\ttrain-auc:0.738914\ttrain-ams@0.15:80.2793\n",
      "[97]\ttrain-auc:0.739177\ttrain-ams@0.15:80.3493\n",
      "[98]\ttrain-auc:0.739436\ttrain-ams@0.15:80.3887\n",
      "[99]\ttrain-auc:0.739879\ttrain-ams@0.15:80.4623\n",
      "[100]\ttrain-auc:0.740074\ttrain-ams@0.15:80.5701\n",
      "[101]\ttrain-auc:0.740497\ttrain-ams@0.15:80.6975\n",
      "[102]\ttrain-auc:0.740821\ttrain-ams@0.15:80.7568\n",
      "[103]\ttrain-auc:0.741143\ttrain-ams@0.15:80.8555\n",
      "[104]\ttrain-auc:0.741457\ttrain-ams@0.15:80.8969\n",
      "[105]\ttrain-auc:0.741829\ttrain-ams@0.15:81.0405\n",
      "[106]\ttrain-auc:0.741988\ttrain-ams@0.15:81.0567\n",
      "[107]\ttrain-auc:0.742208\ttrain-ams@0.15:81.1268\n",
      "[108]\ttrain-auc:0.742628\ttrain-ams@0.15:81.2004\n",
      "[109]\ttrain-auc:0.743073\ttrain-ams@0.15:81.3352\n",
      "[110]\ttrain-auc:0.743257\ttrain-ams@0.15:81.3855\n",
      "[111]\ttrain-auc:0.743591\ttrain-ams@0.15:81.5113\n",
      "[112]\ttrain-auc:0.743804\ttrain-ams@0.15:81.5904\n",
      "[113]\ttrain-auc:0.744159\ttrain-ams@0.15:81.6623\n",
      "[114]\ttrain-auc:0.744377\ttrain-ams@0.15:81.7072\n",
      "[115]\ttrain-auc:0.744706\ttrain-ams@0.15:81.8115\n",
      "[116]\ttrain-auc:0.74509\ttrain-ams@0.15:81.9301\n",
      "[117]\ttrain-auc:0.745163\ttrain-ams@0.15:81.9283\n",
      "[118]\ttrain-auc:0.745515\ttrain-ams@0.15:82.0398\n",
      "[119]\ttrain-auc:0.745807\ttrain-ams@0.15:82.1351\n",
      "finish training\n"
     ]
    }
   ],
   "source": [
    "# construct xgboost.DMatrix from numpy array, treat -999.0 as missing value\n",
    "xgmat = xgboost.DMatrix( df2, label=y_train)\n",
    "\n",
    "# setup parameters for xgboost\n",
    "param = {}\n",
    "# use logistic regression loss, use raw prediction before logistic transformation\n",
    "# since we only need the rank\n",
    "param['objective'] = 'reg:logistic'\n",
    "# scale weight of positive examples\n",
    "param['scale_pos_weight'] = sum(y_train==0)/sum(y_train==1)\n",
    "param['eta'] = 0.1\n",
    "param['max_depth'] = 8\n",
    "param['eval_metric'] = 'auc'\n",
    "param['silent'] = 0\n",
    "param['nthread'] = 10\n",
    "param['tree_method'] = 'hist'\n",
    "\n",
    "# you can directly throw param in, though we want to watch multiple metrics here\n",
    "plst = list(param.items())+[('eval_metric', 'ams@0.15')]\n",
    "\n",
    "watchlist = [ (xgmat,'train') ]\n",
    "# boost 120 trees\n",
    "num_round = 120\n",
    "print ('loading data end, start to boost trees')\n",
    "bst = xgboost.train( plst, xgmat, num_round, watchlist );\n",
    "# save out model\n",
    "bst.save_model('paraTest2.model')\n",
    "\n",
    "print ('finish training')\n",
    "\n",
    "# fit model no training data\n",
    "#model = XGBClassifier()\n",
    "#model.fit(xs, ys)\n",
    "# make predictions for test data"
   ]
  },
  {
   "cell_type": "code",
   "execution_count": 47,
   "metadata": {},
   "outputs": [
    {
     "name": "stderr",
     "output_type": "stream",
     "text": [
      "C:\\Users\\janine van wonderen\\Anaconda3\\lib\\site-packages\\xgboost\\core.py:587: FutureWarning: Series.base is deprecated and will be removed in a future version\n",
      "  if getattr(data, 'base', None) is not None and \\\n",
      "C:\\Users\\janine van wonderen\\Anaconda3\\lib\\site-packages\\xgboost\\core.py:588: FutureWarning: Series.base is deprecated and will be removed in a future version\n",
      "  data.base is not None and isinstance(data, np.ndarray) \\\n"
     ]
    },
    {
     "name": "stdout",
     "output_type": "stream",
     "text": [
      "Accuracy: 68.87%\n"
     ]
    },
    {
     "data": {
      "text/plain": [
       "Counter({1.0: 791162, 0.0: 1688011})"
      ]
     },
     "execution_count": 47,
     "metadata": {},
     "output_type": "execute_result"
    }
   ],
   "source": [
    "xgmat_test = xgboost.DMatrix( X_test, label=Y_test)\n",
    "y_pred = bst.predict(xgmat_test)\n",
    "predictions = [round(value) for value in y_pred]\n",
    "# evaluate predictions\n",
    "accuracy = accuracy_score(Y_test, predictions)\n",
    "print(\"Accuracy: %.2f%%\" % (accuracy * 100.0))\n",
    "Counter(predictions)"
   ]
  },
  {
   "cell_type": "code",
   "execution_count": null,
   "metadata": {},
   "outputs": [],
   "source": []
  },
  {
   "cell_type": "code",
   "execution_count": null,
   "metadata": {},
   "outputs": [],
   "source": []
  },
  {
   "cell_type": "code",
   "execution_count": 34,
   "metadata": {},
   "outputs": [],
   "source": [
    "df3 = df[[\"prop_location_score2\", \"srch_query_affinity_score\", \"promotion_flag\",\"prop_starrating\", \n",
    "         \"random_bool\", \"srch_length_of_stay\", \"prop_review_score\"]]"
   ]
  },
  {
   "cell_type": "code",
   "execution_count": 35,
   "metadata": {},
   "outputs": [
    {
     "name": "stderr",
     "output_type": "stream",
     "text": [
      "C:\\Users\\janine van wonderen\\Anaconda3\\lib\\site-packages\\pandas\\core\\frame.py:3694: SettingWithCopyWarning: \n",
      "A value is trying to be set on a copy of a slice from a DataFrame\n",
      "\n",
      "See the caveats in the documentation: http://pandas.pydata.org/pandas-docs/stable/indexing.html#indexing-view-versus-copy\n",
      "  errors=errors)\n"
     ]
    }
   ],
   "source": [
    "n = 50\n",
    "numOfRowsTest = (int(len(df3)*(n/100)))\n",
    "X_test = df3.tail(numOfRowsTest)\n",
    "Y_test = Y[-numOfRowsTest:]\n",
    "df3.drop(df3.tail(numOfRowsTest).index,inplace=True)\n",
    "y_train = Y[:(len(Y)-numOfRowsTest)]"
   ]
  },
  {
   "cell_type": "code",
   "execution_count": 36,
   "metadata": {},
   "outputs": [
    {
     "name": "stderr",
     "output_type": "stream",
     "text": [
      "C:\\Users\\janine van wonderen\\Anaconda3\\lib\\site-packages\\xgboost\\core.py:587: FutureWarning: Series.base is deprecated and will be removed in a future version\n",
      "  if getattr(data, 'base', None) is not None and \\\n",
      "C:\\Users\\janine van wonderen\\Anaconda3\\lib\\site-packages\\xgboost\\core.py:588: FutureWarning: Series.base is deprecated and will be removed in a future version\n",
      "  data.base is not None and isinstance(data, np.ndarray) \\\n"
     ]
    },
    {
     "name": "stdout",
     "output_type": "stream",
     "text": [
      "loading data end, start to boost trees\n",
      "[0]\ttrain-auc:0.641337\ttrain-ams@0.15:50.3717\n",
      "[1]\ttrain-auc:0.642473\ttrain-ams@0.15:50.6822\n",
      "[2]\ttrain-auc:0.642932\ttrain-ams@0.15:50.592\n",
      "[3]\ttrain-auc:0.643611\ttrain-ams@0.15:51.3104\n",
      "[4]\ttrain-auc:0.643857\ttrain-ams@0.15:51.4545\n",
      "[5]\ttrain-auc:0.644436\ttrain-ams@0.15:51.6317\n",
      "[6]\ttrain-auc:0.644883\ttrain-ams@0.15:52.2884\n",
      "[7]\ttrain-auc:0.645283\ttrain-ams@0.15:52.3058\n",
      "[8]\ttrain-auc:0.645566\ttrain-ams@0.15:52.4049\n",
      "[9]\ttrain-auc:0.645787\ttrain-ams@0.15:52.4153\n",
      "[10]\ttrain-auc:0.646281\ttrain-ams@0.15:52.4988\n",
      "[11]\ttrain-auc:0.646555\ttrain-ams@0.15:52.5544\n",
      "[12]\ttrain-auc:0.646763\ttrain-ams@0.15:52.6431\n",
      "[13]\ttrain-auc:0.647018\ttrain-ams@0.15:52.6379\n",
      "[14]\ttrain-auc:0.647387\ttrain-ams@0.15:52.7735\n",
      "[15]\ttrain-auc:0.647625\ttrain-ams@0.15:52.8535\n",
      "[16]\ttrain-auc:0.647765\ttrain-ams@0.15:52.8709\n",
      "[17]\ttrain-auc:0.647993\ttrain-ams@0.15:52.9596\n",
      "[18]\ttrain-auc:0.648217\ttrain-ams@0.15:53.0883\n",
      "[19]\ttrain-auc:0.648377\ttrain-ams@0.15:53.0605\n",
      "[20]\ttrain-auc:0.64852\ttrain-ams@0.15:53.0779\n",
      "[21]\ttrain-auc:0.648698\ttrain-ams@0.15:53.1022\n",
      "[22]\ttrain-auc:0.648921\ttrain-ams@0.15:53.0727\n",
      "[23]\ttrain-auc:0.649058\ttrain-ams@0.15:53.1353\n",
      "[24]\ttrain-auc:0.649241\ttrain-ams@0.15:53.1388\n",
      "[25]\ttrain-auc:0.649397\ttrain-ams@0.15:53.1631\n",
      "[26]\ttrain-auc:0.64962\ttrain-ams@0.15:53.2205\n",
      "[27]\ttrain-auc:0.649777\ttrain-ams@0.15:53.2362\n",
      "[28]\ttrain-auc:0.649914\ttrain-ams@0.15:53.2797\n",
      "[29]\ttrain-auc:0.650078\ttrain-ams@0.15:53.3197\n",
      "[30]\ttrain-auc:0.650243\ttrain-ams@0.15:53.3197\n",
      "[31]\ttrain-auc:0.65041\ttrain-ams@0.15:53.3928\n",
      "[32]\ttrain-auc:0.650529\ttrain-ams@0.15:53.3824\n",
      "[33]\ttrain-auc:0.650658\ttrain-ams@0.15:53.4589\n",
      "[34]\ttrain-auc:0.65075\ttrain-ams@0.15:53.499\n",
      "[35]\ttrain-auc:0.650922\ttrain-ams@0.15:53.5599\n",
      "[36]\ttrain-auc:0.651073\ttrain-ams@0.15:53.6243\n",
      "[37]\ttrain-auc:0.651272\ttrain-ams@0.15:53.7618\n",
      "[38]\ttrain-auc:0.651392\ttrain-ams@0.15:53.8141\n",
      "[39]\ttrain-auc:0.651484\ttrain-ams@0.15:53.8141\n",
      "[40]\ttrain-auc:0.651557\ttrain-ams@0.15:53.8506\n",
      "[41]\ttrain-auc:0.651684\ttrain-ams@0.15:53.8733\n",
      "[42]\ttrain-auc:0.65178\ttrain-ams@0.15:53.9359\n",
      "[43]\ttrain-auc:0.651833\ttrain-ams@0.15:53.9603\n",
      "[44]\ttrain-auc:0.652001\ttrain-ams@0.15:54.0108\n",
      "[45]\ttrain-auc:0.652072\ttrain-ams@0.15:54.0108\n",
      "[46]\ttrain-auc:0.652085\ttrain-ams@0.15:54.0265\n",
      "[47]\ttrain-auc:0.65222\ttrain-ams@0.15:54.0265\n",
      "[48]\ttrain-auc:0.652237\ttrain-ams@0.15:54.0056\n",
      "[49]\ttrain-auc:0.652335\ttrain-ams@0.15:54.07\n",
      "[50]\ttrain-auc:0.652423\ttrain-ams@0.15:54.0927\n",
      "[51]\ttrain-auc:0.652446\ttrain-ams@0.15:54.0979\n",
      "[52]\ttrain-auc:0.652576\ttrain-ams@0.15:54.1397\n",
      "[53]\ttrain-auc:0.652629\ttrain-ams@0.15:54.1623\n",
      "[54]\ttrain-auc:0.652698\ttrain-ams@0.15:54.1989\n",
      "[55]\ttrain-auc:0.652772\ttrain-ams@0.15:54.2233\n",
      "[56]\ttrain-auc:0.652814\ttrain-ams@0.15:54.2268\n",
      "[57]\ttrain-auc:0.652855\ttrain-ams@0.15:54.3505\n",
      "[58]\ttrain-auc:0.652894\ttrain-ams@0.15:54.3592\n",
      "[59]\ttrain-auc:0.652974\ttrain-ams@0.15:54.394\n",
      "[60]\ttrain-auc:0.652998\ttrain-ams@0.15:54.408\n",
      "[61]\ttrain-auc:0.653076\ttrain-ams@0.15:54.4254\n",
      "[62]\ttrain-auc:0.653157\ttrain-ams@0.15:54.4655\n",
      "[63]\ttrain-auc:0.653198\ttrain-ams@0.15:54.4777\n",
      "[64]\ttrain-auc:0.65325\ttrain-ams@0.15:54.4777\n",
      "[65]\ttrain-auc:0.653357\ttrain-ams@0.15:54.4899\n",
      "[66]\ttrain-auc:0.653448\ttrain-ams@0.15:54.4864\n",
      "[67]\ttrain-auc:0.653474\ttrain-ams@0.15:54.4951\n",
      "[68]\ttrain-auc:0.653526\ttrain-ams@0.15:54.5073\n",
      "[69]\ttrain-auc:0.653583\ttrain-ams@0.15:54.5265\n",
      "[70]\ttrain-auc:0.653636\ttrain-ams@0.15:54.5456\n",
      "[71]\ttrain-auc:0.653645\ttrain-ams@0.15:54.5421\n",
      "[72]\ttrain-auc:0.653726\ttrain-ams@0.15:54.6258\n",
      "[73]\ttrain-auc:0.653818\ttrain-ams@0.15:54.6484\n",
      "[74]\ttrain-auc:0.653944\ttrain-ams@0.15:54.6868\n",
      "[75]\ttrain-auc:0.653998\ttrain-ams@0.15:54.7094\n",
      "[76]\ttrain-auc:0.654026\ttrain-ams@0.15:54.7094\n",
      "[77]\ttrain-auc:0.654107\ttrain-ams@0.15:54.7373\n",
      "[78]\ttrain-auc:0.654249\ttrain-ams@0.15:54.7495\n",
      "[79]\ttrain-auc:0.65431\ttrain-ams@0.15:54.7704\n",
      "[80]\ttrain-auc:0.654361\ttrain-ams@0.15:54.7826\n",
      "[81]\ttrain-auc:0.654452\ttrain-ams@0.15:54.8088\n",
      "[82]\ttrain-auc:0.654498\ttrain-ams@0.15:54.8105\n",
      "[83]\ttrain-auc:0.654546\ttrain-ams@0.15:54.8175\n",
      "[84]\ttrain-auc:0.654588\ttrain-ams@0.15:54.8227\n",
      "[85]\ttrain-auc:0.654597\ttrain-ams@0.15:54.8227\n",
      "[86]\ttrain-auc:0.654618\ttrain-ams@0.15:54.8262\n",
      "[87]\ttrain-auc:0.654675\ttrain-ams@0.15:54.8506\n",
      "[88]\ttrain-auc:0.654691\ttrain-ams@0.15:54.8646\n",
      "[89]\ttrain-auc:0.65473\ttrain-ams@0.15:54.8663\n",
      "[90]\ttrain-auc:0.65483\ttrain-ams@0.15:54.889\n",
      "[91]\ttrain-auc:0.65496\ttrain-ams@0.15:54.889\n",
      "[92]\ttrain-auc:0.655067\ttrain-ams@0.15:54.9291\n",
      "[93]\ttrain-auc:0.655291\ttrain-ams@0.15:55.0563\n",
      "[94]\ttrain-auc:0.655356\ttrain-ams@0.15:55.086\n",
      "[95]\ttrain-auc:0.655406\ttrain-ams@0.15:55.0982\n",
      "[96]\ttrain-auc:0.655428\ttrain-ams@0.15:55.1052\n",
      "[97]\ttrain-auc:0.655466\ttrain-ams@0.15:55.1156\n",
      "[98]\ttrain-auc:0.655592\ttrain-ams@0.15:55.1889\n",
      "[99]\ttrain-auc:0.655616\ttrain-ams@0.15:55.1889\n",
      "[100]\ttrain-auc:0.655623\ttrain-ams@0.15:55.1941\n",
      "[101]\ttrain-auc:0.655792\ttrain-ams@0.15:55.2377\n",
      "[102]\ttrain-auc:0.655892\ttrain-ams@0.15:55.2482\n",
      "[103]\ttrain-auc:0.655924\ttrain-ams@0.15:55.2551\n",
      "[104]\ttrain-auc:0.655995\ttrain-ams@0.15:55.2761\n",
      "[105]\ttrain-auc:0.65614\ttrain-ams@0.15:55.3685\n",
      "[106]\ttrain-auc:0.656174\ttrain-ams@0.15:55.3842\n",
      "[107]\ttrain-auc:0.656212\ttrain-ams@0.15:55.3894\n",
      "[108]\ttrain-auc:0.656291\ttrain-ams@0.15:55.4138\n",
      "[109]\ttrain-auc:0.656326\ttrain-ams@0.15:55.4103\n",
      "[110]\ttrain-auc:0.656422\ttrain-ams@0.15:55.4156\n",
      "[111]\ttrain-auc:0.65648\ttrain-ams@0.15:55.4295\n",
      "[112]\ttrain-auc:0.656536\ttrain-ams@0.15:55.4383\n",
      "[113]\ttrain-auc:0.656564\ttrain-ams@0.15:55.4801\n",
      "[114]\ttrain-auc:0.656624\ttrain-ams@0.15:55.4958\n",
      "[115]\ttrain-auc:0.656641\ttrain-ams@0.15:55.4976\n",
      "[116]\ttrain-auc:0.656668\ttrain-ams@0.15:55.5028\n",
      "[117]\ttrain-auc:0.656788\ttrain-ams@0.15:55.5743\n",
      "[118]\ttrain-auc:0.656847\ttrain-ams@0.15:55.5813\n",
      "[119]\ttrain-auc:0.656853\ttrain-ams@0.15:55.5796\n",
      "finish training\n"
     ]
    }
   ],
   "source": [
    "# construct xgboost.DMatrix from numpy array, treat -999.0 as missing value\n",
    "xgmat = xgboost.DMatrix( df3, label=y_train)\n",
    "\n",
    "# setup parameters for xgboost\n",
    "param = {}\n",
    "# use logistic regression loss, use raw prediction before logistic transformation\n",
    "# since we only need the rank\n",
    "param['objective'] = 'reg:logistic'\n",
    "# scale weight of positive examples\n",
    "param['scale_pos_weight'] = sum(y_train==0)/sum(y_train==1)\n",
    "param['eta'] = 0.1\n",
    "param['max_depth'] = 6\n",
    "param['eval_metric'] = 'auc'\n",
    "param['silent'] = 0\n",
    "param['nthread'] = 10\n",
    "\n",
    "# you can directly throw param in, though we want to watch multiple metrics here\n",
    "plst = list(param.items())+[('eval_metric', 'ams@0.15')]\n",
    "\n",
    "watchlist = [ (xgmat,'train') ]\n",
    "# boost 120 trees\n",
    "num_round = 120\n",
    "print ('loading data end, start to boost trees')\n",
    "bst = xgboost.train( plst, xgmat, num_round, watchlist );\n",
    "# save out model\n",
    "bst.save_model('paraTest.model')\n",
    "\n",
    "print ('finish training')\n",
    "\n",
    "# fit model no training data\n",
    "#model = XGBClassifier()\n",
    "#model.fit(xs, ys)\n",
    "# make predictions for test data"
   ]
  },
  {
   "cell_type": "code",
   "execution_count": 37,
   "metadata": {},
   "outputs": [
    {
     "name": "stderr",
     "output_type": "stream",
     "text": [
      "C:\\Users\\janine van wonderen\\Anaconda3\\lib\\site-packages\\xgboost\\core.py:587: FutureWarning: Series.base is deprecated and will be removed in a future version\n",
      "  if getattr(data, 'base', None) is not None and \\\n",
      "C:\\Users\\janine van wonderen\\Anaconda3\\lib\\site-packages\\xgboost\\core.py:588: FutureWarning: Series.base is deprecated and will be removed in a future version\n",
      "  data.base is not None and isinstance(data, np.ndarray) \\\n"
     ]
    },
    {
     "name": "stdout",
     "output_type": "stream",
     "text": [
      "Accuracy: 57.30%\n"
     ]
    },
    {
     "data": {
      "text/plain": [
       "Counter({1.0: 1092187, 0.0: 1386986})"
      ]
     },
     "execution_count": 37,
     "metadata": {},
     "output_type": "execute_result"
    }
   ],
   "source": [
    "xgmat_test = xgboost.DMatrix( X_test, label=Y_test)\n",
    "y_pred = bst.predict(xgmat_test)\n",
    "predictions = [round(value) for value in y_pred]\n",
    "# evaluate predictions\n",
    "accuracy = accuracy_score(Y_test, predictions)\n",
    "print(\"Accuracy: %.2f%%\" % (accuracy * 100.0))\n",
    "Counter(predictions)"
   ]
  },
  {
   "cell_type": "code",
   "execution_count": null,
   "metadata": {},
   "outputs": [],
   "source": []
  },
  {
   "cell_type": "code",
   "execution_count": null,
   "metadata": {},
   "outputs": [],
   "source": []
  },
  {
   "cell_type": "markdown",
   "metadata": {},
   "source": [
    "Lets train it on booking"
   ]
  },
  {
   "cell_type": "code",
   "execution_count": 8,
   "metadata": {},
   "outputs": [],
   "source": [
    "trainOnlyColumns = ['position','click_bool','booking_bool','gross_bookings_usd']\n",
    "Y = df['booking_bool']\n",
    "df.drop(trainOnlyColumns, axis=1,inplace=True)"
   ]
  },
  {
   "cell_type": "code",
   "execution_count": 9,
   "metadata": {},
   "outputs": [],
   "source": [
    "n = 20\n",
    "numOfRowsTest = (int(len(df)*(n/100)))\n",
    "X_test = df.tail(numOfRowsTest)\n",
    "Y_test = Y[-numOfRowsTest:]\n",
    "df.drop(df.tail(numOfRowsTest).index,inplace=True)\n",
    "y_train = Y[:(len(Y)-numOfRowsTest)]"
   ]
  },
  {
   "cell_type": "code",
   "execution_count": null,
   "metadata": {},
   "outputs": [],
   "source": [
    "# construct xgboost.DMatrix from numpy array, treat -999.0 as missing value\n",
    "xgmat = xgboost.DMatrix( df, label=y_train)\n",
    "\n",
    "# setup parameters for xgboost\n",
    "param = {}\n",
    "# use logistic regression loss, use raw prediction before logistic transformation\n",
    "# since we only need the rank\n",
    "param['objective'] = 'reg:logistic'\n",
    "# scale weight of positive examples\n",
    "param['scale_pos_weight'] = sum(y_train==0)/sum(y_train==1)\n",
    "param['eta'] = 0.1\n",
    "param['max_depth'] = 6\n",
    "param['eval_metric'] = 'auc'\n",
    "param['silent'] = 0\n",
    "param['nthread'] = 10\n",
    "\n",
    "# you can directly throw param in, though we want to watch multiple metrics here\n",
    "plst = list(param.items())+[('eval_metric', 'ams@0.15')]\n",
    "\n",
    "watchlist = [ (xgmat,'train') ]\n",
    "# boost 120 trees\n",
    "num_round = 25\n",
    "print ('loading data end, start to boost trees')\n",
    "bst = xgboost.train( plst, xgmat, num_round, watchlist , early_stopping_rounds=10);\n",
    "# save out model\n",
    "bst.save_model('bookingModel.model')\n",
    "\n",
    "print ('finish training')\n",
    "\n",
    "# fit model no training data\n",
    "#model = XGBClassifier()\n",
    "#model.fit(xs, ys)\n",
    "# make predictions for test data"
   ]
  },
  {
   "cell_type": "code",
   "execution_count": null,
   "metadata": {},
   "outputs": [],
   "source": [
    "xgmat_test = xgboost.DMatrix( X_test, label=Y_test)\n",
    "y_pred = bst.predict(xgmat_test)\n",
    "predictions = [round(value) for value in y_pred]\n",
    "# evaluate predictions\n",
    "accuracy = accuracy_score(Y_test, predictions)\n",
    "print(\"Accuracy: %.2f%%\" % (accuracy * 100.0))\n",
    "Counter(predictions)"
   ]
  },
  {
   "cell_type": "code",
   "execution_count": null,
   "metadata": {},
   "outputs": [],
   "source": []
  },
  {
   "cell_type": "code",
   "execution_count": null,
   "metadata": {},
   "outputs": [],
   "source": []
  },
  {
   "cell_type": "markdown",
   "metadata": {},
   "source": [
    "Lets make a submission"
   ]
  },
  {
   "cell_type": "code",
   "execution_count": 7,
   "metadata": {},
   "outputs": [],
   "source": [
    "bst = xgboost.Booster({'nthread': 12})  # init model\n",
    "bst.load_model('xgboostBinary26April.model')  # load data\n"
   ]
  },
  {
   "cell_type": "code",
   "execution_count": null,
   "metadata": {},
   "outputs": [],
   "source": [
    "dfTest = pd.read_csv('../data/test.csv', delimiter=\",\", usecols = ['srch_id', 'site_id', 'visitor_location_country_id',\n",
    "       'visitor_hist_starrating', 'visitor_hist_adr_usd', 'prop_country_id',\n",
    "       'prop_id', 'prop_starrating', 'prop_review_score', 'prop_brand_bool',\n",
    "       'prop_location_score1', 'prop_location_score2',\n",
    "       'prop_log_historical_price',  'price_usd', 'promotion_flag',\n",
    "       'srch_destination_id', 'srch_length_of_stay', 'srch_booking_window',\n",
    "       'srch_adults_count', 'srch_children_count', 'srch_room_count',\n",
    "       'srch_saturday_night_bool', 'srch_query_affinity_score',\n",
    "       'orig_destination_distance', 'random_bool', 'comp1_rate', 'comp1_inv'])\n",
    "xgmat_test_submission = xgboost.DMatrix( dfTest)"
   ]
  },
  {
   "cell_type": "code",
   "execution_count": null,
   "metadata": {},
   "outputs": [],
   "source": [
    "y_pred_clicking = bst.predict(xgmat_test_submission)\n"
   ]
  },
  {
   "cell_type": "code",
   "execution_count": null,
   "metadata": {},
   "outputs": [],
   "source": [
    "bst = xgboost.Booster({'nthread': 12})  # init model\n",
    "bst.load_model('bookingModel.model')  # load data"
   ]
  },
  {
   "cell_type": "code",
   "execution_count": null,
   "metadata": {},
   "outputs": [],
   "source": [
    "y_pred_booking = bst.predict(xgmat_test_submission)"
   ]
  },
  {
   "cell_type": "code",
   "execution_count": null,
   "metadata": {},
   "outputs": [],
   "source": [
    "y_pred = y_pred_clicking + y_pred_booking\n",
    "dfTest['predictedPos'] = y_pred\n",
    "dfTest = dfTest.sort_values(['srch_id','predictedPos'],ascending=[True, False])\n"
   ]
  },
  {
   "cell_type": "code",
   "execution_count": null,
   "metadata": {},
   "outputs": [],
   "source": [
    "print(dfTest.head())\n",
    "dfSubmission = dfTest[['srch_id','prop_id']]\n",
    "dfSubmission.to_csv(\"submissionTest2.csv\",index=False)"
   ]
  },
  {
   "cell_type": "code",
   "execution_count": null,
   "metadata": {},
   "outputs": [],
   "source": [
    "#Counter(y_pred)\n",
    "predictions = [round(value) for value in y_pred]\n",
    "Counter(predictions)"
   ]
  }
 ],
 "metadata": {
  "kernelspec": {
   "display_name": "Python 3",
   "language": "python",
   "name": "python3"
  },
  "language_info": {
   "codemirror_mode": {
    "name": "ipython",
    "version": 3
   },
   "file_extension": ".py",
   "mimetype": "text/x-python",
   "name": "python",
   "nbconvert_exporter": "python",
   "pygments_lexer": "ipython3",
   "version": "3.6.5"
  }
 },
 "nbformat": 4,
 "nbformat_minor": 2
}
