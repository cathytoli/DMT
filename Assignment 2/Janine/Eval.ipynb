{
 "cells": [
  {
   "cell_type": "code",
   "execution_count": 3,
   "metadata": {},
   "outputs": [],
   "source": [
    "import pandas as pd\n",
    "import numpy as np\n",
    "import sklearn\n",
    "from collections import Counter\n",
    "from sklearn.model_selection import train_test_split\n",
    "from sklearn.metrics import accuracy_score\n",
    "import pickle\n",
    "from sklearn.utils import shuffle\n",
    "import math"
   ]
  },
  {
   "cell_type": "code",
   "execution_count": 4,
   "metadata": {},
   "outputs": [],
   "source": [
    "df = pd.read_csv('training_set_VU_DM.csv', delimiter=\",\", usecols = ['srch_id', 'site_id', 'visitor_location_country_id',\n",
    "       'visitor_hist_starrating', 'visitor_hist_adr_usd', 'prop_country_id',\n",
    "       'prop_id', 'prop_starrating', 'prop_review_score', 'prop_brand_bool',\n",
    "       'prop_location_score1', 'prop_location_score2',\n",
    "       'prop_log_historical_price', 'position', 'price_usd', 'promotion_flag',\n",
    "       'srch_destination_id', 'srch_length_of_stay', 'srch_booking_window',\n",
    "       'srch_adults_count', 'srch_children_count', 'srch_room_count',\n",
    "       'srch_saturday_night_bool', 'srch_query_affinity_score',\n",
    "       'orig_destination_distance', 'random_bool', 'comp1_rate', 'comp1_inv', 'click_bool', 'gross_bookings_usd',\n",
    "       'booking_bool'])"
   ]
  },
  {
   "cell_type": "code",
   "execution_count": 5,
   "metadata": {},
   "outputs": [],
   "source": [
    "df2 = df[['srch_id','prop_id','click_bool', 'booking_bool']]"
   ]
  },
  {
   "cell_type": "code",
   "execution_count": 6,
   "metadata": {},
   "outputs": [],
   "source": [
    "## create test set\n",
    "testset = df2.loc[df['srch_id']==1][:10]\n",
    "for i in range(2,10):\n",
    "    s4 = df2.loc[df['srch_id']==i][:10]\n",
    "    testset = pd.concat([testset,s4])\n",
    "    \n",
    "testset = testset[['srch_id','prop_id','click_bool', 'booking_bool']]\n",
    "created_solution = testset[['srch_id','prop_id']]"
   ]
  },
  {
   "cell_type": "code",
   "execution_count": 7,
   "metadata": {},
   "outputs": [],
   "source": [
    "current_srch_id = None\n",
    "rank = None\n",
    "dcg = 0 #Discounted Cumulative Gain\n",
    "for index, row in created_solution.iterrows():\n",
    "    if row['srch_id'] != current_srch_id:\n",
    "        rank = 1\n",
    "    current_srch_id = row['srch_id']\n",
    "    current_prop_id = row['prop_id']\n",
    "    \n",
    "    correct_value = df2.loc[(df2['srch_id'] == current_srch_id) & (df2['prop_id'] == current_prop_id)]\n",
    "    if len(correct_value) > 0:\n",
    "        if correct_value['booking_bool'].iloc[0] == 1:\n",
    "            dcg_row = 5 / math.log(rank+1,2)\n",
    "            dcg = dcg + dcg_row\n",
    "        elif correct_value['click_bool'].iloc[0] == 1:\n",
    "            dcg_row = 1 / math.log(rank+1,2)\n",
    "            dcg = dcg + dcg_row\n",
    "    rank = rank + 1"
   ]
  },
  {
   "cell_type": "code",
   "execution_count": 8,
   "metadata": {},
   "outputs": [],
   "source": [
    "## testset op goeie volgorde krijgen\n",
    "testset_volgorde = testset.sort_values(['srch_id','booking_bool', 'click_bool'], ascending=[True, False, False])"
   ]
  },
  {
   "cell_type": "code",
   "execution_count": 48,
   "metadata": {},
   "outputs": [],
   "source": [
    "def getDCG(solution):\n",
    "    current_srch_id = None\n",
    "    rank = None\n",
    "    dcg = 0#Discounted Cumulative Gain\n",
    "    for index, row in solution.iterrows():\n",
    "        if row['srch_id'] != current_srch_id:\n",
    "            rank = 1\n",
    "        current_srch_id = row['srch_id']\n",
    "        current_prop_id = row['prop_id']\n",
    "    \n",
    "        correct_value = df2.loc[(df2['srch_id'] == current_srch_id) & (df2['prop_id'] == current_prop_id)]\n",
    "        if len(correct_value) > 0:\n",
    "            if correct_value['booking_bool'].iloc[0] == 1:\n",
    "                dcg_row = 5 / math.log(rank+1,2)\n",
    "                dcg = dcg + dcg_row\n",
    "            elif correct_value['click_bool'].iloc[0] == 1:\n",
    "                dcg_row = 1 / math.log(rank+1,2)\n",
    "                dcg = dcg + dcg_row\n",
    "        rank = rank + 1\n",
    "    return dcg"
   ]
  },
  {
   "cell_type": "code",
   "execution_count": 10,
   "metadata": {},
   "outputs": [],
   "source": [
    "dcg = getDCG(created_solution)\n",
    "idcg = getDCG(testset_volgorde[['srch_id','prop_id']])\n",
    "ndcg = dcg/idcg"
   ]
  },
  {
   "cell_type": "code",
   "execution_count": 11,
   "metadata": {},
   "outputs": [
    {
     "data": {
      "text/plain": [
       "0.43067655807339306"
      ]
     },
     "execution_count": 11,
     "metadata": {},
     "output_type": "execute_result"
    }
   ],
   "source": [
    "ndcg"
   ]
  },
  {
   "cell_type": "markdown",
   "metadata": {},
   "source": [
    "Simple benchmark"
   ]
  },
  {
   "cell_type": "code",
   "execution_count": 53,
   "metadata": {},
   "outputs": [],
   "source": [
    "searchids = testset.srch_id.unique()\n",
    "testset_zonder = testset[['srch_id','prop_id']]\n",
    "outcome_benchmark = pd.DataFrame()\n",
    "\n",
    "\n",
    "for sid in searchids:\n",
    "    data_srch_id = testset_zonder.loc[(testset['srch_id'] == sid)]\n",
    "    sample_of_srch_id = data_srch_id.sample(5)\n",
    "    outcome_benchmark = pd.concat([newDF,sample_of_srch_id])\n"
   ]
  },
  {
   "cell_type": "code",
   "execution_count": 54,
   "metadata": {
    "scrolled": true
   },
   "outputs": [
    {
     "data": {
      "text/plain": [
       "0.4005149978319906"
      ]
     },
     "execution_count": 54,
     "metadata": {},
     "output_type": "execute_result"
    }
   ],
   "source": [
    "dcg_b = getDCG(outcome_benchmark)\n",
    "idcg_b = getDCG(testset_volgorde[['srch_id','prop_id']])\n",
    "ndcg_b = dcg_b/idcg_b\n",
    "ndcg_b"
   ]
  },
  {
   "cell_type": "code",
   "execution_count": null,
   "metadata": {},
   "outputs": [],
   "source": []
  }
 ],
 "metadata": {
  "kernelspec": {
   "display_name": "Python 3",
   "language": "python",
   "name": "python3"
  },
  "language_info": {
   "codemirror_mode": {
    "name": "ipython",
    "version": 3
   },
   "file_extension": ".py",
   "mimetype": "text/x-python",
   "name": "python",
   "nbconvert_exporter": "python",
   "pygments_lexer": "ipython3",
   "version": "3.6.5"
  }
 },
 "nbformat": 4,
 "nbformat_minor": 2
}
