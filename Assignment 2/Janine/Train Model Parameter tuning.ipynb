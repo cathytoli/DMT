{
 "cells": [
  {
   "cell_type": "code",
   "execution_count": 1,
   "metadata": {},
   "outputs": [],
   "source": [
    "import pandas as pd\n",
    "import numpy as np\n",
    "import sklearn\n",
    "from xgboost import XGBClassifier\n",
    "import xgboost\n",
    "from collections import Counter\n",
    "from sklearn.model_selection import train_test_split\n",
    "from sklearn.metrics import accuracy_score\n",
    "from sklearn.metrics import classification_report\n",
    "from xgboost.sklearn import XGBClassifier\n",
    "from sklearn import metrics   #Additional scklearn functions\n",
    "from sklearn.model_selection import cross_validate,GridSearchCV\n",
    "\n",
    "import pickle\n",
    "from sklearn.utils import shuffle\n",
    "import json\n",
    "import os\n",
    "from xgboost import XGBClassifier\n",
    "from matplotlib import pyplot\n",
    "import matplotlib.pylab as plt\n",
    "%matplotlib inline\n",
    "import math"
   ]
  },
  {
   "cell_type": "code",
   "execution_count": 2,
   "metadata": {},
   "outputs": [],
   "source": [
    "#Don't use datetime, Don't use categorical features, xgboost doesn't do those, first one hot encode\n",
    "featuresToUse = ['visitor_hist_starrating', 'visitor_hist_adr_usd',\n",
    "       'prop_starrating', 'prop_review_score', 'prop_brand_bool',\n",
    "       'prop_location_score1', 'prop_location_score2',\n",
    "       'prop_log_historical_price', 'price_usd', 'promotion_flag',\n",
    "       'srch_length_of_stay', 'srch_booking_window',\n",
    "       'srch_adults_count', 'srch_children_count', 'srch_room_count',\n",
    "       'srch_saturday_night_bool', 'srch_query_affinity_score',\n",
    "       'orig_destination_distance', 'comp1_rate', 'comp1_inv',\n",
    "                 'mean_prop_starrating',\n",
    "       'mean_prop_review_score', 'mean_prop_brand_bool',\n",
    "       'mean_prop_location_score1', 'mean_prop_location_score2',   'mean_prop_log_historical_price','cluster__0','cluster__1','cluster__2','cluster__3','cluster__4','cluster__5','diff_distance_orig','diff_price_usd']\n",
    "labelToPredict = 'booking_bool'\n",
    "neededVars = ['srch_id','click_bool']\n",
    "nameOfModel = \"models/10mayClickingOverFitTest\""
   ]
  },
  {
   "cell_type": "code",
   "execution_count": 3,
   "metadata": {},
   "outputs": [],
   "source": [
    "dftrain = pd.read_csv('C:/Users/janine van wonderen/Desktop/dmt2/80PercentTrainWithMeanNoShuffle.csv', delimiter=\",\",usecols=featuresToUse+[labelToPredict]+neededVars)\n",
    "#dftrain = dftrain.sample(frac=0.2)\n",
    "Y = dftrain[labelToPredict]"
   ]
  },
  {
   "cell_type": "code",
   "execution_count": 6,
   "metadata": {},
   "outputs": [
    {
     "ename": "SyntaxError",
     "evalue": "invalid syntax (<ipython-input-6-4e09083d5bf7>, line 1)",
     "output_type": "error",
     "traceback": [
      "\u001b[1;36m  File \u001b[1;32m\"<ipython-input-6-4e09083d5bf7>\"\u001b[1;36m, line \u001b[1;32m1\u001b[0m\n\u001b[1;33m    'min_child_weight':range(1,12,2),\u001b[0m\n\u001b[1;37m                                    ^\u001b[0m\n\u001b[1;31mSyntaxError\u001b[0m\u001b[1;31m:\u001b[0m invalid syntax\n"
     ]
    }
   ],
   "source": [
    " 'min_child_weight':range(1,12,2),\n",
    " 'subsample':[i/10.0 for i in range(6,10)],\n",
    " 'colsample_bytree':[i/10.0 for i in range(6,10)],\n",
    " 'gamma':[i/10.0 for i in range(0,5)],\n",
    " 'learning_rate':[i/10.0 for i in range(0,10)]"
   ]
  },
  {
   "cell_type": "code",
   "execution_count": null,
   "metadata": {},
   "outputs": [
    {
     "name": "stdout",
     "output_type": "stream",
     "text": [
      "Fitting 5 folds for each of 1 candidates, totalling 5 fits\n",
      "Pickling array (shape=(34,), dtype=object).\n",
      "Memmaping (shape=(17, 3966678), dtype=float64) to new file C:\\Users\\JANINE~1\\AppData\\Local\\Temp\\joblib_memmaping_pool_45136_2343746638008\\45136-2343931254376-c737269c95d91fedbe1e596cd7c1c81d.pkl\n",
      "Memmaping (shape=(17, 3966678), dtype=int64) to new file C:\\Users\\JANINE~1\\AppData\\Local\\Temp\\joblib_memmaping_pool_45136_2343746638008\\45136-2343931254376-5fc2f56c1454004bd03035841e7c036f.pkl\n",
      "Pickling array (shape=(17,), dtype=object).\n",
      "Pickling array (shape=(17,), dtype=object).\n",
      "Pickling array (shape=(17,), dtype=int64).\n",
      "Pickling array (shape=(17,), dtype=int64).\n",
      "Memmaping (shape=(3966678,), dtype=int64) to new file C:\\Users\\JANINE~1\\AppData\\Local\\Temp\\joblib_memmaping_pool_45136_2343746638008\\45136-2343931254376-240dd334087555d3195ff9ad1e8f175f.pkl\n",
      "Memmaping (shape=(3173342,), dtype=int32) to new file C:\\Users\\JANINE~1\\AppData\\Local\\Temp\\joblib_memmaping_pool_45136_2343746638008\\45136-2343931254376-7efcd8f6c09505899bbdd31e9f7c4a19.pkl\n",
      "Memmaping (shape=(793336,), dtype=int32) to new file C:\\Users\\JANINE~1\\AppData\\Local\\Temp\\joblib_memmaping_pool_45136_2343746638008\\45136-2343931254376-2046e892d6991da429f16c6a1e3a6387.pkl\n",
      "Pickling array (shape=(34,), dtype=object).\n",
      "Memmaping (shape=(17, 3966678), dtype=float64) to old file C:\\Users\\JANINE~1\\AppData\\Local\\Temp\\joblib_memmaping_pool_45136_2343746638008\\45136-2343931254376-c737269c95d91fedbe1e596cd7c1c81d.pkl\n",
      "Memmaping (shape=(17, 3966678), dtype=int64) to old file C:\\Users\\JANINE~1\\AppData\\Local\\Temp\\joblib_memmaping_pool_45136_2343746638008\\45136-2343931254376-5fc2f56c1454004bd03035841e7c036f.pkl\n",
      "Pickling array (shape=(17,), dtype=object).\n",
      "Pickling array (shape=(17,), dtype=object).\n",
      "Pickling array (shape=(17,), dtype=int64).\n",
      "Pickling array (shape=(17,), dtype=int64).\n",
      "Memmaping (shape=(3966678,), dtype=int64) to old file C:\\Users\\JANINE~1\\AppData\\Local\\Temp\\joblib_memmaping_pool_45136_2343746638008\\45136-2343931254376-240dd334087555d3195ff9ad1e8f175f.pkl\n",
      "Memmaping (shape=(3173342,), dtype=int32) to new file C:\\Users\\JANINE~1\\AppData\\Local\\Temp\\joblib_memmaping_pool_45136_2343746638008\\45136-2343931254376-f5700730143a18bc8297fce286fc6ab4.pkl\n",
      "Memmaping (shape=(793336,), dtype=int32) to new file C:\\Users\\JANINE~1\\AppData\\Local\\Temp\\joblib_memmaping_pool_45136_2343746638008\\45136-2343931254376-c6cc5afd47ee13f79e3ea5ae18b12560.pkl\n",
      "Pickling array (shape=(34,), dtype=object).\n",
      "Memmaping (shape=(17, 3966678), dtype=float64) to old file C:\\Users\\JANINE~1\\AppData\\Local\\Temp\\joblib_memmaping_pool_45136_2343746638008\\45136-2343931254376-c737269c95d91fedbe1e596cd7c1c81d.pkl\n",
      "Memmaping (shape=(17, 3966678), dtype=int64) to old file C:\\Users\\JANINE~1\\AppData\\Local\\Temp\\joblib_memmaping_pool_45136_2343746638008\\45136-2343931254376-5fc2f56c1454004bd03035841e7c036f.pkl\n",
      "Pickling array (shape=(17,), dtype=object).\n",
      "Pickling array (shape=(17,), dtype=object).\n",
      "Pickling array (shape=(17,), dtype=int64).\n",
      "Pickling array (shape=(17,), dtype=int64).\n",
      "Memmaping (shape=(3966678,), dtype=int64) to old file C:\\Users\\JANINE~1\\AppData\\Local\\Temp\\joblib_memmaping_pool_45136_2343746638008\\45136-2343931254376-240dd334087555d3195ff9ad1e8f175f.pkl\n",
      "Memmaping (shape=(3173342,), dtype=int32) to new file C:\\Users\\JANINE~1\\AppData\\Local\\Temp\\joblib_memmaping_pool_45136_2343746638008\\45136-2343931254376-2d1b37329e3bc3362c06f70376ad37b4.pkl\n",
      "Memmaping (shape=(793336,), dtype=int32) to new file C:\\Users\\JANINE~1\\AppData\\Local\\Temp\\joblib_memmaping_pool_45136_2343746638008\\45136-2343931254376-3e587f65aa28b6fb19a34c9f9b616d0d.pkl\n",
      "Pickling array (shape=(34,), dtype=object).\n",
      "Memmaping (shape=(17, 3966678), dtype=float64) to old file C:\\Users\\JANINE~1\\AppData\\Local\\Temp\\joblib_memmaping_pool_45136_2343746638008\\45136-2343931254376-c737269c95d91fedbe1e596cd7c1c81d.pkl\n",
      "Memmaping (shape=(17, 3966678), dtype=int64) to old file C:\\Users\\JANINE~1\\AppData\\Local\\Temp\\joblib_memmaping_pool_45136_2343746638008\\45136-2343931254376-5fc2f56c1454004bd03035841e7c036f.pkl\n",
      "Pickling array (shape=(17,), dtype=object).\n",
      "Pickling array (shape=(17,), dtype=object).\n",
      "Pickling array (shape=(17,), dtype=int64).\n",
      "Pickling array (shape=(17,), dtype=int64).\n",
      "Memmaping (shape=(3966678,), dtype=int64) to old file C:\\Users\\JANINE~1\\AppData\\Local\\Temp\\joblib_memmaping_pool_45136_2343746638008\\45136-2343931254376-240dd334087555d3195ff9ad1e8f175f.pkl\n",
      "Memmaping (shape=(3173343,), dtype=int32) to new file C:\\Users\\JANINE~1\\AppData\\Local\\Temp\\joblib_memmaping_pool_45136_2343746638008\\45136-2343931254376-a36b95182d718747a5a41755972de554.pkl\n",
      "Memmaping (shape=(793335,), dtype=int32) to new file C:\\Users\\JANINE~1\\AppData\\Local\\Temp\\joblib_memmaping_pool_45136_2343746638008\\45136-2343931254376-b902b097c92f59c51ad6a90893c27008.pkl\n",
      "[Parallel(n_jobs=2)]: Done   1 tasks      | elapsed: 45.6min\n",
      "Pickling array (shape=(34,), dtype=object).\n",
      "Memmaping (shape=(17, 3966678), dtype=float64) to old file C:\\Users\\JANINE~1\\AppData\\Local\\Temp\\joblib_memmaping_pool_45136_2343746638008\\45136-2343931254376-c737269c95d91fedbe1e596cd7c1c81d.pkl\n",
      "Memmaping (shape=(17, 3966678), dtype=int64) to old file C:\\Users\\JANINE~1\\AppData\\Local\\Temp\\joblib_memmaping_pool_45136_2343746638008\\45136-2343931254376-5fc2f56c1454004bd03035841e7c036f.pkl\n",
      "Pickling array (shape=(17,), dtype=object).\n",
      "Pickling array (shape=(17,), dtype=object).\n",
      "Pickling array (shape=(17,), dtype=int64).\n",
      "Pickling array (shape=(17,), dtype=int64).\n",
      "Memmaping (shape=(3966678,), dtype=int64) to old file C:\\Users\\JANINE~1\\AppData\\Local\\Temp\\joblib_memmaping_pool_45136_2343746638008\\45136-2343931254376-240dd334087555d3195ff9ad1e8f175f.pkl\n",
      "Memmaping (shape=(3173343,), dtype=int32) to new file C:\\Users\\JANINE~1\\AppData\\Local\\Temp\\joblib_memmaping_pool_45136_2343746638008\\45136-2343931254376-19f57cdae2e5ee737c868f159072ea91.pkl\n",
      "Memmaping (shape=(793335,), dtype=int32) to new file C:\\Users\\JANINE~1\\AppData\\Local\\Temp\\joblib_memmaping_pool_45136_2343746638008\\45136-2343931254376-6118466c4181e6b5c4514fef0e198295.pkl\n",
      "[Parallel(n_jobs=2)]: Done   2 tasks      | elapsed: 46.0min\n",
      "[Parallel(n_jobs=2)]: Done   3 out of   5 | elapsed: 90.7min remaining: 60.5min\n",
      "[Parallel(n_jobs=2)]: Done   5 out of   5 | elapsed: 116.3min remaining:    0.0s\n",
      "[Parallel(n_jobs=2)]: Done   5 out of   5 | elapsed: 116.3min finished\n"
     ]
    }
   ],
   "source": [
    "\n",
    "gsearch1 = GridSearchCV(estimator = XGBClassifier( learning_rate = 0.2, n_estimators=200, max_depth=7,\n",
    "min_child_weight=4, gamma=2, subsample=0.8, colsample_bytree=0.7,\n",
    "objective= 'reg:logistic', nthread=-1, scale_pos_weight=sum(Y==0)/sum(Y==1), seed=12,verbosity=3), \n",
    "#param_grid = param_test1, scoring='roc_auc',n_jobs=5,iid=False, cv=5,verbose = 100, eta =0.2, early_stopping_rounds = 50)\n",
    "scoring='roc_auc',n_jobs=2,iid=False, cv=5,verbose = 100, param_grid ={})\n",
    "\n",
    "gsearch1.fit(dftrain[featuresToUse],dftrain[labelToPredict])\n",
    "gsearch1.cv_results_"
   ]
  },
  {
   "cell_type": "code",
   "execution_count": null,
   "metadata": {},
   "outputs": [
    {
     "name": "stdout",
     "output_type": "stream",
     "text": [
      "Fitting 5 folds for each of 1 candidates, totalling 5 fits\n",
      "Pickling array (shape=(34,), dtype=object).\n",
      "Memmaping (shape=(793336,), dtype=int64) to new file C:\\Users\\JANINE~1\\AppData\\Local\\Temp\\joblib_memmaping_pool_2588_2369197899336\\2588-2368676135600-d2b824c092369c3b777e08a0db811531.pkl\n",
      "Memmaping (shape=(17, 793336), dtype=float64) to new file C:\\Users\\JANINE~1\\AppData\\Local\\Temp\\joblib_memmaping_pool_2588_2369197899336\\2588-2368676135600-5ac178a60fef4ec2088d666d9fd4e0db.pkl\n",
      "Memmaping (shape=(17, 793336), dtype=int64) to new file C:\\Users\\JANINE~1\\AppData\\Local\\Temp\\joblib_memmaping_pool_2588_2369197899336\\2588-2368676135600-965908e2c066cbbb104dbf5bfb2cf1bd.pkl\n",
      "Pickling array (shape=(17,), dtype=object).\n",
      "Pickling array (shape=(17,), dtype=object).\n",
      "Pickling array (shape=(17,), dtype=int64).\n",
      "Pickling array (shape=(17,), dtype=int64).\n",
      "Memmaping (shape=(793336,), dtype=int64) to new file C:\\Users\\JANINE~1\\AppData\\Local\\Temp\\joblib_memmaping_pool_2588_2369197899336\\2588-2368676135600-52058b44aa5735bba8112769120e000e.pkl\n",
      "Memmaping (shape=(793336,), dtype=int64) to old file C:\\Users\\JANINE~1\\AppData\\Local\\Temp\\joblib_memmaping_pool_2588_2369197899336\\2588-2368676135600-d2b824c092369c3b777e08a0db811531.pkl\n",
      "Memmaping (shape=(634668,), dtype=int32) to new file C:\\Users\\JANINE~1\\AppData\\Local\\Temp\\joblib_memmaping_pool_2588_2369197899336\\2588-2368676135600-48bf5134cd8e87ba54d5606f33bcfbe7.pkl\n",
      "Pickling array (shape=(158668,), dtype=int32).\n",
      "Pickling array (shape=(34,), dtype=object).\n",
      "Memmaping (shape=(793336,), dtype=int64) to old file C:\\Users\\JANINE~1\\AppData\\Local\\Temp\\joblib_memmaping_pool_2588_2369197899336\\2588-2368676135600-d2b824c092369c3b777e08a0db811531.pkl\n",
      "Memmaping (shape=(17, 793336), dtype=float64) to old file C:\\Users\\JANINE~1\\AppData\\Local\\Temp\\joblib_memmaping_pool_2588_2369197899336\\2588-2368676135600-5ac178a60fef4ec2088d666d9fd4e0db.pkl\n",
      "Memmaping (shape=(17, 793336), dtype=int64) to old file C:\\Users\\JANINE~1\\AppData\\Local\\Temp\\joblib_memmaping_pool_2588_2369197899336\\2588-2368676135600-965908e2c066cbbb104dbf5bfb2cf1bd.pkl\n",
      "Pickling array (shape=(17,), dtype=object).\n",
      "Pickling array (shape=(17,), dtype=object).\n",
      "Pickling array (shape=(17,), dtype=int64).\n",
      "Pickling array (shape=(17,), dtype=int64).\n",
      "Memmaping (shape=(793336,), dtype=int64) to old file C:\\Users\\JANINE~1\\AppData\\Local\\Temp\\joblib_memmaping_pool_2588_2369197899336\\2588-2368676135600-52058b44aa5735bba8112769120e000e.pkl\n",
      "Memmaping (shape=(793336,), dtype=int64) to old file C:\\Users\\JANINE~1\\AppData\\Local\\Temp\\joblib_memmaping_pool_2588_2369197899336\\2588-2368676135600-d2b824c092369c3b777e08a0db811531.pkl\n",
      "Memmaping (shape=(634669,), dtype=int32) to new file C:\\Users\\JANINE~1\\AppData\\Local\\Temp\\joblib_memmaping_pool_2588_2369197899336\\2588-2368676135600-7e6ca8970d57b460c8940789504349d3.pkl\n",
      "Pickling array (shape=(158667,), dtype=int32).\n",
      "Pickling array (shape=(34,), dtype=object).\n",
      "Memmaping (shape=(793336,), dtype=int64) to old file C:\\Users\\JANINE~1\\AppData\\Local\\Temp\\joblib_memmaping_pool_2588_2369197899336\\2588-2368676135600-d2b824c092369c3b777e08a0db811531.pkl\n",
      "Memmaping (shape=(17, 793336), dtype=float64) to old file C:\\Users\\JANINE~1\\AppData\\Local\\Temp\\joblib_memmaping_pool_2588_2369197899336\\2588-2368676135600-5ac178a60fef4ec2088d666d9fd4e0db.pkl\n",
      "Memmaping (shape=(17, 793336), dtype=int64) to old file C:\\Users\\JANINE~1\\AppData\\Local\\Temp\\joblib_memmaping_pool_2588_2369197899336\\2588-2368676135600-965908e2c066cbbb104dbf5bfb2cf1bd.pkl\n",
      "Pickling array (shape=(17,), dtype=object).\n",
      "Pickling array (shape=(17,), dtype=object).\n",
      "Pickling array (shape=(17,), dtype=int64).\n",
      "Pickling array (shape=(17,), dtype=int64).\n",
      "Memmaping (shape=(793336,), dtype=int64) to old file C:\\Users\\JANINE~1\\AppData\\Local\\Temp\\joblib_memmaping_pool_2588_2369197899336\\2588-2368676135600-52058b44aa5735bba8112769120e000e.pkl\n",
      "Memmaping (shape=(793336,), dtype=int64) to old file C:\\Users\\JANINE~1\\AppData\\Local\\Temp\\joblib_memmaping_pool_2588_2369197899336\\2588-2368676135600-d2b824c092369c3b777e08a0db811531.pkl\n",
      "Memmaping (shape=(634669,), dtype=int32) to new file C:\\Users\\JANINE~1\\AppData\\Local\\Temp\\joblib_memmaping_pool_2588_2369197899336\\2588-2368676135600-1dfdfbdfcbe104d85f40831b294cbc5c.pkl\n",
      "Pickling array (shape=(158667,), dtype=int32).\n",
      "Pickling array (shape=(34,), dtype=object).\n",
      "Memmaping (shape=(793336,), dtype=int64) to old file C:\\Users\\JANINE~1\\AppData\\Local\\Temp\\joblib_memmaping_pool_2588_2369197899336\\2588-2368676135600-d2b824c092369c3b777e08a0db811531.pkl\n",
      "Memmaping (shape=(17, 793336), dtype=float64) to old file C:\\Users\\JANINE~1\\AppData\\Local\\Temp\\joblib_memmaping_pool_2588_2369197899336\\2588-2368676135600-5ac178a60fef4ec2088d666d9fd4e0db.pkl\n",
      "Memmaping (shape=(17, 793336), dtype=int64) to old file C:\\Users\\JANINE~1\\AppData\\Local\\Temp\\joblib_memmaping_pool_2588_2369197899336\\2588-2368676135600-965908e2c066cbbb104dbf5bfb2cf1bd.pkl\n",
      "Pickling array (shape=(17,), dtype=object).\n",
      "Pickling array (shape=(17,), dtype=object).\n",
      "Pickling array (shape=(17,), dtype=int64).\n",
      "Pickling array (shape=(17,), dtype=int64).\n",
      "Memmaping (shape=(793336,), dtype=int64) to old file C:\\Users\\JANINE~1\\AppData\\Local\\Temp\\joblib_memmaping_pool_2588_2369197899336\\2588-2368676135600-52058b44aa5735bba8112769120e000e.pkl\n",
      "Memmaping (shape=(793336,), dtype=int64) to old file C:\\Users\\JANINE~1\\AppData\\Local\\Temp\\joblib_memmaping_pool_2588_2369197899336\\2588-2368676135600-d2b824c092369c3b777e08a0db811531.pkl\n",
      "Memmaping (shape=(634669,), dtype=int32) to new file C:\\Users\\JANINE~1\\AppData\\Local\\Temp\\joblib_memmaping_pool_2588_2369197899336\\2588-2368676135600-2f1be5b8b3a4f9916ddacb72df438910.pkl\n",
      "Pickling array (shape=(158667,), dtype=int32).\n",
      "Pickling array (shape=(34,), dtype=object).\n",
      "Memmaping (shape=(793336,), dtype=int64) to old file C:\\Users\\JANINE~1\\AppData\\Local\\Temp\\joblib_memmaping_pool_2588_2369197899336\\2588-2368676135600-d2b824c092369c3b777e08a0db811531.pkl\n",
      "Memmaping (shape=(17, 793336), dtype=float64) to old file C:\\Users\\JANINE~1\\AppData\\Local\\Temp\\joblib_memmaping_pool_2588_2369197899336\\2588-2368676135600-5ac178a60fef4ec2088d666d9fd4e0db.pkl\n",
      "Memmaping (shape=(17, 793336), dtype=int64) to old file C:\\Users\\JANINE~1\\AppData\\Local\\Temp\\joblib_memmaping_pool_2588_2369197899336\\2588-2368676135600-965908e2c066cbbb104dbf5bfb2cf1bd.pkl\n",
      "Pickling array (shape=(17,), dtype=object).\n",
      "Pickling array (shape=(17,), dtype=object).\n",
      "Pickling array (shape=(17,), dtype=int64).\n",
      "Pickling array (shape=(17,), dtype=int64).\n",
      "Memmaping (shape=(793336,), dtype=int64) to old file C:\\Users\\JANINE~1\\AppData\\Local\\Temp\\joblib_memmaping_pool_2588_2369197899336\\2588-2368676135600-52058b44aa5735bba8112769120e000e.pkl\n",
      "Memmaping (shape=(793336,), dtype=int64) to old file C:\\Users\\JANINE~1\\AppData\\Local\\Temp\\joblib_memmaping_pool_2588_2369197899336\\2588-2368676135600-d2b824c092369c3b777e08a0db811531.pkl\n",
      "Memmaping (shape=(634669,), dtype=int32) to new file C:\\Users\\JANINE~1\\AppData\\Local\\Temp\\joblib_memmaping_pool_2588_2369197899336\\2588-2368676135600-ed7cd84c279125a819089457e5a64edf.pkl\n",
      "Pickling array (shape=(158667,), dtype=int32).\n"
     ]
    }
   ],
   "source": [
    "param_test1 = {\n",
    " 'subsample':[i/10.0 for i in range(6,10)],\n",
    "\n",
    "}\n",
    "\n",
    "\n",
    "\n",
    "gsearch1 = GridSearchCV(estimator = XGBClassifier( learning_rate = 0.2, n_estimators=120, max_depth=7,\n",
    "min_child_weight=4, gamma=2, subsample=0.8, colsample_bytree=0.7,\n",
    "objective= 'reg:logistic', nthread=-1, scale_pos_weight=sum(Y==0)/sum(Y==1), seed=12,verbosity=3), \n",
    "#param_grid = param_test1, scoring='roc_auc',n_jobs=5,iid=False, cv=5,verbose = 100, eta =0.2, early_stopping_rounds = 50)\n",
    "scoring='roc_auc',n_jobs=5,iid=False, cv=5,verbose = 100, param_grid ={})\n",
    "\n",
    "gsearch1.fit(dftrain[featuresToUse],dftrain[labelToPredict])\n",
    "gsearch1.cv_results_"
   ]
  },
  {
   "cell_type": "code",
   "execution_count": 20,
   "metadata": {},
   "outputs": [
    {
     "name": "stderr",
     "output_type": "stream",
     "text": [
      "C:\\Users\\janine van wonderen\\Anaconda3\\lib\\site-packages\\sklearn\\utils\\deprecation.py:122: FutureWarning: You are accessing a training score ('split0_train_score'), which will not be available by default any more in 0.21. If you need training scores, please set return_train_score=True\n",
      "  warnings.warn(*warn_args, **warn_kwargs)\n",
      "C:\\Users\\janine van wonderen\\Anaconda3\\lib\\site-packages\\sklearn\\utils\\deprecation.py:122: FutureWarning: You are accessing a training score ('split1_train_score'), which will not be available by default any more in 0.21. If you need training scores, please set return_train_score=True\n",
      "  warnings.warn(*warn_args, **warn_kwargs)\n",
      "C:\\Users\\janine van wonderen\\Anaconda3\\lib\\site-packages\\sklearn\\utils\\deprecation.py:122: FutureWarning: You are accessing a training score ('split2_train_score'), which will not be available by default any more in 0.21. If you need training scores, please set return_train_score=True\n",
      "  warnings.warn(*warn_args, **warn_kwargs)\n",
      "C:\\Users\\janine van wonderen\\Anaconda3\\lib\\site-packages\\sklearn\\utils\\deprecation.py:122: FutureWarning: You are accessing a training score ('split3_train_score'), which will not be available by default any more in 0.21. If you need training scores, please set return_train_score=True\n",
      "  warnings.warn(*warn_args, **warn_kwargs)\n",
      "C:\\Users\\janine van wonderen\\Anaconda3\\lib\\site-packages\\sklearn\\utils\\deprecation.py:122: FutureWarning: You are accessing a training score ('split4_train_score'), which will not be available by default any more in 0.21. If you need training scores, please set return_train_score=True\n",
      "  warnings.warn(*warn_args, **warn_kwargs)\n",
      "C:\\Users\\janine van wonderen\\Anaconda3\\lib\\site-packages\\sklearn\\utils\\deprecation.py:122: FutureWarning: You are accessing a training score ('mean_train_score'), which will not be available by default any more in 0.21. If you need training scores, please set return_train_score=True\n",
      "  warnings.warn(*warn_args, **warn_kwargs)\n",
      "C:\\Users\\janine van wonderen\\Anaconda3\\lib\\site-packages\\sklearn\\utils\\deprecation.py:122: FutureWarning: You are accessing a training score ('std_train_score'), which will not be available by default any more in 0.21. If you need training scores, please set return_train_score=True\n",
      "  warnings.warn(*warn_args, **warn_kwargs)\n"
     ]
    },
    {
     "data": {
      "text/plain": [
       "{'mean_fit_time': array([614.6001833 , 641.48929811, 657.90498209, 652.89113135]),\n",
       " 'std_fit_time': array([3.05831246, 4.14097492, 1.51256237, 1.55344904]),\n",
       " 'mean_score_time': array([3.39600725, 2.52249084, 2.88969498, 2.67172189]),\n",
       " 'std_score_time': array([0.37847411, 0.44222696, 0.45000238, 0.85470684]),\n",
       " 'param_subsample': masked_array(data=[0.6, 0.7, 0.8, 0.9],\n",
       "              mask=[False, False, False, False],\n",
       "        fill_value='?',\n",
       "             dtype=object),\n",
       " 'params': [{'subsample': 0.6},\n",
       "  {'subsample': 0.7},\n",
       "  {'subsample': 0.8},\n",
       "  {'subsample': 0.9}],\n",
       " 'split0_test_score': array([0.72391463, 0.72307536, 0.72263806, 0.7215132 ]),\n",
       " 'split1_test_score': array([0.72836793, 0.7294123 , 0.72989364, 0.73007944]),\n",
       " 'split2_test_score': array([0.72336396, 0.72537122, 0.72631281, 0.72616549]),\n",
       " 'split3_test_score': array([0.71517792, 0.7150063 , 0.71565247, 0.71589259]),\n",
       " 'split4_test_score': array([0.73022948, 0.72990919, 0.73112273, 0.73120161]),\n",
       " 'mean_test_score': array([0.72421078, 0.72455487, 0.72512394, 0.72497047]),\n",
       " 'std_test_score': array([0.00521352, 0.00540914, 0.00558636, 0.00566952]),\n",
       " 'rank_test_score': array([4, 3, 1, 2]),\n",
       " 'split0_train_score': array([0.76128988, 0.76170964, 0.76271741, 0.76377088]),\n",
       " 'split1_train_score': array([0.75960324, 0.7599082 , 0.76127728, 0.76143214]),\n",
       " 'split2_train_score': array([0.76011018, 0.7631207 , 0.76152839, 0.76224887]),\n",
       " 'split3_train_score': array([0.76226129, 0.76328147, 0.76358833, 0.76334684]),\n",
       " 'split4_train_score': array([0.7596126 , 0.76078093, 0.76019611, 0.76053095]),\n",
       " 'mean_train_score': array([0.76057544, 0.76176019, 0.7618615 , 0.76226594]),\n",
       " 'std_train_score': array([0.00104319, 0.00130818, 0.00117816, 0.0011949 ])}"
      ]
     },
     "execution_count": 20,
     "metadata": {},
     "output_type": "execute_result"
    }
   ],
   "source": [
    "gsearch1.cv_results_"
   ]
  },
  {
   "cell_type": "code",
   "execution_count": 21,
   "metadata": {},
   "outputs": [],
   "source": [
    "file = open(\"C:/Users/janine van wonderen/Desktop/dmt2/cvScores_subsample.txt\", \"w\")\n",
    " \n",
    "file.write(str(gsearch1.cv_results_))\n",
    "#file.write(\"hoi\")\n",
    "file.close() "
   ]
  },
  {
   "cell_type": "code",
   "execution_count": 14,
   "metadata": {},
   "outputs": [
    {
     "data": {
      "text/plain": [
       "\"{'mean_fit_time': array([545.62605639, 529.4108459 , 598.29638944, 653.38642454]), 'std_fit_time': array([3.84629962, 2.34338528, 1.41792997, 2.78657898]), 'mean_score_time': array([3.14944816, 2.95071268, 2.97823987, 2.27491965]), 'std_score_time': array([0.62709815, 0.29124104, 0.0926777 , 0.44488871]), 'param_colsample_bytree': masked_array(data=[0.6, 0.7, 0.8, 0.9],\\n             mask=[False, False, False, False],\\n       fill_value='?',\\n            dtype=object), 'params': [{'colsample_bytree': 0.6}, {'colsample_bytree': 0.7}, {'colsample_bytree': 0.8}, {'colsample_bytree': 0.9}], 'split0_test_score': array([0.7225775 , 0.72335726, 0.72263806, 0.72158831]), 'split1_test_score': array([0.72891626, 0.72945452, 0.72989364, 0.72961015]), 'split2_test_score': array([0.72573875, 0.7255697 , 0.72631281, 0.72728748]), 'split3_test_score': array([0.71603454, 0.71591737, 0.71565247, 0.7154386 ]), 'split4_test_score': array([0.72993059, 0.73140696, 0.73112273, 0.73147886]), 'mean_test_score': array([0.72463953, 0.72514116, 0.72512394, 0.72508068]), 'std_test_score': array([0.00501581, 0.00540943, 0.00558636, 0.00585643]), 'rank_test_score': array([4, 1, 2, 3]), 'split0_train_score': array([0.76154208, 0.76173848, 0.76271741, 0.76150073]), 'split1_train_score': array([0.76000522, 0.76147711, 0.76127728, 0.76092914]), 'split2_train_score': array([0.7609959 , 0.76120248, 0.76152839, 0.76153938]), 'split3_train_score': array([0.76268279, 0.76304001, 0.76358833, 0.7636373 ]), 'split4_train_score': array([0.75972941, 0.75924094, 0.76019611, 0.7607638 ]), 'mean_train_score': array([0.76099108, 0.7613398 , 0.7618615 , 0.76167407]), 'std_train_score': array([0.00107044, 0.00122414, 0.00117816, 0.0010282 ])}\""
      ]
     },
     "execution_count": 14,
     "metadata": {},
     "output_type": "execute_result"
    }
   ],
   "source": [
    "str(gsearch1.cv_results_)"
   ]
  },
  {
   "cell_type": "code",
   "execution_count": null,
   "metadata": {},
   "outputs": [],
   "source": []
  }
 ],
 "metadata": {
  "kernelspec": {
   "display_name": "Python 3",
   "language": "python",
   "name": "python3"
  },
  "language_info": {
   "codemirror_mode": {
    "name": "ipython",
    "version": 3
   },
   "file_extension": ".py",
   "mimetype": "text/x-python",
   "name": "python",
   "nbconvert_exporter": "python",
   "pygments_lexer": "ipython3",
   "version": "3.6.5"
  }
 },
 "nbformat": 4,
 "nbformat_minor": 2
}
