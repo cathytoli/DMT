{
 "cells": [
  {
   "cell_type": "code",
   "execution_count": 2,
   "metadata": {},
   "outputs": [],
   "source": [
    "import pandas as pd\n",
    "import numpy as np\n",
    "import sklearn\n",
    "from xgboost import XGBClassifier\n",
    "import xgboost\n",
    "from collections import Counter\n",
    "from sklearn.model_selection import train_test_split\n",
    "from sklearn.metrics import accuracy_score\n",
    "from sklearn.metrics import classification_report\n",
    "import pickle\n",
    "from sklearn.utils import shuffle"
   ]
  },
  {
   "cell_type": "code",
   "execution_count": 3,
   "metadata": {},
   "outputs": [],
   "source": [
    "#Don't use datetime, Don't use categorical features, xgboost doesn't those, first one hot encode\n",
    "featuresToUse = ['prop_id', 'srch_id', 'visitor_hist_starrating', 'visitor_hist_adr_usd',\n",
    "       'prop_starrating', 'prop_review_score', 'prop_brand_bool',\n",
    "       'prop_location_score1', 'prop_location_score2',\n",
    "       'prop_log_historical_price', 'price_usd', 'promotion_flag',\n",
    "       'srch_destination_id', 'srch_length_of_stay', 'srch_booking_window',\n",
    "       'srch_adults_count', 'srch_children_count', 'srch_room_count',\n",
    "       'srch_saturday_night_bool', 'srch_query_affinity_score',\n",
    "       'orig_destination_distance', 'comp1_rate', 'comp1_inv']\n",
    "labelToPredict = 'click_bool'\n",
    "neededVars = ['booking_bool']\n",
    "nameOfModel = \"testJanine.model\""
   ]
  },
  {
   "cell_type": "code",
   "execution_count": 4,
   "metadata": {},
   "outputs": [],
   "source": [
    "df = pd.read_csv('C:/Users/janine van wonderen/Desktop/dmt2/80PercentTrainWithMean.csv', delimiter=\",\",usecols=featuresToUse+[labelToPredict]+neededVars)\n",
    "dfNeeded= df[neededVars+[labelToPredict]]\n",
    "Y = df[labelToPredict]\n",
    "df.drop(neededVars+[labelToPredict],axis=1,inplace=True)"
   ]
  },
  {
   "cell_type": "code",
   "execution_count": 5,
   "metadata": {},
   "outputs": [
    {
     "ename": "KeyError",
     "evalue": "'Column not found: booking_bool'",
     "output_type": "error",
     "traceback": [
      "\u001b[1;31m---------------------------------------------------------------------------\u001b[0m",
      "\u001b[1;31mKeyError\u001b[0m                                  Traceback (most recent call last)",
      "\u001b[1;32m<ipython-input-5-6b142b5dda16>\u001b[0m in \u001b[0;36m<module>\u001b[1;34m()\u001b[0m\n\u001b[1;32m----> 1\u001b[1;33m \u001b[0mdf\u001b[0m\u001b[1;33m[\u001b[0m\u001b[1;34m'Bookings_srch_des_prop_id'\u001b[0m\u001b[1;33m]\u001b[0m \u001b[1;33m=\u001b[0m \u001b[0mdf\u001b[0m\u001b[1;33m.\u001b[0m\u001b[0mgroupby\u001b[0m\u001b[1;33m(\u001b[0m\u001b[1;33m[\u001b[0m\u001b[1;34m'srch_destination_id'\u001b[0m\u001b[1;33m,\u001b[0m\u001b[1;34m'prop_id'\u001b[0m\u001b[1;33m]\u001b[0m\u001b[1;33m)\u001b[0m\u001b[1;33m[\u001b[0m\u001b[1;34m\"booking_bool\"\u001b[0m\u001b[1;33m]\u001b[0m\u001b[1;33m.\u001b[0m\u001b[0mtransform\u001b[0m\u001b[1;33m(\u001b[0m\u001b[0msu\u001b[0m\u001b[1;33m)\u001b[0m\u001b[1;33m\u001b[0m\u001b[0m\n\u001b[0m\u001b[0;32m      2\u001b[0m \u001b[0mdf\u001b[0m \u001b[1;33m=\u001b[0m \u001b[0mdf\u001b[0m\u001b[1;33m.\u001b[0m\u001b[0msort_values\u001b[0m\u001b[1;33m(\u001b[0m\u001b[1;33m[\u001b[0m\u001b[1;34m'prop_id'\u001b[0m\u001b[1;33m,\u001b[0m\u001b[1;34m'srch_destination_id'\u001b[0m\u001b[1;33m]\u001b[0m\u001b[1;33m)\u001b[0m\u001b[1;33m\u001b[0m\u001b[0m\n\u001b[0;32m      3\u001b[0m \u001b[0mdf\u001b[0m \u001b[1;33m=\u001b[0m \u001b[0mdf\u001b[0m\u001b[1;33m[\u001b[0m\u001b[1;33m[\u001b[0m\u001b[1;34m'prop_id'\u001b[0m\u001b[1;33m,\u001b[0m \u001b[1;34m'srch_destination_id'\u001b[0m\u001b[1;33m,\u001b[0m \u001b[1;34m'booking_bool'\u001b[0m\u001b[1;33m,\u001b[0m \u001b[1;34m\"Bookings_srch_des_prop_id\"\u001b[0m\u001b[1;33m]\u001b[0m\u001b[1;33m]\u001b[0m\u001b[1;33m\u001b[0m\u001b[0m\n\u001b[0;32m      4\u001b[0m \u001b[0mdf\u001b[0m \u001b[1;33m=\u001b[0m \u001b[0mdf\u001b[0m\u001b[1;33m.\u001b[0m\u001b[0mloc\u001b[0m\u001b[1;33m[\u001b[0m\u001b[0mdf\u001b[0m\u001b[1;33m[\u001b[0m\u001b[1;34m\"Aantal\"\u001b[0m\u001b[1;33m]\u001b[0m\u001b[1;33m>\u001b[0m\u001b[1;36m100\u001b[0m\u001b[1;33m]\u001b[0m\u001b[1;33m\u001b[0m\u001b[0m\n",
      "\u001b[1;32m~\\Anaconda3\\lib\\site-packages\\pandas\\core\\base.py\u001b[0m in \u001b[0;36m__getitem__\u001b[1;34m(self, key)\u001b[0m\n\u001b[0;32m    265\u001b[0m         \u001b[1;32melse\u001b[0m\u001b[1;33m:\u001b[0m\u001b[1;33m\u001b[0m\u001b[0m\n\u001b[0;32m    266\u001b[0m             \u001b[1;32mif\u001b[0m \u001b[0mkey\u001b[0m \u001b[1;32mnot\u001b[0m \u001b[1;32min\u001b[0m \u001b[0mself\u001b[0m\u001b[1;33m.\u001b[0m\u001b[0mobj\u001b[0m\u001b[1;33m:\u001b[0m\u001b[1;33m\u001b[0m\u001b[0m\n\u001b[1;32m--> 267\u001b[1;33m                 \u001b[1;32mraise\u001b[0m \u001b[0mKeyError\u001b[0m\u001b[1;33m(\u001b[0m\u001b[1;34m\"Column not found: {key}\"\u001b[0m\u001b[1;33m.\u001b[0m\u001b[0mformat\u001b[0m\u001b[1;33m(\u001b[0m\u001b[0mkey\u001b[0m\u001b[1;33m=\u001b[0m\u001b[0mkey\u001b[0m\u001b[1;33m)\u001b[0m\u001b[1;33m)\u001b[0m\u001b[1;33m\u001b[0m\u001b[0m\n\u001b[0m\u001b[0;32m    268\u001b[0m             \u001b[1;32mreturn\u001b[0m \u001b[0mself\u001b[0m\u001b[1;33m.\u001b[0m\u001b[0m_gotitem\u001b[0m\u001b[1;33m(\u001b[0m\u001b[0mkey\u001b[0m\u001b[1;33m,\u001b[0m \u001b[0mndim\u001b[0m\u001b[1;33m=\u001b[0m\u001b[1;36m1\u001b[0m\u001b[1;33m)\u001b[0m\u001b[1;33m\u001b[0m\u001b[0m\n\u001b[0;32m    269\u001b[0m \u001b[1;33m\u001b[0m\u001b[0m\n",
      "\u001b[1;31mKeyError\u001b[0m: 'Column not found: booking_bool'"
     ]
    }
   ],
   "source": [
    "df['Bookings_srch_des_prop_id'] = df.groupby(['srch_destination_id','prop_id'])[\"booking_bool\"].transform(su)\n",
    "df = df.sort_values(['prop_id','srch_destination_id'])\n",
    "df = df[['prop_id', 'srch_destination_id', 'booking_bool', \"Bookings_srch_des_prop_id\"]]\n",
    "df = df.loc[df[\"Aantal\"]>100]"
   ]
  },
  {
   "cell_type": "code",
   "execution_count": null,
   "metadata": {},
   "outputs": [],
   "source": [
    "#df2 = df.sort_values('srch_id')\n",
    "#sizegroups = df2['srch_id'].value_counts().sort_index()\n"
   ]
  },
  {
   "cell_type": "code",
   "execution_count": 13,
   "metadata": {},
   "outputs": [],
   "source": [
    "df['Distance'] = df.groupby(['srch_id'])[\"orig_destination_distance\"].transform('mean')"
   ]
  },
  {
   "cell_type": "code",
   "execution_count": 15,
   "metadata": {},
   "outputs": [],
   "source": [
    "x = df.groupby(['srch_id'])[\"orig_destination_distance\"].mean()"
   ]
  },
  {
   "cell_type": "code",
   "execution_count": 14,
   "metadata": {},
   "outputs": [
    {
     "data": {
      "text/html": [
       "<div>\n",
       "<style scoped>\n",
       "    .dataframe tbody tr th:only-of-type {\n",
       "        vertical-align: middle;\n",
       "    }\n",
       "\n",
       "    .dataframe tbody tr th {\n",
       "        vertical-align: top;\n",
       "    }\n",
       "\n",
       "    .dataframe thead th {\n",
       "        text-align: right;\n",
       "    }\n",
       "</style>\n",
       "<table border=\"1\" class=\"dataframe\">\n",
       "  <thead>\n",
       "    <tr style=\"text-align: right;\">\n",
       "      <th></th>\n",
       "      <th>srch_id</th>\n",
       "      <th>orig_destination_distance</th>\n",
       "      <th>Distance</th>\n",
       "    </tr>\n",
       "  </thead>\n",
       "  <tbody>\n",
       "    <tr>\n",
       "      <th>0</th>\n",
       "      <td>237770</td>\n",
       "      <td>NaN</td>\n",
       "      <td>NaN</td>\n",
       "    </tr>\n",
       "    <tr>\n",
       "      <th>1</th>\n",
       "      <td>129536</td>\n",
       "      <td>NaN</td>\n",
       "      <td>NaN</td>\n",
       "    </tr>\n",
       "    <tr>\n",
       "      <th>2</th>\n",
       "      <td>58673</td>\n",
       "      <td>NaN</td>\n",
       "      <td>NaN</td>\n",
       "    </tr>\n",
       "    <tr>\n",
       "      <th>3</th>\n",
       "      <td>153134</td>\n",
       "      <td>78.19</td>\n",
       "      <td>73.635833</td>\n",
       "    </tr>\n",
       "    <tr>\n",
       "      <th>4</th>\n",
       "      <td>308484</td>\n",
       "      <td>249.86</td>\n",
       "      <td>250.162308</td>\n",
       "    </tr>\n",
       "  </tbody>\n",
       "</table>\n",
       "</div>"
      ],
      "text/plain": [
       "   srch_id  orig_destination_distance    Distance\n",
       "0   237770                        NaN         NaN\n",
       "1   129536                        NaN         NaN\n",
       "2    58673                        NaN         NaN\n",
       "3   153134                      78.19   73.635833\n",
       "4   308484                     249.86  250.162308"
      ]
     },
     "execution_count": 14,
     "metadata": {},
     "output_type": "execute_result"
    }
   ],
   "source": [
    "df[[\"srch_id\", \"orig_destination_distance\", \"Distance\"]].head()"
   ]
  },
  {
   "cell_type": "code",
   "execution_count": 12,
   "metadata": {},
   "outputs": [
    {
     "data": {
      "text/html": [
       "<div>\n",
       "<style scoped>\n",
       "    .dataframe tbody tr th:only-of-type {\n",
       "        vertical-align: middle;\n",
       "    }\n",
       "\n",
       "    .dataframe tbody tr th {\n",
       "        vertical-align: top;\n",
       "    }\n",
       "\n",
       "    .dataframe thead th {\n",
       "        text-align: right;\n",
       "    }\n",
       "</style>\n",
       "<table border=\"1\" class=\"dataframe\">\n",
       "  <thead>\n",
       "    <tr style=\"text-align: right;\">\n",
       "      <th></th>\n",
       "      <th>srch_id</th>\n",
       "      <th>orig_destination_distance</th>\n",
       "      <th>Distance</th>\n",
       "    </tr>\n",
       "  </thead>\n",
       "  <tbody>\n",
       "    <tr>\n",
       "      <th>0</th>\n",
       "      <td>237770</td>\n",
       "      <td>NaN</td>\n",
       "      <td>NaN</td>\n",
       "    </tr>\n",
       "    <tr>\n",
       "      <th>1</th>\n",
       "      <td>129536</td>\n",
       "      <td>NaN</td>\n",
       "      <td>NaN</td>\n",
       "    </tr>\n",
       "    <tr>\n",
       "      <th>2</th>\n",
       "      <td>58673</td>\n",
       "      <td>NaN</td>\n",
       "      <td>NaN</td>\n",
       "    </tr>\n",
       "    <tr>\n",
       "      <th>3</th>\n",
       "      <td>153134</td>\n",
       "      <td>78.19</td>\n",
       "      <td>NaN</td>\n",
       "    </tr>\n",
       "    <tr>\n",
       "      <th>4</th>\n",
       "      <td>308484</td>\n",
       "      <td>249.86</td>\n",
       "      <td>237.682857</td>\n",
       "    </tr>\n",
       "  </tbody>\n",
       "</table>\n",
       "</div>"
      ],
      "text/plain": [
       "   srch_id  orig_destination_distance    Distance\n",
       "0   237770                        NaN         NaN\n",
       "1   129536                        NaN         NaN\n",
       "2    58673                        NaN         NaN\n",
       "3   153134                      78.19         NaN\n",
       "4   308484                     249.86  237.682857"
      ]
     },
     "execution_count": 12,
     "metadata": {},
     "output_type": "execute_result"
    }
   ],
   "source": [
    "df[[\"srch_id\", \"orig_destination_distance\", \"Distance\"]].head()"
   ]
  },
  {
   "cell_type": "markdown",
   "metadata": {},
   "source": [
    "Lets train it on clicking"
   ]
  },
  {
   "cell_type": "code",
   "execution_count": 6,
   "metadata": {},
   "outputs": [
    {
     "name": "stderr",
     "output_type": "stream",
     "text": [
      "C:\\Users\\janine van wonderen\\Anaconda3\\lib\\site-packages\\xgboost\\core.py:587: FutureWarning: Series.base is deprecated and will be removed in a future version\n",
      "  if getattr(data, 'base', None) is not None and \\\n",
      "C:\\Users\\janine van wonderen\\Anaconda3\\lib\\site-packages\\xgboost\\core.py:588: FutureWarning: Series.base is deprecated and will be removed in a future version\n",
      "  data.base is not None and isinstance(data, np.ndarray) \\\n"
     ]
    }
   ],
   "source": [
    "# construct xgboost.DMatrix from numpy array, treat -999.0 as missing value\n",
    "#xgmat = xgboost.DMatrix( df, label=y_train)\n",
    "xgmat = xgboost.DMatrix( df, label=Y)\n",
    "# setup parameters for xgboost\n",
    "param = {}\n",
    "# use logistic regression loss, use raw prediction before logistic transformation\n",
    "# since we only need the rank\n",
    "param['objective'] = 'reg:logistic'\n",
    "# scale weight of positive examples\n",
    "param['scale_pos_weight'] = sum(Y==0)/sum(Y==1)\n",
    "param['eta'] = 0.01\n",
    "param['max_depth'] = 6\n",
    "param['eval_metric'] = 'auc'\n",
    "param['silent'] = 0\n",
    "\n",
    "#xgboost.set_group = sizegroups\n",
    "\n",
    "\n"
   ]
  },
  {
   "cell_type": "code",
   "execution_count": 7,
   "metadata": {},
   "outputs": [
    {
     "name": "stdout",
     "output_type": "stream",
     "text": [
      "loading data end, start to boost trees\n",
      "[0]\ttrain-auc:0.662682\n",
      "Will train until train-auc hasn't improved in 5 rounds.\n",
      "[1]\ttrain-auc:0.662862\n",
      "[2]\ttrain-auc:0.663651\n",
      "[3]\ttrain-auc:0.663694\n",
      "[4]\ttrain-auc:0.663897\n",
      "[5]\ttrain-auc:0.663902\n",
      "[6]\ttrain-auc:0.664416\n",
      "[7]\ttrain-auc:0.665031\n",
      "[8]\ttrain-auc:0.66605\n",
      "[9]\ttrain-auc:0.666293\n",
      "[10]\ttrain-auc:0.666349\n",
      "[11]\ttrain-auc:0.666384\n",
      "[12]\ttrain-auc:0.666775\n",
      "[13]\ttrain-auc:0.666853\n",
      "[14]\ttrain-auc:0.667102\n",
      "[15]\ttrain-auc:0.667303\n",
      "[16]\ttrain-auc:0.667398\n",
      "[17]\ttrain-auc:0.667499\n",
      "[18]\ttrain-auc:0.667707\n",
      "[19]\ttrain-auc:0.667941\n",
      "[20]\ttrain-auc:0.668147\n",
      "[21]\ttrain-auc:0.668353\n",
      "[22]\ttrain-auc:0.668557\n",
      "[23]\ttrain-auc:0.66871\n",
      "[24]\ttrain-auc:0.668746\n",
      "[25]\ttrain-auc:0.668796\n",
      "[26]\ttrain-auc:0.668938\n",
      "[27]\ttrain-auc:0.669071\n",
      "[28]\ttrain-auc:0.669194\n",
      "[29]\ttrain-auc:0.669308\n",
      "[30]\ttrain-auc:0.669621\n",
      "[31]\ttrain-auc:0.669816\n",
      "[32]\ttrain-auc:0.669912\n",
      "[33]\ttrain-auc:0.670024\n",
      "[34]\ttrain-auc:0.670157\n",
      "[35]\ttrain-auc:0.670371\n",
      "[36]\ttrain-auc:0.670493\n",
      "[37]\ttrain-auc:0.670548\n",
      "[38]\ttrain-auc:0.670721\n",
      "[39]\ttrain-auc:0.670808\n",
      "[40]\ttrain-auc:0.670886\n",
      "[41]\ttrain-auc:0.670991\n",
      "[42]\ttrain-auc:0.671072\n",
      "[43]\ttrain-auc:0.67111\n",
      "[44]\ttrain-auc:0.671272\n",
      "[45]\ttrain-auc:0.6714\n",
      "[46]\ttrain-auc:0.671475\n",
      "[47]\ttrain-auc:0.671498\n",
      "[48]\ttrain-auc:0.671616\n",
      "[49]\ttrain-auc:0.671729\n",
      "[50]\ttrain-auc:0.671778\n",
      "[51]\ttrain-auc:0.671871\n",
      "[52]\ttrain-auc:0.67198\n",
      "[53]\ttrain-auc:0.672058\n",
      "[54]\ttrain-auc:0.672124\n",
      "[55]\ttrain-auc:0.672224\n",
      "[56]\ttrain-auc:0.6723\n",
      "[57]\ttrain-auc:0.67237\n",
      "[58]\ttrain-auc:0.672397\n",
      "[59]\ttrain-auc:0.672468\n",
      "[60]\ttrain-auc:0.672566\n",
      "[61]\ttrain-auc:0.672644\n",
      "[62]\ttrain-auc:0.672717\n",
      "[63]\ttrain-auc:0.672765\n",
      "[64]\ttrain-auc:0.672829\n",
      "[65]\ttrain-auc:0.672868\n",
      "[66]\ttrain-auc:0.672947\n",
      "[67]\ttrain-auc:0.673075\n",
      "[68]\ttrain-auc:0.673115\n",
      "[69]\ttrain-auc:0.673209\n",
      "[70]\ttrain-auc:0.673305\n",
      "[71]\ttrain-auc:0.673349\n",
      "[72]\ttrain-auc:0.673442\n",
      "[73]\ttrain-auc:0.67351\n",
      "[74]\ttrain-auc:0.673572\n",
      "[75]\ttrain-auc:0.673636\n",
      "[76]\ttrain-auc:0.6737\n",
      "[77]\ttrain-auc:0.673744\n",
      "[78]\ttrain-auc:0.673822\n",
      "[79]\ttrain-auc:0.67387\n",
      "[80]\ttrain-auc:0.673955\n",
      "[81]\ttrain-auc:0.674017\n",
      "[82]\ttrain-auc:0.674098\n",
      "[83]\ttrain-auc:0.674145\n",
      "[84]\ttrain-auc:0.674207\n",
      "[85]\ttrain-auc:0.674283\n",
      "[86]\ttrain-auc:0.674342\n",
      "[87]\ttrain-auc:0.674442\n",
      "[88]\ttrain-auc:0.674523\n",
      "[89]\ttrain-auc:0.674626\n",
      "[90]\ttrain-auc:0.674661\n",
      "[91]\ttrain-auc:0.674721\n",
      "[92]\ttrain-auc:0.674809\n",
      "[93]\ttrain-auc:0.674883\n",
      "[94]\ttrain-auc:0.674947\n",
      "[95]\ttrain-auc:0.675036\n",
      "[96]\ttrain-auc:0.675092\n",
      "[97]\ttrain-auc:0.675173\n",
      "[98]\ttrain-auc:0.675247\n",
      "[99]\ttrain-auc:0.675307\n",
      "[100]\ttrain-auc:0.675376\n",
      "[101]\ttrain-auc:0.67545\n",
      "[102]\ttrain-auc:0.675509\n",
      "[103]\ttrain-auc:0.675568\n",
      "[104]\ttrain-auc:0.675635\n",
      "[105]\ttrain-auc:0.675693\n",
      "[106]\ttrain-auc:0.675769\n",
      "[107]\ttrain-auc:0.675843\n",
      "[108]\ttrain-auc:0.675893\n",
      "[109]\ttrain-auc:0.675955\n",
      "[110]\ttrain-auc:0.676007\n",
      "[111]\ttrain-auc:0.676066\n",
      "[112]\ttrain-auc:0.676121\n",
      "[113]\ttrain-auc:0.676183\n",
      "[114]\ttrain-auc:0.676244\n",
      "[115]\ttrain-auc:0.676316\n",
      "[116]\ttrain-auc:0.676375\n",
      "[117]\ttrain-auc:0.676421\n",
      "[118]\ttrain-auc:0.676488\n",
      "[119]\ttrain-auc:0.676545\n",
      "finish training\n"
     ]
    }
   ],
   "source": [
    "# you can directly throw param in, though we want to watch multiple metrics here\n",
    "plst = list(param.items())\n",
    "\n",
    "watchlist = [ (xgmat,'train') ]\n",
    "# boost 120 trees\n",
    "num_round = 120\n",
    "print ('loading data end, start to boost trees')\n",
    "bst = xgboost.train( plst, xgmat, num_round, watchlist ,early_stopping_rounds=5);\n",
    "# save out model\n",
    "bst.save_model(nameOfModel)\n",
    "\n",
    "print ('finish training')"
   ]
  },
  {
   "cell_type": "code",
   "execution_count": 13,
   "metadata": {},
   "outputs": [
    {
     "data": {
      "text/plain": [
       "{'prop_location_score2': 1560,\n",
       " 'promotion_flag': 536,\n",
       " 'prop_location_score1': 1193,\n",
       " 'price_usd': 1299,\n",
       " 'prop_starrating': 1042,\n",
       " 'srch_length_of_stay': 238,\n",
       " 'srch_adults_count': 100,\n",
       " 'prop_review_score': 389,\n",
       " 'orig_destination_distance': 268,\n",
       " 'prop_log_historical_price': 170,\n",
       " 'prop_id': 75,\n",
       " 'srch_destination_id': 114,\n",
       " 'srch_children_count': 117,\n",
       " 'srch_room_count': 132,\n",
       " 'visitor_hist_starrating': 51,\n",
       " 'srch_booking_window': 51,\n",
       " 'visitor_hist_adr_usd': 64,\n",
       " 'srch_id': 34,\n",
       " 'prop_brand_bool': 40,\n",
       " 'srch_query_affinity_score': 29,\n",
       " 'comp1_rate': 5,\n",
       " 'comp1_inv': 5,\n",
       " 'srch_saturday_night_bool': 1}"
      ]
     },
     "execution_count": 13,
     "metadata": {},
     "output_type": "execute_result"
    }
   ],
   "source": [
    "bst.get_fscore()"
   ]
  },
  {
   "cell_type": "code",
   "execution_count": 15,
   "metadata": {},
   "outputs": [
    {
     "data": {
      "text/plain": [
       "Text(0,0.5,'Feature Importance Score')"
      ]
     },
     "execution_count": 15,
     "metadata": {},
     "output_type": "execute_result"
    },
    {
     "data": {
      "image/png": "[encoded data removed]",
      "text/plain": [
       "<Figure size 432x288 with 1 Axes>"
      ]
     },
     "metadata": {},
     "output_type": "display_data"
    }
   ],
   "source": [
    "import matplotlib.pylab as plt\n",
    "feat_imp = pd.Series(bst.get_fscore()).sort_values(ascending=False)\n",
    "feat_imp.plot(kind='bar', title='Feature Importances')\n",
    "plt.ylabel('Feature Importance Score')"
   ]
  },
  {
   "cell_type": "code",
   "execution_count": null,
   "metadata": {},
   "outputs": [],
   "source": []
  },
  {
   "cell_type": "code",
   "execution_count": null,
   "metadata": {},
   "outputs": [],
   "source": []
  },
  {
   "cell_type": "code",
   "execution_count": null,
   "metadata": {},
   "outputs": [],
   "source": [
    "xgmat_test = xgboost.DMatrix( df, label=Y)\n",
    "y_pred = bst.predict(xgmat_test)"
   ]
  },
  {
   "cell_type": "code",
   "execution_count": null,
   "metadata": {},
   "outputs": [],
   "source": [
    "predictions = [round(value) for value in y_pred]\n",
    "df = pd.concat([df,dfNeeded],axis=1)\n",
    "df['y_pred'] = y_pred"
   ]
  },
  {
   "cell_type": "code",
   "execution_count": null,
   "metadata": {},
   "outputs": [],
   "source": [
    "def getScore(df):\n",
    "    df['rank_srch_id'] = df.groupby('srch_id').cumcount().add(1)\n",
    "    df['gain'] = 5*df['booking_bool']\n",
    "    df['gain'] = np.where(df['gain'] == 0, df['click_bool'], df['gain'])\n",
    "\n",
    "    df['g/rank'] = df['gain']/df['rank_srch_id']\n",
    "    gi_sum = df['g/rank'].sum()\n",
    "    \n",
    "    df['gain_sorted'] = list(df[['srch_id', 'booking_bool', 'click_bool', 'gain']].sort_values(by = ['srch_id','booking_bool','click_bool'], ascending = [True, False, False])['gain'])\n",
    "    df['g/rank_sorted'] = df['gain_sorted']/df['rank_srch_id']\n",
    "    gi_sorted_sum = df['g/rank_sorted'].sum() \n",
    "    score = gi_sum/gi_sorted_sum\n",
    "    return score, gi_sum, gi_sorted_sum"
   ]
  },
  {
   "cell_type": "code",
   "execution_count": null,
   "metadata": {},
   "outputs": [],
   "source": [
    "score, gi_sum, gi_sorted_sum = getScore(df.sort_values(by=['srch_id', 'y_pred'], ascending = [True, False]).reset_index(drop=True))\n",
    "print(score)\n",
    "\n",
    "# evaluate predictions\n",
    "accuracy = accuracy_score(Y_test, predictions)\n",
    "print(\"Accuracy: %.2f%%\" % (accuracy * 100.0))\n",
    "Counter(predictions)"
   ]
  },
  {
   "cell_type": "markdown",
   "metadata": {},
   "source": [
    "Evaluation"
   ]
  },
  {
   "cell_type": "code",
   "execution_count": 10,
   "metadata": {},
   "outputs": [],
   "source": [
    "dfTest = pd.read_csv(\"../data/testWithMean.csv\")"
   ]
  },
  {
   "cell_type": "code",
   "execution_count": null,
   "metadata": {},
   "outputs": [],
   "source": [
    "clickingModel = xgboost.Booster({'nthread': 12})  # init model\n",
    "clickingModel.load_model(nameOfModel)  # load data\n"
   ]
  },
  {
   "cell_type": "code",
   "execution_count": null,
   "metadata": {},
   "outputs": [],
   "source": [
    "xgmat_test_submission = xgboost.DMatrix(dfTest[featuresToUse])\n",
    "y_pred_clicking = clickingModel.predict(xgmat_test_submission)\n",
    "dfTest['predictedPos'] = y_pred_clicking\n",
    "dfTest = dfTest.sort_values(['srch_id','predictedPos'],ascending=[True, False])\n",
    "dfSubmission = dfTest[['srch_id','prop_id']]\n",
    "dfSubmission.to_csv(\"submissionTest2may.csv\",index=False)"
   ]
  }
 ],
 "metadata": {
  "kernelspec": {
   "display_name": "Python 3",
   "language": "python",
   "name": "python3"
  },
  "language_info": {
   "codemirror_mode": {
    "name": "ipython",
    "version": 3
   },
   "file_extension": ".py",
   "mimetype": "text/x-python",
   "name": "python",
   "nbconvert_exporter": "python",
   "pygments_lexer": "ipython3",
   "version": "3.6.5"
  }
 },
 "nbformat": 4,
 "nbformat_minor": 2
}
