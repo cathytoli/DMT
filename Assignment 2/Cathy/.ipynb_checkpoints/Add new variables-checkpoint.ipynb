{
 "cells": [
  {
   "cell_type": "code",
   "execution_count": 1,
   "metadata": {},
   "outputs": [],
   "source": [
    "import pandas as pd\n",
    "from sklearn.utils import shuffle"
   ]
  },
  {
   "cell_type": "markdown",
   "metadata": {},
   "source": [
    "Add means of property"
   ]
  },
  {
   "cell_type": "code",
   "execution_count": 6,
   "metadata": {},
   "outputs": [],
   "source": [
    "def addMeanCols(df):\n",
    "    columnsToAvgPerPropID = ['prop_starrating', 'prop_review_score', 'prop_brand_bool',\n",
    "           'prop_location_score1', 'prop_location_score2',\n",
    "           'prop_log_historical_price']\n",
    "    for colname in columnsToAvgPerPropID:\n",
    "        print(colname)\n",
    "        df[colname+\"_mean\"] = df.groupby('prop_id')[colname].mean()\n",
    "        print(\"Done\")\n",
    "        "
   ]
  },
  {
   "cell_type": "code",
   "execution_count": 2,
   "metadata": {},
   "outputs": [],
   "source": [
    "path = '/Users/cathytol/Documents/DMT/dmt-data/'\n",
    "\n",
    "inputFile = path + \"training_set_VU_DM.csv\"\n",
    "df = pd.read_csv(inputFile, sep = ',')\n",
    "\n",
    "addMeanCols(df)\n",
    "df.to_csv('train_with_mean.csv',index=False)"
   ]
  },
  {
   "cell_type": "code",
   "execution_count": 3,
   "metadata": {},
   "outputs": [],
   "source": [
    "inputFile = path + \"test_set_VU_DM.csv\"\n",
    "df_test = pd.read_csv(inputFile, sep = ',')\n",
    "\n",
    "addMeanCols(df_test)\n",
    "df_test.to_csv('test_with_mean.csv',index=False)"
   ]
  },
  {
   "cell_type": "code",
   "execution_count": null,
   "metadata": {},
   "outputs": [],
   "source": [
    "df_concat = pd.concat([df, df_test], axis = 0)\n",
    "addMeanCols(df_concat)\n",
    "df.to_csv('')"
   ]
  },
  {
   "cell_type": "code",
   "execution_count": 3,
   "metadata": {},
   "outputs": [
    {
     "name": "stdout",
     "output_type": "stream",
     "text": [
      "prop_starrating\n",
      "Done\n",
      "prop_review_score\n",
      "Done\n",
      "prop_brand_bool\n",
      "Done\n",
      "prop_location_score1\n",
      "Done\n",
      "prop_location_score2\n",
      "Done\n",
      "prop_log_historical_price\n",
      "Done\n"
     ]
    }
   ],
   "source": [
    "df = pd.read_csv('../data/test.csv')\n",
    "addMeanCols(df)\n",
    "df.to_csv('../data/testWithMean.csv',index=False)"
   ]
  },
  {
   "cell_type": "code",
   "execution_count": 4,
   "metadata": {},
   "outputs": [
    {
     "name": "stdout",
     "output_type": "stream",
     "text": [
      "prop_starrating\n",
      "Done\n",
      "prop_review_score\n",
      "Done\n",
      "prop_brand_bool\n",
      "Done\n",
      "prop_location_score1\n",
      "Done\n",
      "prop_location_score2\n",
      "Done\n",
      "prop_log_historical_price\n",
      "Done\n"
     ]
    }
   ],
   "source": [
    "df = pd.read_csv('../data/train.csv')\n",
    "addMeanCols(df)\n",
    "df.to_csv('../data/trainWithMean.csv',index=False)"
   ]
  },
  {
   "cell_type": "markdown",
   "metadata": {},
   "source": [
    "Split train in train and test"
   ]
  },
  {
   "cell_type": "code",
   "execution_count": 8,
   "metadata": {},
   "outputs": [],
   "source": [
    "df = shuffle(df,random_state = 10)"
   ]
  },
  {
   "cell_type": "code",
   "execution_count": 9,
   "metadata": {},
   "outputs": [],
   "source": [
    "n = 20\n",
    "numOfRowsTest = (int(len(df)*(n/100)))\n",
    "X_test = df.tail(numOfRowsTest)\n",
    "df.drop(df.tail(numOfRowsTest).index,inplace=True)"
   ]
  },
  {
   "cell_type": "code",
   "execution_count": 10,
   "metadata": {},
   "outputs": [],
   "source": [
    "X_test.to_csv('train_test_with_mean.csv',index=False)\n",
    "df.to_csv('train_train_with_mean.csv',index=False)"
   ]
  },
  {
   "cell_type": "code",
   "execution_count": null,
   "metadata": {},
   "outputs": [],
   "source": []
  }
 ],
 "metadata": {
  "kernelspec": {
   "display_name": "Python 3",
   "language": "python",
   "name": "python3"
  },
  "language_info": {
   "codemirror_mode": {
    "name": "ipython",
    "version": 3
   },
   "file_extension": ".py",
   "mimetype": "text/x-python",
   "name": "python",
   "nbconvert_exporter": "python",
   "pygments_lexer": "ipython3",
   "version": "3.6.8"
  }
 },
 "nbformat": 4,
 "nbformat_minor": 2
}
