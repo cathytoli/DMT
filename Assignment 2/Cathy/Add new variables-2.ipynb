{
 "cells": [
  {
   "cell_type": "code",
   "execution_count": 1,
   "metadata": {},
   "outputs": [],
   "source": [
    "import pandas as pd\n",
    "from sklearn.utils import shuffle"
   ]
  },
  {
   "cell_type": "code",
   "execution_count": 2,
   "metadata": {},
   "outputs": [
    {
     "name": "stdout",
     "output_type": "stream",
     "text": [
      "4958347\n",
      "4959183\n",
      "9917530\n"
     ]
    }
   ],
   "source": [
    "path = '/Users/cathytol/Documents/DMT/dmt-data/'\n",
    "\n",
    "inputFile = path + \"training_set_VU_DM.csv\"\n",
    "dfTrain = pd.read_csv(inputFile, sep = ',', usecols=['prop_id','prop_starrating', 'prop_review_score', 'prop_brand_bool',\n",
    "           'prop_location_score1', 'prop_location_score2',\n",
    "           'prop_log_historical_price'])\n",
    "print(len(dfTrain))\n",
    "\n",
    "inputFile = path + \"test_set_VU_DM.csv\"\n",
    "dfTest = pd.read_csv(inputFile, sep = ',', usecols=['prop_id','prop_starrating', 'prop_review_score', 'prop_brand_bool',\n",
    "           'prop_location_score1', 'prop_location_score2',\n",
    "           'prop_log_historical_price'])\n",
    "print(len(dfTest))\n",
    "\n",
    "together = pd.concat([dfTest,dfTrain],axis=0)\n",
    "print(len(together))"
   ]
  },
  {
   "cell_type": "code",
   "execution_count": 3,
   "metadata": {},
   "outputs": [
    {
     "data": {
      "text/plain": [
       "' \\nfor colname in columnsToAvgPerPropID:\\n    print(colname)\\n    meanDF[colname+\"_mean\"] = together.groupby(\\'prop_id\\')[colname].mean()\\n    print(\"Done\")\\n'"
      ]
     },
     "execution_count": 3,
     "metadata": {},
     "output_type": "execute_result"
    }
   ],
   "source": [
    "#meanDF = pd.DataFrame(together['prop_id'])\n",
    "\n",
    "columnsToAvgPerPropID = ['prop_starrating', 'prop_review_score', 'prop_brand_bool',\n",
    "           'prop_location_score1', 'prop_location_score2',\n",
    "           'prop_log_historical_price']\n",
    "\n",
    "meanDF = together.groupby('prop_id')[columnsToAvgPerPropID].mean()\n",
    "\n",
    "\"\"\" \n",
    "for colname in columnsToAvgPerPropID:\n",
    "    print(colname)\n",
    "    meanDF[colname+\"_mean\"] = together.groupby('prop_id')[colname].mean()\n",
    "    print(\"Done\")\n",
    "\"\"\" \n",
    "\n",
    "#meanDF = meanDF.drop_duplicates(inplace=True)\n",
    "#meanDF.to_csv(\"meansTotal.csv\",index=False)\n",
    "\n"
   ]
  },
  {
   "cell_type": "code",
   "execution_count": 4,
   "metadata": {},
   "outputs": [
    {
     "data": {
      "text/html": [
       "<div>\n",
       "<style scoped>\n",
       "    .dataframe tbody tr th:only-of-type {\n",
       "        vertical-align: middle;\n",
       "    }\n",
       "\n",
       "    .dataframe tbody tr th {\n",
       "        vertical-align: top;\n",
       "    }\n",
       "\n",
       "    .dataframe thead th {\n",
       "        text-align: right;\n",
       "    }\n",
       "</style>\n",
       "<table border=\"1\" class=\"dataframe\">\n",
       "  <thead>\n",
       "    <tr style=\"text-align: right;\">\n",
       "      <th></th>\n",
       "      <th>prop_starrating</th>\n",
       "      <th>prop_review_score</th>\n",
       "      <th>prop_brand_bool</th>\n",
       "      <th>prop_location_score1</th>\n",
       "      <th>prop_location_score2</th>\n",
       "      <th>prop_log_historical_price</th>\n",
       "    </tr>\n",
       "    <tr>\n",
       "      <th>prop_id</th>\n",
       "      <th></th>\n",
       "      <th></th>\n",
       "      <th></th>\n",
       "      <th></th>\n",
       "      <th></th>\n",
       "      <th></th>\n",
       "    </tr>\n",
       "  </thead>\n",
       "  <tbody>\n",
       "    <tr>\n",
       "      <th>1</th>\n",
       "      <td>2</td>\n",
       "      <td>0.0</td>\n",
       "      <td>1</td>\n",
       "      <td>3.04</td>\n",
       "      <td>NaN</td>\n",
       "      <td>3.796016</td>\n",
       "    </tr>\n",
       "    <tr>\n",
       "      <th>2</th>\n",
       "      <td>0</td>\n",
       "      <td>4.0</td>\n",
       "      <td>1</td>\n",
       "      <td>0.69</td>\n",
       "      <td>0.066790</td>\n",
       "      <td>3.740000</td>\n",
       "    </tr>\n",
       "    <tr>\n",
       "      <th>3</th>\n",
       "      <td>3</td>\n",
       "      <td>3.5</td>\n",
       "      <td>1</td>\n",
       "      <td>0.69</td>\n",
       "      <td>0.026578</td>\n",
       "      <td>4.140465</td>\n",
       "    </tr>\n",
       "    <tr>\n",
       "      <th>4</th>\n",
       "      <td>5</td>\n",
       "      <td>4.5</td>\n",
       "      <td>1</td>\n",
       "      <td>4.88</td>\n",
       "      <td>0.115500</td>\n",
       "      <td>4.914048</td>\n",
       "    </tr>\n",
       "    <tr>\n",
       "      <th>5</th>\n",
       "      <td>0</td>\n",
       "      <td>0.0</td>\n",
       "      <td>0</td>\n",
       "      <td>6.02</td>\n",
       "      <td>NaN</td>\n",
       "      <td>3.539615</td>\n",
       "    </tr>\n",
       "  </tbody>\n",
       "</table>\n",
       "</div>"
      ],
      "text/plain": [
       "         prop_starrating  prop_review_score  prop_brand_bool  \\\n",
       "prop_id                                                        \n",
       "1                      2                0.0                1   \n",
       "2                      0                4.0                1   \n",
       "3                      3                3.5                1   \n",
       "4                      5                4.5                1   \n",
       "5                      0                0.0                0   \n",
       "\n",
       "         prop_location_score1  prop_location_score2  prop_log_historical_price  \n",
       "prop_id                                                                         \n",
       "1                        3.04                   NaN                   3.796016  \n",
       "2                        0.69              0.066790                   3.740000  \n",
       "3                        0.69              0.026578                   4.140465  \n",
       "4                        4.88              0.115500                   4.914048  \n",
       "5                        6.02                   NaN                   3.539615  "
      ]
     },
     "execution_count": 4,
     "metadata": {},
     "output_type": "execute_result"
    }
   ],
   "source": [
    "meanDF.head()"
   ]
  },
  {
   "cell_type": "code",
   "execution_count": 5,
   "metadata": {},
   "outputs": [],
   "source": [
    "#meanDF= pd.read_csv(\"meansTotal.csv\")"
   ]
  },
  {
   "cell_type": "code",
   "execution_count": null,
   "metadata": {},
   "outputs": [],
   "source": []
  },
  {
   "cell_type": "code",
   "execution_count": null,
   "metadata": {},
   "outputs": [],
   "source": []
  },
  {
   "cell_type": "markdown",
   "metadata": {},
   "source": [
    "Add means of property"
   ]
  },
  {
   "cell_type": "code",
   "execution_count": 7,
   "metadata": {},
   "outputs": [],
   "source": [
    "inputFile = path + \"test_set_VU_DM.csv\"\n",
    "dfTest = pd.read_csv(inputFile, sep = ',')\n",
    "df_joined = dfTest.set_index('prop_id').join(meanDF, rsuffix='_mean').reset_index() \n",
    "df_joined.to_csv('testWithMean.csv',index=False)"
   ]
  },
  {
   "cell_type": "code",
   "execution_count": 8,
   "metadata": {},
   "outputs": [],
   "source": [
    "inputFile = path + \"training_set_VU_DM.csv\"\n",
    "dfTrain = pd.read_csv(inputFile, sep = ',')\n",
    "df_joined = dfTrain.set_index('prop_id').join(meanDF, rsuffix='_mean').reset_index() \n",
    "df_joined.to_csv('trainWithMean.csv',index=False)"
   ]
  },
  {
   "cell_type": "markdown",
   "metadata": {},
   "source": [
    "Split train in train and test"
   ]
  },
  {
   "cell_type": "code",
   "execution_count": 9,
   "metadata": {},
   "outputs": [],
   "source": [
    "df = shuffle(df_joined,random_state = 10)"
   ]
  },
  {
   "cell_type": "code",
   "execution_count": 10,
   "metadata": {},
   "outputs": [
    {
     "name": "stderr",
     "output_type": "stream",
     "text": [
      "/Users/cathytol/anaconda3/lib/python3.6/site-packages/pandas/core/frame.py:3940: SettingWithCopyWarning: \n",
      "A value is trying to be set on a copy of a slice from a DataFrame\n",
      "\n",
      "See the caveats in the documentation: http://pandas.pydata.org/pandas-docs/stable/indexing.html#indexing-view-versus-copy\n",
      "  errors=errors)\n"
     ]
    }
   ],
   "source": [
    "n = 20\n",
    "numOfRowsTest = (int(len(df)*(n/100)))\n",
    "X_test = df.tail(numOfRowsTest)\n",
    "df.drop(df.tail(numOfRowsTest).index,inplace=True)"
   ]
  },
  {
   "cell_type": "code",
   "execution_count": 11,
   "metadata": {},
   "outputs": [],
   "source": [
    "X_test.to_csv('20PercentTestWithMean.csv',index=False)\n",
    "df.to_csv('80PercentTrainWithMean.csv',index=False)"
   ]
  },
  {
   "cell_type": "code",
   "execution_count": null,
   "metadata": {},
   "outputs": [],
   "source": []
  }
 ],
 "metadata": {
  "kernelspec": {
   "display_name": "Python 3",
   "language": "python",
   "name": "python3"
  },
  "language_info": {
   "codemirror_mode": {
    "name": "ipython",
    "version": 3
   },
   "file_extension": ".py",
   "mimetype": "text/x-python",
   "name": "python",
   "nbconvert_exporter": "python",
   "pygments_lexer": "ipython3",
   "version": "3.6.8"
  }
 },
 "nbformat": 4,
 "nbformat_minor": 2
}
