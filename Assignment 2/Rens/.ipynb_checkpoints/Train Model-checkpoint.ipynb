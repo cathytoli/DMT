{
 "cells": [
  {
   "cell_type": "code",
   "execution_count": 9,
   "metadata": {},
   "outputs": [],
   "source": [
    "import pandas as pd\n",
    "import numpy as np\n",
    "import sklearn\n",
    "from xgboost import XGBClassifier\n",
    "import xgboost\n",
    "from collections import Counter\n",
    "from sklearn.model_selection import train_test_split\n",
    "from sklearn.metrics import accuracy_score\n",
    "from sklearn.metrics import classification_report\n",
    "import pickle\n",
    "from sklearn.utils import shuffle"
   ]
  },
  {
   "cell_type": "code",
   "execution_count": 10,
   "metadata": {},
   "outputs": [
    {
     "data": {
      "text/plain": [
       "Index(['srch_id', 'date_time', 'site_id', 'visitor_location_country_id',\n",
       "       'visitor_hist_starrating', 'visitor_hist_adr_usd', 'prop_country_id',\n",
       "       'prop_id', 'prop_starrating', 'prop_review_score', 'prop_brand_bool',\n",
       "       'prop_location_score1', 'prop_location_score2',\n",
       "       'prop_log_historical_price', 'position', 'price_usd', 'promotion_flag',\n",
       "       'srch_destination_id', 'srch_length_of_stay', 'srch_booking_window',\n",
       "       'srch_adults_count', 'srch_children_count', 'srch_room_count',\n",
       "       'srch_saturday_night_bool', 'srch_query_affinity_score',\n",
       "       'orig_destination_distance', 'random_bool', 'comp1_rate', 'comp1_inv',\n",
       "       'comp1_rate_percent_diff', 'comp2_rate', 'comp2_inv',\n",
       "       'comp2_rate_percent_diff', 'comp3_rate', 'comp3_inv',\n",
       "       'comp3_rate_percent_diff', 'comp4_rate', 'comp4_inv',\n",
       "       'comp4_rate_percent_diff', 'comp5_rate', 'comp5_inv',\n",
       "       'comp5_rate_percent_diff', 'comp6_rate', 'comp6_inv',\n",
       "       'comp6_rate_percent_diff', 'comp7_rate', 'comp7_inv',\n",
       "       'comp7_rate_percent_diff', 'comp8_rate', 'comp8_inv',\n",
       "       'comp8_rate_percent_diff', 'click_bool', 'gross_bookings_usd',\n",
       "       'booking_bool', 'prop_id_mean', 'prop_starrating_mean',\n",
       "       'prop_review_score_mean', 'prop_brand_bool_mean',\n",
       "       'prop_location_score1_mean', 'prop_location_score2_mean',\n",
       "       'prop_log_historical_price_mean'],\n",
       "      dtype='object')"
      ]
     },
     "execution_count": 10,
     "metadata": {},
     "output_type": "execute_result"
    }
   ],
   "source": [
    "df = pd.read_csv('../data/trainWithMean.csv',nrows=1)\n",
    "df.columns"
   ]
  },
  {
   "cell_type": "code",
   "execution_count": 15,
   "metadata": {},
   "outputs": [],
   "source": [
    "#Don't use datetime, Don't use categorical features, xgboost doesn't those, first one hot encode\n",
    "featuresToUse = ['visitor_hist_starrating', 'visitor_hist_adr_usd',\n",
    "       'prop_starrating', 'prop_review_score', 'prop_brand_bool',\n",
    "       'prop_location_score1', 'prop_location_score2',\n",
    "       'prop_log_historical_price', 'price_usd', 'promotion_flag',\n",
    "       'srch_destination_id', 'srch_length_of_stay', 'srch_booking_window',\n",
    "       'srch_adults_count', 'srch_children_count', 'srch_room_count',\n",
    "       'srch_saturday_night_bool', 'srch_query_affinity_score',\n",
    "       'orig_destination_distance', 'comp1_rate', 'comp1_inv',\n",
    "                 'prop_starrating_mean',\n",
    "       'prop_review_score_mean', 'prop_brand_bool_mean',\n",
    "       'prop_location_score1_mean', 'prop_location_score2_mean',\n",
    "       'prop_log_historical_price_mean']\n",
    "labelToPredict = 'click_bool'\n",
    "neededVars = ['srch_id','booking_bool']\n",
    "nameOfModel = \"clickingModel1may.model\""
   ]
  },
  {
   "cell_type": "code",
   "execution_count": null,
   "metadata": {},
   "outputs": [],
   "source": [
    "df = pd.read_csv('../data/trainWithMean.csv', delimiter=\",\",usecols=featuresToUse+[labelToPredict]+neededVars)\n",
    "df = shuffle(df)\n",
    "dfNeeded= df[neededVars+[labelToPredict]]\n",
    "Y = df[labelToPredict]\n",
    "df.drop(neededVars+[labelToPredict],axis=1,inplace=True)"
   ]
  },
  {
   "cell_type": "markdown",
   "metadata": {},
   "source": [
    "Lets train it on clicking"
   ]
  },
  {
   "cell_type": "code",
   "execution_count": null,
   "metadata": {},
   "outputs": [],
   "source": [
    "n = 20\n",
    "numOfRowsTest = (int(len(df)*(n/100)))\n",
    "X_test = df.tail(numOfRowsTest)\n",
    "Y_test = Y[-numOfRowsTest:]\n",
    "dfNeeded_test = dfNeeded.tail(numOfRowsTest)\n",
    "\n",
    "dfNeeded.drop(dfNeeded.tail(numOfRowsTest).index,inplace=True)\n",
    "df.drop(df.tail(numOfRowsTest).index,inplace=True)\n",
    "y_train = Y[:(len(Y)-numOfRowsTest)]"
   ]
  },
  {
   "cell_type": "code",
   "execution_count": null,
   "metadata": {},
   "outputs": [],
   "source": [
    "# construct xgboost.DMatrix from numpy array, treat -999.0 as missing value\n",
    "#xgmat = xgboost.DMatrix( df, label=y_train)\n",
    "xgmat = xgboost.DMatrix( df, label=y_train)\n",
    "# setup parameters for xgboost\n",
    "param = {}\n",
    "# use logistic regression loss, use raw prediction before logistic transformation\n",
    "# since we only need the rank\n",
    "param['objective'] = 'reg:logistic'\n",
    "# scale weight of positive examples\n",
    "param['scale_pos_weight'] = sum(y_train==0)/sum(y_train==1)\n",
    "param['eta'] = 0.1\n",
    "param['max_depth'] = 6\n",
    "param['eval_metric'] = 'auc'\n",
    "param['silent'] = 0\n",
    "param['nthread'] = 10\n",
    "\n",
    "# you can directly throw param in, though we want to watch multiple metrics here\n",
    "plst = list(param.items())\n",
    "\n",
    "watchlist = [ (xgmat,'train') ]\n",
    "# boost 120 trees\n",
    "num_round = 120\n",
    "print ('loading data end, start to boost trees')\n",
    "bst = xgboost.train( plst, xgmat, num_round, watchlist ,early_stopping_rounds=5);\n",
    "# save out model\n",
    "bst.save_model(nameOfModel)\n",
    "\n",
    "print ('finish training')\n"
   ]
  },
  {
   "cell_type": "code",
   "execution_count": null,
   "metadata": {},
   "outputs": [],
   "source": [
    "xgmat_test = xgboost.DMatrix( X_test, label=Y_test)\n",
    "y_pred = bst.predict(xgmat_test)"
   ]
  },
  {
   "cell_type": "code",
   "execution_count": null,
   "metadata": {},
   "outputs": [],
   "source": [
    "predictions = [round(value) for value in y_pred]\n",
    "X_test = pd.concat([X_test,dfNeeded_test],axis=1)\n",
    "X_test['y_pred'] = y_pred"
   ]
  },
  {
   "cell_type": "code",
   "execution_count": null,
   "metadata": {},
   "outputs": [],
   "source": [
    "def getScore(df):\n",
    "    df['rank_srch_id'] = df.groupby('srch_id').cumcount().add(1)\n",
    "    df['gain'] = 5*df['booking_bool']\n",
    "    df['gain'] = np.where(df['gain'] == 0, df['click_bool'], df['gain'])\n",
    "\n",
    "    df['g/rank'] = df['gain']/df['rank_srch_id']\n",
    "    gi_sum = df['g/rank'].sum()\n",
    "    print(\"good\")\n",
    "    df['gain_sorted'] = list(df[['srch_id', 'booking_bool', 'click_bool', 'gain']].sort_values(by = ['srch_id','booking_bool','click_bool'], ascending = [True, False, False])['gain'])\n",
    "    df['g/rank_sorted'] = df['gain_sorted']/df['rank_srch_id']\n",
    "    gi_sorted_sum = df['g/rank_sorted'].sum() \n",
    "    score = gi_sum/gi_sorted_sum\n",
    "    return score, gi_sum, gi_sorted_sum"
   ]
  },
  {
   "cell_type": "code",
   "execution_count": null,
   "metadata": {},
   "outputs": [],
   "source": [
    "score, gi_sum, gi_sorted_sum = getScore(X_test.sort_values(by=['srch_id', 'y_pred'], ascending = [True, False]).reset_index(drop=True))\n",
    "print(score)\n",
    "print(gi_sum)\n",
    "print(gi_sorted_sum)\n",
    "# evaluate predictions\n",
    "accuracy = accuracy_score(Y_test, predictions)\n",
    "print(\"Accuracy: %.2f%%\" % (accuracy * 100.0))\n",
    "Counter(predictions)"
   ]
  },
  {
   "cell_type": "markdown",
   "metadata": {},
   "source": [
    "Evaluation"
   ]
  },
  {
   "cell_type": "code",
   "execution_count": 2,
   "metadata": {},
   "outputs": [],
   "source": [
    "dfTest = pd.read_csv(\"../data/testWithMean.csv\")"
   ]
  },
  {
   "cell_type": "code",
   "execution_count": 5,
   "metadata": {},
   "outputs": [],
   "source": [
    "clickingModel = xgboost.Booster({'nthread': 12})  # init model\n",
    "clickingModel.load_model('clickingExtra.model')  # load data\n"
   ]
  },
  {
   "cell_type": "code",
   "execution_count": 6,
   "metadata": {},
   "outputs": [
    {
     "name": "stdout",
     "output_type": "stream",
     "text": [
      "    srch_id            date_time  site_id  visitor_location_country_id  \\\n",
      "23        1  2013-02-02 15:27:40       24                          216   \n",
      "9         1  2013-02-02 15:27:40       24                          216   \n",
      "25        1  2013-02-02 15:27:40       24                          216   \n",
      "8         1  2013-02-02 15:27:40       24                          216   \n",
      "26        1  2013-02-02 15:27:40       24                          216   \n",
      "\n",
      "    visitor_hist_starrating  visitor_hist_adr_usd  prop_country_id  prop_id  \\\n",
      "23                      NaN                   NaN              219    99484   \n",
      "9                       NaN                   NaN              219    54937   \n",
      "25                      NaN                   NaN              219   128085   \n",
      "8                       NaN                   NaN              219    50162   \n",
      "26                      NaN                   NaN              219   128871   \n",
      "\n",
      "    prop_starrating  prop_review_score  ...  comp8_inv  \\\n",
      "23                3                4.0  ...        NaN   \n",
      "9                 3                4.0  ...        NaN   \n",
      "25                2                3.0  ...        NaN   \n",
      "8                 2                3.5  ...        NaN   \n",
      "26                2                3.0  ...        NaN   \n",
      "\n",
      "    comp8_rate_percent_diff  prop_id_mean  prop_starrating_mean  \\\n",
      "23                      NaN           NaN                   NaN   \n",
      "9                       NaN           9.0                   2.0   \n",
      "25                      NaN          25.0                   0.0   \n",
      "8                       NaN           8.0                   3.0   \n",
      "26                      NaN          26.0                   4.0   \n",
      "\n",
      "    prop_review_score_mean  prop_brand_bool_mean  prop_location_score1_mean  \\\n",
      "23                     NaN                   NaN                        NaN   \n",
      "9                      3.0                   1.0                       1.79   \n",
      "25                     4.5                   0.0                       0.00   \n",
      "8                      4.0                   0.0                       3.99   \n",
      "26                     4.5                   0.0                       0.00   \n",
      "\n",
      "    prop_location_score2_mean  prop_log_historical_price_mean  predictedPos  \n",
      "23                        NaN                             NaN      0.702307  \n",
      "9                      0.0420                        3.915556      0.405364  \n",
      "25                        NaN                        3.730000      0.299737  \n",
      "8                      0.0719                        3.912500      0.134603  \n",
      "26                     0.0502                        5.175000      0.132457  \n",
      "\n",
      "[5 rows x 58 columns]\n"
     ]
    }
   ],
   "source": [
    "xgmat_test_submission = xgboost.DMatrix(dfTest[featuresToUse])\n",
    "y_pred_clicking = clickingModel.predict(xgmat_test_submission)\n",
    "dfTest['predictedPos'] = y_pred_clicking\n",
    "dfTest = dfTest.sort_values(['srch_id','predictedPos'],ascending=[True, False])\n",
    "print(dfTest.head())\n",
    "dfSubmission = dfTest[['srch_id','prop_id']]\n",
    "dfSubmission.to_csv(\"submissionTest30april.csv\",index=False)"
   ]
  }
 ],
 "metadata": {
  "kernelspec": {
   "display_name": "Python 3",
   "language": "python",
   "name": "python3"
  },
  "language_info": {
   "codemirror_mode": {
    "name": "ipython",
    "version": 3
   },
   "file_extension": ".py",
   "mimetype": "text/x-python",
   "name": "python",
   "nbconvert_exporter": "python",
   "pygments_lexer": "ipython3",
   "version": "3.6.8"
  }
 },
 "nbformat": 4,
 "nbformat_minor": 2
}
