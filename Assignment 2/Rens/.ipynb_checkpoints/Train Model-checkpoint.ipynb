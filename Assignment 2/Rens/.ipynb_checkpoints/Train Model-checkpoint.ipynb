{
 "cells": [
  {
   "cell_type": "code",
   "execution_count": 1,
   "metadata": {},
   "outputs": [],
   "source": [
    "import pandas as pd\n",
    "import numpy as np\n",
    "import sklearn\n",
    "from xgboost import XGBClassifier\n",
    "import xgboost\n",
    "from collections import Counter\n",
    "from sklearn.model_selection import train_test_split\n",
    "from sklearn.metrics import accuracy_score\n",
    "from sklearn.metrics import classification_report\n",
    "import pickle\n",
    "from sklearn.utils import shuffle\n",
    "import json\n",
    "import os\n",
    "from xgboost import XGBClassifier\n",
    "from matplotlib import pyplot\n",
    "import math"
   ]
  },
  {
   "cell_type": "code",
   "execution_count": 2,
   "metadata": {},
   "outputs": [],
   "source": [
    "#Don't use datetime, Don't use categorical features, xgboost doesn't do those, first one hot encode\n",
    "featuresToUse = ['visitor_hist_starrating', 'visitor_hist_adr_usd',\n",
    "       'prop_starrating', 'prop_review_score', 'prop_brand_bool',\n",
    "       'prop_location_score1', 'prop_location_score2',\n",
    "       'prop_log_historical_price', 'price_usd', 'promotion_flag',\n",
    "       'srch_length_of_stay', 'srch_booking_window',\n",
    "       'srch_adults_count', 'srch_children_count', 'srch_room_count',\n",
    "       'srch_saturday_night_bool', 'srch_query_affinity_score',\n",
    "       'orig_destination_distance', 'comp1_rate', 'comp1_inv',\n",
    "                 'mean_prop_starrating',\n",
    "       'mean_prop_review_score', 'mean_prop_brand_bool',\n",
    "       'mean_prop_location_score1', 'mean_prop_location_score2',   'mean_prop_log_historical_price','cluster__0','cluster__1','cluster__2','cluster__3','cluster__4','cluster__5','diff_distance_orig','diff_price_usd']\n",
    "labelToPredict = 'booking_bool'\n",
    "neededVars = ['srch_id','click_bool']\n",
    "nameOfModel = \"models/10mayClickingOverFitTest\""
   ]
  },
  {
   "cell_type": "code",
   "execution_count": 2,
   "metadata": {},
   "outputs": [],
   "source": [
    "#Don't use datetime, Don't use categorical features, xgboost doesn't do those, first one hot encode\n",
    "featuresToUse = ['visitor_hist_starrating', 'visitor_hist_adr_usd',\n",
    "       'prop_starrating', 'prop_review_score', 'prop_brand_bool',\n",
    "       'prop_location_score1', 'prop_location_score2',\n",
    "       'prop_log_historical_price', 'price_usd', 'promotion_flag',\n",
    "       'srch_length_of_stay', 'srch_booking_window',\n",
    "       'srch_adults_count', 'srch_children_count', 'srch_room_count',\n",
    "       'srch_saturday_night_bool', 'srch_query_affinity_score',\n",
    "       'orig_destination_distance', 'comp1_rate', 'comp1_inv',\n",
    "       'diff_distance_orig','diff_price_usd']\n",
    "labelToPredict = 'click_bool'\n",
    "neededVars = ['srch_id','booking_bool']\n",
    "nameOfModel = \"models/10mayClickingOverFitTest2\""
   ]
  },
  {
   "cell_type": "code",
   "execution_count": 13,
   "metadata": {},
   "outputs": [],
   "source": [
    "df = pd.read_csv('../data/80PercentTrainWithMeanNoShuffle.csv', delimiter=\",\",usecols=featuresToUse+[labelToPredict]+neededVars)\n",
    "dfNeeded= df[neededVars+[labelToPredict]]\n",
    "Y = df[labelToPredict]\n",
    "df.drop(neededVars+[labelToPredict],axis=1,inplace=True)\n",
    "xgmat = xgboost.DMatrix( df, label=Y)"
   ]
  },
  {
   "cell_type": "code",
   "execution_count": 14,
   "metadata": {},
   "outputs": [],
   "source": [
    "df = pd.read_csv('../data/20PercentTestWithMeanNoShuffle.csv', delimiter=\",\",usecols=featuresToUse+[labelToPredict]+neededVars)\n",
    "dfNeeded= df[neededVars+[labelToPredict]]\n",
    "Y = df[labelToPredict]\n",
    "df.drop(neededVars+[labelToPredict],axis=1,inplace=True)\n",
    "xgmat_test = xgboost.DMatrix( df, label=Y)"
   ]
  },
  {
   "cell_type": "markdown",
   "metadata": {},
   "source": [
    "Lets train it on clicking"
   ]
  },
  {
   "cell_type": "code",
   "execution_count": 15,
   "metadata": {},
   "outputs": [
    {
     "name": "stdout",
     "output_type": "stream",
     "text": [
      "loading data end, start to boost trees\n",
      "[0]\ttrain-auc:0.696552\ttest-auc:0.696907\n",
      "Multiple eval metrics have been passed: 'test-auc' will be used for early stopping.\n",
      "\n",
      "Will train until test-auc hasn't improved in 5 rounds.\n",
      "[1]\ttrain-auc:0.700899\ttest-auc:0.700484\n",
      "[2]\ttrain-auc:0.703936\ttest-auc:0.702941\n",
      "[3]\ttrain-auc:0.706451\ttest-auc:0.705048\n",
      "[4]\ttrain-auc:0.708164\ttest-auc:0.706813\n",
      "[5]\ttrain-auc:0.709249\ttest-auc:0.707682\n",
      "[6]\ttrain-auc:0.710661\ttest-auc:0.708899\n",
      "[7]\ttrain-auc:0.711946\ttest-auc:0.709849\n",
      "[8]\ttrain-auc:0.71323\ttest-auc:0.710948\n",
      "[9]\ttrain-auc:0.714198\ttest-auc:0.711743\n",
      "[10]\ttrain-auc:0.715372\ttest-auc:0.712707\n",
      "[11]\ttrain-auc:0.716563\ttest-auc:0.713576\n",
      "[12]\ttrain-auc:0.71726\ttest-auc:0.714215\n",
      "[13]\ttrain-auc:0.718204\ttest-auc:0.715091\n",
      "[14]\ttrain-auc:0.718983\ttest-auc:0.715776\n",
      "[15]\ttrain-auc:0.719933\ttest-auc:0.716622\n",
      "[16]\ttrain-auc:0.720824\ttest-auc:0.717176\n",
      "[17]\ttrain-auc:0.721359\ttest-auc:0.71765\n",
      "[18]\ttrain-auc:0.721946\ttest-auc:0.718083\n",
      "[19]\ttrain-auc:0.722711\ttest-auc:0.718704\n",
      "[20]\ttrain-auc:0.723096\ttest-auc:0.719088\n",
      "[21]\ttrain-auc:0.723763\ttest-auc:0.71975\n",
      "[22]\ttrain-auc:0.72427\ttest-auc:0.720132\n",
      "[23]\ttrain-auc:0.724972\ttest-auc:0.720757\n",
      "[24]\ttrain-auc:0.72573\ttest-auc:0.721371\n",
      "[25]\ttrain-auc:0.726205\ttest-auc:0.721751\n",
      "[26]\ttrain-auc:0.726776\ttest-auc:0.722161\n",
      "[27]\ttrain-auc:0.727195\ttest-auc:0.722431\n",
      "[28]\ttrain-auc:0.727738\ttest-auc:0.722866\n",
      "[29]\ttrain-auc:0.728195\ttest-auc:0.723191\n",
      "[30]\ttrain-auc:0.728804\ttest-auc:0.723649\n",
      "[31]\ttrain-auc:0.729182\ttest-auc:0.723906\n",
      "[32]\ttrain-auc:0.729676\ttest-auc:0.724244\n",
      "[33]\ttrain-auc:0.730065\ttest-auc:0.724539\n",
      "[34]\ttrain-auc:0.730493\ttest-auc:0.724846\n",
      "[35]\ttrain-auc:0.730913\ttest-auc:0.725176\n",
      "[36]\ttrain-auc:0.731341\ttest-auc:0.725472\n",
      "[37]\ttrain-auc:0.731667\ttest-auc:0.725706\n",
      "[38]\ttrain-auc:0.732008\ttest-auc:0.725929\n",
      "[39]\ttrain-auc:0.732351\ttest-auc:0.726167\n",
      "[40]\ttrain-auc:0.732756\ttest-auc:0.726432\n",
      "[41]\ttrain-auc:0.733096\ttest-auc:0.726691\n",
      "[42]\ttrain-auc:0.733442\ttest-auc:0.726895\n",
      "[43]\ttrain-auc:0.733809\ttest-auc:0.727145\n",
      "[44]\ttrain-auc:0.734101\ttest-auc:0.727374\n",
      "[45]\ttrain-auc:0.734448\ttest-auc:0.727637\n",
      "[46]\ttrain-auc:0.734667\ttest-auc:0.72778\n",
      "[47]\ttrain-auc:0.734941\ttest-auc:0.727939\n",
      "[48]\ttrain-auc:0.735342\ttest-auc:0.728236\n",
      "[49]\ttrain-auc:0.735627\ttest-auc:0.728393\n",
      "[50]\ttrain-auc:0.735799\ttest-auc:0.728499\n",
      "[51]\ttrain-auc:0.73609\ttest-auc:0.728675\n",
      "[52]\ttrain-auc:0.736395\ttest-auc:0.728842\n",
      "[53]\ttrain-auc:0.736623\ttest-auc:0.728985\n",
      "[54]\ttrain-auc:0.736897\ttest-auc:0.729116\n",
      "[55]\ttrain-auc:0.737124\ttest-auc:0.729228\n",
      "[56]\ttrain-auc:0.737396\ttest-auc:0.729383\n",
      "[57]\ttrain-auc:0.737741\ttest-auc:0.729634\n",
      "[58]\ttrain-auc:0.737905\ttest-auc:0.729703\n",
      "[59]\ttrain-auc:0.738061\ttest-auc:0.729802\n",
      "[60]\ttrain-auc:0.738344\ttest-auc:0.729988\n",
      "[61]\ttrain-auc:0.738564\ttest-auc:0.730132\n",
      "[62]\ttrain-auc:0.738801\ttest-auc:0.730266\n",
      "[63]\ttrain-auc:0.739103\ttest-auc:0.730479\n",
      "[64]\ttrain-auc:0.739351\ttest-auc:0.730619\n",
      "[65]\ttrain-auc:0.739576\ttest-auc:0.730756\n",
      "[66]\ttrain-auc:0.73974\ttest-auc:0.730844\n",
      "[67]\ttrain-auc:0.739903\ttest-auc:0.730923\n",
      "[68]\ttrain-auc:0.740121\ttest-auc:0.731032\n",
      "[69]\ttrain-auc:0.740344\ttest-auc:0.731162\n",
      "[70]\ttrain-auc:0.740491\ttest-auc:0.731243\n",
      "[71]\ttrain-auc:0.740647\ttest-auc:0.731325\n",
      "[72]\ttrain-auc:0.740857\ttest-auc:0.731409\n",
      "[73]\ttrain-auc:0.741074\ttest-auc:0.731516\n",
      "[74]\ttrain-auc:0.74129\ttest-auc:0.731649\n",
      "[75]\ttrain-auc:0.741465\ttest-auc:0.731723\n",
      "[76]\ttrain-auc:0.741704\ttest-auc:0.731857\n",
      "[77]\ttrain-auc:0.74188\ttest-auc:0.731945\n",
      "[78]\ttrain-auc:0.742023\ttest-auc:0.732013\n",
      "[79]\ttrain-auc:0.742155\ttest-auc:0.732077\n",
      "[80]\ttrain-auc:0.742366\ttest-auc:0.732171\n",
      "[81]\ttrain-auc:0.742518\ttest-auc:0.732212\n",
      "[82]\ttrain-auc:0.742713\ttest-auc:0.732333\n",
      "[83]\ttrain-auc:0.742841\ttest-auc:0.732378\n",
      "[84]\ttrain-auc:0.743047\ttest-auc:0.73249\n",
      "[85]\ttrain-auc:0.743154\ttest-auc:0.732526\n",
      "[86]\ttrain-auc:0.743244\ttest-auc:0.732553\n",
      "[87]\ttrain-auc:0.743398\ttest-auc:0.732632\n",
      "[88]\ttrain-auc:0.743493\ttest-auc:0.732671\n",
      "[89]\ttrain-auc:0.743632\ttest-auc:0.73271\n",
      "[90]\ttrain-auc:0.74373\ttest-auc:0.732745\n",
      "[91]\ttrain-auc:0.744002\ttest-auc:0.732913\n",
      "[92]\ttrain-auc:0.744106\ttest-auc:0.732963\n",
      "[93]\ttrain-auc:0.74424\ttest-auc:0.733008\n",
      "[94]\ttrain-auc:0.744345\ttest-auc:0.733057\n",
      "[95]\ttrain-auc:0.744518\ttest-auc:0.73315\n",
      "[96]\ttrain-auc:0.74456\ttest-auc:0.733144\n",
      "[97]\ttrain-auc:0.744726\ttest-auc:0.733189\n",
      "[98]\ttrain-auc:0.74489\ttest-auc:0.733234\n",
      "[99]\ttrain-auc:0.745049\ttest-auc:0.733259\n",
      "[100]\ttrain-auc:0.745198\ttest-auc:0.73332\n",
      "[101]\ttrain-auc:0.745293\ttest-auc:0.733328\n",
      "[102]\ttrain-auc:0.745358\ttest-auc:0.733348\n",
      "[103]\ttrain-auc:0.745587\ttest-auc:0.733428\n",
      "[104]\ttrain-auc:0.745765\ttest-auc:0.73355\n",
      "[105]\ttrain-auc:0.745973\ttest-auc:0.733679\n",
      "[106]\ttrain-auc:0.74612\ttest-auc:0.733759\n",
      "[107]\ttrain-auc:0.746218\ttest-auc:0.733776\n",
      "[108]\ttrain-auc:0.746326\ttest-auc:0.733803\n",
      "[109]\ttrain-auc:0.746366\ttest-auc:0.733812\n",
      "[110]\ttrain-auc:0.746485\ttest-auc:0.733853\n",
      "[111]\ttrain-auc:0.746745\ttest-auc:0.734013\n",
      "[112]\ttrain-auc:0.746814\ttest-auc:0.734022\n",
      "[113]\ttrain-auc:0.746909\ttest-auc:0.734036\n",
      "[114]\ttrain-auc:0.747027\ttest-auc:0.734052\n",
      "[115]\ttrain-auc:0.747181\ttest-auc:0.734128\n",
      "[116]\ttrain-auc:0.747371\ttest-auc:0.734228\n",
      "[117]\ttrain-auc:0.747539\ttest-auc:0.734294\n",
      "[118]\ttrain-auc:0.747658\ttest-auc:0.734344\n",
      "[119]\ttrain-auc:0.747767\ttest-auc:0.734391\n",
      "[120]\ttrain-auc:0.747954\ttest-auc:0.734495\n",
      "[121]\ttrain-auc:0.748048\ttest-auc:0.734524\n",
      "[122]\ttrain-auc:0.748201\ttest-auc:0.734558\n",
      "[123]\ttrain-auc:0.748323\ttest-auc:0.734592\n",
      "[124]\ttrain-auc:0.748438\ttest-auc:0.73468\n",
      "[125]\ttrain-auc:0.748492\ttest-auc:0.734684\n",
      "[126]\ttrain-auc:0.748546\ttest-auc:0.734689\n",
      "[127]\ttrain-auc:0.748705\ttest-auc:0.734739\n",
      "[128]\ttrain-auc:0.748809\ttest-auc:0.734792\n",
      "[129]\ttrain-auc:0.748902\ttest-auc:0.734805\n",
      "[130]\ttrain-auc:0.749098\ttest-auc:0.734947\n",
      "[131]\ttrain-auc:0.749251\ttest-auc:0.734994\n",
      "[132]\ttrain-auc:0.749393\ttest-auc:0.735036\n",
      "[133]\ttrain-auc:0.749484\ttest-auc:0.735053\n",
      "[134]\ttrain-auc:0.749597\ttest-auc:0.735073\n",
      "[135]\ttrain-auc:0.74971\ttest-auc:0.735134\n",
      "[136]\ttrain-auc:0.749748\ttest-auc:0.735127\n",
      "[137]\ttrain-auc:0.749835\ttest-auc:0.73512\n",
      "[138]\ttrain-auc:0.749918\ttest-auc:0.735123\n",
      "[139]\ttrain-auc:0.74997\ttest-auc:0.735146\n",
      "[140]\ttrain-auc:0.750022\ttest-auc:0.735161\n",
      "[141]\ttrain-auc:0.750095\ttest-auc:0.735164\n",
      "[142]\ttrain-auc:0.750284\ttest-auc:0.735219\n",
      "[143]\ttrain-auc:0.750424\ttest-auc:0.735303\n",
      "[144]\ttrain-auc:0.750464\ttest-auc:0.7353\n",
      "[145]\ttrain-auc:0.750515\ttest-auc:0.735299\n",
      "[146]\ttrain-auc:0.750561\ttest-auc:0.735312\n",
      "[147]\ttrain-auc:0.750656\ttest-auc:0.735349\n",
      "[148]\ttrain-auc:0.750792\ttest-auc:0.735392\n",
      "[149]\ttrain-auc:0.750925\ttest-auc:0.735432\n",
      "[150]\ttrain-auc:0.751071\ttest-auc:0.735483\n",
      "[151]\ttrain-auc:0.751152\ttest-auc:0.735495\n",
      "[152]\ttrain-auc:0.751206\ttest-auc:0.735515\n",
      "[153]\ttrain-auc:0.75131\ttest-auc:0.735586\n",
      "[154]\ttrain-auc:0.751417\ttest-auc:0.735605\n",
      "[155]\ttrain-auc:0.751534\ttest-auc:0.735618\n",
      "[156]\ttrain-auc:0.751572\ttest-auc:0.735629\n",
      "[157]\ttrain-auc:0.751632\ttest-auc:0.735638\n",
      "[158]\ttrain-auc:0.75165\ttest-auc:0.735633\n",
      "[159]\ttrain-auc:0.751747\ttest-auc:0.735655\n",
      "[160]\ttrain-auc:0.751866\ttest-auc:0.735691\n",
      "[161]\ttrain-auc:0.75198\ttest-auc:0.735719\n",
      "[162]\ttrain-auc:0.752064\ttest-auc:0.735764\n",
      "[163]\ttrain-auc:0.752198\ttest-auc:0.735815\n",
      "[164]\ttrain-auc:0.752343\ttest-auc:0.735865\n",
      "[165]\ttrain-auc:0.752447\ttest-auc:0.735844\n",
      "[166]\ttrain-auc:0.752512\ttest-auc:0.735848\n",
      "[167]\ttrain-auc:0.75257\ttest-auc:0.735838\n",
      "[168]\ttrain-auc:0.752649\ttest-auc:0.735848\n",
      "[169]\ttrain-auc:0.75267\ttest-auc:0.735853\n",
      "Stopping. Best iteration:\n",
      "[164]\ttrain-auc:0.752343\ttest-auc:0.735865\n",
      "\n",
      "finish training\n"
     ]
    }
   ],
   "source": [
    "# construct xgboost.DMatrix from numpy array, treat -999.0 as missing value\n",
    "#xgmat = xgboost.DMatrix( df, label=y_train)\n",
    "\n",
    "# setup parameters for xgboost\n",
    "param = {}\n",
    "# use logistic regression loss, use raw prediction before logistic transformation\n",
    "# since we only need the rank\n",
    "param['objective'] = 'reg:logistic'\n",
    "# scale weight of positive examples\n",
    "param['scale_pos_weight'] = sum(Y==0)/sum(Y==1)\n",
    "param['eta'] = 0.1\n",
    "param['max_depth'] = 6\n",
    "param['eval_metric'] = 'auc'\n",
    "param['silent'] = 0\n",
    "param['eval_set'] = xgmat_test\n",
    "#param['colsample_bytree'] = 0.8\n",
    "\n",
    "\n",
    "# you can directly throw param in, though we want to watch multiple metrics here\n",
    "plst = list(param.items())\n",
    "\n",
    "watchlist = [ (xgmat,'train') ,(xgmat_test,'test')]\n",
    "\n",
    "num_round = 500\n",
    "print ('loading data end, start to boost trees')\n",
    "bst = xgboost.train( plst, xgmat, num_round, watchlist ,early_stopping_rounds=5);\n",
    "# save out model\n",
    "bst.save_model(nameOfModel+\".model\")\n",
    "\n",
    "print ('finish training')\n"
   ]
  },
  {
   "cell_type": "code",
   "execution_count": 23,
   "metadata": {
    "scrolled": true
   },
   "outputs": [
    {
     "data": {
      "text/plain": [
       "<matplotlib.axes._subplots.AxesSubplot at 0x26640735978>"
      ]
     },
     "execution_count": 23,
     "metadata": {},
     "output_type": "execute_result"
    },
    {
     "data": {
      "image/png": "[encoded data removed]",
      "text/plain": [
       "<Figure size 432x288 with 1 Axes>"
      ]
     },
     "metadata": {
      "needs_background": "light"
     },
     "output_type": "display_data"
    }
   ],
   "source": [
    "feat_imp = pd.Series(bst.get_fscore()).sort_values(ascending=False)\n",
    "feat_imp.plot(kind='bar', title='Feature Importances')\n"
   ]
  },
  {
   "cell_type": "code",
   "execution_count": 17,
   "metadata": {},
   "outputs": [],
   "source": [
    "y_pred = bst.predict(xgmat_test)"
   ]
  },
  {
   "cell_type": "code",
   "execution_count": 18,
   "metadata": {},
   "outputs": [],
   "source": [
    "predictions = [round(value) for value in y_pred]\n",
    "df = pd.concat([df,dfNeeded],axis=1)\n",
    "df['y_pred'] = y_pred"
   ]
  },
  {
   "cell_type": "code",
   "execution_count": 19,
   "metadata": {},
   "outputs": [],
   "source": [
    "def getLog(x):\n",
    "    return math.log(x+1,2)\n",
    "def getScore(df):\n",
    "    df['rank_srch_id'] = df.groupby('srch_id').cumcount().add(1)\n",
    "    \n",
    "    df['gain'] = 5*df['booking_bool']\n",
    "    df['gain'] = np.where(df['gain'] == 0, df['click_bool'], df['gain'])\n",
    "    df['log_rank'] = df['rank_srch_id'].apply(getLog)\n",
    "    \n",
    "    df['g/rank'] = df['gain']/df['log_rank']\n",
    "    gi_sum = df['g/rank'].sum()\n",
    "\n",
    "    df['gain_sorted'] = list(df[['srch_id', 'booking_bool', 'click_bool', 'gain']].sort_values(by = ['srch_id','booking_bool','click_bool'], ascending = [True, False, False])['gain'])\n",
    "    df['g/rank_sorted'] = df['gain_sorted']/df['log_rank']\n",
    "    gi_sorted_sum = df['g/rank_sorted'].sum()\n",
    "    \n",
    "    score = gi_sum/gi_sorted_sum\n",
    "\n",
    "    return score, gi_sum, gi_sorted_sum"
   ]
  },
  {
   "cell_type": "code",
   "execution_count": 22,
   "metadata": {
    "scrolled": true
   },
   "outputs": [
    {
     "name": "stdout",
     "output_type": "stream",
     "text": [
      "0.5089782169943571\n",
      "Accuracy: 68.85%\n"
     ]
    }
   ],
   "source": [
    "score, gi_sum, gi_sorted_sum = getScore(df.sort_values(by=['srch_id', 'y_pred'], ascending = [True, False]).reset_index(drop=True))\n",
    "print(score)\n",
    "\n",
    "# evaluate predictions\n",
    "accuracy = accuracy_score(df['click_bool'], predictions)\n",
    "print(\"Accuracy: %.2f%%\" % (accuracy * 100.0))"
   ]
  },
  {
   "cell_type": "code",
   "execution_count": 21,
   "metadata": {},
   "outputs": [
    {
     "ename": "TypeError",
     "evalue": "Object of type 'DMatrix' is not JSON serializable",
     "output_type": "error",
     "traceback": [
      "\u001b[1;31m---------------------------------------------------------------------------\u001b[0m",
      "\u001b[1;31mTypeError\u001b[0m                                 Traceback (most recent call last)",
      "\u001b[1;32m<ipython-input-21-5dfe6e37d5bf>\u001b[0m in \u001b[0;36m<module>\u001b[1;34m\u001b[0m\n\u001b[0;32m      5\u001b[0m \u001b[0mf\u001b[0m\u001b[1;33m.\u001b[0m\u001b[0mwrite\u001b[0m\u001b[1;33m(\u001b[0m\u001b[0mstr\u001b[0m\u001b[1;33m(\u001b[0m\u001b[0mlist\u001b[0m\u001b[1;33m(\u001b[0m\u001b[0mfeaturesToUse\u001b[0m\u001b[1;33m)\u001b[0m\u001b[1;33m)\u001b[0m \u001b[1;33m+\u001b[0m\u001b[1;34m\"\\n\"\u001b[0m\u001b[1;33m)\u001b[0m\u001b[1;33m\u001b[0m\u001b[1;33m\u001b[0m\u001b[0m\n\u001b[0;32m      6\u001b[0m \u001b[0mf\u001b[0m\u001b[1;33m.\u001b[0m\u001b[0mwrite\u001b[0m\u001b[1;33m(\u001b[0m\u001b[1;34m\"Parameters xgboost:\\n\"\u001b[0m\u001b[1;33m)\u001b[0m\u001b[1;33m\u001b[0m\u001b[1;33m\u001b[0m\u001b[0m\n\u001b[1;32m----> 7\u001b[1;33m \u001b[0mf\u001b[0m\u001b[1;33m.\u001b[0m\u001b[0mwrite\u001b[0m\u001b[1;33m(\u001b[0m\u001b[0mstr\u001b[0m\u001b[1;33m(\u001b[0m\u001b[0mjson\u001b[0m\u001b[1;33m.\u001b[0m\u001b[0mdumps\u001b[0m\u001b[1;33m(\u001b[0m\u001b[0mparam\u001b[0m\u001b[1;33m)\u001b[0m\u001b[1;33m)\u001b[0m\u001b[1;33m+\u001b[0m\u001b[1;34m\"\\n\"\u001b[0m\u001b[1;33m)\u001b[0m\u001b[1;33m\u001b[0m\u001b[1;33m\u001b[0m\u001b[0m\n\u001b[0m\u001b[0;32m      8\u001b[0m \u001b[0mf\u001b[0m\u001b[1;33m.\u001b[0m\u001b[0mwrite\u001b[0m\u001b[1;33m(\u001b[0m\u001b[1;34m\"Number of rounds:\\n\"\u001b[0m\u001b[1;33m+\u001b[0m\u001b[0mstr\u001b[0m\u001b[1;33m(\u001b[0m\u001b[0mnum_round\u001b[0m\u001b[1;33m)\u001b[0m\u001b[1;33m+\u001b[0m\u001b[1;34m\"\\n\"\u001b[0m\u001b[1;33m)\u001b[0m\u001b[1;33m\u001b[0m\u001b[1;33m\u001b[0m\u001b[0m\n\u001b[0;32m      9\u001b[0m \u001b[0mf\u001b[0m\u001b[1;33m.\u001b[0m\u001b[0mclose\u001b[0m\u001b[1;33m(\u001b[0m\u001b[1;33m)\u001b[0m\u001b[1;33m\u001b[0m\u001b[1;33m\u001b[0m\u001b[0m\n",
      "\u001b[1;32mE:\\Anaconda\\lib\\json\\__init__.py\u001b[0m in \u001b[0;36mdumps\u001b[1;34m(obj, skipkeys, ensure_ascii, check_circular, allow_nan, cls, indent, separators, default, sort_keys, **kw)\u001b[0m\n\u001b[0;32m    229\u001b[0m         \u001b[0mcls\u001b[0m \u001b[1;32mis\u001b[0m \u001b[1;32mNone\u001b[0m \u001b[1;32mand\u001b[0m \u001b[0mindent\u001b[0m \u001b[1;32mis\u001b[0m \u001b[1;32mNone\u001b[0m \u001b[1;32mand\u001b[0m \u001b[0mseparators\u001b[0m \u001b[1;32mis\u001b[0m \u001b[1;32mNone\u001b[0m \u001b[1;32mand\u001b[0m\u001b[1;33m\u001b[0m\u001b[1;33m\u001b[0m\u001b[0m\n\u001b[0;32m    230\u001b[0m         default is None and not sort_keys and not kw):\n\u001b[1;32m--> 231\u001b[1;33m         \u001b[1;32mreturn\u001b[0m \u001b[0m_default_encoder\u001b[0m\u001b[1;33m.\u001b[0m\u001b[0mencode\u001b[0m\u001b[1;33m(\u001b[0m\u001b[0mobj\u001b[0m\u001b[1;33m)\u001b[0m\u001b[1;33m\u001b[0m\u001b[1;33m\u001b[0m\u001b[0m\n\u001b[0m\u001b[0;32m    232\u001b[0m     \u001b[1;32mif\u001b[0m \u001b[0mcls\u001b[0m \u001b[1;32mis\u001b[0m \u001b[1;32mNone\u001b[0m\u001b[1;33m:\u001b[0m\u001b[1;33m\u001b[0m\u001b[1;33m\u001b[0m\u001b[0m\n\u001b[0;32m    233\u001b[0m         \u001b[0mcls\u001b[0m \u001b[1;33m=\u001b[0m \u001b[0mJSONEncoder\u001b[0m\u001b[1;33m\u001b[0m\u001b[1;33m\u001b[0m\u001b[0m\n",
      "\u001b[1;32mE:\\Anaconda\\lib\\json\\encoder.py\u001b[0m in \u001b[0;36mencode\u001b[1;34m(self, o)\u001b[0m\n\u001b[0;32m    197\u001b[0m         \u001b[1;31m# exceptions aren't as detailed.  The list call should be roughly\u001b[0m\u001b[1;33m\u001b[0m\u001b[1;33m\u001b[0m\u001b[1;33m\u001b[0m\u001b[0m\n\u001b[0;32m    198\u001b[0m         \u001b[1;31m# equivalent to the PySequence_Fast that ''.join() would do.\u001b[0m\u001b[1;33m\u001b[0m\u001b[1;33m\u001b[0m\u001b[1;33m\u001b[0m\u001b[0m\n\u001b[1;32m--> 199\u001b[1;33m         \u001b[0mchunks\u001b[0m \u001b[1;33m=\u001b[0m \u001b[0mself\u001b[0m\u001b[1;33m.\u001b[0m\u001b[0miterencode\u001b[0m\u001b[1;33m(\u001b[0m\u001b[0mo\u001b[0m\u001b[1;33m,\u001b[0m \u001b[0m_one_shot\u001b[0m\u001b[1;33m=\u001b[0m\u001b[1;32mTrue\u001b[0m\u001b[1;33m)\u001b[0m\u001b[1;33m\u001b[0m\u001b[1;33m\u001b[0m\u001b[0m\n\u001b[0m\u001b[0;32m    200\u001b[0m         \u001b[1;32mif\u001b[0m \u001b[1;32mnot\u001b[0m \u001b[0misinstance\u001b[0m\u001b[1;33m(\u001b[0m\u001b[0mchunks\u001b[0m\u001b[1;33m,\u001b[0m \u001b[1;33m(\u001b[0m\u001b[0mlist\u001b[0m\u001b[1;33m,\u001b[0m \u001b[0mtuple\u001b[0m\u001b[1;33m)\u001b[0m\u001b[1;33m)\u001b[0m\u001b[1;33m:\u001b[0m\u001b[1;33m\u001b[0m\u001b[1;33m\u001b[0m\u001b[0m\n\u001b[0;32m    201\u001b[0m             \u001b[0mchunks\u001b[0m \u001b[1;33m=\u001b[0m \u001b[0mlist\u001b[0m\u001b[1;33m(\u001b[0m\u001b[0mchunks\u001b[0m\u001b[1;33m)\u001b[0m\u001b[1;33m\u001b[0m\u001b[1;33m\u001b[0m\u001b[0m\n",
      "\u001b[1;32mE:\\Anaconda\\lib\\json\\encoder.py\u001b[0m in \u001b[0;36miterencode\u001b[1;34m(self, o, _one_shot)\u001b[0m\n\u001b[0;32m    255\u001b[0m                 \u001b[0mself\u001b[0m\u001b[1;33m.\u001b[0m\u001b[0mkey_separator\u001b[0m\u001b[1;33m,\u001b[0m \u001b[0mself\u001b[0m\u001b[1;33m.\u001b[0m\u001b[0mitem_separator\u001b[0m\u001b[1;33m,\u001b[0m \u001b[0mself\u001b[0m\u001b[1;33m.\u001b[0m\u001b[0msort_keys\u001b[0m\u001b[1;33m,\u001b[0m\u001b[1;33m\u001b[0m\u001b[1;33m\u001b[0m\u001b[0m\n\u001b[0;32m    256\u001b[0m                 self.skipkeys, _one_shot)\n\u001b[1;32m--> 257\u001b[1;33m         \u001b[1;32mreturn\u001b[0m \u001b[0m_iterencode\u001b[0m\u001b[1;33m(\u001b[0m\u001b[0mo\u001b[0m\u001b[1;33m,\u001b[0m \u001b[1;36m0\u001b[0m\u001b[1;33m)\u001b[0m\u001b[1;33m\u001b[0m\u001b[1;33m\u001b[0m\u001b[0m\n\u001b[0m\u001b[0;32m    258\u001b[0m \u001b[1;33m\u001b[0m\u001b[0m\n\u001b[0;32m    259\u001b[0m def _make_iterencode(markers, _default, _encoder, _indent, _floatstr,\n",
      "\u001b[1;32mE:\\Anaconda\\lib\\json\\encoder.py\u001b[0m in \u001b[0;36mdefault\u001b[1;34m(self, o)\u001b[0m\n\u001b[0;32m    178\u001b[0m         \"\"\"\n\u001b[0;32m    179\u001b[0m         raise TypeError(\"Object of type '%s' is not JSON serializable\" %\n\u001b[1;32m--> 180\u001b[1;33m                         o.__class__.__name__)\n\u001b[0m\u001b[0;32m    181\u001b[0m \u001b[1;33m\u001b[0m\u001b[0m\n\u001b[0;32m    182\u001b[0m     \u001b[1;32mdef\u001b[0m \u001b[0mencode\u001b[0m\u001b[1;33m(\u001b[0m\u001b[0mself\u001b[0m\u001b[1;33m,\u001b[0m \u001b[0mo\u001b[0m\u001b[1;33m)\u001b[0m\u001b[1;33m:\u001b[0m\u001b[1;33m\u001b[0m\u001b[1;33m\u001b[0m\u001b[0m\n",
      "\u001b[1;31mTypeError\u001b[0m: Object of type 'DMatrix' is not JSON serializable"
     ]
    }
   ],
   "source": [
    "f=open(\"scores.txt\", \"a+\")\n",
    "f.write(\"Score: \"+str(score)+\"\\n\")\n",
    "f.write(\"Label to predict: \"+str(labelToPredict)+\"\\n\")\n",
    "f.write(\"Features used:\\n\")\n",
    "f.write(str(list(featuresToUse)) +\"\\n\")\n",
    "f.write(\"Parameters xgboost:\\n\")\n",
    "f.write(str(json.dumps(param))+\"\\n\")\n",
    "f.write(\"Number of rounds:\\n\"+str(num_round)+\"\\n\")\n",
    "f.close()"
   ]
  },
  {
   "cell_type": "code",
   "execution_count": 24,
   "metadata": {},
   "outputs": [],
   "source": [
    "os.rename(nameOfModel+\".model\",nameOfModel+str(int(score*100))+\".model\")\n",
    "newNameOfModel = nameOfModel+str(int(score*100))"
   ]
  },
  {
   "cell_type": "markdown",
   "metadata": {},
   "source": [
    "Lets combine the models"
   ]
  },
  {
   "cell_type": "code",
   "execution_count": 3,
   "metadata": {},
   "outputs": [],
   "source": [
    "clickingModel = xgboost.Booster()\n",
    "clickingModel.load_model('models/10mayClicking50074.model')\n",
    "bookingModel = xgboost.Booster()\n",
    "bookingModel.load_model(\"models/9mayBooking74.model\")"
   ]
  },
  {
   "cell_type": "code",
   "execution_count": 4,
   "metadata": {},
   "outputs": [],
   "source": [
    "df = pd.read_csv('../data/20PercentTestWithMean.csv', delimiter=\",\",usecols=featuresToUse+[labelToPredict]+neededVars)\n",
    "dfNeeded= df[neededVars+[labelToPredict]]\n",
    "df.drop(neededVars+[labelToPredict],axis=1,inplace=True)"
   ]
  },
  {
   "cell_type": "code",
   "execution_count": 5,
   "metadata": {},
   "outputs": [],
   "source": [
    "xgmat_test = xgboost.DMatrix( df)\n",
    "y_pred_clicking = clickingModel.predict(xgmat_test)\n",
    "y_pred_booking = bookingModel.predict(xgmat_test)"
   ]
  },
  {
   "cell_type": "code",
   "execution_count": 6,
   "metadata": {},
   "outputs": [],
   "source": [
    "df = pd.concat([df,dfNeeded],axis=1)\n",
    "df['y_pred_clicking'] = y_pred_clicking\n",
    "df['y_pred_booking'] = y_pred_booking\n",
    "df['combined'] = y_pred_booking+y_pred_clicking"
   ]
  },
  {
   "cell_type": "code",
   "execution_count": 9,
   "metadata": {},
   "outputs": [
    {
     "name": "stdout",
     "output_type": "stream",
     "text": [
      "Sort first on booking and then on clicking: 0.7482338410691464\n",
      "Combine then sort: 0.7518651972072667\n"
     ]
    }
   ],
   "source": [
    "score_apart, gi_sum, gi_sorted_sum = getScore(df.sort_values(by=['srch_id', 'y_pred_booking', 'y_pred_clicking'], ascending = [True, False,False]).reset_index(drop=True))\n",
    "score_combined, gi_sum, gi_sorted_sum = getScore(df.sort_values(by=['srch_id', 'combined'], ascending = [True, False]).reset_index(drop=True))\n",
    "print(\"Sort first on booking and then on clicking: \"+str(score_apart))\n",
    "print(\"Combine then sort: \"+str(score_combined))"
   ]
  },
  {
   "cell_type": "markdown",
   "metadata": {},
   "source": [
    "Evaluation"
   ]
  },
  {
   "cell_type": "code",
   "execution_count": 3,
   "metadata": {},
   "outputs": [],
   "source": [
    "dfTest = pd.read_csv(\"../data/testWithMean.csv\")"
   ]
  },
  {
   "cell_type": "code",
   "execution_count": 4,
   "metadata": {},
   "outputs": [],
   "source": [
    "clickingModel = xgboost.Booster()\n",
    "clickingModel.load_model(\"models/10mayClickingOverFitTest50.model\")\n",
    "#bookingModel = xgboost.Booster()\n",
    "#bookingModel.load_model(\"models/9mayBooking74.model\")"
   ]
  },
  {
   "cell_type": "code",
   "execution_count": 5,
   "metadata": {},
   "outputs": [],
   "source": [
    "xgmat_test_submission = xgboost.DMatrix(dfTest[featuresToUse])\n",
    "y_pred_clicking = clickingModel.predict(xgmat_test_submission)\n",
    "#_pred_booking = bookingModel.predict(xgmat_test_submission)\n",
    "dfTest['predictedPos'] = y_pred_clicking#+y_pred_booking\n",
    "dfTest = dfTest.sort_values(['srch_id','predictedPos'],ascending=[True, False])\n",
    "dfSubmission = dfTest[['srch_id','prop_id']]\n",
    "dfSubmission.to_csv(\"submissionTest10yFinal.csv\",index=False)"
   ]
  }
 ],
 "metadata": {
  "kernelspec": {
   "display_name": "Python 3",
   "language": "python",
   "name": "python3"
  },
  "language_info": {
   "codemirror_mode": {
    "name": "ipython",
    "version": 3
   },
   "file_extension": ".py",
   "mimetype": "text/x-python",
   "name": "python",
   "nbconvert_exporter": "python",
   "pygments_lexer": "ipython3",
   "version": "3.6.8"
  }
 },
 "nbformat": 4,
 "nbformat_minor": 2
}
