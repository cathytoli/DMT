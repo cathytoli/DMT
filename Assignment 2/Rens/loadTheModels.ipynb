{
 "cells": [
  {
   "cell_type": "code",
   "execution_count": 36,
   "metadata": {},
   "outputs": [],
   "source": [
    "import pandas as pd\n",
    "import numpy as np\n",
    "from xgboost import XGBClassifier\n",
    "import xgboost\n",
    "from sklearn.utils import shuffle\n",
    "import operator"
   ]
  },
  {
   "cell_type": "markdown",
   "metadata": {},
   "source": [
    "Load the models"
   ]
  },
  {
   "cell_type": "code",
   "execution_count": 18,
   "metadata": {},
   "outputs": [],
   "source": [
    "clickingModel = xgboost.Booster({'nthread': 12})  # init model\n",
    "clickingModel.load_model('xgboostBinary26April.model')  # load data\n",
    "\n",
    "bookingModel = xgboost.Booster({'nthread': 12})  # init model\n",
    "bookingModel.load_model('bookingModel.model')  # load data\n"
   ]
  },
  {
   "cell_type": "code",
   "execution_count": 22,
   "metadata": {},
   "outputs": [],
   "source": [
    "feature_names_list = ['visitor_hist_starrating', 'visitor_hist_adr_usd',\n",
    "       'prop_starrating', 'prop_review_score', 'prop_brand_bool',\n",
    "       'prop_location_score1', 'prop_location_score2',\n",
    "       'prop_log_historical_price', 'price_usd', 'promotion_flag',\n",
    "       'srch_destination_id', 'srch_length_of_stay', 'srch_booking_window',\n",
    "       'srch_adults_count', 'srch_children_count', 'srch_room_count',\n",
    "       'srch_saturday_night_bool', 'srch_query_affinity_score',\n",
    "       'orig_destination_distance', 'comp1_rate', 'comp1_inv',\n",
    "                 'prop_starrating_mean',\n",
    "       'prop_review_score_mean', 'prop_brand_bool_mean',\n",
    "       'prop_location_score1_mean', 'prop_location_score2_mean',\n",
    "       'prop_log_historical_price_mean']\n",
    "featTypes =['int',\n",
    " 'int',\n",
    " 'int',\n",
    " 'float',\n",
    " 'float',\n",
    " 'int',\n",
    " 'int',\n",
    " 'int',\n",
    " 'float',\n",
    " 'int',\n",
    " 'float',\n",
    " 'float',\n",
    " 'float',\n",
    " 'float',\n",
    " 'int',\n",
    " 'int',\n",
    " 'int',\n",
    " 'int',\n",
    " 'int',\n",
    " 'int',\n",
    " 'int',\n",
    " 'int',\n",
    " 'float',\n",
    " 'float',\n",
    " 'int',\n",
    " 'float',\n",
    " 'float']"
   ]
  },
  {
   "cell_type": "code",
   "execution_count": 39,
   "metadata": {},
   "outputs": [
    {
     "name": "stdout",
     "output_type": "stream",
     "text": [
      "[('comp1_inv', 19), ('srch_saturday_night_bool', 23), ('comp1_rate', 25), ('prop_brand_bool', 95), ('srch_room_count', 98), ('visitor_hist_starrating', 102), ('promotion_flag', 106), ('srch_children_count', 117), ('srch_length_of_stay', 117), ('visitor_location_country_id', 131), ('site_id', 133), ('srch_query_affinity_score', 140), ('random_bool', 147), ('visitor_hist_adr_usd', 160), ('srch_adults_count', 171), ('srch_id', 192), ('srch_booking_window', 266), ('prop_country_id', 303), ('prop_starrating', 348), ('prop_review_score', 351), ('prop_id', 355), ('srch_destination_id', 386), ('orig_destination_distance', 390), ('prop_log_historical_price', 454), ('prop_location_score1', 657), ('prop_location_score2', 954), ('price_usd', 984)]\n",
      "\n",
      "[('comp1_inv', 3), ('visitor_location_country_id', 6), ('site_id', 6), ('comp1_rate', 7), ('prop_id', 12), ('prop_log_historical_price', 15), ('srch_id', 17), ('srch_destination_id', 18), ('srch_children_count', 20), ('prop_country_id', 21), ('random_bool', 25), ('visitor_hist_starrating', 32), ('orig_destination_distance', 41), ('srch_adults_count', 44), ('visitor_hist_adr_usd', 47), ('srch_query_affinity_score', 56), ('srch_room_count', 61), ('srch_length_of_stay', 67), ('prop_review_score', 75), ('promotion_flag', 86), ('srch_booking_window', 95), ('prop_starrating', 116), ('prop_location_score1', 155), ('price_usd', 253), ('prop_location_score2', 294)]\n"
     ]
    }
   ],
   "source": [
    "clickingModel.feature_names = feature_names_list\n",
    "clickingModel.feature_types = featTypes\n",
    "bookingModel.feature_names = feature_names_list\n",
    "bookingModel.feature_types = featTypes\n",
    "scoresClick = clickingModel.get_score(importance_type='weight')\n",
    "print(sorted(scoresClick.items(), key=operator.itemgetter(1)))\n",
    "print()\n",
    "scoresBook =  bookingModel.get_score(importance_type='weight')\n",
    "print(sorted(scoresBook.items(), key=operator.itemgetter(1)))"
   ]
  },
  {
   "cell_type": "markdown",
   "metadata": {},
   "source": [
    "Load the data"
   ]
  },
  {
   "cell_type": "code",
   "execution_count": 3,
   "metadata": {},
   "outputs": [],
   "source": [
    "OnlyGoodCols = ['srch_id', 'site_id', 'visitor_location_country_id',\n",
    "       'visitor_hist_starrating', 'visitor_hist_adr_usd', 'prop_country_id',\n",
    "       'prop_id', 'prop_starrating', 'prop_review_score', 'prop_brand_bool',\n",
    "       'prop_location_score1', 'prop_location_score2',\n",
    "       'prop_log_historical_price', 'price_usd', 'promotion_flag',\n",
    "       'srch_destination_id', 'srch_length_of_stay', 'srch_booking_window',\n",
    "       'srch_adults_count', 'srch_children_count', 'srch_room_count',\n",
    "       'srch_saturday_night_bool', 'srch_query_affinity_score',\n",
    "       'orig_destination_distance', 'random_bool', 'comp1_rate', 'comp1_inv']"
   ]
  },
  {
   "cell_type": "code",
   "execution_count": 13,
   "metadata": {},
   "outputs": [],
   "source": [
    "df = pd.read_csv('../data/train.csv', delimiter=\",\", usecols = ['srch_id', 'site_id', 'visitor_location_country_id',\n",
    "       'visitor_hist_starrating', 'visitor_hist_adr_usd', 'prop_country_id',\n",
    "       'prop_id', 'prop_starrating', 'prop_review_score', 'prop_brand_bool',\n",
    "       'prop_location_score1', 'prop_location_score2',\n",
    "       'prop_log_historical_price', 'position', 'price_usd', 'promotion_flag',\n",
    "       'srch_destination_id', 'srch_length_of_stay', 'srch_booking_window',\n",
    "       'srch_adults_count', 'srch_children_count', 'srch_room_count',\n",
    "       'srch_saturday_night_bool', 'srch_query_affinity_score',\n",
    "       'orig_destination_distance', 'random_bool', 'comp1_rate', 'comp1_inv', 'click_bool', 'gross_bookings_usd',\n",
    "       'booking_bool'])\n",
    "\n",
    "xgmat_submission = xgboost.DMatrix(df[OnlyGoodCols])"
   ]
  },
  {
   "cell_type": "code",
   "execution_count": 4,
   "metadata": {},
   "outputs": [],
   "source": [
    "df = pd.read_csv('../data/test.csv')\n",
    "xgmat_submission = xgboost.DMatrix(df[OnlyGoodCols])"
   ]
  },
  {
   "cell_type": "code",
   "execution_count": 5,
   "metadata": {},
   "outputs": [],
   "source": [
    "y_pred_clicking = clickingModel.predict(xgmat_submission)\n",
    "y_pred_booking = bookingModel.predict(xgmat_submission)\n",
    "y_pred = y_pred_booking+y_pred_clicking"
   ]
  },
  {
   "cell_type": "code",
   "execution_count": 6,
   "metadata": {},
   "outputs": [],
   "source": [
    "df['y_pred'] = y_pred"
   ]
  },
  {
   "cell_type": "code",
   "execution_count": 11,
   "metadata": {},
   "outputs": [],
   "source": [
    "df = df.sort_values(['srch_id','y_pred'],ascending=[True, False])\n"
   ]
  },
  {
   "cell_type": "code",
   "execution_count": 14,
   "metadata": {},
   "outputs": [
    {
     "data": {
      "text/plain": [
       "4958347"
      ]
     },
     "execution_count": 14,
     "metadata": {},
     "output_type": "execute_result"
    }
   ],
   "source": [
    "len(df)"
   ]
  },
  {
   "cell_type": "code",
   "execution_count": null,
   "metadata": {},
   "outputs": [],
   "source": [
    "df[['srch_id','prop_id']].to_csv(\"submissionRens29April.csv\",index=False)"
   ]
  },
  {
   "cell_type": "code",
   "execution_count": null,
   "metadata": {},
   "outputs": [],
   "source": [
    "df['order']=df.groupby('srch_id').cumcount().add(1)"
   ]
  }
 ],
 "metadata": {
  "kernelspec": {
   "display_name": "Python 3",
   "language": "python",
   "name": "python3"
  },
  "language_info": {
   "codemirror_mode": {
    "name": "ipython",
    "version": 3
   },
   "file_extension": ".py",
   "mimetype": "text/x-python",
   "name": "python",
   "nbconvert_exporter": "python",
   "pygments_lexer": "ipython3",
   "version": "3.6.5"
  }
 },
 "nbformat": 4,
 "nbformat_minor": 2
}
