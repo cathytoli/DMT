{
 "cells": [
  {
   "cell_type": "code",
   "execution_count": 1,
   "metadata": {},
   "outputs": [],
   "source": [
    "import pandas as pd\n",
    "import numpy as np\n",
    "import sklearn\n",
    "from xgboost import XGBClassifier\n",
    "import xgboost\n",
    "from collections import Counter\n",
    "from sklearn.model_selection import train_test_split\n",
    "from sklearn.metrics import accuracy_score\n",
    "from sklearn.metrics import classification_report\n",
    "import pickle\n",
    "from sklearn.utils import shuffle\n",
    "import json\n",
    "import os\n",
    "from xgboost import XGBClassifier\n",
    "from matplotlib import pyplot\n",
    "import math"
   ]
  },
  {
   "cell_type": "code",
   "execution_count": 2,
   "metadata": {},
   "outputs": [],
   "source": [
    "#Don't use datetime, Don't use categorical features, xgboost doesn't do those, first one hot encode\n",
    "featuresToUse = ['visitor_hist_starrating', 'visitor_hist_adr_usd',\n",
    "       'prop_starrating', 'prop_review_score', 'prop_brand_bool',\n",
    "       'prop_location_score1', 'prop_location_score2',\n",
    "       'prop_log_historical_price', 'price_usd', 'promotion_flag',\n",
    "       'srch_length_of_stay', 'srch_booking_window',\n",
    "       'srch_adults_count', 'srch_children_count', 'srch_room_count',\n",
    "       'srch_saturday_night_bool', 'srch_query_affinity_score',\n",
    "       'orig_destination_distance', 'comp1_rate', 'comp1_inv',\n",
    "                 'mean_prop_starrating',\n",
    "       'mean_prop_review_score', 'mean_prop_brand_bool',\n",
    "       'mean_prop_location_score1', 'mean_prop_location_score2',   'mean_prop_log_historical_price','cluster__0','cluster__1','cluster__2','cluster__3','cluster__4','cluster__5','diff_distance_orig','diff_price_usd']\n",
    "labelToPredict = 'booking_bool'\n",
    "neededVars = ['srch_id','click_bool']\n",
    "nameOfModel = \"models/11mayClicking\""
   ]
  },
  {
   "cell_type": "code",
   "execution_count": 2,
   "metadata": {},
   "outputs": [],
   "source": [
    "#Don't use datetime, Don't use categorical features, xgboost doesn't do those, first one hot encode\n",
    "featuresToUse = ['visitor_hist_starrating', 'visitor_hist_adr_usd',\n",
    "       'prop_starrating', 'prop_review_score', 'prop_brand_bool',\n",
    "       'prop_location_score1', 'prop_location_score2',\n",
    "       'prop_log_historical_price', 'price_usd', 'promotion_flag',\n",
    "       'srch_length_of_stay', 'srch_booking_window',\n",
    "       'srch_adults_count', 'srch_children_count', 'srch_room_count',\n",
    "       'srch_saturday_night_bool', 'srch_query_affinity_score',\n",
    "       'orig_destination_distance', 'comp1_rate', 'comp1_inv',\n",
    "       'diff_distance_orig','diff_price_usd']\n",
    "labelToPredict = 'click_bool'\n",
    "neededVars = ['srch_id','booking_bool']\n",
    "nameOfModel = \"models/10mayClickingOverFitTest2\""
   ]
  },
  {
   "cell_type": "code",
   "execution_count": 3,
   "metadata": {},
   "outputs": [
    {
     "name": "stderr",
     "output_type": "stream",
     "text": [
      "C:\\Users\\Rens\\Anaconda3\\lib\\site-packages\\xgboost\\core.py:587: FutureWarning: Series.base is deprecated and will be removed in a future version\n",
      "  if getattr(data, 'base', None) is not None and \\\n",
      "C:\\Users\\Rens\\Anaconda3\\lib\\site-packages\\xgboost\\core.py:588: FutureWarning: Series.base is deprecated and will be removed in a future version\n",
      "  data.base is not None and isinstance(data, np.ndarray) \\\n"
     ]
    }
   ],
   "source": [
    "df = pd.read_csv('../data/80PercentTrainWithMeanNoShuffle.csv', delimiter=\",\",usecols=featuresToUse+[labelToPredict]+neededVars)\n",
    "dfNeeded= df[neededVars+[labelToPredict]]\n",
    "Y = df[labelToPredict]\n",
    "df.drop(neededVars+[labelToPredict],axis=1,inplace=True)\n",
    "xgmat = xgboost.DMatrix( df, label=Y)"
   ]
  },
  {
   "cell_type": "code",
   "execution_count": 4,
   "metadata": {},
   "outputs": [
    {
     "name": "stderr",
     "output_type": "stream",
     "text": [
      "C:\\Users\\Rens\\Anaconda3\\lib\\site-packages\\xgboost\\core.py:587: FutureWarning: Series.base is deprecated and will be removed in a future version\n",
      "  if getattr(data, 'base', None) is not None and \\\n",
      "C:\\Users\\Rens\\Anaconda3\\lib\\site-packages\\xgboost\\core.py:588: FutureWarning: Series.base is deprecated and will be removed in a future version\n",
      "  data.base is not None and isinstance(data, np.ndarray) \\\n"
     ]
    }
   ],
   "source": [
    "df = pd.read_csv('../data/20PercentTestWithMeanNoShuffle.csv', delimiter=\",\",usecols=featuresToUse+[labelToPredict]+neededVars)\n",
    "dfNeeded= df[neededVars+[labelToPredict]]\n",
    "Y = df[labelToPredict]\n",
    "df.drop(neededVars+[labelToPredict],axis=1,inplace=True)\n",
    "xgmat_test = xgboost.DMatrix( df, label=Y)"
   ]
  },
  {
   "cell_type": "markdown",
   "metadata": {},
   "source": [
    "Lets train it on clicking"
   ]
  },
  {
   "cell_type": "code",
   "execution_count": 5,
   "metadata": {},
   "outputs": [
    {
     "name": "stdout",
     "output_type": "stream",
     "text": [
      "loading data end, start to boost trees\n",
      "[0]\ttrain-auc:0.71619\ttest-auc:0.705839\n",
      "Multiple eval metrics have been passed: 'test-auc' will be used for early stopping.\n",
      "\n",
      "Will train until test-auc hasn't improved in 50 rounds.\n",
      "[1]\ttrain-auc:0.721343\ttest-auc:0.710327\n",
      "[2]\ttrain-auc:0.724444\ttest-auc:0.712609\n",
      "[3]\ttrain-auc:0.726411\ttest-auc:0.714269\n",
      "[4]\ttrain-auc:0.728475\ttest-auc:0.715763\n",
      "[5]\ttrain-auc:0.730035\ttest-auc:0.716777\n",
      "[6]\ttrain-auc:0.731439\ttest-auc:0.717769\n",
      "[7]\ttrain-auc:0.732785\ttest-auc:0.71843\n",
      "[8]\ttrain-auc:0.734065\ttest-auc:0.719314\n",
      "[9]\ttrain-auc:0.73554\ttest-auc:0.720235\n",
      "[10]\ttrain-auc:0.736338\ttest-auc:0.720689\n",
      "[11]\ttrain-auc:0.737774\ttest-auc:0.721442\n",
      "[12]\ttrain-auc:0.739172\ttest-auc:0.72227\n",
      "[13]\ttrain-auc:0.740483\ttest-auc:0.722744\n",
      "[14]\ttrain-auc:0.741454\ttest-auc:0.723285\n",
      "[15]\ttrain-auc:0.74261\ttest-auc:0.723818\n",
      "[16]\ttrain-auc:0.743642\ttest-auc:0.724273\n",
      "[17]\ttrain-auc:0.74484\ttest-auc:0.724893\n",
      "[18]\ttrain-auc:0.746225\ttest-auc:0.725639\n",
      "[19]\ttrain-auc:0.747435\ttest-auc:0.726246\n",
      "[20]\ttrain-auc:0.74824\ttest-auc:0.7267\n",
      "[21]\ttrain-auc:0.74942\ttest-auc:0.727269\n",
      "[22]\ttrain-auc:0.750047\ttest-auc:0.727511\n",
      "[23]\ttrain-auc:0.751156\ttest-auc:0.727882\n",
      "[24]\ttrain-auc:0.752138\ttest-auc:0.728236\n",
      "[25]\ttrain-auc:0.752795\ttest-auc:0.728504\n",
      "[26]\ttrain-auc:0.75389\ttest-auc:0.728886\n",
      "[27]\ttrain-auc:0.754966\ttest-auc:0.729344\n",
      "[28]\ttrain-auc:0.756132\ttest-auc:0.729923\n",
      "[29]\ttrain-auc:0.756619\ttest-auc:0.730089\n",
      "[30]\ttrain-auc:0.757651\ttest-auc:0.730474\n",
      "[31]\ttrain-auc:0.758184\ttest-auc:0.73065\n",
      "[32]\ttrain-auc:0.758854\ttest-auc:0.73089\n",
      "[33]\ttrain-auc:0.759681\ttest-auc:0.731059\n",
      "[34]\ttrain-auc:0.760389\ttest-auc:0.731222\n",
      "[35]\ttrain-auc:0.761346\ttest-auc:0.731498\n",
      "[36]\ttrain-auc:0.762047\ttest-auc:0.731696\n",
      "[37]\ttrain-auc:0.762817\ttest-auc:0.732026\n",
      "[38]\ttrain-auc:0.76333\ttest-auc:0.732165\n",
      "[39]\ttrain-auc:0.764082\ttest-auc:0.732338\n",
      "[40]\ttrain-auc:0.764631\ttest-auc:0.732504\n",
      "[41]\ttrain-auc:0.765226\ttest-auc:0.732695\n",
      "[42]\ttrain-auc:0.765964\ttest-auc:0.732973\n",
      "[43]\ttrain-auc:0.766579\ttest-auc:0.733096\n",
      "[44]\ttrain-auc:0.767087\ttest-auc:0.733224\n",
      "[45]\ttrain-auc:0.767811\ttest-auc:0.733425\n",
      "[46]\ttrain-auc:0.768268\ttest-auc:0.733501\n",
      "[47]\ttrain-auc:0.768828\ttest-auc:0.733667\n",
      "[48]\ttrain-auc:0.769154\ttest-auc:0.733718\n",
      "[49]\ttrain-auc:0.769571\ttest-auc:0.733812\n",
      "[50]\ttrain-auc:0.770133\ttest-auc:0.733932\n",
      "[51]\ttrain-auc:0.77044\ttest-auc:0.734029\n",
      "[52]\ttrain-auc:0.770796\ttest-auc:0.734121\n",
      "[53]\ttrain-auc:0.771365\ttest-auc:0.734241\n",
      "[54]\ttrain-auc:0.77203\ttest-auc:0.734447\n",
      "[55]\ttrain-auc:0.772343\ttest-auc:0.734465\n",
      "[56]\ttrain-auc:0.772735\ttest-auc:0.734508\n",
      "[57]\ttrain-auc:0.772999\ttest-auc:0.734557\n",
      "[58]\ttrain-auc:0.773157\ttest-auc:0.73455\n",
      "[59]\ttrain-auc:0.773652\ttest-auc:0.734594\n",
      "[60]\ttrain-auc:0.774158\ttest-auc:0.73467\n",
      "[61]\ttrain-auc:0.77454\ttest-auc:0.734733\n",
      "[62]\ttrain-auc:0.775027\ttest-auc:0.734863\n",
      "[63]\ttrain-auc:0.775238\ttest-auc:0.734913\n",
      "[64]\ttrain-auc:0.775806\ttest-auc:0.734977\n",
      "[65]\ttrain-auc:0.77628\ttest-auc:0.735057\n",
      "[66]\ttrain-auc:0.776812\ttest-auc:0.735229\n",
      "[67]\ttrain-auc:0.77692\ttest-auc:0.735227\n",
      "[68]\ttrain-auc:0.777347\ttest-auc:0.735305\n",
      "[69]\ttrain-auc:0.777641\ttest-auc:0.735323\n",
      "[70]\ttrain-auc:0.77792\ttest-auc:0.735405\n",
      "[71]\ttrain-auc:0.778398\ttest-auc:0.735588\n",
      "[72]\ttrain-auc:0.779042\ttest-auc:0.735762\n",
      "[73]\ttrain-auc:0.77949\ttest-auc:0.735782\n",
      "[74]\ttrain-auc:0.77963\ttest-auc:0.735831\n",
      "[75]\ttrain-auc:0.779728\ttest-auc:0.735847\n",
      "[76]\ttrain-auc:0.78027\ttest-auc:0.73595\n",
      "[77]\ttrain-auc:0.780509\ttest-auc:0.735952\n",
      "[78]\ttrain-auc:0.780849\ttest-auc:0.736008\n",
      "[79]\ttrain-auc:0.781381\ttest-auc:0.736142\n",
      "[80]\ttrain-auc:0.78186\ttest-auc:0.736136\n",
      "[81]\ttrain-auc:0.782175\ttest-auc:0.736166\n",
      "[82]\ttrain-auc:0.782376\ttest-auc:0.736212\n",
      "[83]\ttrain-auc:0.783002\ttest-auc:0.736347\n",
      "[84]\ttrain-auc:0.783092\ttest-auc:0.736364\n",
      "[85]\ttrain-auc:0.783455\ttest-auc:0.736401\n",
      "[86]\ttrain-auc:0.784\ttest-auc:0.736515\n",
      "[87]\ttrain-auc:0.784182\ttest-auc:0.736556\n",
      "[88]\ttrain-auc:0.784763\ttest-auc:0.736603\n",
      "[89]\ttrain-auc:0.785161\ttest-auc:0.736606\n",
      "[90]\ttrain-auc:0.785244\ttest-auc:0.736641\n",
      "[91]\ttrain-auc:0.785353\ttest-auc:0.736655\n",
      "[92]\ttrain-auc:0.785804\ttest-auc:0.736736\n",
      "[93]\ttrain-auc:0.786322\ttest-auc:0.736893\n",
      "[94]\ttrain-auc:0.786399\ttest-auc:0.736892\n",
      "[95]\ttrain-auc:0.786758\ttest-auc:0.736875\n",
      "[96]\ttrain-auc:0.787023\ttest-auc:0.736897\n",
      "[97]\ttrain-auc:0.787395\ttest-auc:0.736952\n",
      "[98]\ttrain-auc:0.787735\ttest-auc:0.737007\n",
      "[99]\ttrain-auc:0.787922\ttest-auc:0.736998\n",
      "[100]\ttrain-auc:0.788306\ttest-auc:0.737068\n",
      "[101]\ttrain-auc:0.788472\ttest-auc:0.737068\n",
      "[102]\ttrain-auc:0.788575\ttest-auc:0.737072\n",
      "[103]\ttrain-auc:0.788683\ttest-auc:0.737064\n",
      "[104]\ttrain-auc:0.788822\ttest-auc:0.737102\n",
      "[105]\ttrain-auc:0.789123\ttest-auc:0.737083\n",
      "[106]\ttrain-auc:0.789305\ttest-auc:0.737111\n",
      "[107]\ttrain-auc:0.789759\ttest-auc:0.737168\n",
      "[108]\ttrain-auc:0.79012\ttest-auc:0.737185\n",
      "[109]\ttrain-auc:0.790431\ttest-auc:0.737209\n",
      "[110]\ttrain-auc:0.79062\ttest-auc:0.73722\n",
      "[111]\ttrain-auc:0.790681\ttest-auc:0.737188\n",
      "[112]\ttrain-auc:0.790798\ttest-auc:0.7372\n",
      "[113]\ttrain-auc:0.790855\ttest-auc:0.737168\n",
      "[114]\ttrain-auc:0.791463\ttest-auc:0.737263\n",
      "[115]\ttrain-auc:0.791657\ttest-auc:0.737263\n",
      "[116]\ttrain-auc:0.791723\ttest-auc:0.737263\n",
      "[117]\ttrain-auc:0.792148\ttest-auc:0.737363\n",
      "[118]\ttrain-auc:0.792237\ttest-auc:0.737362\n",
      "[119]\ttrain-auc:0.792394\ttest-auc:0.737353\n",
      "[120]\ttrain-auc:0.792684\ttest-auc:0.737362\n",
      "[121]\ttrain-auc:0.792813\ttest-auc:0.737355\n",
      "[122]\ttrain-auc:0.793192\ttest-auc:0.737323\n",
      "[123]\ttrain-auc:0.793382\ttest-auc:0.737321\n",
      "[124]\ttrain-auc:0.793428\ttest-auc:0.73733\n",
      "[125]\ttrain-auc:0.793691\ttest-auc:0.737307\n",
      "[126]\ttrain-auc:0.793873\ttest-auc:0.737338\n",
      "[127]\ttrain-auc:0.793912\ttest-auc:0.73733\n",
      "[128]\ttrain-auc:0.794016\ttest-auc:0.73732\n",
      "[129]\ttrain-auc:0.794465\ttest-auc:0.737319\n",
      "[130]\ttrain-auc:0.794688\ttest-auc:0.737334\n",
      "[131]\ttrain-auc:0.795256\ttest-auc:0.737405\n",
      "[132]\ttrain-auc:0.795657\ttest-auc:0.737454\n",
      "[133]\ttrain-auc:0.796092\ttest-auc:0.737563\n",
      "[134]\ttrain-auc:0.796172\ttest-auc:0.73756\n",
      "[135]\ttrain-auc:0.796753\ttest-auc:0.737595\n",
      "[136]\ttrain-auc:0.796853\ttest-auc:0.737579\n",
      "[137]\ttrain-auc:0.79696\ttest-auc:0.737548\n",
      "[138]\ttrain-auc:0.797008\ttest-auc:0.737545\n",
      "[139]\ttrain-auc:0.797153\ttest-auc:0.737545\n",
      "[140]\ttrain-auc:0.797183\ttest-auc:0.737535\n",
      "[141]\ttrain-auc:0.797214\ttest-auc:0.737514\n",
      "[142]\ttrain-auc:0.797268\ttest-auc:0.737523\n",
      "[143]\ttrain-auc:0.797664\ttest-auc:0.737595\n",
      "[144]\ttrain-auc:0.797718\ttest-auc:0.737593\n",
      "[145]\ttrain-auc:0.797829\ttest-auc:0.737595\n",
      "[146]\ttrain-auc:0.798091\ttest-auc:0.737613\n",
      "[147]\ttrain-auc:0.798532\ttest-auc:0.737667\n",
      "[148]\ttrain-auc:0.798748\ttest-auc:0.737639\n",
      "[149]\ttrain-auc:0.79897\ttest-auc:0.737679\n",
      "[150]\ttrain-auc:0.799148\ttest-auc:0.737657\n",
      "[151]\ttrain-auc:0.799649\ttest-auc:0.737734\n",
      "[152]\ttrain-auc:0.799782\ttest-auc:0.737766\n",
      "[153]\ttrain-auc:0.800146\ttest-auc:0.737758\n",
      "[154]\ttrain-auc:0.800261\ttest-auc:0.73778\n",
      "[155]\ttrain-auc:0.800543\ttest-auc:0.737785\n",
      "[156]\ttrain-auc:0.800864\ttest-auc:0.737769\n",
      "[157]\ttrain-auc:0.801232\ttest-auc:0.737757\n",
      "[158]\ttrain-auc:0.801342\ttest-auc:0.737757\n",
      "[159]\ttrain-auc:0.801652\ttest-auc:0.737795\n",
      "[160]\ttrain-auc:0.801922\ttest-auc:0.737857\n",
      "[161]\ttrain-auc:0.802015\ttest-auc:0.737854\n",
      "[162]\ttrain-auc:0.802209\ttest-auc:0.737827\n",
      "[163]\ttrain-auc:0.80231\ttest-auc:0.737835\n",
      "[164]\ttrain-auc:0.802533\ttest-auc:0.737837\n",
      "[165]\ttrain-auc:0.802591\ttest-auc:0.737832\n",
      "[166]\ttrain-auc:0.803209\ttest-auc:0.737951\n",
      "[167]\ttrain-auc:0.803362\ttest-auc:0.73796\n",
      "[168]\ttrain-auc:0.803727\ttest-auc:0.737987\n",
      "[169]\ttrain-auc:0.803753\ttest-auc:0.737956\n",
      "[170]\ttrain-auc:0.803902\ttest-auc:0.737943\n",
      "[171]\ttrain-auc:0.804104\ttest-auc:0.73794\n",
      "[172]\ttrain-auc:0.804178\ttest-auc:0.737931\n",
      "[173]\ttrain-auc:0.804348\ttest-auc:0.737919\n",
      "[174]\ttrain-auc:0.804392\ttest-auc:0.737914\n",
      "[175]\ttrain-auc:0.804402\ttest-auc:0.737902\n",
      "[176]\ttrain-auc:0.804743\ttest-auc:0.737944\n",
      "[177]\ttrain-auc:0.805004\ttest-auc:0.737983\n",
      "[178]\ttrain-auc:0.805273\ttest-auc:0.737963\n",
      "[179]\ttrain-auc:0.805308\ttest-auc:0.737939\n",
      "[180]\ttrain-auc:0.805378\ttest-auc:0.737924\n",
      "[181]\ttrain-auc:0.805671\ttest-auc:0.737902\n",
      "[182]\ttrain-auc:0.806006\ttest-auc:0.737923\n",
      "[183]\ttrain-auc:0.806127\ttest-auc:0.737914\n",
      "[184]\ttrain-auc:0.806155\ttest-auc:0.737916\n",
      "[185]\ttrain-auc:0.806318\ttest-auc:0.737917\n",
      "[186]\ttrain-auc:0.806579\ttest-auc:0.737914\n",
      "[187]\ttrain-auc:0.806746\ttest-auc:0.737868\n",
      "[188]\ttrain-auc:0.806755\ttest-auc:0.73787\n",
      "[189]\ttrain-auc:0.807114\ttest-auc:0.737862\n"
     ]
    },
    {
     "name": "stdout",
     "output_type": "stream",
     "text": [
      "[190]\ttrain-auc:0.80722\ttest-auc:0.73786\n",
      "[191]\ttrain-auc:0.807305\ttest-auc:0.737839\n",
      "[192]\ttrain-auc:0.80733\ttest-auc:0.737832\n",
      "[193]\ttrain-auc:0.807576\ttest-auc:0.737891\n",
      "[194]\ttrain-auc:0.807948\ttest-auc:0.737903\n",
      "[195]\ttrain-auc:0.808232\ttest-auc:0.737936\n",
      "[196]\ttrain-auc:0.808535\ttest-auc:0.737938\n",
      "[197]\ttrain-auc:0.808833\ttest-auc:0.737992\n",
      "[198]\ttrain-auc:0.809198\ttest-auc:0.737999\n",
      "[199]\ttrain-auc:0.809623\ttest-auc:0.738036\n",
      "[200]\ttrain-auc:0.809882\ttest-auc:0.738003\n",
      "[201]\ttrain-auc:0.810096\ttest-auc:0.738001\n",
      "[202]\ttrain-auc:0.810297\ttest-auc:0.73797\n",
      "[203]\ttrain-auc:0.810586\ttest-auc:0.737936\n",
      "[204]\ttrain-auc:0.81065\ttest-auc:0.737916\n",
      "[205]\ttrain-auc:0.810668\ttest-auc:0.737917\n",
      "[206]\ttrain-auc:0.810986\ttest-auc:0.73794\n",
      "[207]\ttrain-auc:0.811075\ttest-auc:0.737933\n",
      "[208]\ttrain-auc:0.811366\ttest-auc:0.737907\n",
      "[209]\ttrain-auc:0.811401\ttest-auc:0.737876\n",
      "[210]\ttrain-auc:0.811551\ttest-auc:0.737855\n",
      "[211]\ttrain-auc:0.811619\ttest-auc:0.737827\n",
      "[212]\ttrain-auc:0.811649\ttest-auc:0.737804\n",
      "[213]\ttrain-auc:0.811774\ttest-auc:0.73778\n",
      "[214]\ttrain-auc:0.812049\ttest-auc:0.737791\n",
      "[215]\ttrain-auc:0.812156\ttest-auc:0.73779\n",
      "[216]\ttrain-auc:0.812321\ttest-auc:0.737787\n",
      "[217]\ttrain-auc:0.812363\ttest-auc:0.73779\n",
      "[218]\ttrain-auc:0.812435\ttest-auc:0.737792\n",
      "[219]\ttrain-auc:0.812447\ttest-auc:0.737787\n",
      "[220]\ttrain-auc:0.812807\ttest-auc:0.737947\n",
      "[221]\ttrain-auc:0.812814\ttest-auc:0.737943\n",
      "[222]\ttrain-auc:0.812865\ttest-auc:0.737941\n",
      "[223]\ttrain-auc:0.813137\ttest-auc:0.737915\n",
      "[224]\ttrain-auc:0.813303\ttest-auc:0.737946\n",
      "[225]\ttrain-auc:0.813577\ttest-auc:0.737957\n",
      "[226]\ttrain-auc:0.813801\ttest-auc:0.737928\n",
      "[227]\ttrain-auc:0.813981\ttest-auc:0.737937\n",
      "[228]\ttrain-auc:0.814168\ttest-auc:0.73798\n",
      "[229]\ttrain-auc:0.814201\ttest-auc:0.737976\n",
      "[230]\ttrain-auc:0.814213\ttest-auc:0.73796\n",
      "[231]\ttrain-auc:0.814711\ttest-auc:0.737962\n",
      "[232]\ttrain-auc:0.815013\ttest-auc:0.737971\n",
      "[233]\ttrain-auc:0.815216\ttest-auc:0.737949\n",
      "[234]\ttrain-auc:0.815316\ttest-auc:0.73792\n",
      "[235]\ttrain-auc:0.815587\ttest-auc:0.737895\n",
      "[236]\ttrain-auc:0.815639\ttest-auc:0.73789\n",
      "[237]\ttrain-auc:0.815868\ttest-auc:0.737862\n",
      "[238]\ttrain-auc:0.816095\ttest-auc:0.73786\n",
      "[239]\ttrain-auc:0.81622\ttest-auc:0.73782\n",
      "[240]\ttrain-auc:0.816241\ttest-auc:0.737819\n",
      "[241]\ttrain-auc:0.816258\ttest-auc:0.737806\n",
      "[242]\ttrain-auc:0.816389\ttest-auc:0.737786\n",
      "[243]\ttrain-auc:0.816548\ttest-auc:0.737777\n",
      "[244]\ttrain-auc:0.816635\ttest-auc:0.737774\n",
      "[245]\ttrain-auc:0.816847\ttest-auc:0.737788\n",
      "[246]\ttrain-auc:0.81689\ttest-auc:0.737771\n",
      "[247]\ttrain-auc:0.816918\ttest-auc:0.737782\n",
      "[248]\ttrain-auc:0.817253\ttest-auc:0.737731\n",
      "[249]\ttrain-auc:0.817577\ttest-auc:0.737765\n",
      "Stopping. Best iteration:\n",
      "[199]\ttrain-auc:0.809623\ttest-auc:0.738036\n",
      "\n",
      "finish training\n"
     ]
    }
   ],
   "source": [
    "# construct xgboost.DMatrix from numpy array, treat -999.0 as missing value\n",
    "#xgmat = xgboost.DMatrix( df, label=y_train)\n",
    "\n",
    "# setup parameters for xgboost\n",
    "param = {}\n",
    "# use logistic regression loss, use raw prediction before logistic transformation\n",
    "# since we only need the rank\n",
    "param['objective'] = 'reg:logistic'\n",
    "# scale weight of positive examples\n",
    "param['scale_pos_weight'] = sum(Y==0)/sum(Y==1)\n",
    "param['eta'] = 0.1\n",
    "param['max_depth'] = 9\n",
    "param['eval_metric'] = 'auc'\n",
    "param['silent'] = 0\n",
    "param['min_child_weight'] = 5\n",
    "param['eval_set'] = xgmat_test\n",
    "#param['colsample_bytree'] = 0.8\n",
    "\n",
    "\n",
    "# you can directly throw param in, though we want to watch multiple metrics here\n",
    "plst = list(param.items())\n",
    "\n",
    "watchlist = [ (xgmat,'train') ,(xgmat_test,'test')]\n",
    "\n",
    "num_round = 1000\n",
    "print ('loading data end, start to boost trees')\n",
    "bst = xgboost.train( plst, xgmat, num_round, watchlist ,early_stopping_rounds=50);\n",
    "# save out model\n",
    "bst.save_model(nameOfModel+\".model\")\n",
    "\n",
    "print ('finish training')\n"
   ]
  },
  {
   "cell_type": "code",
   "execution_count": 6,
   "metadata": {
    "scrolled": true
   },
   "outputs": [
    {
     "data": {
      "text/plain": [
       "<matplotlib.axes._subplots.AxesSubplot at 0x2045c9475c0>"
      ]
     },
     "execution_count": 6,
     "metadata": {},
     "output_type": "execute_result"
    },
    {
     "data": {
      "image/png": "[encoded data removed]",
      "text/plain": [
       "<Figure size 432x288 with 1 Axes>"
      ]
     },
     "metadata": {},
     "output_type": "display_data"
    }
   ],
   "source": [
    "feat_imp = pd.Series(bst.get_fscore()).sort_values(ascending=False)\n",
    "feat_imp.plot(kind='bar', title='Feature Importances')\n"
   ]
  },
  {
   "cell_type": "code",
   "execution_count": 7,
   "metadata": {},
   "outputs": [],
   "source": [
    "y_pred = bst.predict(xgmat_test)"
   ]
  },
  {
   "cell_type": "code",
   "execution_count": 8,
   "metadata": {},
   "outputs": [],
   "source": [
    "predictions = [round(value) for value in y_pred]\n",
    "df = pd.concat([df,dfNeeded],axis=1)\n",
    "df['y_pred'] = y_pred"
   ]
  },
  {
   "cell_type": "code",
   "execution_count": 9,
   "metadata": {},
   "outputs": [],
   "source": [
    "def getLog(x):\n",
    "    return math.log(x+1,2)\n",
    "def getScore(df):\n",
    "    df['rank_srch_id'] = df.groupby('srch_id').cumcount().add(1)\n",
    "    \n",
    "    df['gain'] = 5*df['booking_bool']\n",
    "    df['gain'] = np.where(df['gain'] == 0, df['click_bool'], df['gain'])\n",
    "    df['log_rank'] = df['rank_srch_id'].apply(getLog)\n",
    "    \n",
    "    df['g/rank'] = df['gain']/df['log_rank']\n",
    "    gi_sum = df['g/rank'].sum()\n",
    "\n",
    "    df['gain_sorted'] = list(df[['srch_id', 'booking_bool', 'click_bool', 'gain']].sort_values(by = ['srch_id','booking_bool','click_bool'], ascending = [True, False, False])['gain'])\n",
    "    df['g/rank_sorted'] = df['gain_sorted']/df['log_rank']\n",
    "    gi_sorted_sum = df['g/rank_sorted'].sum()\n",
    "    \n",
    "    score = gi_sum/gi_sorted_sum\n",
    "\n",
    "    return score, gi_sum, gi_sorted_sum"
   ]
  },
  {
   "cell_type": "code",
   "execution_count": 10,
   "metadata": {
    "scrolled": true
   },
   "outputs": [
    {
     "name": "stdout",
     "output_type": "stream",
     "text": [
      "0.508993513656261\n",
      "Accuracy: 72.27%\n"
     ]
    }
   ],
   "source": [
    "score, gi_sum, gi_sorted_sum = getScore(df.sort_values(by=['srch_id', 'y_pred'], ascending = [True, False]).reset_index(drop=True))\n",
    "print(score)\n",
    "\n",
    "# evaluate predictions\n",
    "accuracy = accuracy_score(df['click_bool'], predictions)\n",
    "print(\"Accuracy: %.2f%%\" % (accuracy * 100.0))"
   ]
  },
  {
   "cell_type": "code",
   "execution_count": 11,
   "metadata": {},
   "outputs": [
    {
     "ename": "TypeError",
     "evalue": "Object of type 'DMatrix' is not JSON serializable",
     "output_type": "error",
     "traceback": [
      "\u001b[1;31m---------------------------------------------------------------------------\u001b[0m",
      "\u001b[1;31mTypeError\u001b[0m                                 Traceback (most recent call last)",
      "\u001b[1;32m<ipython-input-11-5dfe6e37d5bf>\u001b[0m in \u001b[0;36m<module>\u001b[1;34m()\u001b[0m\n\u001b[0;32m      5\u001b[0m \u001b[0mf\u001b[0m\u001b[1;33m.\u001b[0m\u001b[0mwrite\u001b[0m\u001b[1;33m(\u001b[0m\u001b[0mstr\u001b[0m\u001b[1;33m(\u001b[0m\u001b[0mlist\u001b[0m\u001b[1;33m(\u001b[0m\u001b[0mfeaturesToUse\u001b[0m\u001b[1;33m)\u001b[0m\u001b[1;33m)\u001b[0m \u001b[1;33m+\u001b[0m\u001b[1;34m\"\\n\"\u001b[0m\u001b[1;33m)\u001b[0m\u001b[1;33m\u001b[0m\u001b[0m\n\u001b[0;32m      6\u001b[0m \u001b[0mf\u001b[0m\u001b[1;33m.\u001b[0m\u001b[0mwrite\u001b[0m\u001b[1;33m(\u001b[0m\u001b[1;34m\"Parameters xgboost:\\n\"\u001b[0m\u001b[1;33m)\u001b[0m\u001b[1;33m\u001b[0m\u001b[0m\n\u001b[1;32m----> 7\u001b[1;33m \u001b[0mf\u001b[0m\u001b[1;33m.\u001b[0m\u001b[0mwrite\u001b[0m\u001b[1;33m(\u001b[0m\u001b[0mstr\u001b[0m\u001b[1;33m(\u001b[0m\u001b[0mjson\u001b[0m\u001b[1;33m.\u001b[0m\u001b[0mdumps\u001b[0m\u001b[1;33m(\u001b[0m\u001b[0mparam\u001b[0m\u001b[1;33m)\u001b[0m\u001b[1;33m)\u001b[0m\u001b[1;33m+\u001b[0m\u001b[1;34m\"\\n\"\u001b[0m\u001b[1;33m)\u001b[0m\u001b[1;33m\u001b[0m\u001b[0m\n\u001b[0m\u001b[0;32m      8\u001b[0m \u001b[0mf\u001b[0m\u001b[1;33m.\u001b[0m\u001b[0mwrite\u001b[0m\u001b[1;33m(\u001b[0m\u001b[1;34m\"Number of rounds:\\n\"\u001b[0m\u001b[1;33m+\u001b[0m\u001b[0mstr\u001b[0m\u001b[1;33m(\u001b[0m\u001b[0mnum_round\u001b[0m\u001b[1;33m)\u001b[0m\u001b[1;33m+\u001b[0m\u001b[1;34m\"\\n\"\u001b[0m\u001b[1;33m)\u001b[0m\u001b[1;33m\u001b[0m\u001b[0m\n\u001b[0;32m      9\u001b[0m \u001b[0mf\u001b[0m\u001b[1;33m.\u001b[0m\u001b[0mclose\u001b[0m\u001b[1;33m(\u001b[0m\u001b[1;33m)\u001b[0m\u001b[1;33m\u001b[0m\u001b[0m\n",
      "\u001b[1;32m~\\Anaconda3\\lib\\json\\__init__.py\u001b[0m in \u001b[0;36mdumps\u001b[1;34m(obj, skipkeys, ensure_ascii, check_circular, allow_nan, cls, indent, separators, default, sort_keys, **kw)\u001b[0m\n\u001b[0;32m    229\u001b[0m         \u001b[0mcls\u001b[0m \u001b[1;32mis\u001b[0m \u001b[1;32mNone\u001b[0m \u001b[1;32mand\u001b[0m \u001b[0mindent\u001b[0m \u001b[1;32mis\u001b[0m \u001b[1;32mNone\u001b[0m \u001b[1;32mand\u001b[0m \u001b[0mseparators\u001b[0m \u001b[1;32mis\u001b[0m \u001b[1;32mNone\u001b[0m \u001b[1;32mand\u001b[0m\u001b[1;33m\u001b[0m\u001b[0m\n\u001b[0;32m    230\u001b[0m         default is None and not sort_keys and not kw):\n\u001b[1;32m--> 231\u001b[1;33m         \u001b[1;32mreturn\u001b[0m \u001b[0m_default_encoder\u001b[0m\u001b[1;33m.\u001b[0m\u001b[0mencode\u001b[0m\u001b[1;33m(\u001b[0m\u001b[0mobj\u001b[0m\u001b[1;33m)\u001b[0m\u001b[1;33m\u001b[0m\u001b[0m\n\u001b[0m\u001b[0;32m    232\u001b[0m     \u001b[1;32mif\u001b[0m \u001b[0mcls\u001b[0m \u001b[1;32mis\u001b[0m \u001b[1;32mNone\u001b[0m\u001b[1;33m:\u001b[0m\u001b[1;33m\u001b[0m\u001b[0m\n\u001b[0;32m    233\u001b[0m         \u001b[0mcls\u001b[0m \u001b[1;33m=\u001b[0m \u001b[0mJSONEncoder\u001b[0m\u001b[1;33m\u001b[0m\u001b[0m\n",
      "\u001b[1;32m~\\Anaconda3\\lib\\json\\encoder.py\u001b[0m in \u001b[0;36mencode\u001b[1;34m(self, o)\u001b[0m\n\u001b[0;32m    197\u001b[0m         \u001b[1;31m# exceptions aren't as detailed.  The list call should be roughly\u001b[0m\u001b[1;33m\u001b[0m\u001b[1;33m\u001b[0m\u001b[0m\n\u001b[0;32m    198\u001b[0m         \u001b[1;31m# equivalent to the PySequence_Fast that ''.join() would do.\u001b[0m\u001b[1;33m\u001b[0m\u001b[1;33m\u001b[0m\u001b[0m\n\u001b[1;32m--> 199\u001b[1;33m         \u001b[0mchunks\u001b[0m \u001b[1;33m=\u001b[0m \u001b[0mself\u001b[0m\u001b[1;33m.\u001b[0m\u001b[0miterencode\u001b[0m\u001b[1;33m(\u001b[0m\u001b[0mo\u001b[0m\u001b[1;33m,\u001b[0m \u001b[0m_one_shot\u001b[0m\u001b[1;33m=\u001b[0m\u001b[1;32mTrue\u001b[0m\u001b[1;33m)\u001b[0m\u001b[1;33m\u001b[0m\u001b[0m\n\u001b[0m\u001b[0;32m    200\u001b[0m         \u001b[1;32mif\u001b[0m \u001b[1;32mnot\u001b[0m \u001b[0misinstance\u001b[0m\u001b[1;33m(\u001b[0m\u001b[0mchunks\u001b[0m\u001b[1;33m,\u001b[0m \u001b[1;33m(\u001b[0m\u001b[0mlist\u001b[0m\u001b[1;33m,\u001b[0m \u001b[0mtuple\u001b[0m\u001b[1;33m)\u001b[0m\u001b[1;33m)\u001b[0m\u001b[1;33m:\u001b[0m\u001b[1;33m\u001b[0m\u001b[0m\n\u001b[0;32m    201\u001b[0m             \u001b[0mchunks\u001b[0m \u001b[1;33m=\u001b[0m \u001b[0mlist\u001b[0m\u001b[1;33m(\u001b[0m\u001b[0mchunks\u001b[0m\u001b[1;33m)\u001b[0m\u001b[1;33m\u001b[0m\u001b[0m\n",
      "\u001b[1;32m~\\Anaconda3\\lib\\json\\encoder.py\u001b[0m in \u001b[0;36miterencode\u001b[1;34m(self, o, _one_shot)\u001b[0m\n\u001b[0;32m    255\u001b[0m                 \u001b[0mself\u001b[0m\u001b[1;33m.\u001b[0m\u001b[0mkey_separator\u001b[0m\u001b[1;33m,\u001b[0m \u001b[0mself\u001b[0m\u001b[1;33m.\u001b[0m\u001b[0mitem_separator\u001b[0m\u001b[1;33m,\u001b[0m \u001b[0mself\u001b[0m\u001b[1;33m.\u001b[0m\u001b[0msort_keys\u001b[0m\u001b[1;33m,\u001b[0m\u001b[1;33m\u001b[0m\u001b[0m\n\u001b[0;32m    256\u001b[0m                 self.skipkeys, _one_shot)\n\u001b[1;32m--> 257\u001b[1;33m         \u001b[1;32mreturn\u001b[0m \u001b[0m_iterencode\u001b[0m\u001b[1;33m(\u001b[0m\u001b[0mo\u001b[0m\u001b[1;33m,\u001b[0m \u001b[1;36m0\u001b[0m\u001b[1;33m)\u001b[0m\u001b[1;33m\u001b[0m\u001b[0m\n\u001b[0m\u001b[0;32m    258\u001b[0m \u001b[1;33m\u001b[0m\u001b[0m\n\u001b[0;32m    259\u001b[0m def _make_iterencode(markers, _default, _encoder, _indent, _floatstr,\n",
      "\u001b[1;32m~\\Anaconda3\\lib\\json\\encoder.py\u001b[0m in \u001b[0;36mdefault\u001b[1;34m(self, o)\u001b[0m\n\u001b[0;32m    178\u001b[0m         \"\"\"\n\u001b[0;32m    179\u001b[0m         raise TypeError(\"Object of type '%s' is not JSON serializable\" %\n\u001b[1;32m--> 180\u001b[1;33m                         o.__class__.__name__)\n\u001b[0m\u001b[0;32m    181\u001b[0m \u001b[1;33m\u001b[0m\u001b[0m\n\u001b[0;32m    182\u001b[0m     \u001b[1;32mdef\u001b[0m \u001b[0mencode\u001b[0m\u001b[1;33m(\u001b[0m\u001b[0mself\u001b[0m\u001b[1;33m,\u001b[0m \u001b[0mo\u001b[0m\u001b[1;33m)\u001b[0m\u001b[1;33m:\u001b[0m\u001b[1;33m\u001b[0m\u001b[0m\n",
      "\u001b[1;31mTypeError\u001b[0m: Object of type 'DMatrix' is not JSON serializable"
     ]
    }
   ],
   "source": [
    "f=open(\"scores.txt\", \"a+\")\n",
    "f.write(\"Score: \"+str(score)+\"\\n\")\n",
    "f.write(\"Label to predict: \"+str(labelToPredict)+\"\\n\")\n",
    "f.write(\"Features used:\\n\")\n",
    "f.write(str(list(featuresToUse)) +\"\\n\")\n",
    "f.write(\"Parameters xgboost:\\n\")\n",
    "f.write(str(json.dumps(param))+\"\\n\")\n",
    "f.write(\"Number of rounds:\\n\"+str(num_round)+\"\\n\")\n",
    "f.close()"
   ]
  },
  {
   "cell_type": "code",
   "execution_count": 12,
   "metadata": {},
   "outputs": [],
   "source": [
    "os.rename(nameOfModel+\".model\",nameOfModel+str(int(score*100))+\".model\")\n",
    "newNameOfModel = nameOfModel+str(int(score*100))"
   ]
  },
  {
   "cell_type": "markdown",
   "metadata": {},
   "source": [
    "Lets combine the models"
   ]
  },
  {
   "cell_type": "code",
   "execution_count": 3,
   "metadata": {},
   "outputs": [],
   "source": [
    "clickingModel = xgboost.Booster()\n",
    "clickingModel.load_model('models/10mayClicking50074.model')\n",
    "bookingModel = xgboost.Booster()\n",
    "bookingModel.load_model(\"models/9mayBooking74.model\")"
   ]
  },
  {
   "cell_type": "code",
   "execution_count": 4,
   "metadata": {},
   "outputs": [],
   "source": [
    "df = pd.read_csv('../data/20PercentTestWithMean.csv', delimiter=\",\",usecols=featuresToUse+[labelToPredict]+neededVars)\n",
    "dfNeeded= df[neededVars+[labelToPredict]]\n",
    "df.drop(neededVars+[labelToPredict],axis=1,inplace=True)"
   ]
  },
  {
   "cell_type": "code",
   "execution_count": 5,
   "metadata": {},
   "outputs": [],
   "source": [
    "xgmat_test = xgboost.DMatrix( df)\n",
    "y_pred_clicking = clickingModel.predict(xgmat_test)\n",
    "y_pred_booking = bookingModel.predict(xgmat_test)"
   ]
  },
  {
   "cell_type": "code",
   "execution_count": 6,
   "metadata": {},
   "outputs": [],
   "source": [
    "df = pd.concat([df,dfNeeded],axis=1)\n",
    "df['y_pred_clicking'] = y_pred_clicking\n",
    "df['y_pred_booking'] = y_pred_booking\n",
    "df['combined'] = y_pred_booking+y_pred_clicking"
   ]
  },
  {
   "cell_type": "code",
   "execution_count": 9,
   "metadata": {},
   "outputs": [
    {
     "name": "stdout",
     "output_type": "stream",
     "text": [
      "Sort first on booking and then on clicking: 0.7482338410691464\n",
      "Combine then sort: 0.7518651972072667\n"
     ]
    }
   ],
   "source": [
    "score_apart, gi_sum, gi_sorted_sum = getScore(df.sort_values(by=['srch_id', 'y_pred_booking', 'y_pred_clicking'], ascending = [True, False,False]).reset_index(drop=True))\n",
    "score_combined, gi_sum, gi_sorted_sum = getScore(df.sort_values(by=['srch_id', 'combined'], ascending = [True, False]).reset_index(drop=True))\n",
    "print(\"Sort first on booking and then on clicking: \"+str(score_apart))\n",
    "print(\"Combine then sort: \"+str(score_combined))"
   ]
  },
  {
   "cell_type": "markdown",
   "metadata": {},
   "source": [
    "Evaluation"
   ]
  },
  {
   "cell_type": "code",
   "execution_count": 3,
   "metadata": {},
   "outputs": [],
   "source": [
    "dfTest = pd.read_csv(\"../data/testWithMean.csv\")"
   ]
  },
  {
   "cell_type": "code",
   "execution_count": 4,
   "metadata": {},
   "outputs": [],
   "source": [
    "clickingModel = xgboost.Booster()\n",
    "clickingModel.load_model(\"models/10mayClickingOverFitTest50.model\")\n",
    "#bookingModel = xgboost.Booster()\n",
    "#bookingModel.load_model(\"models/9mayBooking74.model\")"
   ]
  },
  {
   "cell_type": "code",
   "execution_count": 5,
   "metadata": {},
   "outputs": [],
   "source": [
    "xgmat_test_submission = xgboost.DMatrix(dfTest[featuresToUse])\n",
    "y_pred_clicking = clickingModel.predict(xgmat_test_submission)\n",
    "#_pred_booking = bookingModel.predict(xgmat_test_submission)\n",
    "dfTest['predictedPos'] = y_pred_clicking#+y_pred_booking\n",
    "dfTest = dfTest.sort_values(['srch_id','predictedPos'],ascending=[True, False])\n",
    "dfSubmission = dfTest[['srch_id','prop_id']]\n",
    "dfSubmission.to_csv(\"submissionTest10yFinal.csv\",index=False)"
   ]
  }
 ],
 "metadata": {
  "kernelspec": {
   "display_name": "Python 3",
   "language": "python",
   "name": "python3"
  },
  "language_info": {
   "codemirror_mode": {
    "name": "ipython",
    "version": 3
   },
   "file_extension": ".py",
   "mimetype": "text/x-python",
   "name": "python",
   "nbconvert_exporter": "python",
   "pygments_lexer": "ipython3",
   "version": "3.6.5"
  }
 },
 "nbformat": 4,
 "nbformat_minor": 2
}
