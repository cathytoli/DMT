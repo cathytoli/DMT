{
 "cells": [
  {
   "cell_type": "code",
   "execution_count": 1,
   "metadata": {},
   "outputs": [],
   "source": [
    "import pandas as pd\n",
    "import numpy as np\n",
    "import sklearn\n",
    "from xgboost import XGBClassifier\n",
    "import xgboost\n",
    "from collections import Counter\n",
    "from sklearn.model_selection import train_test_split\n",
    "from sklearn.metrics import accuracy_score\n",
    "from sklearn.metrics import classification_report\n",
    "from xgboost.sklearn import XGBClassifier\n",
    "from sklearn import metrics   #Additional scklearn functions\n",
    "from sklearn.model_selection import cross_validate,GridSearchCV\n",
    "\n",
    "import pickle\n",
    "from sklearn.utils import shuffle\n",
    "import json\n",
    "import os\n",
    "from xgboost import XGBClassifier\n",
    "from matplotlib import pyplot\n",
    "import matplotlib.pylab as plt\n",
    "%matplotlib inline\n",
    "import math"
   ]
  },
  {
   "cell_type": "code",
   "execution_count": 2,
   "metadata": {},
   "outputs": [],
   "source": [
    "#Don't use datetime, Don't use categorical features, xgboost doesn't do those, first one hot encode\n",
    "featuresToUse = ['visitor_hist_starrating', 'visitor_hist_adr_usd',\n",
    "       'prop_starrating', 'prop_review_score', 'prop_brand_bool',\n",
    "       'prop_location_score1', 'prop_location_score2',\n",
    "       'prop_log_historical_price', 'price_usd', 'promotion_flag',\n",
    "       'srch_length_of_stay', 'srch_booking_window',\n",
    "       'srch_adults_count', 'srch_children_count', 'srch_room_count',\n",
    "       'srch_saturday_night_bool', 'srch_query_affinity_score',\n",
    "       'orig_destination_distance', 'comp1_rate', 'comp1_inv',\n",
    "                 'mean_prop_starrating',\n",
    "       'mean_prop_review_score', 'mean_prop_brand_bool',\n",
    "       'mean_prop_location_score1', 'mean_prop_location_score2',   'mean_prop_log_historical_price','cluster__0','cluster__1','cluster__2','cluster__3','cluster__4','cluster__5','diff_distance_orig','diff_price_usd']\n",
    "labelToPredict = 'booking_bool'\n",
    "neededVars = ['srch_id','click_bool']\n",
    "nameOfModel = \"models/10mayClickingOverFitTest\""
   ]
  },
  {
   "cell_type": "code",
   "execution_count": 3,
   "metadata": {},
   "outputs": [],
   "source": [
    "dftrain = pd.read_csv('../data/80PercentTrainWithMeanNoShuffle.csv', delimiter=\",\",usecols=featuresToUse+[labelToPredict]+neededVars)\n",
    "dftrain = dftrain.sample(frac=0.2)\n",
    "Y = dftrain[labelToPredict]"
   ]
  },
  {
   "cell_type": "code",
   "execution_count": null,
   "metadata": {},
   "outputs": [],
   "source": [
    " 'min_child_weight':range(1,12,2),\n",
    " 'subsample':[i/10.0 for i in range(6,10)],\n",
    " 'colsample_bytree':[i/10.0 for i in range(6,10)],\n",
    " 'gamma':[i/10.0 for i in range(0,5)],\n",
    " 'learning_rate':[i/10.0 for i in range(0,10)]"
   ]
  },
  {
   "cell_type": "code",
   "execution_count": null,
   "metadata": {},
   "outputs": [],
   "source": []
  },
  {
   "cell_type": "code",
   "execution_count": 4,
   "metadata": {},
   "outputs": [
    {
     "name": "stdout",
     "output_type": "stream",
     "text": [
      "Fitting 5 folds for each of 1 candidates, totalling 5 fits\n",
      "[Parallel(n_jobs=5)]: Using backend LokyBackend with 5 concurrent workers.\n",
      "Pickling array (shape=(34,), dtype=object).\n",
      "Memmapping (shape=(793336,), dtype=int64) to new file C:\\Users\\Rens\\AppData\\Local\\Temp\\joblib_memmapping_folder_16112_1888206506\\16112-2526386214952-347895ef66b443c9bf2172f83ac186f9.pkl\n",
      "Memmapping (shape=(17, 793336), dtype=float64) to new file C:\\Users\\Rens\\AppData\\Local\\Temp\\joblib_memmapping_folder_16112_1888206506\\16112-2526386214952-47ab1faca4de4adea8af13e9925ba3bb.pkl\n",
      "Memmapping (shape=(17, 793336), dtype=int64) to new file C:\\Users\\Rens\\AppData\\Local\\Temp\\joblib_memmapping_folder_16112_1888206506\\16112-2526386214952-7e12762ea5294b4fa3676c77f15e4da9.pkl\n",
      "Pickling array (shape=(17,), dtype=object).\n",
      "Pickling array (shape=(17,), dtype=object).\n",
      "Pickling array (shape=(17,), dtype=int64).\n",
      "Pickling array (shape=(17,), dtype=int64).\n",
      "Memmapping (shape=(793336,), dtype=int64) to new file C:\\Users\\Rens\\AppData\\Local\\Temp\\joblib_memmapping_folder_16112_1888206506\\16112-2526386214952-da61db03962c4a5ba7f6ffbe0bc90bda.pkl\n",
      "Memmapping (shape=(793336,), dtype=int64) to new file C:\\Users\\Rens\\AppData\\Local\\Temp\\joblib_memmapping_folder_16112_1888206506\\16112-2526386214952-8d4ec7782eed45829a83734d949cbe00.pkl\n",
      "Memmapping (shape=(634668,), dtype=int32) to new file C:\\Users\\Rens\\AppData\\Local\\Temp\\joblib_memmapping_folder_16112_1888206506\\16112-2526386214952-a220d3ec3cff42539b332a5790a8a95a.pkl\n",
      "Pickling array (shape=(158668,), dtype=int32).\n",
      "Pickling array (shape=(34,), dtype=object).\n",
      "Memmapping (shape=(793336,), dtype=int64) to old file C:\\Users\\Rens\\AppData\\Local\\Temp\\joblib_memmapping_folder_16112_1888206506\\16112-2526386214952-347895ef66b443c9bf2172f83ac186f9.pkl\n",
      "Memmapping (shape=(17, 793336), dtype=float64) to old file C:\\Users\\Rens\\AppData\\Local\\Temp\\joblib_memmapping_folder_16112_1888206506\\16112-2526386214952-47ab1faca4de4adea8af13e9925ba3bb.pkl\n",
      "Memmapping (shape=(17, 793336), dtype=int64) to old file C:\\Users\\Rens\\AppData\\Local\\Temp\\joblib_memmapping_folder_16112_1888206506\\16112-2526386214952-7e12762ea5294b4fa3676c77f15e4da9.pkl\n",
      "Pickling array (shape=(17,), dtype=object).\n",
      "Pickling array (shape=(17,), dtype=object).\n",
      "Pickling array (shape=(17,), dtype=int64).\n",
      "Pickling array (shape=(17,), dtype=int64).\n",
      "Memmapping (shape=(793336,), dtype=int64) to old file C:\\Users\\Rens\\AppData\\Local\\Temp\\joblib_memmapping_folder_16112_1888206506\\16112-2526386214952-da61db03962c4a5ba7f6ffbe0bc90bda.pkl\n",
      "Memmapping (shape=(793336,), dtype=int64) to new file C:\\Users\\Rens\\AppData\\Local\\Temp\\joblib_memmapping_folder_16112_1888206506\\16112-2526386214952-e6d156151f154a63987afc21f1e60539.pkl\n",
      "Memmapping (shape=(634669,), dtype=int32) to new file C:\\Users\\Rens\\AppData\\Local\\Temp\\joblib_memmapping_folder_16112_1888206506\\16112-2526386214952-6c24eac810394bdab68fe42c17eae161.pkl\n",
      "Pickling array (shape=(158667,), dtype=int32).\n",
      "Pickling array (shape=(34,), dtype=object).\n",
      "Memmapping (shape=(793336,), dtype=int64) to old file C:\\Users\\Rens\\AppData\\Local\\Temp\\joblib_memmapping_folder_16112_1888206506\\16112-2526386214952-347895ef66b443c9bf2172f83ac186f9.pkl\n",
      "Memmapping (shape=(17, 793336), dtype=float64) to old file C:\\Users\\Rens\\AppData\\Local\\Temp\\joblib_memmapping_folder_16112_1888206506\\16112-2526386214952-47ab1faca4de4adea8af13e9925ba3bb.pkl\n",
      "Memmapping (shape=(17, 793336), dtype=int64) to old file C:\\Users\\Rens\\AppData\\Local\\Temp\\joblib_memmapping_folder_16112_1888206506\\16112-2526386214952-7e12762ea5294b4fa3676c77f15e4da9.pkl\n",
      "Pickling array (shape=(17,), dtype=object).\n",
      "Pickling array (shape=(17,), dtype=object).\n",
      "Pickling array (shape=(17,), dtype=int64).\n",
      "Pickling array (shape=(17,), dtype=int64).\n",
      "Memmapping (shape=(793336,), dtype=int64) to old file C:\\Users\\Rens\\AppData\\Local\\Temp\\joblib_memmapping_folder_16112_1888206506\\16112-2526386214952-da61db03962c4a5ba7f6ffbe0bc90bda.pkl\n",
      "Memmapping (shape=(793336,), dtype=int64) to new file C:\\Users\\Rens\\AppData\\Local\\Temp\\joblib_memmapping_folder_16112_1888206506\\16112-2526386214952-e101df558271493295414b0c3c3bfb98.pkl\n",
      "Memmapping (shape=(634669,), dtype=int32) to new file C:\\Users\\Rens\\AppData\\Local\\Temp\\joblib_memmapping_folder_16112_1888206506\\16112-2526386214952-4897c5cbcd6f4ec695d0267d2ff72fa0.pkl\n",
      "Pickling array (shape=(158667,), dtype=int32).\n",
      "Pickling array (shape=(34,), dtype=object).\n",
      "Memmapping (shape=(793336,), dtype=int64) to old file C:\\Users\\Rens\\AppData\\Local\\Temp\\joblib_memmapping_folder_16112_1888206506\\16112-2526386214952-347895ef66b443c9bf2172f83ac186f9.pkl\n",
      "Memmapping (shape=(17, 793336), dtype=float64) to old file C:\\Users\\Rens\\AppData\\Local\\Temp\\joblib_memmapping_folder_16112_1888206506\\16112-2526386214952-47ab1faca4de4adea8af13e9925ba3bb.pkl\n",
      "Memmapping (shape=(17, 793336), dtype=int64) to old file C:\\Users\\Rens\\AppData\\Local\\Temp\\joblib_memmapping_folder_16112_1888206506\\16112-2526386214952-7e12762ea5294b4fa3676c77f15e4da9.pkl\n",
      "Pickling array (shape=(17,), dtype=object).\n",
      "Pickling array (shape=(17,), dtype=object).\n",
      "Pickling array (shape=(17,), dtype=int64).\n",
      "Pickling array (shape=(17,), dtype=int64).\n",
      "Memmapping (shape=(793336,), dtype=int64) to old file C:\\Users\\Rens\\AppData\\Local\\Temp\\joblib_memmapping_folder_16112_1888206506\\16112-2526386214952-da61db03962c4a5ba7f6ffbe0bc90bda.pkl\n",
      "Memmapping (shape=(793336,), dtype=int64) to new file C:\\Users\\Rens\\AppData\\Local\\Temp\\joblib_memmapping_folder_16112_1888206506\\16112-2526386214952-08b1211cbffa481fa603b033f40f8b56.pkl\n",
      "Memmapping (shape=(634669,), dtype=int32) to new file C:\\Users\\Rens\\AppData\\Local\\Temp\\joblib_memmapping_folder_16112_1888206506\\16112-2526386214952-7ec9c54be05e420593b1151121ef5e04.pkl\n",
      "Pickling array (shape=(158667,), dtype=int32).\n",
      "Pickling array (shape=(34,), dtype=object).\n",
      "Memmapping (shape=(793336,), dtype=int64) to old file C:\\Users\\Rens\\AppData\\Local\\Temp\\joblib_memmapping_folder_16112_1888206506\\16112-2526386214952-347895ef66b443c9bf2172f83ac186f9.pkl\n",
      "Memmapping (shape=(17, 793336), dtype=float64) to old file C:\\Users\\Rens\\AppData\\Local\\Temp\\joblib_memmapping_folder_16112_1888206506\\16112-2526386214952-47ab1faca4de4adea8af13e9925ba3bb.pkl\n",
      "Memmapping (shape=(17, 793336), dtype=int64) to old file C:\\Users\\Rens\\AppData\\Local\\Temp\\joblib_memmapping_folder_16112_1888206506\\16112-2526386214952-7e12762ea5294b4fa3676c77f15e4da9.pkl\n",
      "Pickling array (shape=(17,), dtype=object).\n",
      "Pickling array (shape=(17,), dtype=object).\n",
      "Pickling array (shape=(17,), dtype=int64).\n",
      "Pickling array (shape=(17,), dtype=int64).\n",
      "Memmapping (shape=(793336,), dtype=int64) to old file C:\\Users\\Rens\\AppData\\Local\\Temp\\joblib_memmapping_folder_16112_1888206506\\16112-2526386214952-da61db03962c4a5ba7f6ffbe0bc90bda.pkl\n",
      "Memmapping (shape=(793336,), dtype=int64) to new file C:\\Users\\Rens\\AppData\\Local\\Temp\\joblib_memmapping_folder_16112_1888206506\\16112-2526386214952-691b888fed7444fd974b81348e8d1fc1.pkl\n",
      "Memmapping (shape=(634669,), dtype=int32) to new file C:\\Users\\Rens\\AppData\\Local\\Temp\\joblib_memmapping_folder_16112_1888206506\\16112-2526386214952-c790c2eec6564e7681c502f6c7419cd7.pkl\n",
      "Pickling array (shape=(158667,), dtype=int32).\n",
      "[Parallel(n_jobs=5)]: Done   1 tasks      | elapsed:  3.4min\n",
      "[Parallel(n_jobs=5)]: Done   2 out of   5 | elapsed:  3.4min remaining:  5.2min\n",
      "[Parallel(n_jobs=5)]: Done   3 out of   5 | elapsed:  3.5min remaining:  2.3min\n",
      "[Parallel(n_jobs=5)]: Done   5 out of   5 | elapsed:  3.5min remaining:    0.0s\n",
      "[Parallel(n_jobs=5)]: Done   5 out of   5 | elapsed:  3.5min finished\n"
     ]
    },
    {
     "name": "stderr",
     "output_type": "stream",
     "text": [
      "C:\\Users\\Rens\\Anaconda3\\lib\\site-packages\\sklearn\\utils\\deprecation.py:125: FutureWarning: You are accessing a training score ('split0_train_score'), which will not be available by default any more in 0.21. If you need training scores, please set return_train_score=True\n",
      "  warnings.warn(*warn_args, **warn_kwargs)\n",
      "C:\\Users\\Rens\\Anaconda3\\lib\\site-packages\\sklearn\\utils\\deprecation.py:125: FutureWarning: You are accessing a training score ('split1_train_score'), which will not be available by default any more in 0.21. If you need training scores, please set return_train_score=True\n",
      "  warnings.warn(*warn_args, **warn_kwargs)\n",
      "C:\\Users\\Rens\\Anaconda3\\lib\\site-packages\\sklearn\\utils\\deprecation.py:125: FutureWarning: You are accessing a training score ('split2_train_score'), which will not be available by default any more in 0.21. If you need training scores, please set return_train_score=True\n",
      "  warnings.warn(*warn_args, **warn_kwargs)\n",
      "C:\\Users\\Rens\\Anaconda3\\lib\\site-packages\\sklearn\\utils\\deprecation.py:125: FutureWarning: You are accessing a training score ('split3_train_score'), which will not be available by default any more in 0.21. If you need training scores, please set return_train_score=True\n",
      "  warnings.warn(*warn_args, **warn_kwargs)\n",
      "C:\\Users\\Rens\\Anaconda3\\lib\\site-packages\\sklearn\\utils\\deprecation.py:125: FutureWarning: You are accessing a training score ('split4_train_score'), which will not be available by default any more in 0.21. If you need training scores, please set return_train_score=True\n",
      "  warnings.warn(*warn_args, **warn_kwargs)\n",
      "C:\\Users\\Rens\\Anaconda3\\lib\\site-packages\\sklearn\\utils\\deprecation.py:125: FutureWarning: You are accessing a training score ('mean_train_score'), which will not be available by default any more in 0.21. If you need training scores, please set return_train_score=True\n",
      "  warnings.warn(*warn_args, **warn_kwargs)\n",
      "C:\\Users\\Rens\\Anaconda3\\lib\\site-packages\\sklearn\\utils\\deprecation.py:125: FutureWarning: You are accessing a training score ('std_train_score'), which will not be available by default any more in 0.21. If you need training scores, please set return_train_score=True\n",
      "  warnings.warn(*warn_args, **warn_kwargs)\n"
     ]
    },
    {
     "data": {
      "text/plain": [
       "{'mean_fit_time': array([200.70742841]),\n",
       " 'std_fit_time': array([2.25416205]),\n",
       " 'mean_score_time': array([1.04560652]),\n",
       " 'std_score_time': array([0.04248211]),\n",
       " 'param_max_depth': masked_array(data=[3],\n",
       "              mask=[False],\n",
       "        fill_value='?',\n",
       "             dtype=object),\n",
       " 'params': [{'max_depth': 3}],\n",
       " 'split0_test_score': array([0.71623687]),\n",
       " 'split1_test_score': array([0.72122372]),\n",
       " 'split2_test_score': array([0.71865162]),\n",
       " 'split3_test_score': array([0.71843398]),\n",
       " 'split4_test_score': array([0.72363985]),\n",
       " 'mean_test_score': array([0.71963721]),\n",
       " 'std_test_score': array([0.00255028]),\n",
       " 'rank_test_score': array([1]),\n",
       " 'split0_train_score': array([0.73069743]),\n",
       " 'split1_train_score': array([0.73027179]),\n",
       " 'split2_train_score': array([0.73036022]),\n",
       " 'split3_train_score': array([0.731136]),\n",
       " 'split4_train_score': array([0.72962519]),\n",
       " 'mean_train_score': array([0.73041813]),\n",
       " 'std_train_score': array([0.00049937])}"
      ]
     },
     "execution_count": 4,
     "metadata": {},
     "output_type": "execute_result"
    }
   ],
   "source": [
    "param_test1 = {\n",
    " 'max_depth':range(3,15,2),\n",
    "\n",
    "}\n",
    "\n",
    "\n",
    "\n",
    "gsearch1 = GridSearchCV(estimator = XGBClassifier( learning_rate = 0.1, n_estimators=120, max_depth=5,\n",
    "min_child_weight=1, gamma=0,\n",
    "objective= 'reg:logistic', nthread=-1, scale_pos_weight=sum(Y==0)/sum(Y==1), seed=12,verbosity=3), \n",
    "param_grid = param_test1, scoring='roc_auc',n_jobs=5,iid=False, cv=5,verbose = 100)\n",
    "\n",
    "gsearch1.fit(dftrain[featuresToUse],dftrain[labelToPredict])\n",
    "gsearch1.cv_results_"
   ]
  },
  {
   "cell_type": "code",
   "execution_count": 5,
   "metadata": {},
   "outputs": [
    {
     "name": "stderr",
     "output_type": "stream",
     "text": [
      "C:\\Users\\Rens\\Anaconda3\\lib\\site-packages\\sklearn\\utils\\deprecation.py:125: FutureWarning: You are accessing a training score ('split0_train_score'), which will not be available by default any more in 0.21. If you need training scores, please set return_train_score=True\n",
      "  warnings.warn(*warn_args, **warn_kwargs)\n",
      "C:\\Users\\Rens\\Anaconda3\\lib\\site-packages\\sklearn\\utils\\deprecation.py:125: FutureWarning: You are accessing a training score ('split1_train_score'), which will not be available by default any more in 0.21. If you need training scores, please set return_train_score=True\n",
      "  warnings.warn(*warn_args, **warn_kwargs)\n",
      "C:\\Users\\Rens\\Anaconda3\\lib\\site-packages\\sklearn\\utils\\deprecation.py:125: FutureWarning: You are accessing a training score ('split2_train_score'), which will not be available by default any more in 0.21. If you need training scores, please set return_train_score=True\n",
      "  warnings.warn(*warn_args, **warn_kwargs)\n",
      "C:\\Users\\Rens\\Anaconda3\\lib\\site-packages\\sklearn\\utils\\deprecation.py:125: FutureWarning: You are accessing a training score ('split3_train_score'), which will not be available by default any more in 0.21. If you need training scores, please set return_train_score=True\n",
      "  warnings.warn(*warn_args, **warn_kwargs)\n",
      "C:\\Users\\Rens\\Anaconda3\\lib\\site-packages\\sklearn\\utils\\deprecation.py:125: FutureWarning: You are accessing a training score ('split4_train_score'), which will not be available by default any more in 0.21. If you need training scores, please set return_train_score=True\n",
      "  warnings.warn(*warn_args, **warn_kwargs)\n",
      "C:\\Users\\Rens\\Anaconda3\\lib\\site-packages\\sklearn\\utils\\deprecation.py:125: FutureWarning: You are accessing a training score ('mean_train_score'), which will not be available by default any more in 0.21. If you need training scores, please set return_train_score=True\n",
      "  warnings.warn(*warn_args, **warn_kwargs)\n",
      "C:\\Users\\Rens\\Anaconda3\\lib\\site-packages\\sklearn\\utils\\deprecation.py:125: FutureWarning: You are accessing a training score ('std_train_score'), which will not be available by default any more in 0.21. If you need training scores, please set return_train_score=True\n",
      "  warnings.warn(*warn_args, **warn_kwargs)\n"
     ]
    },
    {
     "data": {
      "text/plain": [
       "{'mean_fit_time': array([200.70742841]),\n",
       " 'std_fit_time': array([2.25416205]),\n",
       " 'mean_score_time': array([1.04560652]),\n",
       " 'std_score_time': array([0.04248211]),\n",
       " 'param_max_depth': masked_array(data=[3],\n",
       "              mask=[False],\n",
       "        fill_value='?',\n",
       "             dtype=object),\n",
       " 'params': [{'max_depth': 3}],\n",
       " 'split0_test_score': array([0.71623687]),\n",
       " 'split1_test_score': array([0.72122372]),\n",
       " 'split2_test_score': array([0.71865162]),\n",
       " 'split3_test_score': array([0.71843398]),\n",
       " 'split4_test_score': array([0.72363985]),\n",
       " 'mean_test_score': array([0.71963721]),\n",
       " 'std_test_score': array([0.00255028]),\n",
       " 'rank_test_score': array([1]),\n",
       " 'split0_train_score': array([0.73069743]),\n",
       " 'split1_train_score': array([0.73027179]),\n",
       " 'split2_train_score': array([0.73036022]),\n",
       " 'split3_train_score': array([0.731136]),\n",
       " 'split4_train_score': array([0.72962519]),\n",
       " 'mean_train_score': array([0.73041813]),\n",
       " 'std_train_score': array([0.00049937])}"
      ]
     },
     "execution_count": 5,
     "metadata": {},
     "output_type": "execute_result"
    }
   ],
   "source": [
    "gsearch1.cv_results_"
   ]
  },
  {
   "cell_type": "code",
   "execution_count": 7,
   "metadata": {},
   "outputs": [],
   "source": [
    "file = open(\"cvScores.txt\",\"a+\")\n",
    " \n",
    "file.write(str(gsearch1.cv_results_))\n",
    " \n",
    "file.close() "
   ]
  }
 ],
 "metadata": {
  "kernelspec": {
   "display_name": "Python 3",
   "language": "python",
   "name": "python3"
  },
  "language_info": {
   "codemirror_mode": {
    "name": "ipython",
    "version": 3
   },
   "file_extension": ".py",
   "mimetype": "text/x-python",
   "name": "python",
   "nbconvert_exporter": "python",
   "pygments_lexer": "ipython3",
   "version": "3.6.5"
  }
 },
 "nbformat": 4,
 "nbformat_minor": 2
}
