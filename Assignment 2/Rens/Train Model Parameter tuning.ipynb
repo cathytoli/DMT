{
 "cells": [
  {
   "cell_type": "code",
   "execution_count": 3,
   "metadata": {},
   "outputs": [],
   "source": [
    "import pandas as pd\n",
    "import numpy as np\n",
    "import sklearn\n",
    "from xgboost import XGBClassifier\n",
    "import xgboost\n",
    "from collections import Counter\n",
    "from sklearn.model_selection import train_test_split\n",
    "from sklearn.metrics import accuracy_score\n",
    "from sklearn.metrics import classification_report\n",
    "from xgboost.sklearn import XGBClassifier\n",
    "from sklearn import metrics   #Additional scklearn functions\n",
    "from sklearn.model_selection import cross_validate,GridSearchCV\n",
    "\n",
    "import pickle\n",
    "from sklearn.utils import shuffle\n",
    "import json\n",
    "import os\n",
    "from xgboost import XGBClassifier\n",
    "from matplotlib import pyplot\n",
    "import matplotlib.pylab as plt\n",
    "%matplotlib inline\n",
    "import math"
   ]
  },
  {
   "cell_type": "code",
   "execution_count": 4,
   "metadata": {},
   "outputs": [],
   "source": [
    "#Don't use datetime, Don't use categorical features, xgboost doesn't do those, first one hot encode\n",
    "featuresToUse = ['visitor_hist_starrating', 'visitor_hist_adr_usd',\n",
    "       'prop_starrating', 'prop_review_score', 'prop_brand_bool',\n",
    "       'prop_location_score1', 'prop_location_score2',\n",
    "       'prop_log_historical_price', 'price_usd', 'promotion_flag',\n",
    "       'srch_length_of_stay', 'srch_booking_window',\n",
    "       'srch_adults_count', 'srch_children_count', 'srch_room_count',\n",
    "       'srch_saturday_night_bool', 'srch_query_affinity_score',\n",
    "       'orig_destination_distance', 'comp1_rate', 'comp1_inv',\n",
    "                 'mean_prop_starrating',\n",
    "       'mean_prop_review_score', 'mean_prop_brand_bool',\n",
    "       'mean_prop_location_score1', 'mean_prop_location_score2',   'mean_prop_log_historical_price','cluster__0','cluster__1','cluster__2','cluster__3','cluster__4','cluster__5','diff_distance_orig','diff_price_usd']\n",
    "labelToPredict = 'booking_bool'\n",
    "neededVars = ['srch_id','click_bool']\n",
    "nameOfModel = \"models/10mayClickingOverFitTest\""
   ]
  },
  {
   "cell_type": "code",
   "execution_count": 2,
   "metadata": {},
   "outputs": [],
   "source": [
    "#Don't use datetime, Don't use categorical features, xgboost doesn't do those, first one hot encode\n",
    "featuresToUse = ['visitor_hist_starrating', 'visitor_hist_adr_usd',\n",
    "       'prop_starrating', 'prop_review_score', 'prop_brand_bool',\n",
    "       'prop_location_score1', 'prop_location_score2',\n",
    "       'prop_log_historical_price', 'price_usd', 'promotion_flag',\n",
    "       'srch_length_of_stay', 'srch_booking_window',\n",
    "       'srch_adults_count', 'srch_children_count', 'srch_room_count',\n",
    "       'srch_saturday_night_bool', 'srch_query_affinity_score',\n",
    "       'orig_destination_distance', 'comp1_rate', 'comp1_inv',\n",
    "       'diff_distance_orig','diff_price_usd']\n",
    "labelToPredict = 'click_bool'\n",
    "neededVars = ['srch_id','booking_bool']\n",
    "nameOfModel = \"models/10mayClickingOverFitTest2\""
   ]
  },
  {
   "cell_type": "code",
   "execution_count": 8,
   "metadata": {},
   "outputs": [],
   "source": [
    "dftrain = pd.read_csv('../data/80PercentTrainWithMeanNoShuffle.csv', delimiter=\",\",usecols=featuresToUse+[labelToPredict]+neededVars)"
   ]
  },
  {
   "cell_type": "code",
   "execution_count": 9,
   "metadata": {},
   "outputs": [
    {
     "name": "stderr",
     "output_type": "stream",
     "text": [
      "C:\\Users\\Rens\\Anaconda3\\lib\\site-packages\\xgboost\\core.py:587: FutureWarning: Series.base is deprecated and will be removed in a future version\n",
      "  if getattr(data, 'base', None) is not None and \\\n",
      "C:\\Users\\Rens\\Anaconda3\\lib\\site-packages\\xgboost\\core.py:588: FutureWarning: Series.base is deprecated and will be removed in a future version\n",
      "  data.base is not None and isinstance(data, np.ndarray) \\\n"
     ]
    }
   ],
   "source": [
    "df = pd.read_csv('../data/20PercentTestWithMeanNoShuffle.csv', delimiter=\",\",usecols=featuresToUse+[labelToPredict]+neededVars)\n",
    "dfNeeded= df[neededVars+[labelToPredict]]\n",
    "Y = df[labelToPredict]\n",
    "df.drop(neededVars+[labelToPredict],axis=1,inplace=True)\n",
    "xgmat_test = xgboost.DMatrix( df, label=Y)"
   ]
  },
  {
   "cell_type": "code",
   "execution_count": 12,
   "metadata": {},
   "outputs": [
    {
     "name": "stdout",
     "output_type": "stream",
     "text": [
      "Fitting 5 folds for each of 12 candidates, totalling 60 fits\n"
     ]
    },
    {
     "name": "stderr",
     "output_type": "stream",
     "text": [
      "[Parallel(n_jobs=1)]: Using backend SequentialBackend with 1 concurrent workers.\n"
     ]
    },
    {
     "name": "stdout",
     "output_type": "stream",
     "text": [
      "[CV] max_depth=3, min_child_weight=1 .................................\n",
      "[CV] .................. max_depth=3, min_child_weight=1, total= 3.8min\n",
      "[CV] max_depth=3, min_child_weight=1 .................................\n"
     ]
    },
    {
     "name": "stderr",
     "output_type": "stream",
     "text": [
      "[Parallel(n_jobs=1)]: Done   1 out of   1 | elapsed:  3.9min remaining:    0.0s\n"
     ]
    },
    {
     "name": "stdout",
     "output_type": "stream",
     "text": [
      "[CV] .................. max_depth=3, min_child_weight=1, total= 3.8min\n",
      "[CV] max_depth=3, min_child_weight=1 .................................\n",
      "[CV] .................. max_depth=3, min_child_weight=1, total= 3.7min\n",
      "[CV] max_depth=3, min_child_weight=1 .................................\n",
      "[CV] .................. max_depth=3, min_child_weight=1, total= 3.7min\n",
      "[CV] max_depth=3, min_child_weight=1 .................................\n",
      "[CV] .................. max_depth=3, min_child_weight=1, total= 4.0min\n",
      "[CV] max_depth=3, min_child_weight=3 .................................\n",
      "[CV] .................. max_depth=3, min_child_weight=3, total= 4.3min\n",
      "[CV] max_depth=3, min_child_weight=3 .................................\n",
      "[CV] .................. max_depth=3, min_child_weight=3, total= 4.3min\n",
      "[CV] max_depth=3, min_child_weight=3 .................................\n",
      "[CV] .................. max_depth=3, min_child_weight=3, total= 4.3min\n",
      "[CV] max_depth=3, min_child_weight=3 .................................\n",
      "[CV] .................. max_depth=3, min_child_weight=3, total= 4.3min\n",
      "[CV] max_depth=3, min_child_weight=3 .................................\n",
      "[CV] .................. max_depth=3, min_child_weight=3, total= 4.3min\n",
      "[CV] max_depth=3, min_child_weight=5 .................................\n",
      "[CV] .................. max_depth=3, min_child_weight=5, total= 4.3min\n",
      "[CV] max_depth=3, min_child_weight=5 .................................\n",
      "[CV] .................. max_depth=3, min_child_weight=5, total= 4.4min\n",
      "[CV] max_depth=3, min_child_weight=5 .................................\n",
      "[CV] .................. max_depth=3, min_child_weight=5, total= 4.3min\n",
      "[CV] max_depth=3, min_child_weight=5 .................................\n",
      "[CV] .................. max_depth=3, min_child_weight=5, total= 4.3min\n",
      "[CV] max_depth=3, min_child_weight=5 .................................\n",
      "[CV] .................. max_depth=3, min_child_weight=5, total= 4.3min\n",
      "[CV] max_depth=5, min_child_weight=1 .................................\n",
      "[CV] .................. max_depth=5, min_child_weight=1, total= 6.5min\n",
      "[CV] max_depth=5, min_child_weight=1 .................................\n",
      "[CV] .................. max_depth=5, min_child_weight=1, total= 6.5min\n",
      "[CV] max_depth=5, min_child_weight=1 .................................\n",
      "[CV] .................. max_depth=5, min_child_weight=1, total= 6.5min\n",
      "[CV] max_depth=5, min_child_weight=1 .................................\n",
      "[CV] .................. max_depth=5, min_child_weight=1, total= 6.5min\n",
      "[CV] max_depth=5, min_child_weight=1 .................................\n",
      "[CV] .................. max_depth=5, min_child_weight=1, total= 6.5min\n",
      "[CV] max_depth=5, min_child_weight=3 .................................\n",
      "[CV] .................. max_depth=5, min_child_weight=3, total= 6.5min\n",
      "[CV] max_depth=5, min_child_weight=3 .................................\n",
      "[CV] .................. max_depth=5, min_child_weight=3, total= 6.5min\n",
      "[CV] max_depth=5, min_child_weight=3 .................................\n",
      "[CV] .................. max_depth=5, min_child_weight=3, total= 6.5min\n",
      "[CV] max_depth=5, min_child_weight=3 .................................\n",
      "[CV] .................. max_depth=5, min_child_weight=3, total= 6.6min\n",
      "[CV] max_depth=5, min_child_weight=3 .................................\n",
      "[CV] .................. max_depth=5, min_child_weight=3, total= 6.5min\n",
      "[CV] max_depth=5, min_child_weight=5 .................................\n",
      "[CV] .................. max_depth=5, min_child_weight=5, total= 6.5min\n",
      "[CV] max_depth=5, min_child_weight=5 .................................\n",
      "[CV] .................. max_depth=5, min_child_weight=5, total= 6.5min\n",
      "[CV] max_depth=5, min_child_weight=5 .................................\n",
      "[CV] .................. max_depth=5, min_child_weight=5, total= 6.5min\n",
      "[CV] max_depth=5, min_child_weight=5 .................................\n",
      "[CV] .................. max_depth=5, min_child_weight=5, total= 6.6min\n",
      "[CV] max_depth=5, min_child_weight=5 .................................\n",
      "[CV] .................. max_depth=5, min_child_weight=5, total= 6.6min\n",
      "[CV] max_depth=7, min_child_weight=1 .................................\n",
      "[CV] .................. max_depth=7, min_child_weight=1, total= 9.2min\n",
      "[CV] max_depth=7, min_child_weight=1 .................................\n",
      "[CV] .................. max_depth=7, min_child_weight=1, total= 9.0min\n",
      "[CV] max_depth=7, min_child_weight=1 .................................\n",
      "[CV] .................. max_depth=7, min_child_weight=1, total= 9.1min\n",
      "[CV] max_depth=7, min_child_weight=1 .................................\n",
      "[CV] .................. max_depth=7, min_child_weight=1, total= 9.0min\n",
      "[CV] max_depth=7, min_child_weight=1 .................................\n",
      "[CV] .................. max_depth=7, min_child_weight=1, total= 9.0min\n",
      "[CV] max_depth=7, min_child_weight=3 .................................\n",
      "[CV] .................. max_depth=7, min_child_weight=3, total= 9.0min\n",
      "[CV] max_depth=7, min_child_weight=3 .................................\n",
      "[CV] .................. max_depth=7, min_child_weight=3, total= 9.0min\n",
      "[CV] max_depth=7, min_child_weight=3 .................................\n",
      "[CV] .................. max_depth=7, min_child_weight=3, total= 9.1min\n",
      "[CV] max_depth=7, min_child_weight=3 .................................\n",
      "[CV] .................. max_depth=7, min_child_weight=3, total= 9.0min\n",
      "[CV] max_depth=7, min_child_weight=3 .................................\n",
      "[CV] .................. max_depth=7, min_child_weight=3, total= 9.1min\n",
      "[CV] max_depth=7, min_child_weight=5 .................................\n",
      "[CV] .................. max_depth=7, min_child_weight=5, total= 9.0min\n",
      "[CV] max_depth=7, min_child_weight=5 .................................\n",
      "[CV] .................. max_depth=7, min_child_weight=5, total= 9.0min\n",
      "[CV] max_depth=7, min_child_weight=5 .................................\n",
      "[CV] .................. max_depth=7, min_child_weight=5, total= 9.0min\n",
      "[CV] max_depth=7, min_child_weight=5 .................................\n",
      "[CV] .................. max_depth=7, min_child_weight=5, total= 9.0min\n",
      "[CV] max_depth=7, min_child_weight=5 .................................\n",
      "[CV] .................. max_depth=7, min_child_weight=5, total= 9.1min\n",
      "[CV] max_depth=9, min_child_weight=1 .................................\n",
      "[CV] .................. max_depth=9, min_child_weight=1, total=11.6min\n",
      "[CV] max_depth=9, min_child_weight=1 .................................\n",
      "[CV] .................. max_depth=9, min_child_weight=1, total=11.6min\n",
      "[CV] max_depth=9, min_child_weight=1 .................................\n",
      "[CV] .................. max_depth=9, min_child_weight=1, total=11.8min\n",
      "[CV] max_depth=9, min_child_weight=1 .................................\n",
      "[CV] .................. max_depth=9, min_child_weight=1, total=11.7min\n",
      "[CV] max_depth=9, min_child_weight=1 .................................\n",
      "[CV] .................. max_depth=9, min_child_weight=1, total=11.6min\n",
      "[CV] max_depth=9, min_child_weight=3 .................................\n",
      "[CV] .................. max_depth=9, min_child_weight=3, total=11.7min\n",
      "[CV] max_depth=9, min_child_weight=3 .................................\n",
      "[CV] .................. max_depth=9, min_child_weight=3, total=11.6min\n",
      "[CV] max_depth=9, min_child_weight=3 .................................\n",
      "[CV] .................. max_depth=9, min_child_weight=3, total=11.7min\n",
      "[CV] max_depth=9, min_child_weight=3 .................................\n",
      "[CV] .................. max_depth=9, min_child_weight=3, total=11.6min\n",
      "[CV] max_depth=9, min_child_weight=3 .................................\n",
      "[CV] .................. max_depth=9, min_child_weight=3, total=11.6min\n",
      "[CV] max_depth=9, min_child_weight=5 .................................\n",
      "[CV] .................. max_depth=9, min_child_weight=5, total=11.6min\n",
      "[CV] max_depth=9, min_child_weight=5 .................................\n",
      "[CV] .................. max_depth=9, min_child_weight=5, total=11.8min\n",
      "[CV] max_depth=9, min_child_weight=5 .................................\n",
      "[CV] .................. max_depth=9, min_child_weight=5, total=11.7min\n",
      "[CV] max_depth=9, min_child_weight=5 .................................\n",
      "[CV] .................. max_depth=9, min_child_weight=5, total=11.6min\n",
      "[CV] max_depth=9, min_child_weight=5 .................................\n"
     ]
    },
    {
     "name": "stdout",
     "output_type": "stream",
     "text": [
      "[CV] .................. max_depth=9, min_child_weight=5, total=11.8min\n"
     ]
    },
    {
     "name": "stderr",
     "output_type": "stream",
     "text": [
      "[Parallel(n_jobs=1)]: Done  60 out of  60 | elapsed: 483.3min finished\n"
     ]
    },
    {
     "ename": "AttributeError",
     "evalue": "'GridSearchCV' object has no attribute 'grid_scores_'",
     "output_type": "error",
     "traceback": [
      "\u001b[1;31m---------------------------------------------------------------------------\u001b[0m",
      "\u001b[1;31mAttributeError\u001b[0m                            Traceback (most recent call last)",
      "\u001b[1;32m<ipython-input-12-ad7e3d0a7001>\u001b[0m in \u001b[0;36m<module>\u001b[1;34m()\u001b[0m\n\u001b[0;32m     12\u001b[0m \u001b[1;33m\u001b[0m\u001b[0m\n\u001b[0;32m     13\u001b[0m \u001b[0mgsearch1\u001b[0m\u001b[1;33m.\u001b[0m\u001b[0mfit\u001b[0m\u001b[1;33m(\u001b[0m\u001b[0mdftrain\u001b[0m\u001b[1;33m[\u001b[0m\u001b[0mfeaturesToUse\u001b[0m\u001b[1;33m]\u001b[0m\u001b[1;33m,\u001b[0m\u001b[0mdftrain\u001b[0m\u001b[1;33m[\u001b[0m\u001b[0mlabelToPredict\u001b[0m\u001b[1;33m]\u001b[0m\u001b[1;33m)\u001b[0m\u001b[1;33m\u001b[0m\u001b[0m\n\u001b[1;32m---> 14\u001b[1;33m \u001b[0mgsearch1\u001b[0m\u001b[1;33m.\u001b[0m\u001b[0mgrid_scores_\u001b[0m\u001b[1;33m,\u001b[0m \u001b[0mgsearch1\u001b[0m\u001b[1;33m.\u001b[0m\u001b[0mbest_params_\u001b[0m\u001b[1;33m,\u001b[0m \u001b[0mgsearch1\u001b[0m\u001b[1;33m.\u001b[0m\u001b[0mbest_score_\u001b[0m\u001b[1;33m\u001b[0m\u001b[0m\n\u001b[0m",
      "\u001b[1;31mAttributeError\u001b[0m: 'GridSearchCV' object has no attribute 'grid_scores_'"
     ]
    }
   ],
   "source": [
    "param_test1 = {\n",
    " 'max_depth':range(3,10,2),\n",
    " 'min_child_weight':range(1,6,2)\n",
    "}\n",
    "\n",
    "\n",
    "\n",
    "gsearch1 = GridSearchCV(estimator = XGBClassifier( learning_rate = 0.1, n_estimators=120, max_depth=5,\n",
    "min_child_weight=1, gamma=0, subsample=0.8, colsample_bytree=0.8,\n",
    "objective= 'reg:logistic', nthread=-1, scale_pos_weight=sum(Y==0)/sum(Y==1), seed=12), \n",
    "param_grid = param_test1, scoring='roc_auc',n_jobs=1,iid=False, cv=5,verbose =2)\n",
    "\n",
    "gsearch1.fit(dftrain[featuresToUse],dftrain[labelToPredict])\n",
    "gsearch1.grid_scores_, gsearch1.best_params_, gsearch1.best_score_"
   ]
  },
  {
   "cell_type": "code",
   "execution_count": 14,
   "metadata": {},
   "outputs": [
    {
     "name": "stderr",
     "output_type": "stream",
     "text": [
      "C:\\Users\\Rens\\Anaconda3\\lib\\site-packages\\sklearn\\utils\\deprecation.py:125: FutureWarning: You are accessing a training score ('split0_train_score'), which will not be available by default any more in 0.21. If you need training scores, please set return_train_score=True\n",
      "  warnings.warn(*warn_args, **warn_kwargs)\n",
      "C:\\Users\\Rens\\Anaconda3\\lib\\site-packages\\sklearn\\utils\\deprecation.py:125: FutureWarning: You are accessing a training score ('split1_train_score'), which will not be available by default any more in 0.21. If you need training scores, please set return_train_score=True\n",
      "  warnings.warn(*warn_args, **warn_kwargs)\n",
      "C:\\Users\\Rens\\Anaconda3\\lib\\site-packages\\sklearn\\utils\\deprecation.py:125: FutureWarning: You are accessing a training score ('split2_train_score'), which will not be available by default any more in 0.21. If you need training scores, please set return_train_score=True\n",
      "  warnings.warn(*warn_args, **warn_kwargs)\n",
      "C:\\Users\\Rens\\Anaconda3\\lib\\site-packages\\sklearn\\utils\\deprecation.py:125: FutureWarning: You are accessing a training score ('split3_train_score'), which will not be available by default any more in 0.21. If you need training scores, please set return_train_score=True\n",
      "  warnings.warn(*warn_args, **warn_kwargs)\n",
      "C:\\Users\\Rens\\Anaconda3\\lib\\site-packages\\sklearn\\utils\\deprecation.py:125: FutureWarning: You are accessing a training score ('split4_train_score'), which will not be available by default any more in 0.21. If you need training scores, please set return_train_score=True\n",
      "  warnings.warn(*warn_args, **warn_kwargs)\n",
      "C:\\Users\\Rens\\Anaconda3\\lib\\site-packages\\sklearn\\utils\\deprecation.py:125: FutureWarning: You are accessing a training score ('mean_train_score'), which will not be available by default any more in 0.21. If you need training scores, please set return_train_score=True\n",
      "  warnings.warn(*warn_args, **warn_kwargs)\n",
      "C:\\Users\\Rens\\Anaconda3\\lib\\site-packages\\sklearn\\utils\\deprecation.py:125: FutureWarning: You are accessing a training score ('std_train_score'), which will not be available by default any more in 0.21. If you need training scores, please set return_train_score=True\n",
      "  warnings.warn(*warn_args, **warn_kwargs)\n"
     ]
    },
    {
     "data": {
      "text/plain": [
       "{'mean_fit_time': array([225.56983967, 255.21629782, 257.57668581, 387.59580064,\n",
       "        389.38441315, 390.01692839, 539.73805776, 539.98241067,\n",
       "        539.52982035, 697.71772671, 695.29160032, 697.29982581]),\n",
       " 'std_fit_time': array([5.25316262, 0.89866657, 1.37081344, 1.41723442, 1.65355861,\n",
       "        3.07007728, 3.95947194, 3.43512732, 1.50952291, 4.73081391,\n",
       "        2.83116214, 5.64930892]),\n",
       " 'mean_score_time': array([1.87859769, 2.18316331, 2.19535475, 2.62139888, 2.69062471,\n",
       "        2.71096969, 3.23377295, 3.21600866, 3.22898507, 4.03182831,\n",
       "        3.90218635, 3.93290329]),\n",
       " 'std_score_time': array([0.15685276, 0.01715887, 0.01483728, 0.02048638, 0.08910174,\n",
       "        0.08331459, 0.0836278 , 0.02649077, 0.03239451, 0.28624974,\n",
       "        0.12028085, 0.12103658]),\n",
       " 'param_max_depth': masked_array(data=[3, 3, 3, 5, 5, 5, 7, 7, 7, 9, 9, 9],\n",
       "              mask=[False, False, False, False, False, False, False, False,\n",
       "                    False, False, False, False],\n",
       "        fill_value='?',\n",
       "             dtype=object),\n",
       " 'param_min_child_weight': masked_array(data=[1, 3, 5, 1, 3, 5, 1, 3, 5, 1, 3, 5],\n",
       "              mask=[False, False, False, False, False, False, False, False,\n",
       "                    False, False, False, False],\n",
       "        fill_value='?',\n",
       "             dtype=object),\n",
       " 'params': [{'max_depth': 3, 'min_child_weight': 1},\n",
       "  {'max_depth': 3, 'min_child_weight': 3},\n",
       "  {'max_depth': 3, 'min_child_weight': 5},\n",
       "  {'max_depth': 5, 'min_child_weight': 1},\n",
       "  {'max_depth': 5, 'min_child_weight': 3},\n",
       "  {'max_depth': 5, 'min_child_weight': 5},\n",
       "  {'max_depth': 7, 'min_child_weight': 1},\n",
       "  {'max_depth': 7, 'min_child_weight': 3},\n",
       "  {'max_depth': 7, 'min_child_weight': 5},\n",
       "  {'max_depth': 9, 'min_child_weight': 1},\n",
       "  {'max_depth': 9, 'min_child_weight': 3},\n",
       "  {'max_depth': 9, 'min_child_weight': 5}],\n",
       " 'split0_test_score': array([0.72574279, 0.72574279, 0.72574279, 0.73245299, 0.73252334,\n",
       "        0.73230208, 0.73615667, 0.73641803, 0.73594437, 0.73616813,\n",
       "        0.73673744, 0.73628277]),\n",
       " 'split1_test_score': array([0.72756577, 0.72756577, 0.72756579, 0.73382473, 0.73398837,\n",
       "        0.73396245, 0.73755385, 0.73778396, 0.7376384 , 0.73709737,\n",
       "        0.736877  , 0.73731746]),\n",
       " 'split2_test_score': array([0.72396224, 0.72396224, 0.72396224, 0.73118192, 0.73125101,\n",
       "        0.73113457, 0.73516035, 0.73499184, 0.73498407, 0.73625713,\n",
       "        0.73619348, 0.73618312]),\n",
       " 'split3_test_score': array([0.72327751, 0.72327751, 0.72327751, 0.73094605, 0.7309192 ,\n",
       "        0.73094821, 0.7348198 , 0.7347223 , 0.73473147, 0.73538236,\n",
       "        0.73455583, 0.73511169]),\n",
       " 'split4_test_score': array([0.72563853, 0.72563853, 0.72563853, 0.73234735, 0.73225826,\n",
       "        0.73223947, 0.73599865, 0.73603998, 0.73572198, 0.73497187,\n",
       "        0.73512968, 0.7357116 ]),\n",
       " 'mean_test_score': array([0.72523737, 0.72523737, 0.72523737, 0.73215061, 0.73218804,\n",
       "        0.73211736, 0.73593786, 0.73599122, 0.73580406, 0.73597537,\n",
       "        0.73589869, 0.73612133]),\n",
       " 'std_test_score': array([0.00150365, 0.00150365, 0.00150366, 0.00103171, 0.00108135,\n",
       "        0.00107575, 0.00095054, 0.00109612, 0.00102118, 0.00073947,\n",
       "        0.00091018, 0.00072771]),\n",
       " 'rank_test_score': array([11, 11, 10,  8,  7,  9,  4,  2,  6,  3,  5,  1]),\n",
       " 'split0_train_score': array([0.72739921, 0.72739921, 0.72739921, 0.74027402, 0.74027632,\n",
       "        0.74019691, 0.76227465, 0.76172822, 0.76199215, 0.8000514 ,\n",
       "        0.8007334 , 0.80045601]),\n",
       " 'split1_train_score': array([0.72717657, 0.72717657, 0.72717655, 0.73986021, 0.73996537,\n",
       "        0.73995956, 0.76198751, 0.76288335, 0.76112222, 0.80014367,\n",
       "        0.79926323, 0.79960321]),\n",
       " 'split2_train_score': array([0.72733095, 0.72733095, 0.72733095, 0.74039383, 0.7403595 ,\n",
       "        0.74037409, 0.76162831, 0.76199078, 0.76248191, 0.80144132,\n",
       "        0.79977914, 0.79976669]),\n",
       " 'split3_train_score': array([0.72720226, 0.72720226, 0.72720226, 0.74075783, 0.74073195,\n",
       "        0.74070979, 0.76246333, 0.76268339, 0.76286942, 0.80212636,\n",
       "        0.80225543, 0.80172492]),\n",
       " 'split4_train_score': array([0.7272258 , 0.7272258 , 0.7272258 , 0.74055315, 0.74076577,\n",
       "        0.74059952, 0.76226553, 0.76253188, 0.76206922, 0.80179507,\n",
       "        0.80078962, 0.79930959]),\n",
       " 'mean_train_score': array([0.72726696, 0.72726696, 0.72726695, 0.74036781, 0.74041978,\n",
       "        0.74036797, 0.76212386, 0.76236353, 0.76210698, 0.80111157,\n",
       "        0.80056416, 0.80017208]),\n",
       " 'std_train_score': array([8.44225825e-05, 8.44225825e-05, 8.44255432e-05, 3.01195890e-04,\n",
       "        2.99288955e-04, 2.70758582e-04, 2.90589695e-04, 4.34378684e-04,\n",
       "        5.84167088e-04, 8.56327728e-04, 1.02455243e-03, 8.62989867e-04])}"
      ]
     },
     "execution_count": 14,
     "metadata": {},
     "output_type": "execute_result"
    }
   ],
   "source": [
    "gsearch1.cv_results_"
   ]
  },
  {
   "cell_type": "markdown",
   "metadata": {},
   "source": [
    "Lets train it on clicking"
   ]
  },
  {
   "cell_type": "code",
   "execution_count": null,
   "metadata": {},
   "outputs": [
    {
     "name": "stdout",
     "output_type": "stream",
     "text": [
      "loading data end, start to boost trees\n",
      "[0]\ttrain-auc:0.696552\ttest-auc:0.696907\n",
      "Multiple eval metrics have been passed: 'test-auc' will be used for early stopping.\n",
      "\n",
      "Will train until test-auc hasn't improved in 15 rounds.\n",
      "[1]\ttrain-auc:0.700899\ttest-auc:0.700484\n",
      "[2]\ttrain-auc:0.703936\ttest-auc:0.702941\n",
      "[3]\ttrain-auc:0.706451\ttest-auc:0.705048\n",
      "[4]\ttrain-auc:0.708164\ttest-auc:0.706813\n",
      "[5]\ttrain-auc:0.709249\ttest-auc:0.707682\n",
      "[6]\ttrain-auc:0.710661\ttest-auc:0.708899\n"
     ]
    }
   ],
   "source": [
    "# construct xgboost.DMatrix from numpy array, treat -999.0 as missing value\n",
    "#xgmat = xgboost.DMatrix( df, label=y_train)\n",
    "\n",
    "# setup parameters for xgboost\n",
    "param = {}\n",
    "# use logistic regression loss, use raw prediction before logistic transformation\n",
    "# since we only need the rank\n",
    "param['objective'] = 'reg:logistic'\n",
    "# scale weight of positive examples\n",
    "param['scale_pos_weight'] = sum(Y==0)/sum(Y==1)\n",
    "param['eta'] = 0.1\n",
    "param['max_depth'] = 6\n",
    "param['eval_metric'] = 'auc'\n",
    "param['silent'] = 0\n",
    "param['eval_set'] = xgmat_test\n",
    "#param['colsample_bytree'] = 0.8\n",
    "\n",
    "\n",
    "# you can directly throw param in, though we want to watch multiple metrics here\n",
    "plst = list(param.items())\n",
    "\n",
    "watchlist = [ (xgmat,'train') ,(xgmat_test,'test')]\n",
    "\n",
    "num_round = 500\n",
    "print ('loading data end, start to boost trees')\n",
    "bst = xgboost.train( plst, xgmat, num_round, watchlist ,early_stopping_rounds=15);\n",
    "# save out model\n",
    "bst.save_model(nameOfModel+\".model\")\n",
    "\n",
    "print ('finish training')\n"
   ]
  },
  {
   "cell_type": "code",
   "execution_count": 23,
   "metadata": {
    "scrolled": true
   },
   "outputs": [
    {
     "data": {
      "text/plain": [
       "<matplotlib.axes._subplots.AxesSubplot at 0x26640735978>"
      ]
     },
     "execution_count": 23,
     "metadata": {},
     "output_type": "execute_result"
    },
    {
     "data": {
      "image/png": "[encoded data removed]",
      "text/plain": [
       "<Figure size 432x288 with 1 Axes>"
      ]
     },
     "metadata": {
      "needs_background": "light"
     },
     "output_type": "display_data"
    }
   ],
   "source": [
    "feat_imp = pd.Series(bst.get_fscore()).sort_values(ascending=False)\n",
    "feat_imp.plot(kind='bar', title='Feature Importances')\n"
   ]
  },
  {
   "cell_type": "code",
   "execution_count": 17,
   "metadata": {},
   "outputs": [],
   "source": [
    "y_pred = bst.predict(xgmat_test)"
   ]
  },
  {
   "cell_type": "code",
   "execution_count": 18,
   "metadata": {},
   "outputs": [],
   "source": [
    "predictions = [round(value) for value in y_pred]\n",
    "df = pd.concat([df,dfNeeded],axis=1)\n",
    "df['y_pred'] = y_pred"
   ]
  },
  {
   "cell_type": "code",
   "execution_count": 19,
   "metadata": {},
   "outputs": [],
   "source": [
    "def getLog(x):\n",
    "    return math.log(x+1,2)\n",
    "def getScore(df):\n",
    "    df['rank_srch_id'] = df.groupby('srch_id').cumcount().add(1)\n",
    "    \n",
    "    df['gain'] = 5*df['booking_bool']\n",
    "    df['gain'] = np.where(df['gain'] == 0, df['click_bool'], df['gain'])\n",
    "    df['log_rank'] = df['rank_srch_id'].apply(getLog)\n",
    "    \n",
    "    df['g/rank'] = df['gain']/df['log_rank']\n",
    "    gi_sum = df['g/rank'].sum()\n",
    "\n",
    "    df['gain_sorted'] = list(df[['srch_id', 'booking_bool', 'click_bool', 'gain']].sort_values(by = ['srch_id','booking_bool','click_bool'], ascending = [True, False, False])['gain'])\n",
    "    df['g/rank_sorted'] = df['gain_sorted']/df['log_rank']\n",
    "    gi_sorted_sum = df['g/rank_sorted'].sum()\n",
    "    \n",
    "    score = gi_sum/gi_sorted_sum\n",
    "\n",
    "    return score, gi_sum, gi_sorted_sum"
   ]
  },
  {
   "cell_type": "code",
   "execution_count": 22,
   "metadata": {
    "scrolled": true
   },
   "outputs": [
    {
     "name": "stdout",
     "output_type": "stream",
     "text": [
      "0.5089782169943571\n",
      "Accuracy: 68.85%\n"
     ]
    }
   ],
   "source": [
    "score, gi_sum, gi_sorted_sum = getScore(df.sort_values(by=['srch_id', 'y_pred'], ascending = [True, False]).reset_index(drop=True))\n",
    "print(score)\n",
    "\n",
    "# evaluate predictions\n",
    "accuracy = accuracy_score(df['click_bool'], predictions)\n",
    "print(\"Accuracy: %.2f%%\" % (accuracy * 100.0))"
   ]
  },
  {
   "cell_type": "code",
   "execution_count": 21,
   "metadata": {},
   "outputs": [
    {
     "ename": "TypeError",
     "evalue": "Object of type 'DMatrix' is not JSON serializable",
     "output_type": "error",
     "traceback": [
      "\u001b[1;31m---------------------------------------------------------------------------\u001b[0m",
      "\u001b[1;31mTypeError\u001b[0m                                 Traceback (most recent call last)",
      "\u001b[1;32m<ipython-input-21-5dfe6e37d5bf>\u001b[0m in \u001b[0;36m<module>\u001b[1;34m\u001b[0m\n\u001b[0;32m      5\u001b[0m \u001b[0mf\u001b[0m\u001b[1;33m.\u001b[0m\u001b[0mwrite\u001b[0m\u001b[1;33m(\u001b[0m\u001b[0mstr\u001b[0m\u001b[1;33m(\u001b[0m\u001b[0mlist\u001b[0m\u001b[1;33m(\u001b[0m\u001b[0mfeaturesToUse\u001b[0m\u001b[1;33m)\u001b[0m\u001b[1;33m)\u001b[0m \u001b[1;33m+\u001b[0m\u001b[1;34m\"\\n\"\u001b[0m\u001b[1;33m)\u001b[0m\u001b[1;33m\u001b[0m\u001b[1;33m\u001b[0m\u001b[0m\n\u001b[0;32m      6\u001b[0m \u001b[0mf\u001b[0m\u001b[1;33m.\u001b[0m\u001b[0mwrite\u001b[0m\u001b[1;33m(\u001b[0m\u001b[1;34m\"Parameters xgboost:\\n\"\u001b[0m\u001b[1;33m)\u001b[0m\u001b[1;33m\u001b[0m\u001b[1;33m\u001b[0m\u001b[0m\n\u001b[1;32m----> 7\u001b[1;33m \u001b[0mf\u001b[0m\u001b[1;33m.\u001b[0m\u001b[0mwrite\u001b[0m\u001b[1;33m(\u001b[0m\u001b[0mstr\u001b[0m\u001b[1;33m(\u001b[0m\u001b[0mjson\u001b[0m\u001b[1;33m.\u001b[0m\u001b[0mdumps\u001b[0m\u001b[1;33m(\u001b[0m\u001b[0mparam\u001b[0m\u001b[1;33m)\u001b[0m\u001b[1;33m)\u001b[0m\u001b[1;33m+\u001b[0m\u001b[1;34m\"\\n\"\u001b[0m\u001b[1;33m)\u001b[0m\u001b[1;33m\u001b[0m\u001b[1;33m\u001b[0m\u001b[0m\n\u001b[0m\u001b[0;32m      8\u001b[0m \u001b[0mf\u001b[0m\u001b[1;33m.\u001b[0m\u001b[0mwrite\u001b[0m\u001b[1;33m(\u001b[0m\u001b[1;34m\"Number of rounds:\\n\"\u001b[0m\u001b[1;33m+\u001b[0m\u001b[0mstr\u001b[0m\u001b[1;33m(\u001b[0m\u001b[0mnum_round\u001b[0m\u001b[1;33m)\u001b[0m\u001b[1;33m+\u001b[0m\u001b[1;34m\"\\n\"\u001b[0m\u001b[1;33m)\u001b[0m\u001b[1;33m\u001b[0m\u001b[1;33m\u001b[0m\u001b[0m\n\u001b[0;32m      9\u001b[0m \u001b[0mf\u001b[0m\u001b[1;33m.\u001b[0m\u001b[0mclose\u001b[0m\u001b[1;33m(\u001b[0m\u001b[1;33m)\u001b[0m\u001b[1;33m\u001b[0m\u001b[1;33m\u001b[0m\u001b[0m\n",
      "\u001b[1;32mE:\\Anaconda\\lib\\json\\__init__.py\u001b[0m in \u001b[0;36mdumps\u001b[1;34m(obj, skipkeys, ensure_ascii, check_circular, allow_nan, cls, indent, separators, default, sort_keys, **kw)\u001b[0m\n\u001b[0;32m    229\u001b[0m         \u001b[0mcls\u001b[0m \u001b[1;32mis\u001b[0m \u001b[1;32mNone\u001b[0m \u001b[1;32mand\u001b[0m \u001b[0mindent\u001b[0m \u001b[1;32mis\u001b[0m \u001b[1;32mNone\u001b[0m \u001b[1;32mand\u001b[0m \u001b[0mseparators\u001b[0m \u001b[1;32mis\u001b[0m \u001b[1;32mNone\u001b[0m \u001b[1;32mand\u001b[0m\u001b[1;33m\u001b[0m\u001b[1;33m\u001b[0m\u001b[0m\n\u001b[0;32m    230\u001b[0m         default is None and not sort_keys and not kw):\n\u001b[1;32m--> 231\u001b[1;33m         \u001b[1;32mreturn\u001b[0m \u001b[0m_default_encoder\u001b[0m\u001b[1;33m.\u001b[0m\u001b[0mencode\u001b[0m\u001b[1;33m(\u001b[0m\u001b[0mobj\u001b[0m\u001b[1;33m)\u001b[0m\u001b[1;33m\u001b[0m\u001b[1;33m\u001b[0m\u001b[0m\n\u001b[0m\u001b[0;32m    232\u001b[0m     \u001b[1;32mif\u001b[0m \u001b[0mcls\u001b[0m \u001b[1;32mis\u001b[0m \u001b[1;32mNone\u001b[0m\u001b[1;33m:\u001b[0m\u001b[1;33m\u001b[0m\u001b[1;33m\u001b[0m\u001b[0m\n\u001b[0;32m    233\u001b[0m         \u001b[0mcls\u001b[0m \u001b[1;33m=\u001b[0m \u001b[0mJSONEncoder\u001b[0m\u001b[1;33m\u001b[0m\u001b[1;33m\u001b[0m\u001b[0m\n",
      "\u001b[1;32mE:\\Anaconda\\lib\\json\\encoder.py\u001b[0m in \u001b[0;36mencode\u001b[1;34m(self, o)\u001b[0m\n\u001b[0;32m    197\u001b[0m         \u001b[1;31m# exceptions aren't as detailed.  The list call should be roughly\u001b[0m\u001b[1;33m\u001b[0m\u001b[1;33m\u001b[0m\u001b[1;33m\u001b[0m\u001b[0m\n\u001b[0;32m    198\u001b[0m         \u001b[1;31m# equivalent to the PySequence_Fast that ''.join() would do.\u001b[0m\u001b[1;33m\u001b[0m\u001b[1;33m\u001b[0m\u001b[1;33m\u001b[0m\u001b[0m\n\u001b[1;32m--> 199\u001b[1;33m         \u001b[0mchunks\u001b[0m \u001b[1;33m=\u001b[0m \u001b[0mself\u001b[0m\u001b[1;33m.\u001b[0m\u001b[0miterencode\u001b[0m\u001b[1;33m(\u001b[0m\u001b[0mo\u001b[0m\u001b[1;33m,\u001b[0m \u001b[0m_one_shot\u001b[0m\u001b[1;33m=\u001b[0m\u001b[1;32mTrue\u001b[0m\u001b[1;33m)\u001b[0m\u001b[1;33m\u001b[0m\u001b[1;33m\u001b[0m\u001b[0m\n\u001b[0m\u001b[0;32m    200\u001b[0m         \u001b[1;32mif\u001b[0m \u001b[1;32mnot\u001b[0m \u001b[0misinstance\u001b[0m\u001b[1;33m(\u001b[0m\u001b[0mchunks\u001b[0m\u001b[1;33m,\u001b[0m \u001b[1;33m(\u001b[0m\u001b[0mlist\u001b[0m\u001b[1;33m,\u001b[0m \u001b[0mtuple\u001b[0m\u001b[1;33m)\u001b[0m\u001b[1;33m)\u001b[0m\u001b[1;33m:\u001b[0m\u001b[1;33m\u001b[0m\u001b[1;33m\u001b[0m\u001b[0m\n\u001b[0;32m    201\u001b[0m             \u001b[0mchunks\u001b[0m \u001b[1;33m=\u001b[0m \u001b[0mlist\u001b[0m\u001b[1;33m(\u001b[0m\u001b[0mchunks\u001b[0m\u001b[1;33m)\u001b[0m\u001b[1;33m\u001b[0m\u001b[1;33m\u001b[0m\u001b[0m\n",
      "\u001b[1;32mE:\\Anaconda\\lib\\json\\encoder.py\u001b[0m in \u001b[0;36miterencode\u001b[1;34m(self, o, _one_shot)\u001b[0m\n\u001b[0;32m    255\u001b[0m                 \u001b[0mself\u001b[0m\u001b[1;33m.\u001b[0m\u001b[0mkey_separator\u001b[0m\u001b[1;33m,\u001b[0m \u001b[0mself\u001b[0m\u001b[1;33m.\u001b[0m\u001b[0mitem_separator\u001b[0m\u001b[1;33m,\u001b[0m \u001b[0mself\u001b[0m\u001b[1;33m.\u001b[0m\u001b[0msort_keys\u001b[0m\u001b[1;33m,\u001b[0m\u001b[1;33m\u001b[0m\u001b[1;33m\u001b[0m\u001b[0m\n\u001b[0;32m    256\u001b[0m                 self.skipkeys, _one_shot)\n\u001b[1;32m--> 257\u001b[1;33m         \u001b[1;32mreturn\u001b[0m \u001b[0m_iterencode\u001b[0m\u001b[1;33m(\u001b[0m\u001b[0mo\u001b[0m\u001b[1;33m,\u001b[0m \u001b[1;36m0\u001b[0m\u001b[1;33m)\u001b[0m\u001b[1;33m\u001b[0m\u001b[1;33m\u001b[0m\u001b[0m\n\u001b[0m\u001b[0;32m    258\u001b[0m \u001b[1;33m\u001b[0m\u001b[0m\n\u001b[0;32m    259\u001b[0m def _make_iterencode(markers, _default, _encoder, _indent, _floatstr,\n",
      "\u001b[1;32mE:\\Anaconda\\lib\\json\\encoder.py\u001b[0m in \u001b[0;36mdefault\u001b[1;34m(self, o)\u001b[0m\n\u001b[0;32m    178\u001b[0m         \"\"\"\n\u001b[0;32m    179\u001b[0m         raise TypeError(\"Object of type '%s' is not JSON serializable\" %\n\u001b[1;32m--> 180\u001b[1;33m                         o.__class__.__name__)\n\u001b[0m\u001b[0;32m    181\u001b[0m \u001b[1;33m\u001b[0m\u001b[0m\n\u001b[0;32m    182\u001b[0m     \u001b[1;32mdef\u001b[0m \u001b[0mencode\u001b[0m\u001b[1;33m(\u001b[0m\u001b[0mself\u001b[0m\u001b[1;33m,\u001b[0m \u001b[0mo\u001b[0m\u001b[1;33m)\u001b[0m\u001b[1;33m:\u001b[0m\u001b[1;33m\u001b[0m\u001b[1;33m\u001b[0m\u001b[0m\n",
      "\u001b[1;31mTypeError\u001b[0m: Object of type 'DMatrix' is not JSON serializable"
     ]
    }
   ],
   "source": [
    "f=open(\"scores.txt\", \"a+\")\n",
    "f.write(\"Score: \"+str(score)+\"\\n\")\n",
    "f.write(\"Label to predict: \"+str(labelToPredict)+\"\\n\")\n",
    "f.write(\"Features used:\\n\")\n",
    "f.write(str(list(featuresToUse)) +\"\\n\")\n",
    "f.write(\"Parameters xgboost:\\n\")\n",
    "f.write(str(json.dumps(param))+\"\\n\")\n",
    "f.write(\"Number of rounds:\\n\"+str(num_round)+\"\\n\")\n",
    "f.close()"
   ]
  },
  {
   "cell_type": "code",
   "execution_count": 24,
   "metadata": {},
   "outputs": [],
   "source": [
    "os.rename(nameOfModel+\".model\",nameOfModel+str(int(score*100))+\".model\")\n",
    "newNameOfModel = nameOfModel+str(int(score*100))"
   ]
  },
  {
   "cell_type": "markdown",
   "metadata": {},
   "source": [
    "Lets combine the models"
   ]
  },
  {
   "cell_type": "code",
   "execution_count": 3,
   "metadata": {},
   "outputs": [],
   "source": [
    "clickingModel = xgboost.Booster()\n",
    "clickingModel.load_model('models/10mayClicking50074.model')\n",
    "bookingModel = xgboost.Booster()\n",
    "bookingModel.load_model(\"models/9mayBooking74.model\")"
   ]
  },
  {
   "cell_type": "code",
   "execution_count": 4,
   "metadata": {},
   "outputs": [],
   "source": [
    "df = pd.read_csv('../data/20PercentTestWithMean.csv', delimiter=\",\",usecols=featuresToUse+[labelToPredict]+neededVars)\n",
    "dfNeeded= df[neededVars+[labelToPredict]]\n",
    "df.drop(neededVars+[labelToPredict],axis=1,inplace=True)"
   ]
  },
  {
   "cell_type": "code",
   "execution_count": 5,
   "metadata": {},
   "outputs": [],
   "source": [
    "xgmat_test = xgboost.DMatrix( df)\n",
    "y_pred_clicking = clickingModel.predict(xgmat_test)\n",
    "y_pred_booking = bookingModel.predict(xgmat_test)"
   ]
  },
  {
   "cell_type": "code",
   "execution_count": 6,
   "metadata": {},
   "outputs": [],
   "source": [
    "df = pd.concat([df,dfNeeded],axis=1)\n",
    "df['y_pred_clicking'] = y_pred_clicking\n",
    "df['y_pred_booking'] = y_pred_booking\n",
    "df['combined'] = y_pred_booking+y_pred_clicking"
   ]
  },
  {
   "cell_type": "code",
   "execution_count": 9,
   "metadata": {},
   "outputs": [
    {
     "name": "stdout",
     "output_type": "stream",
     "text": [
      "Sort first on booking and then on clicking: 0.7482338410691464\n",
      "Combine then sort: 0.7518651972072667\n"
     ]
    }
   ],
   "source": [
    "score_apart, gi_sum, gi_sorted_sum = getScore(df.sort_values(by=['srch_id', 'y_pred_booking', 'y_pred_clicking'], ascending = [True, False,False]).reset_index(drop=True))\n",
    "score_combined, gi_sum, gi_sorted_sum = getScore(df.sort_values(by=['srch_id', 'combined'], ascending = [True, False]).reset_index(drop=True))\n",
    "print(\"Sort first on booking and then on clicking: \"+str(score_apart))\n",
    "print(\"Combine then sort: \"+str(score_combined))"
   ]
  },
  {
   "cell_type": "markdown",
   "metadata": {},
   "source": [
    "Evaluation"
   ]
  },
  {
   "cell_type": "code",
   "execution_count": 3,
   "metadata": {},
   "outputs": [],
   "source": [
    "dfTest = pd.read_csv(\"../data/testWithMean.csv\")"
   ]
  },
  {
   "cell_type": "code",
   "execution_count": 4,
   "metadata": {},
   "outputs": [],
   "source": [
    "clickingModel = xgboost.Booster()\n",
    "clickingModel.load_model(\"models/10mayClickingOverFitTest50.model\")\n",
    "#bookingModel = xgboost.Booster()\n",
    "#bookingModel.load_model(\"models/9mayBooking74.model\")"
   ]
  },
  {
   "cell_type": "code",
   "execution_count": 5,
   "metadata": {},
   "outputs": [],
   "source": [
    "xgmat_test_submission = xgboost.DMatrix(dfTest[featuresToUse])\n",
    "y_pred_clicking = clickingModel.predict(xgmat_test_submission)\n",
    "#_pred_booking = bookingModel.predict(xgmat_test_submission)\n",
    "dfTest['predictedPos'] = y_pred_clicking#+y_pred_booking\n",
    "dfTest = dfTest.sort_values(['srch_id','predictedPos'],ascending=[True, False])\n",
    "dfSubmission = dfTest[['srch_id','prop_id']]\n",
    "dfSubmission.to_csv(\"submissionTest10yFinal.csv\",index=False)"
   ]
  }
 ],
 "metadata": {
  "kernelspec": {
   "display_name": "Python 3",
   "language": "python",
   "name": "python3"
  },
  "language_info": {
   "codemirror_mode": {
    "name": "ipython",
    "version": 3
   },
   "file_extension": ".py",
   "mimetype": "text/x-python",
   "name": "python",
   "nbconvert_exporter": "python",
   "pygments_lexer": "ipython3",
   "version": "3.6.5"
  }
 },
 "nbformat": 4,
 "nbformat_minor": 2
}
