{
 "cells": [
  {
   "cell_type": "code",
   "execution_count": 2,
   "metadata": {},
   "outputs": [],
   "source": [
    "import pandas as pd\n",
    "import numpy as np\n",
    "import sklearn\n",
    "from xgboost import XGBClassifier\n",
    "import xgboost\n",
    "from collections import Counter\n",
    "from sklearn.model_selection import train_test_split\n",
    "from sklearn.metrics import accuracy_score\n",
    "from sklearn.metrics import classification_report\n",
    "from xgboost.sklearn import XGBClassifier\n",
    "from sklearn import metrics   #Additional scklearn functions\n",
    "from sklearn.model_selection import cross_validate,GridSearchCV\n",
    "\n",
    "import pickle\n",
    "from sklearn.utils import shuffle\n",
    "import json\n",
    "import os\n",
    "from xgboost import XGBClassifier\n",
    "from matplotlib import pyplot\n",
    "import matplotlib.pylab as plt\n",
    "%matplotlib inline\n",
    "import math"
   ]
  },
  {
   "cell_type": "code",
   "execution_count": 3,
   "metadata": {},
   "outputs": [],
   "source": [
    "#Don't use datetime, Don't use categorical features, xgboost doesn't do those, first one hot encode\n",
    "featuresToUse = ['visitor_hist_starrating', 'visitor_hist_adr_usd',\n",
    "       'prop_starrating', 'prop_review_score', 'prop_brand_bool',\n",
    "       'prop_location_score1', 'prop_location_score2',\n",
    "       'prop_log_historical_price', 'price_usd', 'promotion_flag',\n",
    "       'srch_length_of_stay', 'srch_booking_window',\n",
    "       'srch_adults_count', 'srch_children_count', 'srch_room_count',\n",
    "       'srch_saturday_night_bool', 'srch_query_affinity_score',\n",
    "       'orig_destination_distance', 'comp1_rate', 'comp1_inv',\n",
    "                 'mean_prop_starrating',\n",
    "       'mean_prop_review_score', 'mean_prop_brand_bool',\n",
    "       'mean_prop_location_score1', 'mean_prop_location_score2',   'mean_prop_log_historical_price','cluster__0','cluster__1','cluster__2','cluster__3','cluster__4','cluster__5','diff_distance_orig','diff_price_usd']\n",
    "labelToPredict = 'booking_bool'\n",
    "neededVars = ['srch_id','click_bool']\n",
    "nameOfModel = \"models/10mayClickingOverFitTest\""
   ]
  },
  {
   "cell_type": "code",
   "execution_count": 6,
   "metadata": {},
   "outputs": [],
   "source": [
    "dftrain = pd.read_csv('../data/80PercentTrainWithMeanNoShuffle.csv', delimiter=\",\",usecols=featuresToUse+[labelToPredict]+neededVars)\n",
    "dftrain = dftrain.sample(frac=0.2)\n",
    "Y = dftrain[labelToPredict]"
   ]
  },
  {
   "cell_type": "code",
   "execution_count": null,
   "metadata": {},
   "outputs": [
    {
     "name": "stdout",
     "output_type": "stream",
     "text": [
      "Fitting 3 folds for each of 2880 candidates, totalling 8640 fits\n"
     ]
    },
    {
     "name": "stderr",
     "output_type": "stream",
     "text": [
      "[Parallel(n_jobs=3)]: Using backend LokyBackend with 3 concurrent workers.\n"
     ]
    }
   ],
   "source": [
    "param_test1 = {\n",
    " 'max_depth':range(3,15,2),\n",
    " 'min_child_weight':range(1,12,2),\n",
    " 'subsample':[i/10.0 for i in range(6,10)],\n",
    " 'colsample_bytree':[i/10.0 for i in range(6,10)],\n",
    " 'gamma':[i/10.0 for i in range(0,5)]\n",
    "}\n",
    "\n",
    "\n",
    "\n",
    "gsearch1 = GridSearchCV(estimator = XGBClassifier( learning_rate = 0.1, n_estimators=120, max_depth=5,\n",
    "min_child_weight=1, gamma=0, subsample=0.8, colsample_bytree=0.8,\n",
    "objective= 'reg:logistic', nthread=-1, scale_pos_weight=sum(Y==0)/sum(Y==1), seed=12), \n",
    "param_grid = param_test1, scoring='roc_auc',n_jobs=3,iid=False, cv=3,verbose =2)\n",
    "\n",
    "gsearch1.fit(dftrain[featuresToUse],dftrain[labelToPredict])\n",
    "gsearch1.grid_scores_, gsearch1.best_params_, gsearch1.best_score_"
   ]
  },
  {
   "cell_type": "code",
   "execution_count": 14,
   "metadata": {},
   "outputs": [
    {
     "name": "stderr",
     "output_type": "stream",
     "text": [
      "C:\\Users\\Rens\\Anaconda3\\lib\\site-packages\\sklearn\\utils\\deprecation.py:125: FutureWarning: You are accessing a training score ('split0_train_score'), which will not be available by default any more in 0.21. If you need training scores, please set return_train_score=True\n",
      "  warnings.warn(*warn_args, **warn_kwargs)\n",
      "C:\\Users\\Rens\\Anaconda3\\lib\\site-packages\\sklearn\\utils\\deprecation.py:125: FutureWarning: You are accessing a training score ('split1_train_score'), which will not be available by default any more in 0.21. If you need training scores, please set return_train_score=True\n",
      "  warnings.warn(*warn_args, **warn_kwargs)\n",
      "C:\\Users\\Rens\\Anaconda3\\lib\\site-packages\\sklearn\\utils\\deprecation.py:125: FutureWarning: You are accessing a training score ('split2_train_score'), which will not be available by default any more in 0.21. If you need training scores, please set return_train_score=True\n",
      "  warnings.warn(*warn_args, **warn_kwargs)\n",
      "C:\\Users\\Rens\\Anaconda3\\lib\\site-packages\\sklearn\\utils\\deprecation.py:125: FutureWarning: You are accessing a training score ('split3_train_score'), which will not be available by default any more in 0.21. If you need training scores, please set return_train_score=True\n",
      "  warnings.warn(*warn_args, **warn_kwargs)\n",
      "C:\\Users\\Rens\\Anaconda3\\lib\\site-packages\\sklearn\\utils\\deprecation.py:125: FutureWarning: You are accessing a training score ('split4_train_score'), which will not be available by default any more in 0.21. If you need training scores, please set return_train_score=True\n",
      "  warnings.warn(*warn_args, **warn_kwargs)\n",
      "C:\\Users\\Rens\\Anaconda3\\lib\\site-packages\\sklearn\\utils\\deprecation.py:125: FutureWarning: You are accessing a training score ('mean_train_score'), which will not be available by default any more in 0.21. If you need training scores, please set return_train_score=True\n",
      "  warnings.warn(*warn_args, **warn_kwargs)\n",
      "C:\\Users\\Rens\\Anaconda3\\lib\\site-packages\\sklearn\\utils\\deprecation.py:125: FutureWarning: You are accessing a training score ('std_train_score'), which will not be available by default any more in 0.21. If you need training scores, please set return_train_score=True\n",
      "  warnings.warn(*warn_args, **warn_kwargs)\n"
     ]
    },
    {
     "data": {
      "text/plain": [
       "{'mean_fit_time': array([225.56983967, 255.21629782, 257.57668581, 387.59580064,\n",
       "        389.38441315, 390.01692839, 539.73805776, 539.98241067,\n",
       "        539.52982035, 697.71772671, 695.29160032, 697.29982581]),\n",
       " 'std_fit_time': array([5.25316262, 0.89866657, 1.37081344, 1.41723442, 1.65355861,\n",
       "        3.07007728, 3.95947194, 3.43512732, 1.50952291, 4.73081391,\n",
       "        2.83116214, 5.64930892]),\n",
       " 'mean_score_time': array([1.87859769, 2.18316331, 2.19535475, 2.62139888, 2.69062471,\n",
       "        2.71096969, 3.23377295, 3.21600866, 3.22898507, 4.03182831,\n",
       "        3.90218635, 3.93290329]),\n",
       " 'std_score_time': array([0.15685276, 0.01715887, 0.01483728, 0.02048638, 0.08910174,\n",
       "        0.08331459, 0.0836278 , 0.02649077, 0.03239451, 0.28624974,\n",
       "        0.12028085, 0.12103658]),\n",
       " 'param_max_depth': masked_array(data=[3, 3, 3, 5, 5, 5, 7, 7, 7, 9, 9, 9],\n",
       "              mask=[False, False, False, False, False, False, False, False,\n",
       "                    False, False, False, False],\n",
       "        fill_value='?',\n",
       "             dtype=object),\n",
       " 'param_min_child_weight': masked_array(data=[1, 3, 5, 1, 3, 5, 1, 3, 5, 1, 3, 5],\n",
       "              mask=[False, False, False, False, False, False, False, False,\n",
       "                    False, False, False, False],\n",
       "        fill_value='?',\n",
       "             dtype=object),\n",
       " 'params': [{'max_depth': 3, 'min_child_weight': 1},\n",
       "  {'max_depth': 3, 'min_child_weight': 3},\n",
       "  {'max_depth': 3, 'min_child_weight': 5},\n",
       "  {'max_depth': 5, 'min_child_weight': 1},\n",
       "  {'max_depth': 5, 'min_child_weight': 3},\n",
       "  {'max_depth': 5, 'min_child_weight': 5},\n",
       "  {'max_depth': 7, 'min_child_weight': 1},\n",
       "  {'max_depth': 7, 'min_child_weight': 3},\n",
       "  {'max_depth': 7, 'min_child_weight': 5},\n",
       "  {'max_depth': 9, 'min_child_weight': 1},\n",
       "  {'max_depth': 9, 'min_child_weight': 3},\n",
       "  {'max_depth': 9, 'min_child_weight': 5}],\n",
       " 'split0_test_score': array([0.72574279, 0.72574279, 0.72574279, 0.73245299, 0.73252334,\n",
       "        0.73230208, 0.73615667, 0.73641803, 0.73594437, 0.73616813,\n",
       "        0.73673744, 0.73628277]),\n",
       " 'split1_test_score': array([0.72756577, 0.72756577, 0.72756579, 0.73382473, 0.73398837,\n",
       "        0.73396245, 0.73755385, 0.73778396, 0.7376384 , 0.73709737,\n",
       "        0.736877  , 0.73731746]),\n",
       " 'split2_test_score': array([0.72396224, 0.72396224, 0.72396224, 0.73118192, 0.73125101,\n",
       "        0.73113457, 0.73516035, 0.73499184, 0.73498407, 0.73625713,\n",
       "        0.73619348, 0.73618312]),\n",
       " 'split3_test_score': array([0.72327751, 0.72327751, 0.72327751, 0.73094605, 0.7309192 ,\n",
       "        0.73094821, 0.7348198 , 0.7347223 , 0.73473147, 0.73538236,\n",
       "        0.73455583, 0.73511169]),\n",
       " 'split4_test_score': array([0.72563853, 0.72563853, 0.72563853, 0.73234735, 0.73225826,\n",
       "        0.73223947, 0.73599865, 0.73603998, 0.73572198, 0.73497187,\n",
       "        0.73512968, 0.7357116 ]),\n",
       " 'mean_test_score': array([0.72523737, 0.72523737, 0.72523737, 0.73215061, 0.73218804,\n",
       "        0.73211736, 0.73593786, 0.73599122, 0.73580406, 0.73597537,\n",
       "        0.73589869, 0.73612133]),\n",
       " 'std_test_score': array([0.00150365, 0.00150365, 0.00150366, 0.00103171, 0.00108135,\n",
       "        0.00107575, 0.00095054, 0.00109612, 0.00102118, 0.00073947,\n",
       "        0.00091018, 0.00072771]),\n",
       " 'rank_test_score': array([11, 11, 10,  8,  7,  9,  4,  2,  6,  3,  5,  1]),\n",
       " 'split0_train_score': array([0.72739921, 0.72739921, 0.72739921, 0.74027402, 0.74027632,\n",
       "        0.74019691, 0.76227465, 0.76172822, 0.76199215, 0.8000514 ,\n",
       "        0.8007334 , 0.80045601]),\n",
       " 'split1_train_score': array([0.72717657, 0.72717657, 0.72717655, 0.73986021, 0.73996537,\n",
       "        0.73995956, 0.76198751, 0.76288335, 0.76112222, 0.80014367,\n",
       "        0.79926323, 0.79960321]),\n",
       " 'split2_train_score': array([0.72733095, 0.72733095, 0.72733095, 0.74039383, 0.7403595 ,\n",
       "        0.74037409, 0.76162831, 0.76199078, 0.76248191, 0.80144132,\n",
       "        0.79977914, 0.79976669]),\n",
       " 'split3_train_score': array([0.72720226, 0.72720226, 0.72720226, 0.74075783, 0.74073195,\n",
       "        0.74070979, 0.76246333, 0.76268339, 0.76286942, 0.80212636,\n",
       "        0.80225543, 0.80172492]),\n",
       " 'split4_train_score': array([0.7272258 , 0.7272258 , 0.7272258 , 0.74055315, 0.74076577,\n",
       "        0.74059952, 0.76226553, 0.76253188, 0.76206922, 0.80179507,\n",
       "        0.80078962, 0.79930959]),\n",
       " 'mean_train_score': array([0.72726696, 0.72726696, 0.72726695, 0.74036781, 0.74041978,\n",
       "        0.74036797, 0.76212386, 0.76236353, 0.76210698, 0.80111157,\n",
       "        0.80056416, 0.80017208]),\n",
       " 'std_train_score': array([8.44225825e-05, 8.44225825e-05, 8.44255432e-05, 3.01195890e-04,\n",
       "        2.99288955e-04, 2.70758582e-04, 2.90589695e-04, 4.34378684e-04,\n",
       "        5.84167088e-04, 8.56327728e-04, 1.02455243e-03, 8.62989867e-04])}"
      ]
     },
     "execution_count": 14,
     "metadata": {},
     "output_type": "execute_result"
    }
   ],
   "source": [
    "gsearch1.cv_results_"
   ]
  }
 ],
 "metadata": {
  "kernelspec": {
   "display_name": "Python 3",
   "language": "python",
   "name": "python3"
  },
  "language_info": {
   "codemirror_mode": {
    "name": "ipython",
    "version": 3
   },
   "file_extension": ".py",
   "mimetype": "text/x-python",
   "name": "python",
   "nbconvert_exporter": "python",
   "pygments_lexer": "ipython3",
   "version": "3.6.8"
  }
 },
 "nbformat": 4,
 "nbformat_minor": 2
}
