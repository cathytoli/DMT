{
 "cells": [
  {
   "cell_type": "code",
   "execution_count": 1,
   "metadata": {},
   "outputs": [],
   "source": [
    "import pandas as pd\n",
    "import numpy as np\n",
    "import sklearn\n",
    "from xgboost import XGBClassifier\n",
    "import xgboost\n",
    "from collections import Counter\n",
    "from sklearn.model_selection import train_test_split\n",
    "from sklearn.metrics import accuracy_score\n",
    "from sklearn.metrics import classification_report\n",
    "import pickle\n",
    "from sklearn.utils import shuffle\n",
    "import json\n",
    "import os"
   ]
  },
  {
   "cell_type": "code",
   "execution_count": 2,
   "metadata": {},
   "outputs": [],
   "source": [
    "#Don't use datetime, Don't use categorical features, xgboost doesn't do those, first one hot encode\n",
    "featuresToUse = ['visitor_hist_starrating', 'visitor_hist_adr_usd',\n",
    "       'prop_starrating', 'prop_review_score', 'prop_brand_bool',\n",
    "       'prop_location_score1', 'prop_location_score2',\n",
    "       'prop_log_historical_price', 'price_usd', 'promotion_flag',\n",
    "       'srch_destination_id', 'srch_length_of_stay', 'srch_booking_window',\n",
    "       'srch_adults_count', 'srch_children_count', 'srch_room_count',\n",
    "       'srch_saturday_night_bool', 'srch_query_affinity_score',\n",
    "       'orig_destination_distance', 'comp1_rate', 'comp1_inv',\n",
    "                 'mean_prop_starrating',\n",
    "       'mean_prop_review_score', 'mean_prop_brand_bool',\n",
    "       'mean_prop_location_score1', 'mean_prop_location_score2',\n",
    "       'mean_prop_log_historical_price','cluster__0','cluster__1','cluster__2','cluster__3','cluster__4','cluster__5']\n",
    "labelToPredict = 'click_bool'\n",
    "neededVars = ['srch_id','booking_bool']\n",
    "nameOfModel = \"models/6mayClicking\""
   ]
  },
  {
   "cell_type": "code",
   "execution_count": 3,
   "metadata": {},
   "outputs": [],
   "source": [
    "df = pd.read_csv('../data/80PercentTrainWithMean.csv', delimiter=\",\",usecols=featuresToUse+[labelToPredict]+neededVars)\n",
    "dfNeeded= df[neededVars+[labelToPredict]]\n",
    "Y = df[labelToPredict]\n",
    "df.drop(neededVars+[labelToPredict],axis=1,inplace=True)"
   ]
  },
  {
   "cell_type": "markdown",
   "metadata": {},
   "source": [
    "Lets train it on clicking"
   ]
  },
  {
   "cell_type": "code",
   "execution_count": 4,
   "metadata": {},
   "outputs": [
    {
     "name": "stderr",
     "output_type": "stream",
     "text": [
      "E:\\Anaconda\\lib\\site-packages\\xgboost\\core.py:587: FutureWarning: Series.base is deprecated and will be removed in a future version\n",
      "  if getattr(data, 'base', None) is not None and \\\n",
      "E:\\Anaconda\\lib\\site-packages\\xgboost\\core.py:588: FutureWarning: Series.base is deprecated and will be removed in a future version\n",
      "  data.base is not None and isinstance(data, np.ndarray) \\\n"
     ]
    },
    {
     "name": "stdout",
     "output_type": "stream",
     "text": [
      "loading data end, start to boost trees\n",
      "[0]\ttrain-auc:0.662562\n",
      "Will train until train-auc hasn't improved in 5 rounds.\n",
      "[1]\ttrain-auc:0.66598\n",
      "[2]\ttrain-auc:0.668347\n",
      "[3]\ttrain-auc:0.669773\n",
      "[4]\ttrain-auc:0.671129\n",
      "[5]\ttrain-auc:0.671667\n",
      "[6]\ttrain-auc:0.672555\n",
      "[7]\ttrain-auc:0.673166\n",
      "[8]\ttrain-auc:0.673863\n",
      "[9]\ttrain-auc:0.674693\n",
      "[10]\ttrain-auc:0.675596\n",
      "[11]\ttrain-auc:0.676143\n",
      "[12]\ttrain-auc:0.676632\n",
      "[13]\ttrain-auc:0.677516\n",
      "[14]\ttrain-auc:0.678034\n",
      "[15]\ttrain-auc:0.67859\n",
      "[16]\ttrain-auc:0.679214\n",
      "[17]\ttrain-auc:0.680174\n",
      "[18]\ttrain-auc:0.680688\n",
      "[19]\ttrain-auc:0.681162\n",
      "[20]\ttrain-auc:0.681978\n",
      "[21]\ttrain-auc:0.682489\n",
      "[22]\ttrain-auc:0.683011\n",
      "[23]\ttrain-auc:0.683509\n",
      "[24]\ttrain-auc:0.684037\n",
      "[25]\ttrain-auc:0.684393\n",
      "[26]\ttrain-auc:0.684963\n",
      "[27]\ttrain-auc:0.685668\n",
      "[28]\ttrain-auc:0.686203\n",
      "[29]\ttrain-auc:0.686584\n",
      "[30]\ttrain-auc:0.687067\n",
      "[31]\ttrain-auc:0.687406\n",
      "[32]\ttrain-auc:0.687982\n",
      "[33]\ttrain-auc:0.688366\n",
      "[34]\ttrain-auc:0.688614\n",
      "[35]\ttrain-auc:0.689091\n",
      "[36]\ttrain-auc:0.689415\n",
      "[37]\ttrain-auc:0.68976\n",
      "[38]\ttrain-auc:0.690103\n",
      "[39]\ttrain-auc:0.690403\n",
      "[40]\ttrain-auc:0.690736\n",
      "[41]\ttrain-auc:0.691123\n",
      "[42]\ttrain-auc:0.691369\n",
      "[43]\ttrain-auc:0.691645\n",
      "[44]\ttrain-auc:0.691898\n",
      "[45]\ttrain-auc:0.692115\n",
      "[46]\ttrain-auc:0.692361\n",
      "[47]\ttrain-auc:0.692546\n",
      "[48]\ttrain-auc:0.692802\n",
      "[49]\ttrain-auc:0.69312\n",
      "[50]\ttrain-auc:0.693459\n",
      "[51]\ttrain-auc:0.693808\n",
      "[52]\ttrain-auc:0.694057\n",
      "[53]\ttrain-auc:0.694247\n",
      "[54]\ttrain-auc:0.694442\n",
      "[55]\ttrain-auc:0.694617\n",
      "[56]\ttrain-auc:0.694881\n",
      "[57]\ttrain-auc:0.695117\n",
      "[58]\ttrain-auc:0.695349\n",
      "[59]\ttrain-auc:0.695556\n",
      "[60]\ttrain-auc:0.695842\n",
      "[61]\ttrain-auc:0.696035\n",
      "[62]\ttrain-auc:0.696223\n",
      "[63]\ttrain-auc:0.696386\n",
      "[64]\ttrain-auc:0.696529\n",
      "[65]\ttrain-auc:0.696769\n",
      "[66]\ttrain-auc:0.697014\n",
      "[67]\ttrain-auc:0.697223\n",
      "[68]\ttrain-auc:0.697371\n",
      "[69]\ttrain-auc:0.697624\n",
      "[70]\ttrain-auc:0.697745\n",
      "[71]\ttrain-auc:0.697975\n",
      "[72]\ttrain-auc:0.698208\n",
      "[73]\ttrain-auc:0.698377\n",
      "[74]\ttrain-auc:0.698527\n",
      "[75]\ttrain-auc:0.698653\n",
      "[76]\ttrain-auc:0.698732\n",
      "[77]\ttrain-auc:0.698882\n",
      "[78]\ttrain-auc:0.698992\n",
      "[79]\ttrain-auc:0.69923\n",
      "[80]\ttrain-auc:0.699395\n",
      "[81]\ttrain-auc:0.699543\n",
      "[82]\ttrain-auc:0.699758\n",
      "[83]\ttrain-auc:0.699923\n",
      "[84]\ttrain-auc:0.700182\n",
      "[85]\ttrain-auc:0.700298\n",
      "[86]\ttrain-auc:0.700444\n",
      "[87]\ttrain-auc:0.700521\n",
      "[88]\ttrain-auc:0.700659\n",
      "[89]\ttrain-auc:0.700779\n",
      "[90]\ttrain-auc:0.700881\n",
      "[91]\ttrain-auc:0.701032\n",
      "[92]\ttrain-auc:0.701202\n",
      "[93]\ttrain-auc:0.701395\n",
      "[94]\ttrain-auc:0.701522\n",
      "[95]\ttrain-auc:0.701662\n",
      "[96]\ttrain-auc:0.701739\n",
      "[97]\ttrain-auc:0.701843\n",
      "[98]\ttrain-auc:0.702018\n",
      "[99]\ttrain-auc:0.702085\n",
      "[100]\ttrain-auc:0.702247\n",
      "[101]\ttrain-auc:0.70236\n",
      "[102]\ttrain-auc:0.702491\n",
      "[103]\ttrain-auc:0.702585\n",
      "[104]\ttrain-auc:0.702765\n",
      "[105]\ttrain-auc:0.702916\n",
      "[106]\ttrain-auc:0.703027\n",
      "[107]\ttrain-auc:0.703225\n",
      "[108]\ttrain-auc:0.703385\n",
      "[109]\ttrain-auc:0.703575\n",
      "[110]\ttrain-auc:0.703749\n",
      "[111]\ttrain-auc:0.703887\n",
      "[112]\ttrain-auc:0.704058\n",
      "[113]\ttrain-auc:0.704232\n",
      "[114]\ttrain-auc:0.704353\n",
      "[115]\ttrain-auc:0.704466\n",
      "[116]\ttrain-auc:0.70457\n",
      "[117]\ttrain-auc:0.704677\n",
      "[118]\ttrain-auc:0.704721\n",
      "[119]\ttrain-auc:0.704796\n",
      "[120]\ttrain-auc:0.704984\n",
      "[121]\ttrain-auc:0.705072\n",
      "[122]\ttrain-auc:0.705208\n",
      "[123]\ttrain-auc:0.705266\n",
      "[124]\ttrain-auc:0.705426\n",
      "[125]\ttrain-auc:0.705531\n",
      "[126]\ttrain-auc:0.705685\n",
      "[127]\ttrain-auc:0.705845\n",
      "[128]\ttrain-auc:0.705949\n",
      "[129]\ttrain-auc:0.706051\n",
      "[130]\ttrain-auc:0.706206\n",
      "[131]\ttrain-auc:0.706374\n",
      "[132]\ttrain-auc:0.706482\n",
      "[133]\ttrain-auc:0.706533\n",
      "[134]\ttrain-auc:0.706699\n",
      "[135]\ttrain-auc:0.706793\n",
      "[136]\ttrain-auc:0.706914\n",
      "[137]\ttrain-auc:0.707047\n",
      "[138]\ttrain-auc:0.707126\n",
      "[139]\ttrain-auc:0.707221\n",
      "[140]\ttrain-auc:0.70736\n",
      "[141]\ttrain-auc:0.707465\n",
      "[142]\ttrain-auc:0.707591\n",
      "[143]\ttrain-auc:0.707683\n",
      "[144]\ttrain-auc:0.707795\n",
      "[145]\ttrain-auc:0.70788\n",
      "[146]\ttrain-auc:0.707965\n",
      "[147]\ttrain-auc:0.708064\n",
      "[148]\ttrain-auc:0.708175\n",
      "[149]\ttrain-auc:0.70833\n",
      "finish training\n"
     ]
    }
   ],
   "source": [
    "# construct xgboost.DMatrix from numpy array, treat -999.0 as missing value\n",
    "#xgmat = xgboost.DMatrix( df, label=y_train)\n",
    "xgmat = xgboost.DMatrix( df, label=Y)\n",
    "# setup parameters for xgboost\n",
    "param = {}\n",
    "# use logistic regression loss, use raw prediction before logistic transformation\n",
    "# since we only need the rank\n",
    "param['objective'] = 'reg:logistic'\n",
    "# scale weight of positive examples\n",
    "param['scale_pos_weight'] = sum(Y==0)/sum(Y==1)\n",
    "param['eta'] = 0.1\n",
    "param['max_depth'] = 6\n",
    "param['eval_metric'] = 'auc'\n",
    "param['silent'] = 0\n",
    "param['subsample'] = 0.8\n",
    "\n",
    "\n",
    "# you can directly throw param in, though we want to watch multiple metrics here\n",
    "plst = list(param.items())\n",
    "\n",
    "watchlist = [ (xgmat,'train') ]\n",
    "\n",
    "num_round = 150\n",
    "print ('loading data end, start to boost trees')\n",
    "bst = xgboost.train( plst, xgmat, num_round, watchlist ,early_stopping_rounds=5);\n",
    "# save out model\n",
    "bst.save_model(nameOfModel+\".model\")\n",
    "\n",
    "print ('finish training')\n"
   ]
  },
  {
   "cell_type": "code",
   "execution_count": 5,
   "metadata": {},
   "outputs": [],
   "source": [
    "df = pd.read_csv('../data/20PercentTestWithMean.csv', delimiter=\",\",usecols=featuresToUse+[labelToPredict]+neededVars)\n",
    "dfNeeded= df[neededVars+[labelToPredict]]\n",
    "Y = df[labelToPredict]\n",
    "df.drop(neededVars+[labelToPredict],axis=1,inplace=True)"
   ]
  },
  {
   "cell_type": "code",
   "execution_count": 6,
   "metadata": {},
   "outputs": [],
   "source": [
    "xgmat_test = xgboost.DMatrix( df, label=Y)\n",
    "y_pred = bst.predict(xgmat_test)"
   ]
  },
  {
   "cell_type": "code",
   "execution_count": 7,
   "metadata": {},
   "outputs": [],
   "source": [
    "predictions = [round(value) for value in y_pred]\n",
    "df = pd.concat([df,dfNeeded],axis=1)\n",
    "df['y_pred'] = y_pred"
   ]
  },
  {
   "cell_type": "code",
   "execution_count": 8,
   "metadata": {},
   "outputs": [],
   "source": [
    "def getScore(df):\n",
    "    df['rank_srch_id'] = df.groupby('srch_id').cumcount().add(1)\n",
    "    df['gain'] = 5*df['booking_bool']\n",
    "    df['gain'] = np.where(df['gain'] == 0, df['click_bool'], df['gain'])\n",
    "\n",
    "    df['g/rank'] = df['gain']/df['rank_srch_id']\n",
    "    gi_sum = df['g/rank'].sum()\n",
    "    \n",
    "    df['gain_sorted'] = list(df[['srch_id', 'booking_bool', 'click_bool', 'gain']].sort_values(by = ['srch_id','booking_bool','click_bool'], ascending = [True, False, False])['gain'])\n",
    "    df['g/rank_sorted'] = df['gain_sorted']/df['rank_srch_id']\n",
    "    gi_sorted_sum = df['g/rank_sorted'].sum() \n",
    "    score = gi_sum/gi_sorted_sum\n",
    "    return score, gi_sum, gi_sorted_sum"
   ]
  },
  {
   "cell_type": "code",
   "execution_count": 9,
   "metadata": {
    "scrolled": true
   },
   "outputs": [
    {
     "name": "stdout",
     "output_type": "stream",
     "text": [
      "0.6660172627688313\n",
      "Accuracy: 67.22%\n"
     ]
    }
   ],
   "source": [
    "score, gi_sum, gi_sorted_sum = getScore(df.sort_values(by=['srch_id', 'y_pred'], ascending = [True, False]).reset_index(drop=True))\n",
    "print(score)\n",
    "\n",
    "# evaluate predictions\n",
    "accuracy = accuracy_score(df['click_bool'], predictions)\n",
    "print(\"Accuracy: %.2f%%\" % (accuracy * 100.0))\n",
    "\n"
   ]
  },
  {
   "cell_type": "code",
   "execution_count": 10,
   "metadata": {},
   "outputs": [],
   "source": [
    "f=open(\"scores.txt\", \"a+\")\n",
    "f.write(\"Score: \"+str(score)+\"\\n\")\n",
    "f.write(\"Label to predict: \"+str(labelToPredict)+\"\\n\")\n",
    "f.write(\"Features used:\\n\")\n",
    "f.write(str(list(featuresToUse)) +\"\\n\")\n",
    "f.write(\"Parameters xgboost:\\n\")\n",
    "f.write(str(json.dumps(param))+\"\\n\")\n",
    "f.write(\"Number of rounds:\\n\"+str(num_round))\n",
    "f.close()"
   ]
  },
  {
   "cell_type": "code",
   "execution_count": 11,
   "metadata": {},
   "outputs": [],
   "source": [
    "os.rename(nameOfModel+\".model\",nameOfModel+str(int(score*100))+\".model\")\n",
    "newNameOfModel = nameOfModel+str(int(score*100))"
   ]
  },
  {
   "cell_type": "markdown",
   "metadata": {},
   "source": [
    "Lets combine the models"
   ]
  },
  {
   "cell_type": "code",
   "execution_count": null,
   "metadata": {},
   "outputs": [],
   "source": [
    "clickingModel = xgboost.Booster()\n",
    "clickingModel.load_model('models/clickingModel.model')\n",
    "bookingModel = xgboost.Booster()\n",
    "bookingModel.load_model('models/6mayBookingLabel.model')"
   ]
  },
  {
   "cell_type": "code",
   "execution_count": null,
   "metadata": {},
   "outputs": [],
   "source": [
    "df = pd.read_csv('../data/20PercentTestWithMean.csv', delimiter=\",\",usecols=featuresToUse+[labelToPredict]+neededVars)\n",
    "dfNeeded= df[neededVars+[labelToPredict]]\n",
    "df.drop(neededVars+[labelToPredict],axis=1,inplace=True)"
   ]
  },
  {
   "cell_type": "code",
   "execution_count": null,
   "metadata": {},
   "outputs": [],
   "source": [
    "xgmat_test = xgboost.DMatrix( df)\n",
    "y_pred_clicking = clickingModel.predict(xgmat_test)\n",
    "y_pred_booking = bookingModel.predict(xgmat_test)"
   ]
  },
  {
   "cell_type": "code",
   "execution_count": null,
   "metadata": {},
   "outputs": [],
   "source": [
    "df = pd.concat([df,dfNeeded],axis=1)\n",
    "df['y_pred_clicking'] = y_pred_clicking\n",
    "df['y_pred_booking'] = y_pred_booking\n",
    "df['combined'] = y_pred_booking+y_pred_clicking"
   ]
  },
  {
   "cell_type": "code",
   "execution_count": null,
   "metadata": {},
   "outputs": [],
   "source": [
    "score_apart, gi_sum, gi_sorted_sum = getScore(df.sort_values(by=['srch_id', 'y_pred_booking', 'y_pred_clicking'], ascending = [True, False,False]).reset_index(drop=True))\n",
    "score_combined, gi_sum, gi_sorted_sum = getScore(df.sort_values(by=['srch_id', 'combined'], ascending = [True, False]).reset_index(drop=True))\n",
    "print(\"Sort first on booking and then on clicking: \"+str(score_apart))\n",
    "print(\"Combine then sort: \"+str(score_combined))"
   ]
  },
  {
   "cell_type": "markdown",
   "metadata": {},
   "source": [
    "Evaluation"
   ]
  },
  {
   "cell_type": "code",
   "execution_count": null,
   "metadata": {},
   "outputs": [],
   "source": [
    "dfTest = pd.read_csv(\"../data/testWithMean.csv\")"
   ]
  },
  {
   "cell_type": "code",
   "execution_count": null,
   "metadata": {},
   "outputs": [],
   "source": [
    "clickingModel = xgboost.Booster({'nthread': -1})  # init model\n",
    "clickingModel.load_model(newNameOfModel)  # load data\n"
   ]
  },
  {
   "cell_type": "code",
   "execution_count": null,
   "metadata": {},
   "outputs": [],
   "source": [
    "xgmat_test_submission = xgboost.DMatrix(dfTest[featuresToUse])\n",
    "y_pred_clicking = clickingModel.predict(xgmat_test_submission)\n",
    "dfTest['predictedPos'] = y_pred_clicking\n",
    "dfTest = dfTest.sort_values(['srch_id','predictedPos'],ascending=[True, False])\n",
    "dfSubmission = dfTest[['srch_id','prop_id']]\n",
    "dfSubmission.to_csv(\"submissionTest5may.csv\",index=False)"
   ]
  }
 ],
 "metadata": {
  "kernelspec": {
   "display_name": "Python 3",
   "language": "python",
   "name": "python3"
  },
  "language_info": {
   "codemirror_mode": {
    "name": "ipython",
    "version": 3
   },
   "file_extension": ".py",
   "mimetype": "text/x-python",
   "name": "python",
   "nbconvert_exporter": "python",
   "pygments_lexer": "ipython3",
   "version": "3.6.8"
  }
 },
 "nbformat": 4,
 "nbformat_minor": 2
}
