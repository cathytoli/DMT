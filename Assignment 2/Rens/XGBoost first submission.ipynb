{
 "cells": [
  {
   "cell_type": "code",
   "execution_count": 1,
   "metadata": {},
   "outputs": [],
   "source": [
    "import pandas as pd\n",
    "import numpy as np\n",
    "import sklearn\n",
    "from xgboost import XGBClassifier\n",
    "import xgboost\n",
    "from collections import Counter\n",
    "from sklearn.model_selection import train_test_split\n",
    "from sklearn.metrics import accuracy_score\n",
    "from sklearn.metrics import classification_report\n",
    "import pickle\n",
    "import imblearn\n",
    "from sklearn.utils import shuffle\n",
    "from imblearn.over_sampling import SMOTE"
   ]
  },
  {
   "cell_type": "code",
   "execution_count": 8,
   "metadata": {},
   "outputs": [],
   "source": [
    "df = pd.read_csv('../data/train.csv', delimiter=\",\", usecols = ['srch_id', 'site_id', 'visitor_location_country_id',\n",
    "       'visitor_hist_starrating', 'visitor_hist_adr_usd', 'prop_country_id',\n",
    "       'prop_id', 'prop_starrating', 'prop_review_score', 'prop_brand_bool',\n",
    "       'prop_location_score1', 'prop_location_score2',\n",
    "       'prop_log_historical_price', 'position', 'price_usd', 'promotion_flag',\n",
    "       'srch_destination_id', 'srch_length_of_stay', 'srch_booking_window',\n",
    "       'srch_adults_count', 'srch_children_count', 'srch_room_count',\n",
    "       'srch_saturday_night_bool', 'srch_query_affinity_score',\n",
    "       'orig_destination_distance', 'random_bool', 'comp1_rate', 'comp1_inv', 'click_bool', 'gross_bookings_usd',\n",
    "       'booking_bool'])\n",
    "df = shuffle(df)"
   ]
  },
  {
   "cell_type": "code",
   "execution_count": 9,
   "metadata": {},
   "outputs": [],
   "source": [
    "trainOnlyColumns = ['position','click_bool','booking_bool','gross_bookings_usd']\n",
    "Y = df['click_bool']\n",
    "df.drop(trainOnlyColumns, axis=1,inplace=True)"
   ]
  },
  {
   "cell_type": "code",
   "execution_count": 10,
   "metadata": {},
   "outputs": [],
   "source": [
    "n = 20\n",
    "numOfRowsTest = (int(len(df)*(n/100)))\n",
    "X_test = df.tail(numOfRowsTest)\n",
    "Y_test = Y[-numOfRowsTest:]\n",
    "df.drop(df.tail(numOfRowsTest).index,inplace=True)\n",
    "y_train = Y[:(len(Y)-numOfRowsTest)]"
   ]
  },
  {
   "cell_type": "code",
   "execution_count": 5,
   "metadata": {},
   "outputs": [
    {
     "name": "stderr",
     "output_type": "stream",
     "text": [
      "E:\\Anaconda\\lib\\site-packages\\xgboost\\core.py:587: FutureWarning: Series.base is deprecated and will be removed in a future version\n",
      "  if getattr(data, 'base', None) is not None and \\\n",
      "E:\\Anaconda\\lib\\site-packages\\xgboost\\core.py:588: FutureWarning: Series.base is deprecated and will be removed in a future version\n",
      "  data.base is not None and isinstance(data, np.ndarray) \\\n"
     ]
    },
    {
     "name": "stdout",
     "output_type": "stream",
     "text": [
      "loading data end, start to boost trees\n",
      "[0]\ttrain-auc:0.663513\ttrain-ams@0.15:79.8359\n",
      "[1]\ttrain-auc:0.666726\ttrain-ams@0.15:80.9007\n",
      "[2]\ttrain-auc:0.669043\ttrain-ams@0.15:81.611\n",
      "[3]\ttrain-auc:0.670141\ttrain-ams@0.15:81.6612\n",
      "[4]\ttrain-auc:0.671522\ttrain-ams@0.15:82.3888\n",
      "[5]\ttrain-auc:0.672532\ttrain-ams@0.15:82.6537\n",
      "[6]\ttrain-auc:0.673984\ttrain-ams@0.15:83.2229\n",
      "[7]\ttrain-auc:0.675044\ttrain-ams@0.15:83.4713\n",
      "[8]\ttrain-auc:0.67596\ttrain-ams@0.15:83.7212\n",
      "[9]\ttrain-auc:0.676833\ttrain-ams@0.15:83.9669\n",
      "[10]\ttrain-auc:0.677511\ttrain-ams@0.15:84.1121\n",
      "[11]\ttrain-auc:0.678134\ttrain-ams@0.15:84.2686\n",
      "[12]\ttrain-auc:0.678967\ttrain-ams@0.15:84.3691\n",
      "[13]\ttrain-auc:0.679592\ttrain-ams@0.15:84.5298\n",
      "[14]\ttrain-auc:0.680177\ttrain-ams@0.15:84.5912\n",
      "[15]\ttrain-auc:0.680815\ttrain-ams@0.15:84.7645\n",
      "[16]\ttrain-auc:0.681457\ttrain-ams@0.15:84.8511\n",
      "[17]\ttrain-auc:0.682108\ttrain-ams@0.15:85.0594\n",
      "[18]\ttrain-auc:0.682625\ttrain-ams@0.15:85.1209\n",
      "[19]\ttrain-auc:0.683147\ttrain-ams@0.15:85.2663\n",
      "[20]\ttrain-auc:0.683843\ttrain-ams@0.15:85.448\n",
      "[21]\ttrain-auc:0.684242\ttrain-ams@0.15:85.5668\n",
      "[22]\ttrain-auc:0.684698\ttrain-ams@0.15:85.6787\n",
      "[23]\ttrain-auc:0.685134\ttrain-ams@0.15:85.7626\n",
      "[24]\ttrain-auc:0.685621\ttrain-ams@0.15:85.813\n",
      "[25]\ttrain-auc:0.68601\ttrain-ams@0.15:86.0158\n",
      "[26]\ttrain-auc:0.686511\ttrain-ams@0.15:86.1907\n",
      "[27]\ttrain-auc:0.687026\ttrain-ams@0.15:86.2956\n",
      "[28]\ttrain-auc:0.687749\ttrain-ams@0.15:86.4678\n",
      "[29]\ttrain-auc:0.688401\ttrain-ams@0.15:86.6497\n",
      "[30]\ttrain-auc:0.688811\ttrain-ams@0.15:86.8779\n",
      "[31]\ttrain-auc:0.689309\ttrain-ams@0.15:87.0291\n",
      "[32]\ttrain-auc:0.689839\ttrain-ams@0.15:87.1537\n",
      "[33]\ttrain-auc:0.690253\ttrain-ams@0.15:87.2475\n",
      "[34]\ttrain-auc:0.6906\ttrain-ams@0.15:87.41\n",
      "[35]\ttrain-auc:0.690939\ttrain-ams@0.15:87.4997\n",
      "[36]\ttrain-auc:0.691347\ttrain-ams@0.15:87.6145\n",
      "[37]\ttrain-auc:0.691788\ttrain-ams@0.15:87.7238\n",
      "[38]\ttrain-auc:0.692079\ttrain-ams@0.15:87.7336\n",
      "[39]\ttrain-auc:0.692347\ttrain-ams@0.15:87.8275\n",
      "[40]\ttrain-auc:0.692656\ttrain-ams@0.15:87.9158\n",
      "[41]\ttrain-auc:0.692989\ttrain-ams@0.15:88.0237\n",
      "[42]\ttrain-auc:0.693201\ttrain-ams@0.15:88.1526\n",
      "[43]\ttrain-auc:0.6935\ttrain-ams@0.15:88.2087\n",
      "[44]\ttrain-auc:0.693841\ttrain-ams@0.15:88.3194\n",
      "[45]\ttrain-auc:0.694097\ttrain-ams@0.15:88.426\n",
      "[46]\ttrain-auc:0.694517\ttrain-ams@0.15:88.5311\n",
      "[47]\ttrain-auc:0.69475\ttrain-ams@0.15:88.5508\n",
      "[48]\ttrain-auc:0.694953\ttrain-ams@0.15:88.6587\n",
      "[49]\ttrain-auc:0.695208\ttrain-ams@0.15:88.7625\n",
      "[50]\ttrain-auc:0.695496\ttrain-ams@0.15:88.8733\n",
      "[51]\ttrain-auc:0.695751\ttrain-ams@0.15:88.9364\n",
      "[52]\ttrain-auc:0.695959\ttrain-ams@0.15:88.9869\n",
      "[53]\ttrain-auc:0.696241\ttrain-ams@0.15:89.137\n",
      "[54]\ttrain-auc:0.696427\ttrain-ams@0.15:89.1552\n",
      "[55]\ttrain-auc:0.696627\ttrain-ams@0.15:89.2394\n",
      "[56]\ttrain-auc:0.696885\ttrain-ams@0.15:89.3222\n",
      "[57]\ttrain-auc:0.697168\ttrain-ams@0.15:89.4134\n",
      "[58]\ttrain-auc:0.697348\ttrain-ams@0.15:89.52\n",
      "[59]\ttrain-auc:0.697513\ttrain-ams@0.15:89.5411\n",
      "[60]\ttrain-auc:0.697741\ttrain-ams@0.15:89.6169\n",
      "[61]\ttrain-auc:0.697966\ttrain-ams@0.15:89.7137\n",
      "[62]\ttrain-auc:0.698213\ttrain-ams@0.15:89.8162\n",
      "[63]\ttrain-auc:0.698472\ttrain-ams@0.15:89.8836\n",
      "[64]\ttrain-auc:0.698717\ttrain-ams@0.15:89.9271\n",
      "[65]\ttrain-auc:0.699053\ttrain-ams@0.15:90.0717\n",
      "[66]\ttrain-auc:0.699211\ttrain-ams@0.15:90.1054\n",
      "[67]\ttrain-auc:0.699402\ttrain-ams@0.15:90.163\n",
      "[68]\ttrain-auc:0.699535\ttrain-ams@0.15:90.2276\n",
      "[69]\ttrain-auc:0.6998\ttrain-ams@0.15:90.3006\n",
      "[70]\ttrain-auc:0.7\ttrain-ams@0.15:90.4003\n",
      "[71]\ttrain-auc:0.700165\ttrain-ams@0.15:90.4453\n",
      "[72]\ttrain-auc:0.700426\ttrain-ams@0.15:90.5197\n",
      "[73]\ttrain-auc:0.700605\ttrain-ams@0.15:90.6433\n",
      "[74]\ttrain-auc:0.700803\ttrain-ams@0.15:90.7234\n",
      "[75]\ttrain-auc:0.700948\ttrain-ams@0.15:90.7459\n",
      "[76]\ttrain-auc:0.701216\ttrain-ams@0.15:90.7599\n",
      "[77]\ttrain-auc:0.701362\ttrain-ams@0.15:90.8344\n",
      "[78]\ttrain-auc:0.7015\ttrain-ams@0.15:90.8709\n",
      "[79]\ttrain-auc:0.701667\ttrain-ams@0.15:90.8808\n",
      "[80]\ttrain-auc:0.701857\ttrain-ams@0.15:90.9187\n",
      "[81]\ttrain-auc:0.702122\ttrain-ams@0.15:90.9538\n",
      "[82]\ttrain-auc:0.702311\ttrain-ams@0.15:91.0128\n",
      "[83]\ttrain-auc:0.702452\ttrain-ams@0.15:91.0648\n",
      "[84]\ttrain-auc:0.702625\ttrain-ams@0.15:91.1056\n",
      "[85]\ttrain-auc:0.702791\ttrain-ams@0.15:91.159\n",
      "[86]\ttrain-auc:0.70299\ttrain-ams@0.15:91.2012\n",
      "[87]\ttrain-auc:0.703147\ttrain-ams@0.15:91.2827\n",
      "[88]\ttrain-auc:0.703309\ttrain-ams@0.15:91.3192\n",
      "[89]\ttrain-auc:0.703495\ttrain-ams@0.15:91.3305\n",
      "[90]\ttrain-auc:0.703702\ttrain-ams@0.15:91.4612\n",
      "[91]\ttrain-auc:0.703798\ttrain-ams@0.15:91.4809\n",
      "[92]\ttrain-auc:0.704007\ttrain-ams@0.15:91.5695\n",
      "[93]\ttrain-auc:0.704187\ttrain-ams@0.15:91.6187\n",
      "[94]\ttrain-auc:0.70433\ttrain-ams@0.15:91.6496\n",
      "[95]\ttrain-auc:0.704419\ttrain-ams@0.15:91.7016\n",
      "[96]\ttrain-auc:0.704588\ttrain-ams@0.15:91.7326\n",
      "[97]\ttrain-auc:0.704649\ttrain-ams@0.15:91.7438\n",
      "[98]\ttrain-auc:0.704824\ttrain-ams@0.15:91.7874\n",
      "[99]\ttrain-auc:0.704879\ttrain-ams@0.15:91.8029\n",
      "[100]\ttrain-auc:0.705058\ttrain-ams@0.15:91.8648\n",
      "[101]\ttrain-auc:0.705287\ttrain-ams@0.15:91.9041\n",
      "[102]\ttrain-auc:0.705367\ttrain-ams@0.15:91.9238\n",
      "[103]\ttrain-auc:0.70548\ttrain-ams@0.15:92.0026\n",
      "[104]\ttrain-auc:0.705607\ttrain-ams@0.15:92.0349\n",
      "[105]\ttrain-auc:0.705799\ttrain-ams@0.15:92.0687\n",
      "[106]\ttrain-auc:0.705961\ttrain-ams@0.15:92.0926\n",
      "[107]\ttrain-auc:0.706143\ttrain-ams@0.15:92.1686\n",
      "[108]\ttrain-auc:0.706289\ttrain-ams@0.15:92.2502\n",
      "[109]\ttrain-auc:0.706415\ttrain-ams@0.15:92.2783\n",
      "[110]\ttrain-auc:0.706477\ttrain-ams@0.15:92.2853\n",
      "[111]\ttrain-auc:0.706646\ttrain-ams@0.15:92.3022\n",
      "[112]\ttrain-auc:0.70679\ttrain-ams@0.15:92.3501\n",
      "[113]\ttrain-auc:0.706834\ttrain-ams@0.15:92.3557\n",
      "[114]\ttrain-auc:0.70692\ttrain-ams@0.15:92.3951\n",
      "[115]\ttrain-auc:0.707072\ttrain-ams@0.15:92.4486\n",
      "[116]\ttrain-auc:0.707233\ttrain-ams@0.15:92.4823\n",
      "[117]\ttrain-auc:0.707337\ttrain-ams@0.15:92.4992\n",
      "[118]\ttrain-auc:0.70751\ttrain-ams@0.15:92.5583\n",
      "[119]\ttrain-auc:0.707752\ttrain-ams@0.15:92.6343\n",
      "finish training\n"
     ]
    }
   ],
   "source": [
    "# construct xgboost.DMatrix from numpy array, treat -999.0 as missing value\n",
    "xgmat = xgboost.DMatrix( df, label=y_train)\n",
    "\n",
    "# setup parameters for xgboost\n",
    "param = {}\n",
    "# use logistic regression loss, use raw prediction before logistic transformation\n",
    "# since we only need the rank\n",
    "param['objective'] = 'reg:logistic'\n",
    "# scale weight of positive examples\n",
    "param['scale_pos_weight'] = sum(y_train==0)/sum(y_train==1)\n",
    "param['eta'] = 0.1\n",
    "param['max_depth'] = 6\n",
    "param['eval_metric'] = 'auc'\n",
    "param['silent'] = 0\n",
    "param['nthread'] = 10\n",
    "\n",
    "# you can directly throw param in, though we want to watch multiple metrics here\n",
    "plst = list(param.items())+[('eval_metric', 'ams@0.15')]\n",
    "\n",
    "watchlist = [ (xgmat,'train') ]\n",
    "# boost 120 trees\n",
    "num_round = 120\n",
    "print ('loading data end, start to boost trees')\n",
    "bst = xgboost.train( plst, xgmat, num_round, watchlist );\n",
    "# save out model\n",
    "bst.save_model('paraTest.model')\n",
    "\n",
    "print ('finish training')\n",
    "\n",
    "# fit model no training data\n",
    "#model = XGBClassifier()\n",
    "#model.fit(xs, ys)\n",
    "# make predictions for test data"
   ]
  },
  {
   "cell_type": "code",
   "execution_count": 6,
   "metadata": {},
   "outputs": [
    {
     "name": "stdout",
     "output_type": "stream",
     "text": [
      "Accuracy: 66.89%\n"
     ]
    },
    {
     "data": {
      "text/plain": [
       "Counter({1.0: 337924, 0.0: 653745})"
      ]
     },
     "execution_count": 6,
     "metadata": {},
     "output_type": "execute_result"
    }
   ],
   "source": [
    "xgmat_test = xgboost.DMatrix( X_test, label=Y_test)\n",
    "y_pred = bst.predict(xgmat_test)\n",
    "predictions = [round(value) for value in y_pred]\n",
    "# evaluate predictions\n",
    "accuracy = accuracy_score(Y_test, predictions)\n",
    "print(\"Accuracy: %.2f%%\" % (accuracy * 100.0))\n",
    "Counter(predictions)"
   ]
  },
  {
   "cell_type": "code",
   "execution_count": 2,
   "metadata": {},
   "outputs": [],
   "source": [
    "bst = xgboost.Booster({'nthread': 12})  # init model\n",
    "bst.load_model('xgboostBinary26April.model')  # load data"
   ]
  },
  {
   "cell_type": "code",
   "execution_count": 8,
   "metadata": {},
   "outputs": [],
   "source": [
    "dfTest = pd.read_csv('../data/test.csv', delimiter=\",\", usecols = ['srch_id', 'site_id', 'visitor_location_country_id',\n",
    "       'visitor_hist_starrating', 'visitor_hist_adr_usd', 'prop_country_id',\n",
    "       'prop_id', 'prop_starrating', 'prop_review_score', 'prop_brand_bool',\n",
    "       'prop_location_score1', 'prop_location_score2',\n",
    "       'prop_log_historical_price',  'price_usd', 'promotion_flag',\n",
    "       'srch_destination_id', 'srch_length_of_stay', 'srch_booking_window',\n",
    "       'srch_adults_count', 'srch_children_count', 'srch_room_count',\n",
    "       'srch_saturday_night_bool', 'srch_query_affinity_score',\n",
    "       'orig_destination_distance', 'random_bool', 'comp1_rate', 'comp1_inv'])\n",
    "xgmat_test_submission = xgboost.DMatrix( dfTest)"
   ]
  },
  {
   "cell_type": "code",
   "execution_count": 4,
   "metadata": {},
   "outputs": [],
   "source": [
    "y_pred = bst.predict(xgmat_test_submission)\n"
   ]
  },
  {
   "cell_type": "code",
   "execution_count": 9,
   "metadata": {},
   "outputs": [],
   "source": [
    "dfTest['predictedPos'] = y_pred\n",
    "dfTest = dfTest.sort_values(['srch_id','predictedPos'],ascending=[True, False])\n"
   ]
  },
  {
   "cell_type": "code",
   "execution_count": 14,
   "metadata": {},
   "outputs": [
    {
     "name": "stdout",
     "output_type": "stream",
     "text": [
      "    srch_id  site_id  visitor_location_country_id  visitor_hist_starrating  \\\n",
      "9         1       24                          216                      NaN   \n",
      "23        1       24                          216                      NaN   \n",
      "12        1       24                          216                      NaN   \n",
      "5         1       24                          216                      NaN   \n",
      "4         1       24                          216                      NaN   \n",
      "\n",
      "    visitor_hist_adr_usd  prop_country_id  prop_id  prop_starrating  \\\n",
      "9                    NaN              219    54937                3   \n",
      "23                   NaN              219    99484                3   \n",
      "12                   NaN              219    61934                3   \n",
      "5                    NaN              219    28181                3   \n",
      "4                    NaN              219    24194                3   \n",
      "\n",
      "    prop_review_score  prop_brand_bool  ...  srch_adults_count  \\\n",
      "9                 4.0                1  ...                  2   \n",
      "23                4.0                1  ...                  2   \n",
      "12                4.5                1  ...                  2   \n",
      "5                 4.5                1  ...                  2   \n",
      "4                 4.5                1  ...                  2   \n",
      "\n",
      "    srch_children_count  srch_room_count  srch_saturday_night_bool  \\\n",
      "9                     0                1                         0   \n",
      "23                    0                1                         0   \n",
      "12                    0                1                         0   \n",
      "5                     0                1                         0   \n",
      "4                     0                1                         0   \n",
      "\n",
      "    srch_query_affinity_score  orig_destination_distance  random_bool  \\\n",
      "9                         NaN                        NaN            0   \n",
      "23                        NaN                        NaN            0   \n",
      "12                        NaN                        NaN            0   \n",
      "5                         NaN                        NaN            0   \n",
      "4                         NaN                        NaN            0   \n",
      "\n",
      "    comp1_rate  comp1_inv  predictedPos  \n",
      "9          NaN        NaN      0.795265  \n",
      "23         NaN        NaN      0.791279  \n",
      "12         NaN        NaN      0.741057  \n",
      "5          NaN        NaN      0.681761  \n",
      "4          NaN        NaN      0.626546  \n",
      "\n",
      "[5 rows x 28 columns]\n"
     ]
    }
   ],
   "source": [
    "print(dfTest.head())\n",
    "dfSubmission = dfTest[['srch_id','prop_id']]\n",
    "dfSubmission.to_csv(\"submissionTest.csv\",index=False)"
   ]
  },
  {
   "cell_type": "code",
   "execution_count": 25,
   "metadata": {},
   "outputs": [
    {
     "data": {
      "text/plain": [
       "Counter({0.0: 3266491, 1.0: 1692692})"
      ]
     },
     "execution_count": 25,
     "metadata": {},
     "output_type": "execute_result"
    }
   ],
   "source": [
    "#Counter(y_pred)\n",
    "predictions = [round(value) for value in y_pred]\n",
    "Counter(predictions)"
   ]
  }
 ],
 "metadata": {
  "kernelspec": {
   "display_name": "Python 3",
   "language": "python",
   "name": "python3"
  },
  "language_info": {
   "codemirror_mode": {
    "name": "ipython",
    "version": 3
   },
   "file_extension": ".py",
   "mimetype": "text/x-python",
   "name": "python",
   "nbconvert_exporter": "python",
   "pygments_lexer": "ipython3",
   "version": "3.6.8"
  }
 },
 "nbformat": 4,
 "nbformat_minor": 2
}
