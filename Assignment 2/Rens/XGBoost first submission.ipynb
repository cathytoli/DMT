{
 "cells": [
  {
   "cell_type": "code",
   "execution_count": 1,
   "metadata": {},
   "outputs": [],
   "source": [
    "import pandas as pd\n",
    "import numpy as np\n",
    "import sklearn\n",
    "from xgboost import XGBClassifier\n",
    "import xgboost\n",
    "from collections import Counter\n",
    "from sklearn.model_selection import train_test_split\n",
    "from sklearn.metrics import accuracy_score\n",
    "from sklearn.metrics import classification_report\n",
    "import pickle\n",
    "from sklearn.utils import shuffle"
   ]
  },
  {
   "cell_type": "code",
   "execution_count": 16,
   "metadata": {},
   "outputs": [],
   "source": [
    "df = pd.read_csv('../data/train.csv', delimiter=\",\", usecols = ['srch_id', 'site_id', 'visitor_location_country_id',\n",
    "       'visitor_hist_starrating', 'visitor_hist_adr_usd', 'prop_country_id',\n",
    "       'prop_id', 'prop_starrating', 'prop_review_score', 'prop_brand_bool',\n",
    "       'prop_location_score1', 'prop_location_score2',\n",
    "       'prop_log_historical_price', 'position', 'price_usd', 'promotion_flag',\n",
    "       'srch_destination_id', 'srch_length_of_stay', 'srch_booking_window',\n",
    "       'srch_adults_count', 'srch_children_count', 'srch_room_count',\n",
    "       'srch_saturday_night_bool', 'srch_query_affinity_score',\n",
    "       'orig_destination_distance', 'random_bool', 'comp1_rate', 'comp1_inv', 'click_bool', 'gross_bookings_usd',\n",
    "       'booking_bool'])\n",
    "neededVars = ['click_bool','booking_bool']\n",
    "df = shuffle(df)"
   ]
  },
  {
   "cell_type": "markdown",
   "metadata": {},
   "source": [
    "Lets train it on clicking"
   ]
  },
  {
   "cell_type": "code",
   "execution_count": 17,
   "metadata": {},
   "outputs": [],
   "source": [
    "trainOnlyColumns = ['position','click_bool','booking_bool','gross_bookings_usd']\n",
    "Y = df['click_bool']\n",
    "dfNeeded= df[neededVars]\n",
    "df.drop(trainOnlyColumns, axis=1,inplace=True)\n"
   ]
  },
  {
   "cell_type": "code",
   "execution_count": 25,
   "metadata": {},
   "outputs": [
    {
     "data": {
      "text/plain": [
       "Index(['srch_id', 'site_id', 'visitor_location_country_id',\n",
       "       'visitor_hist_starrating', 'visitor_hist_adr_usd', 'prop_country_id',\n",
       "       'prop_id', 'prop_starrating', 'prop_review_score', 'prop_brand_bool',\n",
       "       'prop_location_score1', 'prop_location_score2',\n",
       "       'prop_log_historical_price', 'price_usd', 'promotion_flag',\n",
       "       'srch_destination_id', 'srch_length_of_stay', 'srch_booking_window',\n",
       "       'srch_adults_count', 'srch_children_count', 'srch_room_count',\n",
       "       'srch_saturday_night_bool', 'srch_query_affinity_score',\n",
       "       'orig_destination_distance', 'random_bool', 'comp1_rate', 'comp1_inv'],\n",
       "      dtype='object')"
      ]
     },
     "execution_count": 25,
     "metadata": {},
     "output_type": "execute_result"
    }
   ],
   "source": [
    "df.columns"
   ]
  },
  {
   "cell_type": "code",
   "execution_count": 18,
   "metadata": {},
   "outputs": [],
   "source": [
    "n = 20\n",
    "numOfRowsTest = (int(len(df)*(n/100)))\n",
    "\n",
    "#Test\n",
    "X_test = df.tail(numOfRowsTest)\n",
    "Y_test = Y[-numOfRowsTest:]\n",
    "dfNeeded_test = dfNeeded.tail(numOfRowsTest)\n",
    "\n",
    "#Train\n",
    "dfNeeded = dfNeeded.drop(dfNeeded.tail(numOfRowsTest).index,inplace=True)\n",
    "df.drop(df.tail(numOfRowsTest).index,inplace=True)\n",
    "y_train = Y[:(len(Y)-numOfRowsTest)]"
   ]
  },
  {
   "cell_type": "code",
   "execution_count": 5,
   "metadata": {},
   "outputs": [
    {
     "name": "stderr",
     "output_type": "stream",
     "text": [
      "E:\\Anaconda\\lib\\site-packages\\xgboost\\core.py:587: FutureWarning: Series.base is deprecated and will be removed in a future version\n",
      "  if getattr(data, 'base', None) is not None and \\\n",
      "E:\\Anaconda\\lib\\site-packages\\xgboost\\core.py:588: FutureWarning: Series.base is deprecated and will be removed in a future version\n",
      "  data.base is not None and isinstance(data, np.ndarray) \\\n"
     ]
    },
    {
     "name": "stdout",
     "output_type": "stream",
     "text": [
      "loading data end, start to boost trees\n",
      "[0]\ttrain-auc:0.664749\n",
      "Will train until train-auc hasn't improved in 5 rounds.\n",
      "[1]\ttrain-auc:0.667174\n",
      "[2]\ttrain-auc:0.669493\n",
      "[3]\ttrain-auc:0.671117\n",
      "[4]\ttrain-auc:0.672273\n",
      "[5]\ttrain-auc:0.673101\n",
      "[6]\ttrain-auc:0.674487\n",
      "[7]\ttrain-auc:0.675528\n",
      "[8]\ttrain-auc:0.676346\n",
      "[9]\ttrain-auc:0.677349\n",
      "[10]\ttrain-auc:0.677882\n",
      "[11]\ttrain-auc:0.678372\n",
      "[12]\ttrain-auc:0.679235\n",
      "[13]\ttrain-auc:0.679792\n",
      "[14]\ttrain-auc:0.680381\n",
      "[15]\ttrain-auc:0.681008\n",
      "[16]\ttrain-auc:0.681589\n",
      "[17]\ttrain-auc:0.682404\n",
      "[18]\ttrain-auc:0.682985\n",
      "[19]\ttrain-auc:0.683668\n",
      "[20]\ttrain-auc:0.683979\n",
      "[21]\ttrain-auc:0.684597\n",
      "[22]\ttrain-auc:0.685095\n",
      "[23]\ttrain-auc:0.6855\n",
      "[24]\ttrain-auc:0.686122\n",
      "[25]\ttrain-auc:0.686589\n",
      "[26]\ttrain-auc:0.687211\n",
      "[27]\ttrain-auc:0.68765\n",
      "[28]\ttrain-auc:0.688193\n",
      "[29]\ttrain-auc:0.688597\n",
      "[30]\ttrain-auc:0.68901\n",
      "[31]\ttrain-auc:0.689552\n",
      "[32]\ttrain-auc:0.690044\n",
      "[33]\ttrain-auc:0.690548\n",
      "[34]\ttrain-auc:0.691019\n",
      "[35]\ttrain-auc:0.6914\n",
      "[36]\ttrain-auc:0.691655\n",
      "[37]\ttrain-auc:0.69201\n",
      "[38]\ttrain-auc:0.692345\n",
      "[39]\ttrain-auc:0.692645\n",
      "[40]\ttrain-auc:0.692967\n",
      "[41]\ttrain-auc:0.693319\n",
      "[42]\ttrain-auc:0.693556\n",
      "[43]\ttrain-auc:0.69389\n",
      "[44]\ttrain-auc:0.694117\n",
      "[45]\ttrain-auc:0.694433\n",
      "[46]\ttrain-auc:0.694663\n",
      "[47]\ttrain-auc:0.694925\n",
      "[48]\ttrain-auc:0.695234\n",
      "[49]\ttrain-auc:0.695463\n",
      "[50]\ttrain-auc:0.695693\n",
      "[51]\ttrain-auc:0.695969\n",
      "[52]\ttrain-auc:0.696158\n",
      "[53]\ttrain-auc:0.696387\n",
      "[54]\ttrain-auc:0.696601\n",
      "[55]\ttrain-auc:0.696861\n",
      "[56]\ttrain-auc:0.697046\n",
      "[57]\ttrain-auc:0.697289\n",
      "[58]\ttrain-auc:0.697553\n",
      "[59]\ttrain-auc:0.697744\n",
      "[60]\ttrain-auc:0.697956\n",
      "[61]\ttrain-auc:0.698109\n",
      "[62]\ttrain-auc:0.698405\n",
      "[63]\ttrain-auc:0.698556\n",
      "[64]\ttrain-auc:0.698744\n",
      "[65]\ttrain-auc:0.698948\n",
      "[66]\ttrain-auc:0.699146\n",
      "[67]\ttrain-auc:0.699472\n",
      "[68]\ttrain-auc:0.699774\n",
      "[69]\ttrain-auc:0.699924\n",
      "[70]\ttrain-auc:0.700099\n",
      "[71]\ttrain-auc:0.70032\n",
      "[72]\ttrain-auc:0.700473\n",
      "[73]\ttrain-auc:0.700751\n",
      "[74]\ttrain-auc:0.701012\n",
      "[75]\ttrain-auc:0.701188\n",
      "[76]\ttrain-auc:0.701342\n",
      "[77]\ttrain-auc:0.701513\n",
      "[78]\ttrain-auc:0.701662\n",
      "[79]\ttrain-auc:0.702003\n",
      "[80]\ttrain-auc:0.702128\n",
      "[81]\ttrain-auc:0.702253\n",
      "[82]\ttrain-auc:0.702432\n",
      "[83]\ttrain-auc:0.702559\n",
      "[84]\ttrain-auc:0.702768\n",
      "[85]\ttrain-auc:0.702947\n",
      "[86]\ttrain-auc:0.70313\n",
      "[87]\ttrain-auc:0.703377\n",
      "[88]\ttrain-auc:0.703478\n",
      "[89]\ttrain-auc:0.703625\n",
      "[90]\ttrain-auc:0.703833\n",
      "[91]\ttrain-auc:0.703962\n",
      "[92]\ttrain-auc:0.70412\n",
      "[93]\ttrain-auc:0.704361\n",
      "[94]\ttrain-auc:0.704581\n",
      "[95]\ttrain-auc:0.704877\n",
      "[96]\ttrain-auc:0.704967\n",
      "[97]\ttrain-auc:0.705129\n",
      "[98]\ttrain-auc:0.705224\n",
      "[99]\ttrain-auc:0.705355\n",
      "[100]\ttrain-auc:0.705468\n",
      "[101]\ttrain-auc:0.705625\n",
      "[102]\ttrain-auc:0.705793\n",
      "[103]\ttrain-auc:0.706044\n",
      "[104]\ttrain-auc:0.706202\n",
      "[105]\ttrain-auc:0.706327\n",
      "[106]\ttrain-auc:0.706526\n",
      "[107]\ttrain-auc:0.706698\n",
      "[108]\ttrain-auc:0.70688\n",
      "[109]\ttrain-auc:0.706942\n",
      "[110]\ttrain-auc:0.707014\n",
      "[111]\ttrain-auc:0.707062\n",
      "[112]\ttrain-auc:0.707223\n",
      "[113]\ttrain-auc:0.707343\n",
      "[114]\ttrain-auc:0.707446\n",
      "[115]\ttrain-auc:0.707551\n",
      "[116]\ttrain-auc:0.707633\n",
      "[117]\ttrain-auc:0.70772\n",
      "[118]\ttrain-auc:0.707796\n",
      "[119]\ttrain-auc:0.707832\n",
      "finish training\n"
     ]
    }
   ],
   "source": [
    "# construct xgboost.DMatrix from numpy array, treat -999.0 as missing value\n",
    "#xgmat = xgboost.DMatrix( df, label=y_train)\n",
    "xgmat = xgboost.DMatrix( df, label=y_train)\n",
    "# setup parameters for xgboost\n",
    "param = {}\n",
    "# use logistic regression loss, use raw prediction before logistic transformation\n",
    "# since we only need the rank\n",
    "param['objective'] = 'reg:logistic'\n",
    "# scale weight of positive examples\n",
    "param['scale_pos_weight'] = sum(Y==0)/sum(Y==1)\n",
    "param['eta'] = 0.1\n",
    "param['max_depth'] = 6\n",
    "param['eval_metric'] = 'auc'\n",
    "param['silent'] = 0\n",
    "param['nthread'] = 10\n",
    "\n",
    "# you can directly throw param in, though we want to watch multiple metrics here\n",
    "plst = list(param.items())\n",
    "\n",
    "watchlist = [ (xgmat,'train') ]\n",
    "# boost 120 trees\n",
    "num_round = 120\n",
    "print ('loading data end, start to boost trees')\n",
    "bst = xgboost.train( plst, xgmat, num_round, watchlist ,early_stopping_rounds=5);\n",
    "# save out model\n",
    "#bst.save_model('clickingExtra.model')\n",
    "\n",
    "print ('finish training')\n",
    "\n",
    "# fit model no training data\n",
    "#model = XGBClassifier()\n",
    "#model.fit(xs, ys)\n",
    "# make predictions for test data"
   ]
  },
  {
   "cell_type": "code",
   "execution_count": 19,
   "metadata": {},
   "outputs": [],
   "source": [
    "def getScore(df):\n",
    "    df['rank_srch_id'] = df.groupby('srch_id').cumcount().add(1)\n",
    "    df['gain'] = 5*df['booking_bool']\n",
    "    df['gain'] = np.where(df['gain'] == 0, df['click_bool'], df['gain'])\n",
    "\n",
    "    df['g/rank'] = df['gain']/df['rank_srch_id']\n",
    "    gi_sum = df['g/rank'].sum()\n",
    "    \n",
    "    df['gain_sorted'] = list(df[['srch_id', 'booking_bool', 'click_bool', 'gain']].sort_values(by = ['srch_id','booking_bool','click_bool'], ascending = [True, False, False])['gain'])\n",
    "    df['g/rank_sorted'] = df['gain_sorted']/df['rank_srch_id']\n",
    "    gi_sorted_sum = df['g/rank_sorted'].sum() \n",
    "    score = gi_sum/gi_sorted_sum\n",
    "    return score, gi_sum, gi_sorted_sum"
   ]
  },
  {
   "cell_type": "code",
   "execution_count": 20,
   "metadata": {},
   "outputs": [],
   "source": [
    "xgmat_test = xgboost.DMatrix( X_test, label=Y_test)\n",
    "y_pred = bst.predict(xgmat_test)\n",
    "X_test = pd.concat([X_test,dfNeeded_test],axis=1)\n",
    "X_test['y_pred'] = y_pred"
   ]
  },
  {
   "cell_type": "code",
   "execution_count": 21,
   "metadata": {},
   "outputs": [
    {
     "name": "stdout",
     "output_type": "stream",
     "text": [
      "0.6728051159536493\n",
      "Accuracy: 66.93%\n"
     ]
    },
    {
     "data": {
      "text/plain": [
       "Counter({0.0: 652763, 1.0: 338906})"
      ]
     },
     "execution_count": 21,
     "metadata": {},
     "output_type": "execute_result"
    }
   ],
   "source": [
    "score, gi_sum, gi_sorted_sum = getScore(X_test.sort_values(by=['srch_id', 'y_pred'], ascending = [True, False]).reset_index(drop=True))\n",
    "print(score)\n",
    "\n",
    "# evaluate predictions\n",
    "predictions = [round(value) for value in y_pred]\n",
    "accuracy = accuracy_score(Y_test, predictions)\n",
    "print(\"Accuracy: %.2f%%\" % (accuracy * 100.0))\n",
    "Counter(predictions)"
   ]
  },
  {
   "cell_type": "markdown",
   "metadata": {},
   "source": [
    "Lets train it on booking"
   ]
  },
  {
   "cell_type": "code",
   "execution_count": null,
   "metadata": {},
   "outputs": [],
   "source": [
    "trainOnlyColumns = ['position','click_bool','booking_bool','gross_bookings_usd']\n",
    "Y = df['booking_bool']\n",
    "df.drop(trainOnlyColumns, axis=1,inplace=True)\n",
    "df.drop(['date'], axis=1,inplace=True)"
   ]
  },
  {
   "cell_type": "code",
   "execution_count": 9,
   "metadata": {},
   "outputs": [],
   "source": [
    "n = 20\n",
    "numOfRowsTest = (int(len(df)*(n/100)))\n",
    "X_test = df.tail(numOfRowsTest)\n",
    "Y_test = Y[-numOfRowsTest:]\n",
    "df.drop(df.tail(numOfRowsTest).index,inplace=True)\n",
    "y_train = Y[:(len(Y)-numOfRowsTest)]"
   ]
  },
  {
   "cell_type": "code",
   "execution_count": null,
   "metadata": {},
   "outputs": [],
   "source": [
    "# construct xgboost.DMatrix from numpy array, treat -999.0 as missing value\n",
    "xgmat = xgboost.DMatrix( df, label=Y)\n",
    "\n",
    "# setup parameters for xgboost\n",
    "param = {}\n",
    "# use logistic regression loss, use raw prediction before logistic transformation\n",
    "# since we only need the rank\n",
    "param['objective'] = 'reg:logistic'\n",
    "# scale weight of positive examples\n",
    "param['scale_pos_weight'] = sum(y_train==0)/sum(y_train==1)\n",
    "param['eta'] = 0.1\n",
    "param['max_depth'] = 6\n",
    "param['eval_metric'] = 'auc'\n",
    "param['silent'] = 0\n",
    "param['nthread'] = 10\n",
    "\n",
    "# you can directly throw param in, though we want to watch multiple metrics here\n",
    "plst = list(param.items())+[('eval_metric', 'ams@0.15')]\n",
    "\n",
    "watchlist = [ (xgmat,'train') ]\n",
    "# boost 120 trees\n",
    "num_round = 25\n",
    "print ('loading data end, start to boost trees')\n",
    "bst = xgboost.train( plst, xgmat, num_round, watchlist , early_stopping_rounds=5);\n",
    "# save out model\n",
    "bst.save_model('bookingModelExtra.model')\n",
    "\n",
    "print ('finish training')\n",
    "\n",
    "# fit model no training data\n",
    "#model = XGBClassifier()\n",
    "#model.fit(xs, ys)\n",
    "# make predictions for test data"
   ]
  },
  {
   "cell_type": "code",
   "execution_count": null,
   "metadata": {},
   "outputs": [],
   "source": [
    "xgmat_test = xgboost.DMatrix( X_test, label=Y_test)\n",
    "y_pred = bst.predict(xgmat_test)\n",
    "X_test = pd.concat([X_test,dfNeeded_test],axis=1)\n",
    "X_test['y_pred'] = y_pred"
   ]
  },
  {
   "cell_type": "code",
   "execution_count": null,
   "metadata": {},
   "outputs": [],
   "source": [
    "score, gi_sum, gi_sorted_sum = getScore(X_test.sort_values(by=['srch_id', 'y_pred'], ascending = [True, False]).reset_index(drop=True))\n",
    "print(score)\n",
    "\n",
    "# evaluate predictions\n",
    "predictions = [round(value) for value in y_pred]\n",
    "accuracy = accuracy_score(Y_test, predictions)\n",
    "print(\"Accuracy: %.2f%%\" % (accuracy * 100.0))\n",
    "Counter(predictions)"
   ]
  },
  {
   "cell_type": "markdown",
   "metadata": {},
   "source": [
    "Lets make a submission"
   ]
  },
  {
   "cell_type": "code",
   "execution_count": 7,
   "metadata": {},
   "outputs": [],
   "source": [
    "bst = xgboost.Booster({'nthread': 12})  # init model\n",
    "bst.load_model('xgboostBinary26April.model')  # load data\n"
   ]
  },
  {
   "cell_type": "code",
   "execution_count": null,
   "metadata": {},
   "outputs": [],
   "source": [
    "dfTest = pd.read_csv('../data/test.csv', delimiter=\",\", usecols = ['srch_id', 'site_id', 'visitor_location_country_id',\n",
    "       'visitor_hist_starrating', 'visitor_hist_adr_usd', 'prop_country_id',\n",
    "       'prop_id', 'prop_starrating', 'prop_review_score', 'prop_brand_bool',\n",
    "       'prop_location_score1', 'prop_location_score2',\n",
    "       'prop_log_historical_price',  'price_usd', 'promotion_flag',\n",
    "       'srch_destination_id', 'srch_length_of_stay', 'srch_booking_window',\n",
    "       'srch_adults_count', 'srch_children_count', 'srch_room_count',\n",
    "       'srch_saturday_night_bool', 'srch_query_affinity_score',\n",
    "       'orig_destination_distance', 'random_bool', 'comp1_rate', 'comp1_inv'])\n",
    "xgmat_test_submission = xgboost.DMatrix( dfTest)"
   ]
  },
  {
   "cell_type": "code",
   "execution_count": null,
   "metadata": {},
   "outputs": [],
   "source": [
    "y_pred_clicking = bst.predict(xgmat_test_submission)\n"
   ]
  },
  {
   "cell_type": "code",
   "execution_count": null,
   "metadata": {},
   "outputs": [],
   "source": [
    "bst = xgboost.Booster({'nthread': 12})  # init model\n",
    "bst.load_model('bookingModel.model')  # load data"
   ]
  },
  {
   "cell_type": "code",
   "execution_count": null,
   "metadata": {},
   "outputs": [],
   "source": [
    "y_pred_booking = bst.predict(xgmat_test_submission)"
   ]
  },
  {
   "cell_type": "code",
   "execution_count": null,
   "metadata": {},
   "outputs": [],
   "source": [
    "y_pred = y_pred_clicking + y_pred_booking\n",
    "dfTest['predictedPos'] = y_pred\n",
    "dfTest = dfTest.sort_values(['srch_id','predictedPos'],ascending=[True, False])\n"
   ]
  },
  {
   "cell_type": "code",
   "execution_count": null,
   "metadata": {},
   "outputs": [],
   "source": [
    "print(dfTest.head())\n",
    "dfSubmission = dfTest[['srch_id','prop_id']]\n",
    "dfSubmission.to_csv(\"submissionTest2.csv\",index=False)"
   ]
  },
  {
   "cell_type": "code",
   "execution_count": null,
   "metadata": {},
   "outputs": [],
   "source": [
    "#Counter(y_pred)\n",
    "predictions = [round(value) for value in y_pred]\n",
    "Counter(predictions)"
   ]
  }
 ],
 "metadata": {
  "kernelspec": {
   "display_name": "Python 3",
   "language": "python",
   "name": "python3"
  },
  "language_info": {
   "codemirror_mode": {
    "name": "ipython",
    "version": 3
   },
   "file_extension": ".py",
   "mimetype": "text/x-python",
   "name": "python",
   "nbconvert_exporter": "python",
   "pygments_lexer": "ipython3",
   "version": "3.6.8"
  }
 },
 "nbformat": 4,
 "nbformat_minor": 2
}
