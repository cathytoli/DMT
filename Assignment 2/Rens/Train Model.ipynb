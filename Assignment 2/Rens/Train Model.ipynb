{
 "cells": [
  {
   "cell_type": "code",
   "execution_count": 1,
   "metadata": {},
   "outputs": [],
   "source": [
    "import pandas as pd\n",
    "import numpy as np\n",
    "import sklearn\n",
    "from xgboost import XGBClassifier\n",
    "import xgboost\n",
    "from collections import Counter\n",
    "from sklearn.model_selection import train_test_split\n",
    "from sklearn.metrics import accuracy_score\n",
    "from sklearn.metrics import classification_report\n",
    "import pickle\n",
    "from sklearn.utils import shuffle"
   ]
  },
  {
   "cell_type": "code",
   "execution_count": 2,
   "metadata": {},
   "outputs": [],
   "source": [
    "#Don't use datetime, Don't use categorical features, xgboost doesn't those, first one hot encode\n",
    "featuresToUse = ['visitor_hist_starrating', 'visitor_hist_adr_usd',\n",
    "       'prop_starrating', 'prop_review_score', 'prop_brand_bool',\n",
    "       'prop_location_score1', 'prop_location_score2',\n",
    "       'prop_log_historical_price', 'price_usd', 'promotion_flag',\n",
    "       'srch_destination_id', 'srch_length_of_stay', 'srch_booking_window',\n",
    "       'srch_adults_count', 'srch_children_count', 'srch_room_count',\n",
    "       'srch_saturday_night_bool', 'srch_query_affinity_score',\n",
    "       'orig_destination_distance', 'comp1_rate', 'comp1_inv',\n",
    "                 'prop_starrating_mean',\n",
    "       'prop_review_score_mean', 'prop_brand_bool_mean',\n",
    "       'prop_location_score1_mean', 'prop_location_score2_mean',\n",
    "       'prop_log_historical_price_mean']\n",
    "labelToPredict = 'click_bool'\n",
    "neededVars = ['srch_id','booking_bool']\n",
    "nameOfModel = \"binaryLogistic1May.model\""
   ]
  },
  {
   "cell_type": "code",
   "execution_count": 3,
   "metadata": {},
   "outputs": [],
   "source": [
    "df = pd.read_csv('../data/80PercentTrainWithMean.csv', delimiter=\",\",usecols=featuresToUse+[labelToPredict]+neededVars)\n",
    "dfNeeded= df[neededVars+[labelToPredict]]\n",
    "Y = df[labelToPredict]\n",
    "df.drop(neededVars+[labelToPredict],axis=1,inplace=True)"
   ]
  },
  {
   "cell_type": "markdown",
   "metadata": {},
   "source": [
    "Lets train it on clicking"
   ]
  },
  {
   "cell_type": "code",
   "execution_count": null,
   "metadata": {},
   "outputs": [
    {
     "name": "stdout",
     "output_type": "stream",
     "text": [
      "loading data end, start to boost trees\n",
      "[0]\ttrain-auc:0.662401\n",
      "Will train until train-auc hasn't improved in 5 rounds.\n",
      "[1]\ttrain-auc:0.662515\n",
      "[2]\ttrain-auc:0.664193\n",
      "[3]\ttrain-auc:0.66462\n",
      "[4]\ttrain-auc:0.664669\n",
      "[5]\ttrain-auc:0.665517\n",
      "[6]\ttrain-auc:0.665451\n",
      "[7]\ttrain-auc:0.665701\n",
      "[8]\ttrain-auc:0.665719\n",
      "[9]\ttrain-auc:0.666456\n",
      "[10]\ttrain-auc:0.666495\n",
      "[11]\ttrain-auc:0.666807\n",
      "[12]\ttrain-auc:0.66688\n",
      "[13]\ttrain-auc:0.666981\n",
      "[14]\ttrain-auc:0.667554\n",
      "[15]\ttrain-auc:0.667691\n",
      "[16]\ttrain-auc:0.667807\n",
      "[17]\ttrain-auc:0.667935\n",
      "[18]\ttrain-auc:0.66807\n",
      "[19]\ttrain-auc:0.668147\n",
      "[20]\ttrain-auc:0.668305\n",
      "[21]\ttrain-auc:0.668462\n",
      "[22]\ttrain-auc:0.668593\n",
      "[23]\ttrain-auc:0.668731\n",
      "[24]\ttrain-auc:0.66888\n",
      "[25]\ttrain-auc:0.668949\n",
      "[26]\ttrain-auc:0.669033\n",
      "[27]\ttrain-auc:0.66914\n",
      "[28]\ttrain-auc:0.669243\n",
      "[29]\ttrain-auc:0.669317\n",
      "[30]\ttrain-auc:0.669443\n",
      "[31]\ttrain-auc:0.669487\n",
      "[32]\ttrain-auc:0.66969\n",
      "[33]\ttrain-auc:0.669769\n",
      "[34]\ttrain-auc:0.670012\n",
      "[35]\ttrain-auc:0.670195\n",
      "[36]\ttrain-auc:0.67029\n",
      "[37]\ttrain-auc:0.670431\n",
      "[38]\ttrain-auc:0.670512\n",
      "[39]\ttrain-auc:0.670561\n",
      "[40]\ttrain-auc:0.670694\n",
      "[41]\ttrain-auc:0.670785\n",
      "[42]\ttrain-auc:0.670879\n",
      "[43]\ttrain-auc:0.670997\n",
      "[44]\ttrain-auc:0.671058\n",
      "[45]\ttrain-auc:0.67112\n",
      "[46]\ttrain-auc:0.671232\n",
      "[47]\ttrain-auc:0.671246\n",
      "[48]\ttrain-auc:0.671295\n",
      "[49]\ttrain-auc:0.671392\n",
      "[50]\ttrain-auc:0.671465\n",
      "[51]\ttrain-auc:0.671507\n",
      "[52]\ttrain-auc:0.671576\n",
      "[53]\ttrain-auc:0.671649\n",
      "[54]\ttrain-auc:0.6717\n",
      "[55]\ttrain-auc:0.671737\n",
      "[56]\ttrain-auc:0.671785\n",
      "[57]\ttrain-auc:0.671853\n",
      "[58]\ttrain-auc:0.671894\n",
      "[59]\ttrain-auc:0.671985\n",
      "[60]\ttrain-auc:0.672047\n",
      "[61]\ttrain-auc:0.672136\n",
      "[62]\ttrain-auc:0.672174\n",
      "[63]\ttrain-auc:0.672246\n",
      "[64]\ttrain-auc:0.672291\n",
      "[65]\ttrain-auc:0.672352\n",
      "[66]\ttrain-auc:0.67242\n",
      "[67]\ttrain-auc:0.672522\n",
      "[68]\ttrain-auc:0.672583\n",
      "[69]\ttrain-auc:0.672663\n",
      "[70]\ttrain-auc:0.672743\n",
      "[71]\ttrain-auc:0.672832\n",
      "[72]\ttrain-auc:0.67289\n",
      "[73]\ttrain-auc:0.672966\n",
      "[74]\ttrain-auc:0.673048\n",
      "[75]\ttrain-auc:0.67312\n",
      "[76]\ttrain-auc:0.673222\n",
      "[77]\ttrain-auc:0.673265\n",
      "[78]\ttrain-auc:0.673322\n",
      "[79]\ttrain-auc:0.673383\n",
      "[80]\ttrain-auc:0.673433\n",
      "[81]\ttrain-auc:0.673515\n",
      "[82]\ttrain-auc:0.673597\n"
     ]
    }
   ],
   "source": [
    "# construct xgboost.DMatrix from numpy array, treat -999.0 as missing value\n",
    "#xgmat = xgboost.DMatrix( df, label=y_train)\n",
    "xgmat = xgboost.DMatrix( df, label=Y)\n",
    "# setup parameters for xgboost\n",
    "param = {}\n",
    "# use logistic regression loss, use raw prediction before logistic transformation\n",
    "# since we only need the rank\n",
    "param['objective'] = 'binary:logistic'\n",
    "# scale weight of positive examples\n",
    "param['scale_pos_weight'] = sum(Y==0)/sum(Y==1)\n",
    "param['eta'] = 0.01\n",
    "param['max_depth'] = 6\n",
    "param['eval_metric'] = 'auc'\n",
    "param['silent'] = 0\n",
    "\n",
    "\n",
    "# you can directly throw param in, though we want to watch multiple metrics here\n",
    "plst = list(param.items())\n",
    "\n",
    "watchlist = [ (xgmat,'train') ]\n",
    "# boost 120 trees\n",
    "num_round = 120\n",
    "print ('loading data end, start to boost trees')\n",
    "bst = xgboost.train( plst, xgmat, num_round, watchlist ,early_stopping_rounds=5);\n",
    "# save out model\n",
    "bst.save_model(nameOfModel)\n",
    "\n",
    "print ('finish training')\n"
   ]
  },
  {
   "cell_type": "code",
   "execution_count": null,
   "metadata": {},
   "outputs": [],
   "source": [
    "df = pd.read_csv('../data/20PercentTestWithMean.csv', delimiter=\",\",usecols=featuresToUse+[labelToPredict]+neededVars)\n",
    "dfNeeded= df[neededVars+[labelToPredict]]\n",
    "Y = df[labelToPredict]\n",
    "df.drop(neededVars+[labelToPredict],axis=1,inplace=True)"
   ]
  },
  {
   "cell_type": "code",
   "execution_count": null,
   "metadata": {},
   "outputs": [],
   "source": [
    "xgmat_test = xgboost.DMatrix( df, label=Y)\n",
    "y_pred = bst.predict(xgmat_test)"
   ]
  },
  {
   "cell_type": "code",
   "execution_count": null,
   "metadata": {},
   "outputs": [],
   "source": [
    "predictions = [round(value) for value in y_pred]\n",
    "df = pd.concat([df,dfNeeded],axis=1)\n",
    "df['y_pred'] = y_pred"
   ]
  },
  {
   "cell_type": "code",
   "execution_count": null,
   "metadata": {},
   "outputs": [],
   "source": [
    "def getScore(df):\n",
    "    df['rank_srch_id'] = df.groupby('srch_id').cumcount().add(1)\n",
    "    df['gain'] = 5*df['booking_bool']\n",
    "    df['gain'] = np.where(df['gain'] == 0, df['click_bool'], df['gain'])\n",
    "\n",
    "    df['g/rank'] = df['gain']/df['rank_srch_id']\n",
    "    gi_sum = df['g/rank'].sum()\n",
    "    \n",
    "    df['gain_sorted'] = list(df[['srch_id', 'booking_bool', 'click_bool', 'gain']].sort_values(by = ['srch_id','booking_bool','click_bool'], ascending = [True, False, False])['gain'])\n",
    "    df['g/rank_sorted'] = df['gain_sorted']/df['rank_srch_id']\n",
    "    gi_sorted_sum = df['g/rank_sorted'].sum() \n",
    "    score = gi_sum/gi_sorted_sum\n",
    "    return score, gi_sum, gi_sorted_sum"
   ]
  },
  {
   "cell_type": "code",
   "execution_count": null,
   "metadata": {},
   "outputs": [],
   "source": [
    "score, gi_sum, gi_sorted_sum = getScore(df.sort_values(by=['srch_id', 'y_pred'], ascending = [True, False]).reset_index(drop=True))\n",
    "print(score)\n",
    "\n",
    "# evaluate predictions\n",
    "accuracy = accuracy_score(Y_test, predictions)\n",
    "print(\"Accuracy: %.2f%%\" % (accuracy * 100.0))\n",
    "Counter(predictions)"
   ]
  },
  {
   "cell_type": "markdown",
   "metadata": {},
   "source": [
    "Evaluation"
   ]
  },
  {
   "cell_type": "code",
   "execution_count": 10,
   "metadata": {},
   "outputs": [],
   "source": [
    "dfTest = pd.read_csv(\"../data/testWithMean.csv\")"
   ]
  },
  {
   "cell_type": "code",
   "execution_count": 11,
   "metadata": {},
   "outputs": [],
   "source": [
    "clickingModel = xgboost.Booster({'nthread': 12})  # init model\n",
    "clickingModel.load_model('clickingModel1may.model')  # load data\n"
   ]
  },
  {
   "cell_type": "code",
   "execution_count": 12,
   "metadata": {},
   "outputs": [],
   "source": [
    "xgmat_test_submission = xgboost.DMatrix(dfTest[featuresToUse])\n",
    "y_pred_clicking = clickingModel.predict(xgmat_test_submission)\n",
    "dfTest['predictedPos'] = y_pred_clicking\n",
    "dfTest = dfTest.sort_values(['srch_id','predictedPos'],ascending=[True, False])\n",
    "dfSubmission = dfTest[['srch_id','prop_id']]\n",
    "dfSubmission.to_csv(\"submissionTest1may.csv\",index=False)"
   ]
  }
 ],
 "metadata": {
  "kernelspec": {
   "display_name": "Python 3",
   "language": "python",
   "name": "python3"
  },
  "language_info": {
   "codemirror_mode": {
    "name": "ipython",
    "version": 3
   },
   "file_extension": ".py",
   "mimetype": "text/x-python",
   "name": "python",
   "nbconvert_exporter": "python",
   "pygments_lexer": "ipython3",
   "version": "3.6.5"
  }
 },
 "nbformat": 4,
 "nbformat_minor": 2
}
