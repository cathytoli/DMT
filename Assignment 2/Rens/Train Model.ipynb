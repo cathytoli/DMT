{
 "cells": [
  {
   "cell_type": "code",
   "execution_count": 4,
   "metadata": {},
   "outputs": [],
   "source": [
    "import pandas as pd\n",
    "import numpy as np\n",
    "import sklearn\n",
    "from xgboost import XGBClassifier\n",
    "import xgboost\n",
    "from collections import Counter\n",
    "from sklearn.model_selection import train_test_split\n",
    "from sklearn.metrics import accuracy_score\n",
    "from sklearn.metrics import classification_report\n",
    "import pickle\n",
    "from sklearn.utils import shuffle\n",
    "import json\n",
    "import os\n",
    "from xgboost import XGBClassifier\n",
    "from matplotlib import pyplot\n",
    "import math"
   ]
  },
  {
   "cell_type": "code",
   "execution_count": 5,
   "metadata": {},
   "outputs": [],
   "source": [
    "#Don't use datetime, Don't use categorical features, xgboost doesn't do those, first one hot encode\n",
    "featuresToUse = ['visitor_hist_starrating', 'visitor_hist_adr_usd',\n",
    "       'prop_starrating', 'prop_review_score', 'prop_brand_bool',\n",
    "       'prop_location_score1', 'prop_location_score2',\n",
    "       'prop_log_historical_price', 'price_usd', 'promotion_flag',\n",
    "       'srch_length_of_stay', 'srch_booking_window',\n",
    "       'srch_adults_count', 'srch_children_count', 'srch_room_count',\n",
    "       'srch_saturday_night_bool', 'srch_query_affinity_score',\n",
    "       'orig_destination_distance', 'comp1_rate', 'comp1_inv',\n",
    "                 'mean_prop_starrating',\n",
    "       'mean_prop_review_score', 'mean_prop_brand_bool',\n",
    "       'mean_prop_location_score1', 'mean_prop_location_score2',   'mean_prop_log_historical_price','cluster__0','cluster__1','cluster__2','cluster__3','cluster__4','cluster__5','diff_distance_orig','diff_price_usd']\n",
    "labelToPredict = 'booking_bool'\n",
    "neededVars = ['srch_id','click_bool']\n",
    "nameOfModel = \"models/16mayBooking\""
   ]
  },
  {
   "cell_type": "raw",
   "metadata": {},
   "source": [
    "#Don't use datetime, Don't use categorical features, xgboost doesn't do those, first one hot encode\n",
    "featuresToUse = ['visitor_hist_starrating', 'visitor_hist_adr_usd',\n",
    "       'prop_starrating', 'prop_review_score', 'prop_brand_bool',\n",
    "       'prop_location_score1', 'prop_location_score2',\n",
    "       'prop_log_historical_price', 'price_usd', 'promotion_flag',\n",
    "       'srch_length_of_stay', 'srch_booking_window',\n",
    "       'srch_adults_count', 'srch_children_count', 'srch_room_count',\n",
    "       'srch_saturday_night_bool', 'srch_query_affinity_score',\n",
    "       'orig_destination_distance', 'comp1_rate', 'comp1_inv',\n",
    "       'diff_distance_orig','diff_price_usd']\n",
    "labelToPredict = 'click_bool'\n",
    "neededVars = ['srch_id','booking_bool']\n",
    "nameOfModel = \"models/10mayClickingOverFitTest2\""
   ]
  },
  {
   "cell_type": "code",
   "execution_count": 8,
   "metadata": {},
   "outputs": [
    {
     "name": "stderr",
     "output_type": "stream",
     "text": [
      "E:\\Anaconda\\lib\\site-packages\\xgboost\\core.py:587: FutureWarning: Series.base is deprecated and will be removed in a future version\n",
      "  if getattr(data, 'base', None) is not None and \\\n"
     ]
    }
   ],
   "source": [
    "df = pd.read_csv('../data/80PercentTrainWithMeanNoShuffle.csv', delimiter=\",\",usecols=featuresToUse+[labelToPredict]+neededVars)\n",
    "dfNeeded= df[neededVars+[labelToPredict]]\n",
    "Y = df[labelToPredict]\n",
    "df.drop(neededVars+[labelToPredict],axis=1,inplace=True)\n",
    "xgmat = xgboost.DMatrix( df, label=Y)"
   ]
  },
  {
   "cell_type": "code",
   "execution_count": 9,
   "metadata": {},
   "outputs": [],
   "source": [
    "df = pd.read_csv('../data/20PercentTestWithMeanNoShuffle.csv', delimiter=\",\",usecols=featuresToUse+[labelToPredict]+neededVars)\n",
    "dfNeeded= df[neededVars+[labelToPredict]]\n",
    "Y = df[labelToPredict]\n",
    "df.drop(neededVars+[labelToPredict],axis=1,inplace=True)\n",
    "xgmat_test = xgboost.DMatrix( df, label=Y)"
   ]
  },
  {
   "cell_type": "markdown",
   "metadata": {},
   "source": [
    "Lets train it on clicking"
   ]
  },
  {
   "cell_type": "code",
   "execution_count": 12,
   "metadata": {},
   "outputs": [
    {
     "name": "stdout",
     "output_type": "stream",
     "text": [
      "loading data end, start to boost trees\n",
      "[0]\ttrain-auc:0.630829\ttest-auc:0.62949\n",
      "Multiple eval metrics have been passed: 'test-auc' will be used for early stopping.\n",
      "\n",
      "Will train until test-auc hasn't improved in 50 rounds.\n",
      "[1]\ttrain-auc:0.625257\ttest-auc:0.62443\n",
      "[2]\ttrain-auc:0.625022\ttest-auc:0.623495\n",
      "[3]\ttrain-auc:0.636968\ttest-auc:0.635218\n",
      "[4]\ttrain-auc:0.644418\ttest-auc:0.642428\n",
      "[5]\ttrain-auc:0.646062\ttest-auc:0.643916\n",
      "[6]\ttrain-auc:0.643254\ttest-auc:0.640492\n",
      "[7]\ttrain-auc:0.647199\ttest-auc:0.644114\n",
      "[8]\ttrain-auc:0.65182\ttest-auc:0.648522\n",
      "[9]\ttrain-auc:0.651834\ttest-auc:0.648205\n",
      "[10]\ttrain-auc:0.651587\ttest-auc:0.647642\n",
      "[11]\ttrain-auc:0.654274\ttest-auc:0.650043\n",
      "[12]\ttrain-auc:0.652207\ttest-auc:0.647898\n",
      "[13]\ttrain-auc:0.653255\ttest-auc:0.648557\n",
      "[14]\ttrain-auc:0.654618\ttest-auc:0.649668\n",
      "[15]\ttrain-auc:0.655077\ttest-auc:0.649925\n",
      "[16]\ttrain-auc:0.656063\ttest-auc:0.650652\n",
      "[17]\ttrain-auc:0.65562\ttest-auc:0.649941\n",
      "[18]\ttrain-auc:0.655706\ttest-auc:0.64978\n",
      "[19]\ttrain-auc:0.657191\ttest-auc:0.650945\n",
      "[20]\ttrain-auc:0.656884\ttest-auc:0.650463\n",
      "[21]\ttrain-auc:0.657354\ttest-auc:0.650853\n",
      "[22]\ttrain-auc:0.65849\ttest-auc:0.651739\n",
      "[23]\ttrain-auc:0.658897\ttest-auc:0.651946\n",
      "[24]\ttrain-auc:0.659088\ttest-auc:0.651991\n",
      "[25]\ttrain-auc:0.658696\ttest-auc:0.651421\n",
      "[26]\ttrain-auc:0.659571\ttest-auc:0.652097\n",
      "[27]\ttrain-auc:0.659402\ttest-auc:0.651846\n",
      "[28]\ttrain-auc:0.660215\ttest-auc:0.652511\n",
      "[29]\ttrain-auc:0.660991\ttest-auc:0.653085\n",
      "[30]\ttrain-auc:0.660927\ttest-auc:0.652857\n",
      "[31]\ttrain-auc:0.661473\ttest-auc:0.653221\n",
      "[32]\ttrain-auc:0.66178\ttest-auc:0.653377\n",
      "[33]\ttrain-auc:0.662152\ttest-auc:0.653526\n",
      "[34]\ttrain-auc:0.662524\ttest-auc:0.653658\n",
      "[35]\ttrain-auc:0.662892\ttest-auc:0.653932\n",
      "[36]\ttrain-auc:0.662768\ttest-auc:0.653708\n",
      "[37]\ttrain-auc:0.663239\ttest-auc:0.653946\n",
      "[38]\ttrain-auc:0.663273\ttest-auc:0.65384\n",
      "[39]\ttrain-auc:0.663458\ttest-auc:0.653975\n",
      "[40]\ttrain-auc:0.663976\ttest-auc:0.654267\n",
      "[41]\ttrain-auc:0.664067\ttest-auc:0.654273\n",
      "[42]\ttrain-auc:0.664118\ttest-auc:0.65423\n",
      "[43]\ttrain-auc:0.664251\ttest-auc:0.654281\n",
      "[44]\ttrain-auc:0.664665\ttest-auc:0.654544\n",
      "[45]\ttrain-auc:0.665328\ttest-auc:0.654804\n",
      "[46]\ttrain-auc:0.665855\ttest-auc:0.655174\n",
      "[47]\ttrain-auc:0.666062\ttest-auc:0.655203\n",
      "[48]\ttrain-auc:0.666182\ttest-auc:0.655136\n",
      "[49]\ttrain-auc:0.666423\ttest-auc:0.655269\n",
      "[50]\ttrain-auc:0.666611\ttest-auc:0.655245\n",
      "[51]\ttrain-auc:0.666984\ttest-auc:0.655515\n",
      "[52]\ttrain-auc:0.667153\ttest-auc:0.655514\n",
      "[53]\ttrain-auc:0.667493\ttest-auc:0.655696\n",
      "[54]\ttrain-auc:0.667704\ttest-auc:0.655767\n",
      "[55]\ttrain-auc:0.66795\ttest-auc:0.655887\n",
      "[56]\ttrain-auc:0.667998\ttest-auc:0.655791\n",
      "[57]\ttrain-auc:0.667785\ttest-auc:0.655571\n",
      "[58]\ttrain-auc:0.667952\ttest-auc:0.655584\n",
      "[59]\ttrain-auc:0.668152\ttest-auc:0.655499\n",
      "[60]\ttrain-auc:0.668232\ttest-auc:0.655532\n",
      "[61]\ttrain-auc:0.668308\ttest-auc:0.655568\n",
      "[62]\ttrain-auc:0.668569\ttest-auc:0.655645\n",
      "[63]\ttrain-auc:0.668597\ttest-auc:0.655519\n",
      "[64]\ttrain-auc:0.668685\ttest-auc:0.655414\n",
      "[65]\ttrain-auc:0.669155\ttest-auc:0.655667\n",
      "[66]\ttrain-auc:0.669238\ttest-auc:0.655568\n",
      "[67]\ttrain-auc:0.669322\ttest-auc:0.655537\n",
      "[68]\ttrain-auc:0.669526\ttest-auc:0.655544\n",
      "[69]\ttrain-auc:0.669926\ttest-auc:0.655783\n",
      "[70]\ttrain-auc:0.670083\ttest-auc:0.655781\n",
      "[71]\ttrain-auc:0.67025\ttest-auc:0.655833\n",
      "[72]\ttrain-auc:0.670315\ttest-auc:0.655806\n",
      "[73]\ttrain-auc:0.670344\ttest-auc:0.655621\n",
      "[74]\ttrain-auc:0.670382\ttest-auc:0.655519\n",
      "[75]\ttrain-auc:0.670271\ttest-auc:0.655158\n",
      "[76]\ttrain-auc:0.670615\ttest-auc:0.655324\n",
      "[77]\ttrain-auc:0.670697\ttest-auc:0.655159\n",
      "[78]\ttrain-auc:0.670729\ttest-auc:0.655107\n",
      "[79]\ttrain-auc:0.670921\ttest-auc:0.655153\n",
      "[80]\ttrain-auc:0.671131\ttest-auc:0.655179\n",
      "[81]\ttrain-auc:0.671343\ttest-auc:0.655245\n",
      "[82]\ttrain-auc:0.671547\ttest-auc:0.655366\n",
      "[83]\ttrain-auc:0.671715\ttest-auc:0.655395\n",
      "[84]\ttrain-auc:0.671842\ttest-auc:0.655414\n",
      "[85]\ttrain-auc:0.671905\ttest-auc:0.655378\n",
      "[86]\ttrain-auc:0.672026\ttest-auc:0.655349\n",
      "[87]\ttrain-auc:0.672219\ttest-auc:0.65542\n",
      "[88]\ttrain-auc:0.672287\ttest-auc:0.655269\n",
      "[89]\ttrain-auc:0.672598\ttest-auc:0.655434\n",
      "[90]\ttrain-auc:0.672763\ttest-auc:0.655524\n",
      "[91]\ttrain-auc:0.672722\ttest-auc:0.655476\n",
      "[92]\ttrain-auc:0.672915\ttest-auc:0.655526\n",
      "[93]\ttrain-auc:0.673177\ttest-auc:0.655692\n",
      "[94]\ttrain-auc:0.673457\ttest-auc:0.655748\n",
      "[95]\ttrain-auc:0.673566\ttest-auc:0.655788\n",
      "[96]\ttrain-auc:0.673847\ttest-auc:0.655936\n",
      "[97]\ttrain-auc:0.673908\ttest-auc:0.655936\n",
      "[98]\ttrain-auc:0.674152\ttest-auc:0.65592\n",
      "[99]\ttrain-auc:0.674215\ttest-auc:0.65592\n",
      "[100]\ttrain-auc:0.674274\ttest-auc:0.655919\n",
      "[101]\ttrain-auc:0.674523\ttest-auc:0.65587\n",
      "[102]\ttrain-auc:0.674659\ttest-auc:0.655897\n",
      "[103]\ttrain-auc:0.674812\ttest-auc:0.655865\n",
      "[104]\ttrain-auc:0.674854\ttest-auc:0.655818\n",
      "[105]\ttrain-auc:0.674996\ttest-auc:0.655821\n",
      "[106]\ttrain-auc:0.674968\ttest-auc:0.655759\n",
      "[107]\ttrain-auc:0.675199\ttest-auc:0.655845\n",
      "[108]\ttrain-auc:0.675567\ttest-auc:0.656\n",
      "[109]\ttrain-auc:0.675631\ttest-auc:0.656005\n",
      "[110]\ttrain-auc:0.675819\ttest-auc:0.656054\n",
      "[111]\ttrain-auc:0.675971\ttest-auc:0.656023\n",
      "[112]\ttrain-auc:0.675935\ttest-auc:0.655865\n",
      "[113]\ttrain-auc:0.676066\ttest-auc:0.655796\n",
      "[114]\ttrain-auc:0.676185\ttest-auc:0.655852\n",
      "[115]\ttrain-auc:0.676317\ttest-auc:0.655808\n",
      "[116]\ttrain-auc:0.676537\ttest-auc:0.655965\n",
      "[117]\ttrain-auc:0.676553\ttest-auc:0.655938\n",
      "[118]\ttrain-auc:0.676668\ttest-auc:0.655972\n",
      "[119]\ttrain-auc:0.676754\ttest-auc:0.655864\n",
      "[120]\ttrain-auc:0.676847\ttest-auc:0.655824\n",
      "[121]\ttrain-auc:0.677104\ttest-auc:0.655965\n",
      "[122]\ttrain-auc:0.677123\ttest-auc:0.655876\n",
      "[123]\ttrain-auc:0.677408\ttest-auc:0.655992\n",
      "[124]\ttrain-auc:0.67755\ttest-auc:0.656018\n",
      "[125]\ttrain-auc:0.677514\ttest-auc:0.65585\n",
      "[126]\ttrain-auc:0.677669\ttest-auc:0.655876\n",
      "[127]\ttrain-auc:0.678098\ttest-auc:0.656096\n",
      "[128]\ttrain-auc:0.678208\ttest-auc:0.656046\n",
      "[129]\ttrain-auc:0.678391\ttest-auc:0.656025\n",
      "[130]\ttrain-auc:0.678454\ttest-auc:0.656005\n",
      "[131]\ttrain-auc:0.67864\ttest-auc:0.656101\n",
      "[132]\ttrain-auc:0.67888\ttest-auc:0.656108\n",
      "[133]\ttrain-auc:0.679153\ttest-auc:0.65619\n",
      "[134]\ttrain-auc:0.679294\ttest-auc:0.656245\n",
      "[135]\ttrain-auc:0.67942\ttest-auc:0.65625\n",
      "[136]\ttrain-auc:0.679673\ttest-auc:0.65627\n",
      "[137]\ttrain-auc:0.679812\ttest-auc:0.656226\n",
      "[138]\ttrain-auc:0.680074\ttest-auc:0.656369\n",
      "[139]\ttrain-auc:0.680201\ttest-auc:0.656385\n",
      "[140]\ttrain-auc:0.680374\ttest-auc:0.656467\n",
      "[141]\ttrain-auc:0.680488\ttest-auc:0.656504\n",
      "[142]\ttrain-auc:0.68056\ttest-auc:0.656457\n",
      "[143]\ttrain-auc:0.680744\ttest-auc:0.6564\n",
      "[144]\ttrain-auc:0.680959\ttest-auc:0.656465\n",
      "[145]\ttrain-auc:0.681058\ttest-auc:0.656483\n",
      "[146]\ttrain-auc:0.68113\ttest-auc:0.656399\n",
      "[147]\ttrain-auc:0.681266\ttest-auc:0.656349\n",
      "[148]\ttrain-auc:0.68154\ttest-auc:0.656427\n",
      "[149]\ttrain-auc:0.681711\ttest-auc:0.656571\n",
      "[150]\ttrain-auc:0.681792\ttest-auc:0.656531\n",
      "[151]\ttrain-auc:0.68191\ttest-auc:0.656635\n",
      "[152]\ttrain-auc:0.68191\ttest-auc:0.656527\n",
      "[153]\ttrain-auc:0.682201\ttest-auc:0.656694\n",
      "[154]\ttrain-auc:0.68223\ttest-auc:0.656647\n",
      "[155]\ttrain-auc:0.682347\ttest-auc:0.656583\n",
      "[156]\ttrain-auc:0.682439\ttest-auc:0.656542\n",
      "[157]\ttrain-auc:0.682519\ttest-auc:0.656545\n",
      "[158]\ttrain-auc:0.68283\ttest-auc:0.656631\n",
      "[159]\ttrain-auc:0.682877\ttest-auc:0.656535\n",
      "[160]\ttrain-auc:0.683055\ttest-auc:0.656601\n",
      "[161]\ttrain-auc:0.683199\ttest-auc:0.656659\n",
      "[162]\ttrain-auc:0.683247\ttest-auc:0.656652\n",
      "[163]\ttrain-auc:0.683243\ttest-auc:0.65655\n",
      "[164]\ttrain-auc:0.683373\ttest-auc:0.656547\n",
      "[165]\ttrain-auc:0.68349\ttest-auc:0.656564\n",
      "[166]\ttrain-auc:0.68352\ttest-auc:0.656528\n",
      "[167]\ttrain-auc:0.68372\ttest-auc:0.656555\n",
      "[168]\ttrain-auc:0.683677\ttest-auc:0.6565\n",
      "[169]\ttrain-auc:0.683791\ttest-auc:0.656465\n",
      "[170]\ttrain-auc:0.683883\ttest-auc:0.656451\n",
      "[171]\ttrain-auc:0.683918\ttest-auc:0.656422\n",
      "[172]\ttrain-auc:0.683923\ttest-auc:0.656368\n",
      "[173]\ttrain-auc:0.68392\ttest-auc:0.656339\n",
      "[174]\ttrain-auc:0.683962\ttest-auc:0.65628\n",
      "[175]\ttrain-auc:0.68425\ttest-auc:0.656356\n",
      "[176]\ttrain-auc:0.684386\ttest-auc:0.656431\n",
      "[177]\ttrain-auc:0.68452\ttest-auc:0.656411\n",
      "[178]\ttrain-auc:0.684623\ttest-auc:0.656463\n",
      "[179]\ttrain-auc:0.684754\ttest-auc:0.656491\n",
      "[180]\ttrain-auc:0.684821\ttest-auc:0.656437\n",
      "[181]\ttrain-auc:0.684895\ttest-auc:0.656409\n",
      "[182]\ttrain-auc:0.684948\ttest-auc:0.656417\n",
      "[183]\ttrain-auc:0.685019\ttest-auc:0.656473\n",
      "[184]\ttrain-auc:0.685362\ttest-auc:0.656679\n",
      "[185]\ttrain-auc:0.685494\ttest-auc:0.656636\n",
      "[186]\ttrain-auc:0.685553\ttest-auc:0.656581\n",
      "[187]\ttrain-auc:0.685756\ttest-auc:0.656665\n",
      "[188]\ttrain-auc:0.685829\ttest-auc:0.656662\n",
      "[189]\ttrain-auc:0.685945\ttest-auc:0.65665\n"
     ]
    },
    {
     "name": "stdout",
     "output_type": "stream",
     "text": [
      "[190]\ttrain-auc:0.68614\ttest-auc:0.656724\n",
      "[191]\ttrain-auc:0.686177\ttest-auc:0.656653\n",
      "[192]\ttrain-auc:0.686253\ttest-auc:0.656644\n",
      "[193]\ttrain-auc:0.686417\ttest-auc:0.656686\n",
      "[194]\ttrain-auc:0.686566\ttest-auc:0.656745\n",
      "[195]\ttrain-auc:0.686588\ttest-auc:0.656661\n",
      "[196]\ttrain-auc:0.686665\ttest-auc:0.65668\n",
      "[197]\ttrain-auc:0.686751\ttest-auc:0.656651\n",
      "[198]\ttrain-auc:0.686854\ttest-auc:0.656689\n",
      "[199]\ttrain-auc:0.686947\ttest-auc:0.656604\n",
      "[200]\ttrain-auc:0.68695\ttest-auc:0.656494\n",
      "[201]\ttrain-auc:0.687181\ttest-auc:0.656551\n",
      "[202]\ttrain-auc:0.68733\ttest-auc:0.656577\n",
      "[203]\ttrain-auc:0.687304\ttest-auc:0.656453\n",
      "[204]\ttrain-auc:0.687462\ttest-auc:0.656461\n",
      "[205]\ttrain-auc:0.687539\ttest-auc:0.656446\n",
      "[206]\ttrain-auc:0.687715\ttest-auc:0.656449\n",
      "[207]\ttrain-auc:0.687828\ttest-auc:0.656382\n",
      "[208]\ttrain-auc:0.687905\ttest-auc:0.656409\n",
      "[209]\ttrain-auc:0.687918\ttest-auc:0.656318\n",
      "[210]\ttrain-auc:0.68801\ttest-auc:0.65636\n",
      "[211]\ttrain-auc:0.688111\ttest-auc:0.656287\n",
      "[212]\ttrain-auc:0.688167\ttest-auc:0.65628\n",
      "[213]\ttrain-auc:0.688218\ttest-auc:0.656234\n",
      "[214]\ttrain-auc:0.688347\ttest-auc:0.656144\n",
      "[215]\ttrain-auc:0.688451\ttest-auc:0.656159\n",
      "[216]\ttrain-auc:0.688507\ttest-auc:0.656144\n",
      "[217]\ttrain-auc:0.68853\ttest-auc:0.656141\n",
      "[218]\ttrain-auc:0.68866\ttest-auc:0.656139\n",
      "[219]\ttrain-auc:0.688873\ttest-auc:0.656152\n",
      "[220]\ttrain-auc:0.68892\ttest-auc:0.656168\n",
      "[221]\ttrain-auc:0.68907\ttest-auc:0.656133\n",
      "[222]\ttrain-auc:0.689103\ttest-auc:0.656151\n",
      "[223]\ttrain-auc:0.689165\ttest-auc:0.656118\n",
      "[224]\ttrain-auc:0.689298\ttest-auc:0.656199\n",
      "[225]\ttrain-auc:0.689384\ttest-auc:0.656165\n",
      "[226]\ttrain-auc:0.68943\ttest-auc:0.656119\n",
      "[227]\ttrain-auc:0.689496\ttest-auc:0.656036\n",
      "[228]\ttrain-auc:0.689568\ttest-auc:0.65599\n",
      "[229]\ttrain-auc:0.689674\ttest-auc:0.655955\n",
      "[230]\ttrain-auc:0.689792\ttest-auc:0.655966\n",
      "[231]\ttrain-auc:0.689891\ttest-auc:0.655986\n",
      "[232]\ttrain-auc:0.690095\ttest-auc:0.656123\n",
      "[233]\ttrain-auc:0.690158\ttest-auc:0.656133\n",
      "[234]\ttrain-auc:0.690399\ttest-auc:0.656212\n",
      "[235]\ttrain-auc:0.690521\ttest-auc:0.656211\n",
      "[236]\ttrain-auc:0.690628\ttest-auc:0.656194\n",
      "[237]\ttrain-auc:0.690672\ttest-auc:0.65618\n",
      "[238]\ttrain-auc:0.690739\ttest-auc:0.656185\n",
      "[239]\ttrain-auc:0.690947\ttest-auc:0.656159\n",
      "[240]\ttrain-auc:0.691045\ttest-auc:0.656202\n",
      "[241]\ttrain-auc:0.691204\ttest-auc:0.656235\n",
      "[242]\ttrain-auc:0.691287\ttest-auc:0.6562\n",
      "[243]\ttrain-auc:0.691467\ttest-auc:0.656283\n",
      "[244]\ttrain-auc:0.691583\ttest-auc:0.656259\n",
      "Stopping. Best iteration:\n",
      "[194]\ttrain-auc:0.686566\ttest-auc:0.656745\n",
      "\n",
      "finish training\n"
     ]
    }
   ],
   "source": [
    "# construct xgboost.DMatrix from numpy array, treat -999.0 as missing value\n",
    "#xgmat = xgboost.DMatrix( df, label=y_train)\n",
    "\n",
    "# setup parameters for xgboost\n",
    "param = {}\n",
    "# use logistic regression loss, use raw prediction before logistic transformation\n",
    "# since we only need the rank\n",
    "param['objective'] = 'reg:logistic'\n",
    "# scale weight of positive examples\n",
    "param['scale_pos_weight'] = sum(Y==0)/sum(Y==1)\n",
    "param['eta'] = 0.2\n",
    "param['max_depth'] = 7\n",
    "param['gamma'] = 2\n",
    "param['eval_metric'] = 'auc'\n",
    "param['silent'] = 0\n",
    "param['min_child_weight'] = 4\n",
    "param['eval_set'] = xgmat_test\n",
    "param['colsample_bytree'] = 0.7\n",
    "param['subsample'] = 0.8\n",
    "\n",
    "\n",
    "# you can directly throw param in, though we want to watch multiple metrics here\n",
    "plst = list(param.items())\n",
    "\n",
    "watchlist = [ (xgmat,'train') ,(xgmat_test,'test')]\n",
    "\n",
    "num_round = 1000\n",
    "print ('loading data end, start to boost trees')\n",
    "bst = xgboost.train( plst, xgmat, num_round, watchlist ,early_stopping_rounds=50);\n",
    "# save out model\n",
    "bst.save_model(nameOfModel+\".model\")\n",
    "\n",
    "print ('finish training')\n"
   ]
  },
  {
   "cell_type": "code",
   "execution_count": 15,
   "metadata": {
    "scrolled": true
   },
   "outputs": [
    {
     "data": {
      "text/plain": [
       "<matplotlib.axes._subplots.AxesSubplot at 0x25c80040c50>"
      ]
     },
     "execution_count": 15,
     "metadata": {},
     "output_type": "execute_result"
    },
    {
     "data": {
      "image/png": "[encoded data removed]",
      "text/plain": [
       "<Figure size 432x288 with 1 Axes>"
      ]
     },
     "metadata": {
      "needs_background": "light"
     },
     "output_type": "display_data"
    }
   ],
   "source": [
    "feat_imp = pd.Series(bst.get_fscore()).sort_values(ascending=False)\n",
    "feat_imp.plot(kind='bar', title='Feature Importances')\n"
   ]
  },
  {
   "cell_type": "code",
   "execution_count": 16,
   "metadata": {},
   "outputs": [],
   "source": [
    "y_pred = bst.predict(xgmat_test)"
   ]
  },
  {
   "cell_type": "code",
   "execution_count": 19,
   "metadata": {},
   "outputs": [],
   "source": [
    "predictions = [round(value) for value in y_pred]\n",
    "df = pd.concat([df,dfNeeded],axis=1)\n",
    "df['y_pred'] = y_pred"
   ]
  },
  {
   "cell_type": "code",
   "execution_count": 20,
   "metadata": {},
   "outputs": [],
   "source": [
    "def getLog(x):\n",
    "    return math.log(x+1,2)\n",
    "def getScore(df):\n",
    "    df['rank_srch_id'] = df.groupby('srch_id').cumcount().add(1)\n",
    "    \n",
    "    df['gain'] = 5*df['booking_bool']\n",
    "    df['gain'] = np.where(df['gain'] == 0, df['click_bool'], df['gain'])\n",
    "    df['log_rank'] = df['rank_srch_id'].apply(getLog)\n",
    "    \n",
    "    df['g/rank'] = df['gain']/df['log_rank']\n",
    "    gi_sum = df['g/rank'].sum()\n",
    "\n",
    "    df['gain_sorted'] = list(df[['srch_id', 'booking_bool', 'click_bool', 'gain']].sort_values(by = ['srch_id','booking_bool','click_bool'], ascending = [True, False, False])['gain'])\n",
    "    df['g/rank_sorted'] = df['gain_sorted']/df['log_rank']\n",
    "    gi_sorted_sum = df['g/rank_sorted'].sum()\n",
    "    \n",
    "    score = gi_sum/gi_sorted_sum\n",
    "\n",
    "    return score, gi_sum, gi_sorted_sum"
   ]
  },
  {
   "cell_type": "code",
   "execution_count": 21,
   "metadata": {
    "scrolled": true
   },
   "outputs": [
    {
     "name": "stdout",
     "output_type": "stream",
     "text": [
      "0.47545105879405397\n",
      "Accuracy: 63.80%\n"
     ]
    }
   ],
   "source": [
    "score, gi_sum, gi_sorted_sum = getScore(df.sort_values(by=['srch_id', 'y_pred'], ascending = [True, False]).reset_index(drop=True))\n",
    "print(score)\n",
    "\n",
    "# evaluate predictions\n",
    "accuracy = accuracy_score(df['click_bool'], predictions)\n",
    "print(\"Accuracy: %.2f%%\" % (accuracy * 100.0))"
   ]
  },
  {
   "cell_type": "code",
   "execution_count": 11,
   "metadata": {},
   "outputs": [],
   "source": [
    "f=open(\"scores.txt\", \"a+\")\n",
    "f.write(\"Score: \"+str(score)+\"\\n\")\n",
    "f.write(\"Label to predict: \"+str(labelToPredict)+\"\\n\")\n",
    "f.write(\"Features used:\\n\")\n",
    "f.write(str(list(featuresToUse)) +\"\\n\")\n",
    "f.write(\"Parameters xgboost:\\n\")\n",
    "f.write(str((param))+\"\\n\")\n",
    "f.write(\"Number of rounds:\\n\"+str(num_round)+\"\\n\")\n",
    "f.close()"
   ]
  },
  {
   "cell_type": "code",
   "execution_count": 12,
   "metadata": {},
   "outputs": [],
   "source": [
    "os.rename(nameOfModel+\".model\",nameOfModel+str(int(score*100))+\".model\")\n",
    "newNameOfModel = nameOfModel+str(int(score*100))"
   ]
  },
  {
   "cell_type": "markdown",
   "metadata": {},
   "source": [
    "Lets combine the models"
   ]
  },
  {
   "cell_type": "code",
   "execution_count": 7,
   "metadata": {},
   "outputs": [],
   "source": [
    "clickingModel = xgboost.Booster()\n",
    "clickingModel.load_model('models/16mayClicking50.model')\n",
    "bookingModel = xgboost.Booster()\n",
    "bookingModel.load_model(\"models/16mayBooking50.model\")"
   ]
  },
  {
   "cell_type": "code",
   "execution_count": 8,
   "metadata": {},
   "outputs": [],
   "source": [
    "df = pd.read_csv('../data/20PercentTestWithMeanNoShuffle.csv', delimiter=\",\",usecols=featuresToUse+[labelToPredict]+neededVars)\n",
    "dfNeeded= df[neededVars+[labelToPredict]]\n",
    "df.drop(neededVars+[labelToPredict],axis=1,inplace=True)"
   ]
  },
  {
   "cell_type": "code",
   "execution_count": 9,
   "metadata": {},
   "outputs": [],
   "source": [
    "xgmat_test = xgboost.DMatrix( df)\n",
    "y_pred_clicking = clickingModel.predict(xgmat_test)\n",
    "y_pred_booking = bookingModel.predict(xgmat_test)"
   ]
  },
  {
   "cell_type": "code",
   "execution_count": 10,
   "metadata": {},
   "outputs": [],
   "source": [
    "df = pd.concat([df,dfNeeded],axis=1)\n",
    "df['y_pred_clicking'] = y_pred_clicking\n",
    "df['y_pred_booking'] = y_pred_booking\n",
    "df['combined'] = y_pred_booking+y_pred_clicking"
   ]
  },
  {
   "cell_type": "code",
   "execution_count": 13,
   "metadata": {},
   "outputs": [
    {
     "name": "stdout",
     "output_type": "stream",
     "text": [
      "Sort first on booking and then on clicking: 0.5050291941646882\n",
      "Combine then sort: 0.5101916308841273\n"
     ]
    }
   ],
   "source": [
    "score_apart, gi_sum, gi_sorted_sum = getScore(df.sort_values(by=['srch_id', 'y_pred_booking', 'y_pred_clicking'], ascending = [True, False,False]).reset_index(drop=True))\n",
    "score_combined, gi_sum, gi_sorted_sum = getScore(df.sort_values(by=['srch_id', 'combined'], ascending = [True, False]).reset_index(drop=True))\n",
    "print(\"Sort first on booking and then on clicking: \"+str(score_apart))\n",
    "print(\"Combine then sort: \"+str(score_combined))"
   ]
  },
  {
   "cell_type": "markdown",
   "metadata": {},
   "source": [
    "Evaluation"
   ]
  },
  {
   "cell_type": "code",
   "execution_count": 3,
   "metadata": {},
   "outputs": [],
   "source": [
    "dfTest = pd.read_csv(\"../data/testWithMean.csv\")"
   ]
  },
  {
   "cell_type": "code",
   "execution_count": 4,
   "metadata": {},
   "outputs": [
    {
     "data": {
      "text/plain": [
       "Index(['srch_id', 'date_time', 'site_id', 'visitor_location_country_id',\n",
       "       'visitor_hist_starrating', 'visitor_hist_adr_usd', 'prop_country_id',\n",
       "       'prop_id', 'prop_starrating', 'prop_review_score', 'prop_brand_bool',\n",
       "       'prop_location_score1', 'prop_location_score2',\n",
       "       'prop_log_historical_price', 'price_usd', 'promotion_flag',\n",
       "       'srch_destination_id', 'srch_length_of_stay', 'srch_booking_window',\n",
       "       'srch_adults_count', 'srch_children_count', 'srch_room_count',\n",
       "       'srch_saturday_night_bool', 'srch_query_affinity_score',\n",
       "       'orig_destination_distance', 'random_bool', 'comp1_rate', 'comp1_inv',\n",
       "       'comp1_rate_percent_diff', 'comp2_rate', 'comp2_inv',\n",
       "       'comp2_rate_percent_diff', 'comp3_rate', 'comp3_inv',\n",
       "       'comp3_rate_percent_diff', 'comp4_rate', 'comp4_inv',\n",
       "       'comp4_rate_percent_diff', 'comp5_rate', 'comp5_inv',\n",
       "       'comp5_rate_percent_diff', 'comp6_rate', 'comp6_inv',\n",
       "       'comp6_rate_percent_diff', 'comp7_rate', 'comp7_inv',\n",
       "       'comp7_rate_percent_diff', 'comp8_rate', 'comp8_inv',\n",
       "       'comp8_rate_percent_diff', 'mean_prop_starrating',\n",
       "       'mean_prop_review_score', 'mean_prop_brand_bool',\n",
       "       'mean_prop_location_score1', 'mean_prop_location_score2',\n",
       "       'mean_prop_log_historical_price', 'cluster__0', 'cluster__1',\n",
       "       'cluster__2', 'cluster__3', 'cluster__4', 'cluster__5',\n",
       "       'booking_prop_dest_mean', 'booking_prop_total_mean', 'diff_price_usd',\n",
       "       'diff_distance_orig'],\n",
       "      dtype='object')"
      ]
     },
     "execution_count": 4,
     "metadata": {},
     "output_type": "execute_result"
    }
   ],
   "source": [
    "dfTest.columns"
   ]
  },
  {
   "cell_type": "code",
   "execution_count": 5,
   "metadata": {},
   "outputs": [],
   "source": [
    "clickingModel = xgboost.Booster()\n",
    "clickingModel.load_model('models/16mayClicking50.model')\n",
    "bookingModel = xgboost.Booster()\n",
    "bookingModel.load_model(\"models/11mayClicking50.model\")"
   ]
  },
  {
   "cell_type": "code",
   "execution_count": 6,
   "metadata": {},
   "outputs": [],
   "source": [
    "xgmat_test_submission = xgboost.DMatrix(dfTest[featuresToUse])\n",
    "y_pred_clicking = clickingModel.predict(xgmat_test_submission)\n",
    "y_pred_booking = bookingModel.predict(xgmat_test_submission)\n",
    "dfTest['predictedPos'] = y_pred_clicking+y_pred_booking\n",
    "dfTest = dfTest.sort_values(['srch_id','predictedPos'],ascending=[True, False])\n",
    "dfSubmission = dfTest[['srch_id','prop_id']]\n",
    "dfSubmission.to_csv(\"submissionTest16Final.csv\",index=False)"
   ]
  }
 ],
 "metadata": {
  "kernelspec": {
   "display_name": "Python 3",
   "language": "python",
   "name": "python3"
  },
  "language_info": {
   "codemirror_mode": {
    "name": "ipython",
    "version": 3
   },
   "file_extension": ".py",
   "mimetype": "text/x-python",
   "name": "python",
   "nbconvert_exporter": "python",
   "pygments_lexer": "ipython3",
   "version": "3.6.8"
  }
 },
 "nbformat": 4,
 "nbformat_minor": 2
}
