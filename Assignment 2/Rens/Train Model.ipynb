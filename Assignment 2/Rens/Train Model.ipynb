{
 "cells": [
  {
   "cell_type": "code",
   "execution_count": 1,
   "metadata": {},
   "outputs": [],
   "source": [
    "import pandas as pd\n",
    "import numpy as np\n",
    "import sklearn\n",
    "from xgboost import XGBClassifier\n",
    "import xgboost\n",
    "from collections import Counter\n",
    "from sklearn.model_selection import train_test_split\n",
    "from sklearn.metrics import accuracy_score\n",
    "from sklearn.metrics import classification_report\n",
    "import pickle\n",
    "from sklearn.utils import shuffle"
   ]
  },
  {
   "cell_type": "code",
   "execution_count": 2,
   "metadata": {},
   "outputs": [
    {
     "data": {
      "text/plain": [
       "srch_id                             int64\n",
       "date_time                          object\n",
       "site_id                             int64\n",
       "visitor_location_country_id         int64\n",
       "visitor_hist_starrating           float64\n",
       "visitor_hist_adr_usd              float64\n",
       "prop_country_id                     int64\n",
       "prop_id                             int64\n",
       "prop_starrating                     int64\n",
       "prop_review_score                 float64\n",
       "prop_brand_bool                     int64\n",
       "prop_location_score1              float64\n",
       "prop_location_score2              float64\n",
       "prop_log_historical_price         float64\n",
       "position                            int64\n",
       "price_usd                         float64\n",
       "promotion_flag                      int64\n",
       "srch_destination_id                 int64\n",
       "srch_length_of_stay                 int64\n",
       "srch_booking_window                 int64\n",
       "srch_adults_count                   int64\n",
       "srch_children_count                 int64\n",
       "srch_room_count                     int64\n",
       "srch_saturday_night_bool            int64\n",
       "srch_query_affinity_score         float64\n",
       "orig_destination_distance         float64\n",
       "random_bool                         int64\n",
       "comp1_rate                        float64\n",
       "comp1_inv                         float64\n",
       "comp1_rate_percent_diff           float64\n",
       "                                   ...   \n",
       "comp2_inv                         float64\n",
       "comp2_rate_percent_diff           float64\n",
       "comp3_rate                        float64\n",
       "comp3_inv                         float64\n",
       "comp3_rate_percent_diff           float64\n",
       "comp4_rate                        float64\n",
       "comp4_inv                         float64\n",
       "comp4_rate_percent_diff           float64\n",
       "comp5_rate                        float64\n",
       "comp5_inv                         float64\n",
       "comp5_rate_percent_diff           float64\n",
       "comp6_rate                        float64\n",
       "comp6_inv                         float64\n",
       "comp6_rate_percent_diff           float64\n",
       "comp7_rate                        float64\n",
       "comp7_inv                         float64\n",
       "comp7_rate_percent_diff           float64\n",
       "comp8_rate                        float64\n",
       "comp8_inv                         float64\n",
       "comp8_rate_percent_diff           float64\n",
       "click_bool                          int64\n",
       "gross_bookings_usd                float64\n",
       "booking_bool                        int64\n",
       "prop_id_mean                      float64\n",
       "prop_starrating_mean              float64\n",
       "prop_review_score_mean            float64\n",
       "prop_brand_bool_mean              float64\n",
       "prop_location_score1_mean         float64\n",
       "prop_location_score2_mean         float64\n",
       "prop_log_historical_price_mean    float64\n",
       "Length: 61, dtype: object"
      ]
     },
     "execution_count": 2,
     "metadata": {},
     "output_type": "execute_result"
    }
   ],
   "source": [
    "df = pd.read_csv('../data/trainWithMean.csv',nrows=1)\n"
   ]
  },
  {
   "cell_type": "code",
   "execution_count": 2,
   "metadata": {},
   "outputs": [],
   "source": [
    "#Don't use datetime, Don't use categorical features, xgboost doesn't those, first one hot encode\n",
    "featuresToUse = ['visitor_hist_starrating', 'visitor_hist_adr_usd',\n",
    "       'prop_starrating', 'prop_review_score', 'prop_brand_bool',\n",
    "       'prop_location_score1', 'prop_location_score2',\n",
    "       'prop_log_historical_price', 'price_usd', 'promotion_flag',\n",
    "       'srch_destination_id', 'srch_length_of_stay', 'srch_booking_window',\n",
    "       'srch_adults_count', 'srch_children_count', 'srch_room_count',\n",
    "       'srch_saturday_night_bool', 'srch_query_affinity_score',\n",
    "       'orig_destination_distance', 'comp1_rate', 'comp1_inv',\n",
    "                 'prop_starrating_mean',\n",
    "       'prop_review_score_mean', 'prop_brand_bool_mean',\n",
    "       'prop_location_score1_mean', 'prop_location_score2_mean',\n",
    "       'prop_log_historical_price_mean']\n",
    "labelToPredict = 'click_bool'\n",
    "neededVars = ['srch_id','booking_bool']\n",
    "nameOfModel = \"clickingModel1may.model\""
   ]
  },
  {
   "cell_type": "code",
   "execution_count": 3,
   "metadata": {},
   "outputs": [],
   "source": [
    "df = pd.read_csv('../data/trainWithMean.csv', delimiter=\",\",usecols=featuresToUse+[labelToPredict]+neededVars)\n",
    "df = shuffle(df)\n",
    "dfNeeded= df[neededVars+[labelToPredict]]\n",
    "Y = df[labelToPredict]\n",
    "df.drop(neededVars+[labelToPredict],axis=1,inplace=True)"
   ]
  },
  {
   "cell_type": "markdown",
   "metadata": {},
   "source": [
    "Lets train it on clicking"
   ]
  },
  {
   "cell_type": "code",
   "execution_count": 4,
   "metadata": {},
   "outputs": [
    {
     "name": "stderr",
     "output_type": "stream",
     "text": [
      "E:\\Anaconda\\lib\\site-packages\\pandas\\core\\frame.py:3940: SettingWithCopyWarning: \n",
      "A value is trying to be set on a copy of a slice from a DataFrame\n",
      "\n",
      "See the caveats in the documentation: http://pandas.pydata.org/pandas-docs/stable/indexing.html#indexing-view-versus-copy\n",
      "  errors=errors)\n"
     ]
    }
   ],
   "source": [
    "n = 30\n",
    "numOfRowsTest = (int(len(df)*(n/100)))\n",
    "X_test = df.tail(numOfRowsTest)\n",
    "Y_test = Y[-numOfRowsTest:]\n",
    "dfNeeded_test = dfNeeded.tail(numOfRowsTest)\n",
    "\n",
    "dfNeeded.drop(dfNeeded.tail(numOfRowsTest).index,inplace=True)\n",
    "df.drop(df.tail(numOfRowsTest).index,inplace=True)\n",
    "y_train = Y[:(len(Y)-numOfRowsTest)]"
   ]
  },
  {
   "cell_type": "code",
   "execution_count": 5,
   "metadata": {},
   "outputs": [
    {
     "name": "stderr",
     "output_type": "stream",
     "text": [
      "E:\\Anaconda\\lib\\site-packages\\xgboost\\core.py:587: FutureWarning: Series.base is deprecated and will be removed in a future version\n",
      "  if getattr(data, 'base', None) is not None and \\\n",
      "E:\\Anaconda\\lib\\site-packages\\xgboost\\core.py:588: FutureWarning: Series.base is deprecated and will be removed in a future version\n",
      "  data.base is not None and isinstance(data, np.ndarray) \\\n"
     ]
    },
    {
     "name": "stdout",
     "output_type": "stream",
     "text": [
      "loading data end, start to boost trees\n",
      "[0]\ttrain-auc:0.663053\n",
      "Will train until train-auc hasn't improved in 5 rounds.\n",
      "[1]\ttrain-auc:0.66604\n",
      "[2]\ttrain-auc:0.667768\n",
      "[3]\ttrain-auc:0.669458\n",
      "[4]\ttrain-auc:0.67073\n",
      "[5]\ttrain-auc:0.672265\n",
      "[6]\ttrain-auc:0.673055\n",
      "[7]\ttrain-auc:0.673859\n",
      "[8]\ttrain-auc:0.674466\n",
      "[9]\ttrain-auc:0.675054\n",
      "[10]\ttrain-auc:0.675574\n",
      "[11]\ttrain-auc:0.676196\n",
      "[12]\ttrain-auc:0.676949\n",
      "[13]\ttrain-auc:0.677537\n",
      "[14]\ttrain-auc:0.678157\n",
      "[15]\ttrain-auc:0.678649\n",
      "[16]\ttrain-auc:0.679425\n",
      "[17]\ttrain-auc:0.679844\n",
      "[18]\ttrain-auc:0.680404\n",
      "[19]\ttrain-auc:0.681105\n",
      "[20]\ttrain-auc:0.681423\n",
      "[21]\ttrain-auc:0.681988\n",
      "[22]\ttrain-auc:0.682421\n",
      "[23]\ttrain-auc:0.682925\n",
      "[24]\ttrain-auc:0.683341\n",
      "[25]\ttrain-auc:0.683676\n",
      "[26]\ttrain-auc:0.684228\n",
      "[27]\ttrain-auc:0.684833\n",
      "[28]\ttrain-auc:0.685242\n",
      "[29]\ttrain-auc:0.685734\n",
      "[30]\ttrain-auc:0.686219\n",
      "[31]\ttrain-auc:0.686732\n",
      "[32]\ttrain-auc:0.687039\n",
      "[33]\ttrain-auc:0.687384\n",
      "[34]\ttrain-auc:0.687809\n",
      "[35]\ttrain-auc:0.688126\n",
      "[36]\ttrain-auc:0.688602\n",
      "[37]\ttrain-auc:0.688976\n",
      "[38]\ttrain-auc:0.689483\n",
      "[39]\ttrain-auc:0.689762\n",
      "[40]\ttrain-auc:0.690099\n",
      "[41]\ttrain-auc:0.69042\n",
      "[42]\ttrain-auc:0.690698\n",
      "[43]\ttrain-auc:0.691067\n",
      "[44]\ttrain-auc:0.691424\n",
      "[45]\ttrain-auc:0.691684\n",
      "[46]\ttrain-auc:0.691938\n",
      "[47]\ttrain-auc:0.692128\n",
      "[48]\ttrain-auc:0.692374\n",
      "[49]\ttrain-auc:0.692572\n",
      "[50]\ttrain-auc:0.692762\n",
      "[51]\ttrain-auc:0.692928\n",
      "[52]\ttrain-auc:0.693185\n",
      "[53]\ttrain-auc:0.693383\n",
      "[54]\ttrain-auc:0.693573\n",
      "[55]\ttrain-auc:0.693703\n",
      "[56]\ttrain-auc:0.693978\n",
      "[57]\ttrain-auc:0.694249\n",
      "[58]\ttrain-auc:0.694422\n",
      "[59]\ttrain-auc:0.694692\n",
      "[60]\ttrain-auc:0.69486\n",
      "[61]\ttrain-auc:0.695099\n",
      "[62]\ttrain-auc:0.695291\n",
      "[63]\ttrain-auc:0.695464\n",
      "[64]\ttrain-auc:0.695683\n",
      "[65]\ttrain-auc:0.6959\n",
      "[66]\ttrain-auc:0.696038\n",
      "[67]\ttrain-auc:0.696117\n",
      "[68]\ttrain-auc:0.696328\n",
      "[69]\ttrain-auc:0.69649\n",
      "[70]\ttrain-auc:0.696711\n",
      "[71]\ttrain-auc:0.696953\n",
      "[72]\ttrain-auc:0.69713\n",
      "[73]\ttrain-auc:0.697283\n",
      "[74]\ttrain-auc:0.69752\n",
      "[75]\ttrain-auc:0.697704\n",
      "[76]\ttrain-auc:0.697882\n",
      "[77]\ttrain-auc:0.698024\n",
      "[78]\ttrain-auc:0.698257\n",
      "[79]\ttrain-auc:0.698442\n",
      "[80]\ttrain-auc:0.698628\n",
      "[81]\ttrain-auc:0.698768\n",
      "[82]\ttrain-auc:0.698913\n",
      "[83]\ttrain-auc:0.699029\n",
      "[84]\ttrain-auc:0.699097\n",
      "[85]\ttrain-auc:0.699203\n",
      "[86]\ttrain-auc:0.699287\n",
      "[87]\ttrain-auc:0.699359\n",
      "[88]\ttrain-auc:0.699499\n",
      "[89]\ttrain-auc:0.69971\n",
      "[90]\ttrain-auc:0.699785\n",
      "[91]\ttrain-auc:0.699987\n",
      "[92]\ttrain-auc:0.700106\n",
      "[93]\ttrain-auc:0.700241\n",
      "[94]\ttrain-auc:0.700365\n",
      "[95]\ttrain-auc:0.700538\n",
      "[96]\ttrain-auc:0.700605\n",
      "[97]\ttrain-auc:0.700701\n",
      "[98]\ttrain-auc:0.70081\n",
      "[99]\ttrain-auc:0.70085\n",
      "[100]\ttrain-auc:0.700968\n",
      "[101]\ttrain-auc:0.701095\n",
      "[102]\ttrain-auc:0.701206\n",
      "[103]\ttrain-auc:0.701324\n",
      "[104]\ttrain-auc:0.701479\n",
      "[105]\ttrain-auc:0.70162\n",
      "[106]\ttrain-auc:0.701709\n",
      "[107]\ttrain-auc:0.701767\n",
      "[108]\ttrain-auc:0.701961\n",
      "[109]\ttrain-auc:0.702055\n",
      "[110]\ttrain-auc:0.702147\n",
      "[111]\ttrain-auc:0.702226\n",
      "[112]\ttrain-auc:0.702295\n",
      "[113]\ttrain-auc:0.702466\n",
      "[114]\ttrain-auc:0.702561\n",
      "[115]\ttrain-auc:0.702672\n",
      "[116]\ttrain-auc:0.702728\n",
      "[117]\ttrain-auc:0.702837\n",
      "[118]\ttrain-auc:0.702985\n",
      "[119]\ttrain-auc:0.703077\n",
      "finish training\n"
     ]
    }
   ],
   "source": [
    "# construct xgboost.DMatrix from numpy array, treat -999.0 as missing value\n",
    "#xgmat = xgboost.DMatrix( df, label=y_train)\n",
    "xgmat = xgboost.DMatrix( df, label=y_train)\n",
    "# setup parameters for xgboost\n",
    "param = {}\n",
    "# use logistic regression loss, use raw prediction before logistic transformation\n",
    "# since we only need the rank\n",
    "param['objective'] = 'reg:logistic'\n",
    "# scale weight of positive examples\n",
    "param['scale_pos_weight'] = sum(y_train==0)/sum(y_train==1)\n",
    "param['eta'] = 0.1\n",
    "param['max_depth'] = 6\n",
    "param['eval_metric'] = 'auc'\n",
    "param['silent'] = 0\n",
    "param['nthread'] = -1\n",
    "\n",
    "# you can directly throw param in, though we want to watch multiple metrics here\n",
    "plst = list(param.items())\n",
    "\n",
    "watchlist = [ (xgmat,'train') ]\n",
    "# boost 120 trees\n",
    "num_round = 120\n",
    "print ('loading data end, start to boost trees')\n",
    "bst = xgboost.train( plst, xgmat, num_round, watchlist ,early_stopping_rounds=5);\n",
    "# save out model\n",
    "bst.save_model(nameOfModel)\n",
    "\n",
    "print ('finish training')\n"
   ]
  },
  {
   "cell_type": "code",
   "execution_count": null,
   "metadata": {},
   "outputs": [],
   "source": []
  },
  {
   "cell_type": "code",
   "execution_count": 6,
   "metadata": {},
   "outputs": [],
   "source": [
    "xgmat_test = xgboost.DMatrix( X_test, label=Y_test)\n",
    "y_pred = bst.predict(xgmat_test)"
   ]
  },
  {
   "cell_type": "code",
   "execution_count": 7,
   "metadata": {},
   "outputs": [],
   "source": [
    "predictions = [round(value) for value in y_pred]\n",
    "X_test = pd.concat([X_test,dfNeeded_test],axis=1)\n",
    "X_test['y_pred'] = y_pred"
   ]
  },
  {
   "cell_type": "code",
   "execution_count": 13,
   "metadata": {},
   "outputs": [],
   "source": [
    "def getScore(df):\n",
    "    df['rank_srch_id'] = df.groupby('srch_id').cumcount().add(1)\n",
    "    df['gain'] = 5*df['booking_bool']\n",
    "    df['gain'] = np.where(df['gain'] == 0, df['click_bool'], df['gain'])\n",
    "\n",
    "    df['g/rank'] = df['gain']/df['rank_srch_id']\n",
    "    gi_sum = df['g/rank'].sum()\n",
    "    \n",
    "    df['gain_sorted'] = list(df[['srch_id', 'booking_bool', 'click_bool', 'gain']].sort_values(by = ['srch_id','booking_bool','click_bool'], ascending = [True, False, False])['gain'])\n",
    "    df['g/rank_sorted'] = df['gain_sorted']/df['rank_srch_id']\n",
    "    gi_sorted_sum = df['g/rank_sorted'].sum() \n",
    "    score = gi_sum/gi_sorted_sum\n",
    "    return score, gi_sum, gi_sorted_sum"
   ]
  },
  {
   "cell_type": "code",
   "execution_count": 14,
   "metadata": {},
   "outputs": [
    {
     "name": "stdout",
     "output_type": "stream",
     "text": [
      "0.5866607673869075\n",
      "Accuracy: 66.87%\n"
     ]
    },
    {
     "data": {
      "text/plain": [
       "Counter({1.0: 506455, 0.0: 981049})"
      ]
     },
     "execution_count": 14,
     "metadata": {},
     "output_type": "execute_result"
    }
   ],
   "source": [
    "score, gi_sum, gi_sorted_sum = getScore(X_test.sort_values(by=['srch_id', 'y_pred'], ascending = [True, False]).reset_index(drop=True))\n",
    "print(score)\n",
    "\n",
    "# evaluate predictions\n",
    "accuracy = accuracy_score(Y_test, predictions)\n",
    "print(\"Accuracy: %.2f%%\" % (accuracy * 100.0))\n",
    "Counter(predictions)"
   ]
  },
  {
   "cell_type": "markdown",
   "metadata": {},
   "source": [
    "Evaluation"
   ]
  },
  {
   "cell_type": "code",
   "execution_count": 10,
   "metadata": {},
   "outputs": [],
   "source": [
    "dfTest = pd.read_csv(\"../data/testWithMean.csv\")"
   ]
  },
  {
   "cell_type": "code",
   "execution_count": 11,
   "metadata": {},
   "outputs": [],
   "source": [
    "clickingModel = xgboost.Booster({'nthread': 12})  # init model\n",
    "clickingModel.load_model('clickingModel1may.model')  # load data\n"
   ]
  },
  {
   "cell_type": "code",
   "execution_count": 12,
   "metadata": {},
   "outputs": [],
   "source": [
    "xgmat_test_submission = xgboost.DMatrix(dfTest[featuresToUse])\n",
    "y_pred_clicking = clickingModel.predict(xgmat_test_submission)\n",
    "dfTest['predictedPos'] = y_pred_clicking\n",
    "dfTest = dfTest.sort_values(['srch_id','predictedPos'],ascending=[True, False])\n",
    "dfSubmission = dfTest[['srch_id','prop_id']]\n",
    "dfSubmission.to_csv(\"submissionTest1may.csv\",index=False)"
   ]
  }
 ],
 "metadata": {
  "kernelspec": {
   "display_name": "Python 3",
   "language": "python",
   "name": "python3"
  },
  "language_info": {
   "codemirror_mode": {
    "name": "ipython",
    "version": 3
   },
   "file_extension": ".py",
   "mimetype": "text/x-python",
   "name": "python",
   "nbconvert_exporter": "python",
   "pygments_lexer": "ipython3",
   "version": "3.6.8"
  }
 },
 "nbformat": 4,
 "nbformat_minor": 2
}
