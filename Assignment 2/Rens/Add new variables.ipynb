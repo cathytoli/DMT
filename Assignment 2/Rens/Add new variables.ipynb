{
 "cells": [
  {
   "cell_type": "code",
   "execution_count": 1,
   "metadata": {},
   "outputs": [],
   "source": [
    "import pandas as pd"
   ]
  },
  {
   "cell_type": "code",
   "execution_count": 2,
   "metadata": {},
   "outputs": [],
   "source": [
    "df = pd.read_csv('../data/test.csv')"
   ]
  },
  {
   "cell_type": "code",
   "execution_count": 3,
   "metadata": {},
   "outputs": [
    {
     "name": "stdout",
     "output_type": "stream",
     "text": [
      "prop_id\n",
      "Done\n",
      "prop_starrating\n",
      "Done\n",
      "prop_review_score\n",
      "Done\n",
      "prop_brand_bool\n",
      "Done\n",
      "prop_location_score1\n",
      "Done\n",
      "prop_location_score2\n",
      "Done\n",
      "prop_log_historical_price\n",
      "Done\n",
      "Done\n"
     ]
    }
   ],
   "source": [
    "columnsToAvgPerPropID = ['prop_starrating', 'prop_review_score', 'prop_brand_bool',\n",
    "       'prop_location_score1', 'prop_location_score2',\n",
    "       'prop_log_historical_price']\n",
    "for colname in columnsToAvgPerPropID:\n",
    "    print(colname)\n",
    "    df[colname+\"_mean\"] = df.groupby('prop_id')[colname].mean()\n",
    "    print(\"Done\")\n",
    "\n",
    "print(\"Done\")"
   ]
  },
  {
   "cell_type": "code",
   "execution_count": 4,
   "metadata": {},
   "outputs": [],
   "source": [
    "df.to_csv('../data/testWithMean.csv',index=False)"
   ]
  }
 ],
 "metadata": {
  "kernelspec": {
   "display_name": "Python 3",
   "language": "python",
   "name": "python3"
  },
  "language_info": {
   "codemirror_mode": {
    "name": "ipython",
    "version": 3
   },
   "file_extension": ".py",
   "mimetype": "text/x-python",
   "name": "python",
   "nbconvert_exporter": "python",
   "pygments_lexer": "ipython3",
   "version": "3.6.8"
  }
 },
 "nbformat": 4,
 "nbformat_minor": 2
}
