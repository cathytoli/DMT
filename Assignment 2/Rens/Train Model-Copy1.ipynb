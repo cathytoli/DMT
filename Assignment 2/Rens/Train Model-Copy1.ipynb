{
 "cells": [
  {
   "cell_type": "code",
   "execution_count": 2,
   "metadata": {},
   "outputs": [],
   "source": [
    "import pandas as pd\n",
    "import numpy as np\n",
    "import sklearn\n",
    "from xgboost import XGBClassifier\n",
    "import xgboost\n",
    "from collections import Counter\n",
    "from sklearn.model_selection import train_test_split\n",
    "from sklearn.metrics import accuracy_score\n",
    "from sklearn.metrics import classification_report\n",
    "import pickle\n",
    "from sklearn.utils import shuffle\n",
    "import json\n",
    "import os\n",
    "from xgboost import XGBClassifier\n",
    "from matplotlib import pyplot\n",
    "import math"
   ]
  },
  {
   "cell_type": "code",
   "execution_count": 3,
   "metadata": {},
   "outputs": [],
   "source": [
    "#Don't use datetime, Don't use categorical features, xgboost doesn't do those, first one hot encode\n",
    "featuresToUse = ['visitor_hist_starrating', 'visitor_hist_adr_usd',\n",
    "       'prop_starrating', 'prop_review_score', 'prop_brand_bool',\n",
    "       'prop_location_score1', 'prop_location_score2',\n",
    "       'prop_log_historical_price', 'price_usd', 'promotion_flag',\n",
    "       'srch_length_of_stay', 'srch_booking_window',\n",
    "       'srch_adults_count', 'srch_children_count', 'srch_room_count',\n",
    "       'srch_saturday_night_bool', 'srch_query_affinity_score',\n",
    "       'orig_destination_distance', 'comp1_rate', 'comp1_inv',\n",
    "                 'mean_prop_starrating',\n",
    "       'mean_prop_review_score', 'mean_prop_brand_bool',\n",
    "       'mean_prop_location_score1', 'mean_prop_location_score2',   'mean_prop_log_historical_price','cluster__0','cluster__1','cluster__2','cluster__3','cluster__4','cluster__5','diff_distance_orig','diff_price_usd']\n",
    "labelToPredict = 'click_bool'\n",
    "neededVars = ['srch_id','booking_bool']\n",
    "nameOfModel = \"models/11mayACTUALCLicking\""
   ]
  },
  {
   "cell_type": "code",
   "execution_count": 2,
   "metadata": {},
   "outputs": [],
   "source": [
    "#Don't use datetime, Don't use categorical features, xgboost doesn't do those, first one hot encode\n",
    "featuresToUse = ['visitor_hist_starrating', 'visitor_hist_adr_usd',\n",
    "       'prop_starrating', 'prop_review_score', 'prop_brand_bool',\n",
    "       'prop_location_score1', 'prop_location_score2',\n",
    "       'prop_log_historical_price', 'price_usd', 'promotion_flag',\n",
    "       'srch_length_of_stay', 'srch_booking_window',\n",
    "       'srch_adults_count', 'srch_children_count', 'srch_room_count',\n",
    "       'srch_saturday_night_bool', 'srch_query_affinity_score',\n",
    "       'orig_destination_distance', 'comp1_rate', 'comp1_inv',\n",
    "       'diff_distance_orig','diff_price_usd']\n",
    "labelToPredict = 'click_bool'\n",
    "neededVars = ['srch_id','booking_bool']\n",
    "nameOfModel = \"models/10mayClickingOverFitTest2\""
   ]
  },
  {
   "cell_type": "code",
   "execution_count": 4,
   "metadata": {},
   "outputs": [
    {
     "name": "stderr",
     "output_type": "stream",
     "text": [
      "C:\\Users\\Rens\\Anaconda3\\lib\\site-packages\\xgboost\\core.py:587: FutureWarning: Series.base is deprecated and will be removed in a future version\n",
      "  if getattr(data, 'base', None) is not None and \\\n",
      "C:\\Users\\Rens\\Anaconda3\\lib\\site-packages\\xgboost\\core.py:588: FutureWarning: Series.base is deprecated and will be removed in a future version\n",
      "  data.base is not None and isinstance(data, np.ndarray) \\\n"
     ]
    }
   ],
   "source": [
    "df = pd.read_csv('../data/80PercentTrainWithMeanNoShuffle.csv', delimiter=\",\",usecols=featuresToUse+[labelToPredict]+neededVars)\n",
    "dfNeeded= df[neededVars+[labelToPredict]]\n",
    "Y = df[labelToPredict]\n",
    "df.drop(neededVars+[labelToPredict],axis=1,inplace=True)\n",
    "xgmat = xgboost.DMatrix( df, label=Y)"
   ]
  },
  {
   "cell_type": "code",
   "execution_count": 5,
   "metadata": {},
   "outputs": [
    {
     "name": "stderr",
     "output_type": "stream",
     "text": [
      "C:\\Users\\Rens\\Anaconda3\\lib\\site-packages\\xgboost\\core.py:587: FutureWarning: Series.base is deprecated and will be removed in a future version\n",
      "  if getattr(data, 'base', None) is not None and \\\n",
      "C:\\Users\\Rens\\Anaconda3\\lib\\site-packages\\xgboost\\core.py:588: FutureWarning: Series.base is deprecated and will be removed in a future version\n",
      "  data.base is not None and isinstance(data, np.ndarray) \\\n"
     ]
    }
   ],
   "source": [
    "df = pd.read_csv('../data/20PercentTestWithMeanNoShuffle.csv', delimiter=\",\",usecols=featuresToUse+[labelToPredict]+neededVars)\n",
    "dfNeeded= df[neededVars+[labelToPredict]]\n",
    "Y = df[labelToPredict]\n",
    "df.drop(neededVars+[labelToPredict],axis=1,inplace=True)\n",
    "xgmat_test = xgboost.DMatrix( df, label=Y)"
   ]
  },
  {
   "cell_type": "markdown",
   "metadata": {},
   "source": [
    "Lets train it on clicking"
   ]
  },
  {
   "cell_type": "code",
   "execution_count": 6,
   "metadata": {},
   "outputs": [
    {
     "name": "stdout",
     "output_type": "stream",
     "text": [
      "loading data end, start to boost trees\n",
      "[0]\ttrain-auc:0.678017\ttest-auc:0.670182\n",
      "Multiple eval metrics have been passed: 'test-auc' will be used for early stopping.\n",
      "\n",
      "Will train until test-auc hasn't improved in 50 rounds.\n",
      "[1]\ttrain-auc:0.682714\ttest-auc:0.673937\n",
      "[2]\ttrain-auc:0.684531\ttest-auc:0.675412\n",
      "[3]\ttrain-auc:0.686543\ttest-auc:0.677346\n",
      "[4]\ttrain-auc:0.688004\ttest-auc:0.678448\n",
      "[5]\ttrain-auc:0.689162\ttest-auc:0.679235\n",
      "[6]\ttrain-auc:0.690152\ttest-auc:0.67994\n",
      "[7]\ttrain-auc:0.69137\ttest-auc:0.68061\n",
      "[8]\ttrain-auc:0.69263\ttest-auc:0.681458\n",
      "[9]\ttrain-auc:0.693473\ttest-auc:0.682032\n",
      "[10]\ttrain-auc:0.694543\ttest-auc:0.682649\n",
      "[11]\ttrain-auc:0.695584\ttest-auc:0.683346\n",
      "[12]\ttrain-auc:0.696493\ttest-auc:0.683844\n",
      "[13]\ttrain-auc:0.697787\ttest-auc:0.684588\n",
      "[14]\ttrain-auc:0.698857\ttest-auc:0.685029\n",
      "[15]\ttrain-auc:0.699983\ttest-auc:0.685439\n",
      "[16]\ttrain-auc:0.700948\ttest-auc:0.685906\n",
      "[17]\ttrain-auc:0.70185\ttest-auc:0.686329\n",
      "[18]\ttrain-auc:0.702812\ttest-auc:0.686803\n",
      "[19]\ttrain-auc:0.703838\ttest-auc:0.687279\n",
      "[20]\ttrain-auc:0.704678\ttest-auc:0.687597\n",
      "[21]\ttrain-auc:0.705894\ttest-auc:0.68814\n",
      "[22]\ttrain-auc:0.706554\ttest-auc:0.688313\n",
      "[23]\ttrain-auc:0.707518\ttest-auc:0.688688\n",
      "[24]\ttrain-auc:0.708309\ttest-auc:0.689031\n",
      "[25]\ttrain-auc:0.709104\ttest-auc:0.689346\n",
      "[26]\ttrain-auc:0.709747\ttest-auc:0.689595\n",
      "[27]\ttrain-auc:0.710334\ttest-auc:0.68981\n",
      "[28]\ttrain-auc:0.711247\ttest-auc:0.690141\n",
      "[29]\ttrain-auc:0.71196\ttest-auc:0.690372\n",
      "[30]\ttrain-auc:0.71279\ttest-auc:0.690587\n",
      "[31]\ttrain-auc:0.713719\ttest-auc:0.69092\n",
      "[32]\ttrain-auc:0.714512\ttest-auc:0.691207\n",
      "[33]\ttrain-auc:0.715279\ttest-auc:0.691377\n",
      "[34]\ttrain-auc:0.716197\ttest-auc:0.691618\n",
      "[35]\ttrain-auc:0.716926\ttest-auc:0.691885\n",
      "[36]\ttrain-auc:0.717595\ttest-auc:0.692091\n",
      "[37]\ttrain-auc:0.718335\ttest-auc:0.692284\n",
      "[38]\ttrain-auc:0.718974\ttest-auc:0.692432\n",
      "[39]\ttrain-auc:0.719709\ttest-auc:0.692686\n",
      "[40]\ttrain-auc:0.720334\ttest-auc:0.692821\n",
      "[41]\ttrain-auc:0.721059\ttest-auc:0.693033\n",
      "[42]\ttrain-auc:0.721483\ttest-auc:0.69314\n",
      "[43]\ttrain-auc:0.721969\ttest-auc:0.693281\n",
      "[44]\ttrain-auc:0.722629\ttest-auc:0.693495\n",
      "[45]\ttrain-auc:0.723203\ttest-auc:0.693597\n",
      "[46]\ttrain-auc:0.723659\ttest-auc:0.693727\n",
      "[47]\ttrain-auc:0.724392\ttest-auc:0.693994\n",
      "[48]\ttrain-auc:0.724884\ttest-auc:0.694026\n",
      "[49]\ttrain-auc:0.725137\ttest-auc:0.694076\n",
      "[50]\ttrain-auc:0.725538\ttest-auc:0.694187\n",
      "[51]\ttrain-auc:0.726161\ttest-auc:0.694316\n",
      "[52]\ttrain-auc:0.726592\ttest-auc:0.694327\n",
      "[53]\ttrain-auc:0.727274\ttest-auc:0.694387\n",
      "[54]\ttrain-auc:0.727883\ttest-auc:0.694528\n",
      "[55]\ttrain-auc:0.728369\ttest-auc:0.69463\n",
      "[56]\ttrain-auc:0.728875\ttest-auc:0.694724\n",
      "[57]\ttrain-auc:0.729329\ttest-auc:0.694781\n",
      "[58]\ttrain-auc:0.729768\ttest-auc:0.694808\n",
      "[59]\ttrain-auc:0.730249\ttest-auc:0.694894\n",
      "[60]\ttrain-auc:0.730853\ttest-auc:0.695038\n",
      "[61]\ttrain-auc:0.731334\ttest-auc:0.695202\n",
      "[62]\ttrain-auc:0.731638\ttest-auc:0.695281\n",
      "[63]\ttrain-auc:0.732143\ttest-auc:0.695295\n",
      "[64]\ttrain-auc:0.732303\ttest-auc:0.695311\n",
      "[65]\ttrain-auc:0.7328\ttest-auc:0.695509\n",
      "[66]\ttrain-auc:0.733147\ttest-auc:0.695534\n",
      "[67]\ttrain-auc:0.733494\ttest-auc:0.695581\n",
      "[68]\ttrain-auc:0.733986\ttest-auc:0.695623\n",
      "[69]\ttrain-auc:0.734322\ttest-auc:0.695639\n",
      "[70]\ttrain-auc:0.73458\ttest-auc:0.695625\n",
      "[71]\ttrain-auc:0.73516\ttest-auc:0.695702\n",
      "[72]\ttrain-auc:0.735512\ttest-auc:0.695723\n",
      "[73]\ttrain-auc:0.736078\ttest-auc:0.695854\n",
      "[74]\ttrain-auc:0.736485\ttest-auc:0.695823\n",
      "[75]\ttrain-auc:0.736615\ttest-auc:0.695855\n",
      "[76]\ttrain-auc:0.736792\ttest-auc:0.695859\n",
      "[77]\ttrain-auc:0.737068\ttest-auc:0.69589\n",
      "[78]\ttrain-auc:0.737511\ttest-auc:0.69601\n",
      "[79]\ttrain-auc:0.738063\ttest-auc:0.696118\n",
      "[80]\ttrain-auc:0.738557\ttest-auc:0.696178\n",
      "[81]\ttrain-auc:0.738682\ttest-auc:0.696179\n",
      "[82]\ttrain-auc:0.738844\ttest-auc:0.696211\n",
      "[83]\ttrain-auc:0.739184\ttest-auc:0.696234\n",
      "[84]\ttrain-auc:0.739727\ttest-auc:0.696372\n",
      "[85]\ttrain-auc:0.740102\ttest-auc:0.696485\n",
      "[86]\ttrain-auc:0.740395\ttest-auc:0.696503\n",
      "[87]\ttrain-auc:0.74052\ttest-auc:0.696507\n",
      "[88]\ttrain-auc:0.740999\ttest-auc:0.696592\n",
      "[89]\ttrain-auc:0.741357\ttest-auc:0.696576\n",
      "[90]\ttrain-auc:0.741518\ttest-auc:0.696582\n",
      "[91]\ttrain-auc:0.741777\ttest-auc:0.696594\n",
      "[92]\ttrain-auc:0.741889\ttest-auc:0.696606\n",
      "[93]\ttrain-auc:0.742225\ttest-auc:0.696642\n",
      "[94]\ttrain-auc:0.742774\ttest-auc:0.696747\n",
      "[95]\ttrain-auc:0.743291\ttest-auc:0.696796\n",
      "[96]\ttrain-auc:0.743536\ttest-auc:0.696867\n",
      "[97]\ttrain-auc:0.743677\ttest-auc:0.696857\n",
      "[98]\ttrain-auc:0.743844\ttest-auc:0.696907\n",
      "[99]\ttrain-auc:0.744086\ttest-auc:0.696932\n",
      "[100]\ttrain-auc:0.744579\ttest-auc:0.697002\n",
      "[101]\ttrain-auc:0.744699\ttest-auc:0.697012\n",
      "[102]\ttrain-auc:0.745119\ttest-auc:0.697041\n",
      "[103]\ttrain-auc:0.745417\ttest-auc:0.697053\n",
      "[104]\ttrain-auc:0.745616\ttest-auc:0.697058\n",
      "[105]\ttrain-auc:0.746026\ttest-auc:0.697054\n",
      "[106]\ttrain-auc:0.746394\ttest-auc:0.697105\n",
      "[107]\ttrain-auc:0.74667\ttest-auc:0.697091\n",
      "[108]\ttrain-auc:0.746791\ttest-auc:0.697101\n",
      "[109]\ttrain-auc:0.747246\ttest-auc:0.697165\n",
      "[110]\ttrain-auc:0.747505\ttest-auc:0.697154\n",
      "[111]\ttrain-auc:0.747598\ttest-auc:0.697157\n",
      "[112]\ttrain-auc:0.747883\ttest-auc:0.697172\n",
      "[113]\ttrain-auc:0.747996\ttest-auc:0.697149\n",
      "[114]\ttrain-auc:0.748113\ttest-auc:0.697124\n",
      "[115]\ttrain-auc:0.748128\ttest-auc:0.697131\n",
      "[116]\ttrain-auc:0.74829\ttest-auc:0.697137\n",
      "[117]\ttrain-auc:0.748548\ttest-auc:0.69718\n",
      "[118]\ttrain-auc:0.748889\ttest-auc:0.697158\n",
      "[119]\ttrain-auc:0.749474\ttest-auc:0.697269\n",
      "[120]\ttrain-auc:0.749902\ttest-auc:0.697328\n",
      "[121]\ttrain-auc:0.75009\ttest-auc:0.697402\n",
      "[122]\ttrain-auc:0.7502\ttest-auc:0.697394\n",
      "[123]\ttrain-auc:0.750465\ttest-auc:0.697391\n",
      "[124]\ttrain-auc:0.750818\ttest-auc:0.697414\n",
      "[125]\ttrain-auc:0.751195\ttest-auc:0.697435\n",
      "[126]\ttrain-auc:0.751294\ttest-auc:0.697433\n",
      "[127]\ttrain-auc:0.751474\ttest-auc:0.697424\n",
      "[128]\ttrain-auc:0.751773\ttest-auc:0.697384\n",
      "[129]\ttrain-auc:0.751867\ttest-auc:0.697381\n",
      "[130]\ttrain-auc:0.752135\ttest-auc:0.697398\n",
      "[131]\ttrain-auc:0.752406\ttest-auc:0.697393\n",
      "[132]\ttrain-auc:0.75252\ttest-auc:0.697379\n",
      "[133]\ttrain-auc:0.752565\ttest-auc:0.697367\n",
      "[134]\ttrain-auc:0.752855\ttest-auc:0.697344\n",
      "[135]\ttrain-auc:0.753027\ttest-auc:0.69734\n",
      "[136]\ttrain-auc:0.753076\ttest-auc:0.697344\n",
      "[137]\ttrain-auc:0.753418\ttest-auc:0.697396\n",
      "[138]\ttrain-auc:0.753855\ttest-auc:0.697491\n",
      "[139]\ttrain-auc:0.75401\ttest-auc:0.697488\n",
      "[140]\ttrain-auc:0.754052\ttest-auc:0.697485\n",
      "[141]\ttrain-auc:0.754344\ttest-auc:0.697553\n",
      "[142]\ttrain-auc:0.754506\ttest-auc:0.697533\n",
      "[143]\ttrain-auc:0.754959\ttest-auc:0.697611\n",
      "[144]\ttrain-auc:0.75526\ttest-auc:0.697633\n",
      "[145]\ttrain-auc:0.755322\ttest-auc:0.697635\n",
      "[146]\ttrain-auc:0.755663\ttest-auc:0.69767\n",
      "[147]\ttrain-auc:0.755879\ttest-auc:0.697688\n",
      "[148]\ttrain-auc:0.756144\ttest-auc:0.697723\n",
      "[149]\ttrain-auc:0.756259\ttest-auc:0.697695\n",
      "[150]\ttrain-auc:0.756483\ttest-auc:0.697715\n",
      "[151]\ttrain-auc:0.756542\ttest-auc:0.697709\n",
      "[152]\ttrain-auc:0.756744\ttest-auc:0.697652\n",
      "[153]\ttrain-auc:0.756864\ttest-auc:0.69765\n",
      "[154]\ttrain-auc:0.756889\ttest-auc:0.697652\n",
      "[155]\ttrain-auc:0.756988\ttest-auc:0.697655\n",
      "[156]\ttrain-auc:0.757149\ttest-auc:0.697658\n",
      "[157]\ttrain-auc:0.757282\ttest-auc:0.697675\n",
      "[158]\ttrain-auc:0.757335\ttest-auc:0.697654\n",
      "[159]\ttrain-auc:0.757613\ttest-auc:0.697668\n",
      "[160]\ttrain-auc:0.758204\ttest-auc:0.69776\n",
      "[161]\ttrain-auc:0.758395\ttest-auc:0.697769\n",
      "[162]\ttrain-auc:0.758778\ttest-auc:0.697821\n",
      "[163]\ttrain-auc:0.758823\ttest-auc:0.697806\n",
      "[164]\ttrain-auc:0.759134\ttest-auc:0.697819\n",
      "[165]\ttrain-auc:0.759193\ttest-auc:0.697821\n",
      "[166]\ttrain-auc:0.759428\ttest-auc:0.697813\n",
      "[167]\ttrain-auc:0.759585\ttest-auc:0.697817\n",
      "[168]\ttrain-auc:0.759685\ttest-auc:0.69783\n",
      "[169]\ttrain-auc:0.759763\ttest-auc:0.697838\n",
      "[170]\ttrain-auc:0.759957\ttest-auc:0.697841\n",
      "[171]\ttrain-auc:0.75999\ttest-auc:0.697863\n",
      "[172]\ttrain-auc:0.760354\ttest-auc:0.697914\n",
      "[173]\ttrain-auc:0.760578\ttest-auc:0.697954\n",
      "[174]\ttrain-auc:0.760903\ttest-auc:0.697934\n",
      "[175]\ttrain-auc:0.761116\ttest-auc:0.69794\n",
      "[176]\ttrain-auc:0.761448\ttest-auc:0.697957\n",
      "[177]\ttrain-auc:0.761473\ttest-auc:0.697957\n",
      "[178]\ttrain-auc:0.761524\ttest-auc:0.697941\n",
      "[179]\ttrain-auc:0.761668\ttest-auc:0.697936\n",
      "[180]\ttrain-auc:0.761912\ttest-auc:0.69799\n",
      "[181]\ttrain-auc:0.762192\ttest-auc:0.697972\n",
      "[182]\ttrain-auc:0.762467\ttest-auc:0.697929\n",
      "[183]\ttrain-auc:0.762839\ttest-auc:0.697915\n",
      "[184]\ttrain-auc:0.762869\ttest-auc:0.697919\n",
      "[185]\ttrain-auc:0.762936\ttest-auc:0.697917\n",
      "[186]\ttrain-auc:0.762987\ttest-auc:0.69789\n",
      "[187]\ttrain-auc:0.763024\ttest-auc:0.69788\n",
      "[188]\ttrain-auc:0.763233\ttest-auc:0.697902\n",
      "[189]\ttrain-auc:0.76332\ttest-auc:0.69789\n"
     ]
    },
    {
     "name": "stdout",
     "output_type": "stream",
     "text": [
      "[190]\ttrain-auc:0.763537\ttest-auc:0.697901\n",
      "[191]\ttrain-auc:0.763749\ttest-auc:0.697921\n",
      "[192]\ttrain-auc:0.763949\ttest-auc:0.697902\n",
      "[193]\ttrain-auc:0.76398\ttest-auc:0.697887\n",
      "[194]\ttrain-auc:0.763986\ttest-auc:0.697885\n",
      "[195]\ttrain-auc:0.764284\ttest-auc:0.697962\n",
      "[196]\ttrain-auc:0.764443\ttest-auc:0.697942\n",
      "[197]\ttrain-auc:0.764801\ttest-auc:0.697894\n",
      "[198]\ttrain-auc:0.76488\ttest-auc:0.697902\n",
      "[199]\ttrain-auc:0.764994\ttest-auc:0.697887\n",
      "[200]\ttrain-auc:0.765225\ttest-auc:0.69792\n",
      "[201]\ttrain-auc:0.765543\ttest-auc:0.697984\n",
      "[202]\ttrain-auc:0.765882\ttest-auc:0.698013\n",
      "[203]\ttrain-auc:0.765905\ttest-auc:0.698009\n",
      "[204]\ttrain-auc:0.765964\ttest-auc:0.698017\n",
      "[205]\ttrain-auc:0.766247\ttest-auc:0.698074\n",
      "[206]\ttrain-auc:0.76676\ttest-auc:0.69813\n",
      "[207]\ttrain-auc:0.7671\ttest-auc:0.698103\n",
      "[208]\ttrain-auc:0.767231\ttest-auc:0.698097\n",
      "[209]\ttrain-auc:0.767433\ttest-auc:0.698097\n",
      "[210]\ttrain-auc:0.767823\ttest-auc:0.698195\n",
      "[211]\ttrain-auc:0.767855\ttest-auc:0.698188\n",
      "[212]\ttrain-auc:0.767918\ttest-auc:0.698203\n",
      "[213]\ttrain-auc:0.768168\ttest-auc:0.698218\n",
      "[214]\ttrain-auc:0.768294\ttest-auc:0.698187\n",
      "[215]\ttrain-auc:0.768347\ttest-auc:0.698154\n",
      "[216]\ttrain-auc:0.768755\ttest-auc:0.698179\n",
      "[217]\ttrain-auc:0.76899\ttest-auc:0.698209\n",
      "[218]\ttrain-auc:0.769018\ttest-auc:0.698195\n",
      "[219]\ttrain-auc:0.769103\ttest-auc:0.698193\n",
      "[220]\ttrain-auc:0.769254\ttest-auc:0.69821\n",
      "[221]\ttrain-auc:0.769263\ttest-auc:0.698209\n",
      "[222]\ttrain-auc:0.769268\ttest-auc:0.698205\n",
      "[223]\ttrain-auc:0.769428\ttest-auc:0.698212\n",
      "[224]\ttrain-auc:0.769732\ttest-auc:0.698298\n",
      "[225]\ttrain-auc:0.770122\ttest-auc:0.69834\n",
      "[226]\ttrain-auc:0.770245\ttest-auc:0.69831\n",
      "[227]\ttrain-auc:0.770286\ttest-auc:0.698313\n",
      "[228]\ttrain-auc:0.770516\ttest-auc:0.698307\n",
      "[229]\ttrain-auc:0.770851\ttest-auc:0.698316\n",
      "[230]\ttrain-auc:0.77089\ttest-auc:0.698306\n",
      "[231]\ttrain-auc:0.770983\ttest-auc:0.698303\n",
      "[232]\ttrain-auc:0.771113\ttest-auc:0.698315\n",
      "[233]\ttrain-auc:0.771358\ttest-auc:0.698353\n",
      "[234]\ttrain-auc:0.771634\ttest-auc:0.698422\n",
      "[235]\ttrain-auc:0.771685\ttest-auc:0.698402\n",
      "[236]\ttrain-auc:0.771915\ttest-auc:0.698419\n",
      "[237]\ttrain-auc:0.772116\ttest-auc:0.698442\n",
      "[238]\ttrain-auc:0.772199\ttest-auc:0.698414\n",
      "[239]\ttrain-auc:0.772509\ttest-auc:0.698403\n",
      "[240]\ttrain-auc:0.772745\ttest-auc:0.69842\n",
      "[241]\ttrain-auc:0.7729\ttest-auc:0.698406\n",
      "[242]\ttrain-auc:0.772906\ttest-auc:0.698409\n",
      "[243]\ttrain-auc:0.773071\ttest-auc:0.698414\n",
      "[244]\ttrain-auc:0.773277\ttest-auc:0.698412\n",
      "[245]\ttrain-auc:0.773664\ttest-auc:0.698403\n",
      "[246]\ttrain-auc:0.773997\ttest-auc:0.698427\n",
      "[247]\ttrain-auc:0.774095\ttest-auc:0.6984\n",
      "[248]\ttrain-auc:0.774206\ttest-auc:0.698387\n",
      "[249]\ttrain-auc:0.774406\ttest-auc:0.698404\n",
      "[250]\ttrain-auc:0.774528\ttest-auc:0.698381\n",
      "[251]\ttrain-auc:0.774567\ttest-auc:0.698363\n",
      "[252]\ttrain-auc:0.774786\ttest-auc:0.698325\n",
      "[253]\ttrain-auc:0.775045\ttest-auc:0.698389\n",
      "[254]\ttrain-auc:0.775246\ttest-auc:0.698383\n",
      "[255]\ttrain-auc:0.775597\ttest-auc:0.698412\n",
      "[256]\ttrain-auc:0.775727\ttest-auc:0.698421\n",
      "[257]\ttrain-auc:0.775744\ttest-auc:0.69842\n",
      "[258]\ttrain-auc:0.775753\ttest-auc:0.698413\n",
      "[259]\ttrain-auc:0.775776\ttest-auc:0.698405\n",
      "[260]\ttrain-auc:0.775878\ttest-auc:0.698397\n",
      "[261]\ttrain-auc:0.775925\ttest-auc:0.698377\n",
      "[262]\ttrain-auc:0.775955\ttest-auc:0.698363\n",
      "[263]\ttrain-auc:0.77623\ttest-auc:0.698301\n",
      "[264]\ttrain-auc:0.77645\ttest-auc:0.69832\n",
      "[265]\ttrain-auc:0.776529\ttest-auc:0.69831\n",
      "[266]\ttrain-auc:0.776667\ttest-auc:0.69831\n",
      "[267]\ttrain-auc:0.776717\ttest-auc:0.698308\n",
      "[268]\ttrain-auc:0.776857\ttest-auc:0.698319\n",
      "[269]\ttrain-auc:0.776922\ttest-auc:0.698303\n",
      "[270]\ttrain-auc:0.776977\ttest-auc:0.698308\n",
      "[271]\ttrain-auc:0.777002\ttest-auc:0.698286\n",
      "[272]\ttrain-auc:0.777122\ttest-auc:0.698291\n",
      "[273]\ttrain-auc:0.777143\ttest-auc:0.698265\n",
      "[274]\ttrain-auc:0.777165\ttest-auc:0.698262\n",
      "[275]\ttrain-auc:0.7774\ttest-auc:0.698239\n",
      "[276]\ttrain-auc:0.77764\ttest-auc:0.698228\n",
      "[277]\ttrain-auc:0.777875\ttest-auc:0.698259\n",
      "[278]\ttrain-auc:0.777999\ttest-auc:0.698249\n",
      "[279]\ttrain-auc:0.778154\ttest-auc:0.698258\n",
      "[280]\ttrain-auc:0.778335\ttest-auc:0.698226\n",
      "[281]\ttrain-auc:0.778806\ttest-auc:0.698258\n",
      "[282]\ttrain-auc:0.779158\ttest-auc:0.69826\n",
      "[283]\ttrain-auc:0.77921\ttest-auc:0.698247\n",
      "[284]\ttrain-auc:0.779527\ttest-auc:0.698251\n",
      "[285]\ttrain-auc:0.779724\ttest-auc:0.698202\n",
      "[286]\ttrain-auc:0.779776\ttest-auc:0.69818\n",
      "[287]\ttrain-auc:0.779871\ttest-auc:0.698169\n",
      "Stopping. Best iteration:\n",
      "[237]\ttrain-auc:0.772116\ttest-auc:0.698442\n",
      "\n",
      "finish training\n"
     ]
    }
   ],
   "source": [
    "# construct xgboost.DMatrix from numpy array, treat -999.0 as missing value\n",
    "#xgmat = xgboost.DMatrix( df, label=y_train)\n",
    "\n",
    "# setup parameters for xgboost\n",
    "param = {}\n",
    "# use logistic regression loss, use raw prediction before logistic transformation\n",
    "# since we only need the rank\n",
    "param['objective'] = 'reg:logistic'\n",
    "# scale weight of positive examples\n",
    "param['scale_pos_weight'] = sum(Y==0)/sum(Y==1)\n",
    "param['eta'] = 0.1\n",
    "param['max_depth'] = 9\n",
    "param['eval_metric'] = 'auc'\n",
    "param['silent'] = 0\n",
    "param['min_child_weight'] = 5\n",
    "param['eval_set'] = xgmat_test\n",
    "#param['colsample_bytree'] = 0.8\n",
    "\n",
    "\n",
    "# you can directly throw param in, though we want to watch multiple metrics here\n",
    "plst = list(param.items())\n",
    "\n",
    "watchlist = [ (xgmat,'train') ,(xgmat_test,'test')]\n",
    "\n",
    "num_round = 1000\n",
    "print ('loading data end, start to boost trees')\n",
    "bst = xgboost.train( plst, xgmat, num_round, watchlist ,early_stopping_rounds=50);\n",
    "# save out model\n",
    "bst.save_model(nameOfModel+\".model\")\n",
    "\n",
    "print ('finish training')\n"
   ]
  },
  {
   "cell_type": "code",
   "execution_count": 7,
   "metadata": {
    "scrolled": true
   },
   "outputs": [
    {
     "data": {
      "text/plain": [
       "<matplotlib.axes._subplots.AxesSubplot at 0x1e11adca198>"
      ]
     },
     "execution_count": 7,
     "metadata": {},
     "output_type": "execute_result"
    },
    {
     "data": {
      "image/png": "[encoded data removed]",
      "text/plain": [
       "<Figure size 432x288 with 1 Axes>"
      ]
     },
     "metadata": {},
     "output_type": "display_data"
    }
   ],
   "source": [
    "feat_imp = pd.Series(bst.get_fscore()).sort_values(ascending=False)\n",
    "feat_imp.plot(kind='bar', title='Feature Importances')\n"
   ]
  },
  {
   "cell_type": "code",
   "execution_count": 8,
   "metadata": {},
   "outputs": [],
   "source": [
    "y_pred = bst.predict(xgmat_test)"
   ]
  },
  {
   "cell_type": "code",
   "execution_count": 9,
   "metadata": {},
   "outputs": [],
   "source": [
    "predictions = [round(value) for value in y_pred]\n",
    "df = pd.concat([df,dfNeeded],axis=1)\n",
    "df['y_pred'] = y_pred"
   ]
  },
  {
   "cell_type": "code",
   "execution_count": 10,
   "metadata": {},
   "outputs": [],
   "source": [
    "def getLog(x):\n",
    "    return math.log(x+1,2)\n",
    "def getScore(df):\n",
    "    df['rank_srch_id'] = df.groupby('srch_id').cumcount().add(1)\n",
    "    \n",
    "    df['gain'] = 5*df['booking_bool']\n",
    "    df['gain'] = np.where(df['gain'] == 0, df['click_bool'], df['gain'])\n",
    "    df['log_rank'] = df['rank_srch_id'].apply(getLog)\n",
    "    \n",
    "    df['g/rank'] = df['gain']/df['log_rank']\n",
    "    gi_sum = df['g/rank'].sum()\n",
    "\n",
    "    df['gain_sorted'] = list(df[['srch_id', 'booking_bool', 'click_bool', 'gain']].sort_values(by = ['srch_id','booking_bool','click_bool'], ascending = [True, False, False])['gain'])\n",
    "    df['g/rank_sorted'] = df['gain_sorted']/df['log_rank']\n",
    "    gi_sorted_sum = df['g/rank_sorted'].sum()\n",
    "    \n",
    "    score = gi_sum/gi_sorted_sum\n",
    "\n",
    "    return score, gi_sum, gi_sorted_sum"
   ]
  },
  {
   "cell_type": "code",
   "execution_count": 11,
   "metadata": {
    "scrolled": true
   },
   "outputs": [
    {
     "name": "stdout",
     "output_type": "stream",
     "text": [
      "0.5067921243612238\n",
      "Accuracy: 70.82%\n"
     ]
    }
   ],
   "source": [
    "score, gi_sum, gi_sorted_sum = getScore(df.sort_values(by=['srch_id', 'y_pred'], ascending = [True, False]).reset_index(drop=True))\n",
    "print(score)\n",
    "\n",
    "# evaluate predictions\n",
    "accuracy = accuracy_score(df['click_bool'], predictions)\n",
    "print(\"Accuracy: %.2f%%\" % (accuracy * 100.0))"
   ]
  },
  {
   "cell_type": "code",
   "execution_count": 12,
   "metadata": {},
   "outputs": [
    {
     "ename": "TypeError",
     "evalue": "Object of type 'DMatrix' is not JSON serializable",
     "output_type": "error",
     "traceback": [
      "\u001b[1;31m---------------------------------------------------------------------------\u001b[0m",
      "\u001b[1;31mTypeError\u001b[0m                                 Traceback (most recent call last)",
      "\u001b[1;32m<ipython-input-12-5dfe6e37d5bf>\u001b[0m in \u001b[0;36m<module>\u001b[1;34m()\u001b[0m\n\u001b[0;32m      5\u001b[0m \u001b[0mf\u001b[0m\u001b[1;33m.\u001b[0m\u001b[0mwrite\u001b[0m\u001b[1;33m(\u001b[0m\u001b[0mstr\u001b[0m\u001b[1;33m(\u001b[0m\u001b[0mlist\u001b[0m\u001b[1;33m(\u001b[0m\u001b[0mfeaturesToUse\u001b[0m\u001b[1;33m)\u001b[0m\u001b[1;33m)\u001b[0m \u001b[1;33m+\u001b[0m\u001b[1;34m\"\\n\"\u001b[0m\u001b[1;33m)\u001b[0m\u001b[1;33m\u001b[0m\u001b[0m\n\u001b[0;32m      6\u001b[0m \u001b[0mf\u001b[0m\u001b[1;33m.\u001b[0m\u001b[0mwrite\u001b[0m\u001b[1;33m(\u001b[0m\u001b[1;34m\"Parameters xgboost:\\n\"\u001b[0m\u001b[1;33m)\u001b[0m\u001b[1;33m\u001b[0m\u001b[0m\n\u001b[1;32m----> 7\u001b[1;33m \u001b[0mf\u001b[0m\u001b[1;33m.\u001b[0m\u001b[0mwrite\u001b[0m\u001b[1;33m(\u001b[0m\u001b[0mstr\u001b[0m\u001b[1;33m(\u001b[0m\u001b[0mjson\u001b[0m\u001b[1;33m.\u001b[0m\u001b[0mdumps\u001b[0m\u001b[1;33m(\u001b[0m\u001b[0mparam\u001b[0m\u001b[1;33m)\u001b[0m\u001b[1;33m)\u001b[0m\u001b[1;33m+\u001b[0m\u001b[1;34m\"\\n\"\u001b[0m\u001b[1;33m)\u001b[0m\u001b[1;33m\u001b[0m\u001b[0m\n\u001b[0m\u001b[0;32m      8\u001b[0m \u001b[0mf\u001b[0m\u001b[1;33m.\u001b[0m\u001b[0mwrite\u001b[0m\u001b[1;33m(\u001b[0m\u001b[1;34m\"Number of rounds:\\n\"\u001b[0m\u001b[1;33m+\u001b[0m\u001b[0mstr\u001b[0m\u001b[1;33m(\u001b[0m\u001b[0mnum_round\u001b[0m\u001b[1;33m)\u001b[0m\u001b[1;33m+\u001b[0m\u001b[1;34m\"\\n\"\u001b[0m\u001b[1;33m)\u001b[0m\u001b[1;33m\u001b[0m\u001b[0m\n\u001b[0;32m      9\u001b[0m \u001b[0mf\u001b[0m\u001b[1;33m.\u001b[0m\u001b[0mclose\u001b[0m\u001b[1;33m(\u001b[0m\u001b[1;33m)\u001b[0m\u001b[1;33m\u001b[0m\u001b[0m\n",
      "\u001b[1;32m~\\Anaconda3\\lib\\json\\__init__.py\u001b[0m in \u001b[0;36mdumps\u001b[1;34m(obj, skipkeys, ensure_ascii, check_circular, allow_nan, cls, indent, separators, default, sort_keys, **kw)\u001b[0m\n\u001b[0;32m    229\u001b[0m         \u001b[0mcls\u001b[0m \u001b[1;32mis\u001b[0m \u001b[1;32mNone\u001b[0m \u001b[1;32mand\u001b[0m \u001b[0mindent\u001b[0m \u001b[1;32mis\u001b[0m \u001b[1;32mNone\u001b[0m \u001b[1;32mand\u001b[0m \u001b[0mseparators\u001b[0m \u001b[1;32mis\u001b[0m \u001b[1;32mNone\u001b[0m \u001b[1;32mand\u001b[0m\u001b[1;33m\u001b[0m\u001b[0m\n\u001b[0;32m    230\u001b[0m         default is None and not sort_keys and not kw):\n\u001b[1;32m--> 231\u001b[1;33m         \u001b[1;32mreturn\u001b[0m \u001b[0m_default_encoder\u001b[0m\u001b[1;33m.\u001b[0m\u001b[0mencode\u001b[0m\u001b[1;33m(\u001b[0m\u001b[0mobj\u001b[0m\u001b[1;33m)\u001b[0m\u001b[1;33m\u001b[0m\u001b[0m\n\u001b[0m\u001b[0;32m    232\u001b[0m     \u001b[1;32mif\u001b[0m \u001b[0mcls\u001b[0m \u001b[1;32mis\u001b[0m \u001b[1;32mNone\u001b[0m\u001b[1;33m:\u001b[0m\u001b[1;33m\u001b[0m\u001b[0m\n\u001b[0;32m    233\u001b[0m         \u001b[0mcls\u001b[0m \u001b[1;33m=\u001b[0m \u001b[0mJSONEncoder\u001b[0m\u001b[1;33m\u001b[0m\u001b[0m\n",
      "\u001b[1;32m~\\Anaconda3\\lib\\json\\encoder.py\u001b[0m in \u001b[0;36mencode\u001b[1;34m(self, o)\u001b[0m\n\u001b[0;32m    197\u001b[0m         \u001b[1;31m# exceptions aren't as detailed.  The list call should be roughly\u001b[0m\u001b[1;33m\u001b[0m\u001b[1;33m\u001b[0m\u001b[0m\n\u001b[0;32m    198\u001b[0m         \u001b[1;31m# equivalent to the PySequence_Fast that ''.join() would do.\u001b[0m\u001b[1;33m\u001b[0m\u001b[1;33m\u001b[0m\u001b[0m\n\u001b[1;32m--> 199\u001b[1;33m         \u001b[0mchunks\u001b[0m \u001b[1;33m=\u001b[0m \u001b[0mself\u001b[0m\u001b[1;33m.\u001b[0m\u001b[0miterencode\u001b[0m\u001b[1;33m(\u001b[0m\u001b[0mo\u001b[0m\u001b[1;33m,\u001b[0m \u001b[0m_one_shot\u001b[0m\u001b[1;33m=\u001b[0m\u001b[1;32mTrue\u001b[0m\u001b[1;33m)\u001b[0m\u001b[1;33m\u001b[0m\u001b[0m\n\u001b[0m\u001b[0;32m    200\u001b[0m         \u001b[1;32mif\u001b[0m \u001b[1;32mnot\u001b[0m \u001b[0misinstance\u001b[0m\u001b[1;33m(\u001b[0m\u001b[0mchunks\u001b[0m\u001b[1;33m,\u001b[0m \u001b[1;33m(\u001b[0m\u001b[0mlist\u001b[0m\u001b[1;33m,\u001b[0m \u001b[0mtuple\u001b[0m\u001b[1;33m)\u001b[0m\u001b[1;33m)\u001b[0m\u001b[1;33m:\u001b[0m\u001b[1;33m\u001b[0m\u001b[0m\n\u001b[0;32m    201\u001b[0m             \u001b[0mchunks\u001b[0m \u001b[1;33m=\u001b[0m \u001b[0mlist\u001b[0m\u001b[1;33m(\u001b[0m\u001b[0mchunks\u001b[0m\u001b[1;33m)\u001b[0m\u001b[1;33m\u001b[0m\u001b[0m\n",
      "\u001b[1;32m~\\Anaconda3\\lib\\json\\encoder.py\u001b[0m in \u001b[0;36miterencode\u001b[1;34m(self, o, _one_shot)\u001b[0m\n\u001b[0;32m    255\u001b[0m                 \u001b[0mself\u001b[0m\u001b[1;33m.\u001b[0m\u001b[0mkey_separator\u001b[0m\u001b[1;33m,\u001b[0m \u001b[0mself\u001b[0m\u001b[1;33m.\u001b[0m\u001b[0mitem_separator\u001b[0m\u001b[1;33m,\u001b[0m \u001b[0mself\u001b[0m\u001b[1;33m.\u001b[0m\u001b[0msort_keys\u001b[0m\u001b[1;33m,\u001b[0m\u001b[1;33m\u001b[0m\u001b[0m\n\u001b[0;32m    256\u001b[0m                 self.skipkeys, _one_shot)\n\u001b[1;32m--> 257\u001b[1;33m         \u001b[1;32mreturn\u001b[0m \u001b[0m_iterencode\u001b[0m\u001b[1;33m(\u001b[0m\u001b[0mo\u001b[0m\u001b[1;33m,\u001b[0m \u001b[1;36m0\u001b[0m\u001b[1;33m)\u001b[0m\u001b[1;33m\u001b[0m\u001b[0m\n\u001b[0m\u001b[0;32m    258\u001b[0m \u001b[1;33m\u001b[0m\u001b[0m\n\u001b[0;32m    259\u001b[0m def _make_iterencode(markers, _default, _encoder, _indent, _floatstr,\n",
      "\u001b[1;32m~\\Anaconda3\\lib\\json\\encoder.py\u001b[0m in \u001b[0;36mdefault\u001b[1;34m(self, o)\u001b[0m\n\u001b[0;32m    178\u001b[0m         \"\"\"\n\u001b[0;32m    179\u001b[0m         raise TypeError(\"Object of type '%s' is not JSON serializable\" %\n\u001b[1;32m--> 180\u001b[1;33m                         o.__class__.__name__)\n\u001b[0m\u001b[0;32m    181\u001b[0m \u001b[1;33m\u001b[0m\u001b[0m\n\u001b[0;32m    182\u001b[0m     \u001b[1;32mdef\u001b[0m \u001b[0mencode\u001b[0m\u001b[1;33m(\u001b[0m\u001b[0mself\u001b[0m\u001b[1;33m,\u001b[0m \u001b[0mo\u001b[0m\u001b[1;33m)\u001b[0m\u001b[1;33m:\u001b[0m\u001b[1;33m\u001b[0m\u001b[0m\n",
      "\u001b[1;31mTypeError\u001b[0m: Object of type 'DMatrix' is not JSON serializable"
     ]
    }
   ],
   "source": [
    "f=open(\"scores.txt\", \"a+\")\n",
    "f.write(\"Score: \"+str(score)+\"\\n\")\n",
    "f.write(\"Label to predict: \"+str(labelToPredict)+\"\\n\")\n",
    "f.write(\"Features used:\\n\")\n",
    "f.write(str(list(featuresToUse)) +\"\\n\")\n",
    "f.write(\"Parameters xgboost:\\n\")\n",
    "f.write(str(json.dumps(param))+\"\\n\")\n",
    "f.write(\"Number of rounds:\\n\"+str(num_round)+\"\\n\")\n",
    "f.close()"
   ]
  },
  {
   "cell_type": "code",
   "execution_count": 13,
   "metadata": {},
   "outputs": [],
   "source": [
    "os.rename(nameOfModel+\".model\",nameOfModel+str(int(score*100))+\".model\")\n",
    "newNameOfModel = nameOfModel+str(int(score*100))"
   ]
  },
  {
   "cell_type": "markdown",
   "metadata": {},
   "source": [
    "Lets combine the models"
   ]
  },
  {
   "cell_type": "code",
   "execution_count": 3,
   "metadata": {},
   "outputs": [],
   "source": [
    "clickingModel = xgboost.Booster()\n",
    "clickingModel.load_model('models/10mayClicking50074.model')\n",
    "bookingModel = xgboost.Booster()\n",
    "bookingModel.load_model(\"models/9mayBooking74.model\")"
   ]
  },
  {
   "cell_type": "code",
   "execution_count": 4,
   "metadata": {},
   "outputs": [],
   "source": [
    "df = pd.read_csv('../data/20PercentTestWithMean.csv', delimiter=\",\",usecols=featuresToUse+[labelToPredict]+neededVars)\n",
    "dfNeeded= df[neededVars+[labelToPredict]]\n",
    "df.drop(neededVars+[labelToPredict],axis=1,inplace=True)"
   ]
  },
  {
   "cell_type": "code",
   "execution_count": 5,
   "metadata": {},
   "outputs": [],
   "source": [
    "xgmat_test = xgboost.DMatrix( df)\n",
    "y_pred_clicking = clickingModel.predict(xgmat_test)\n",
    "y_pred_booking = bookingModel.predict(xgmat_test)"
   ]
  },
  {
   "cell_type": "code",
   "execution_count": 6,
   "metadata": {},
   "outputs": [],
   "source": [
    "df = pd.concat([df,dfNeeded],axis=1)\n",
    "df['y_pred_clicking'] = y_pred_clicking\n",
    "df['y_pred_booking'] = y_pred_booking\n",
    "df['combined'] = y_pred_booking+y_pred_clicking"
   ]
  },
  {
   "cell_type": "code",
   "execution_count": 9,
   "metadata": {},
   "outputs": [
    {
     "name": "stdout",
     "output_type": "stream",
     "text": [
      "Sort first on booking and then on clicking: 0.7482338410691464\n",
      "Combine then sort: 0.7518651972072667\n"
     ]
    }
   ],
   "source": [
    "score_apart, gi_sum, gi_sorted_sum = getScore(df.sort_values(by=['srch_id', 'y_pred_booking', 'y_pred_clicking'], ascending = [True, False,False]).reset_index(drop=True))\n",
    "score_combined, gi_sum, gi_sorted_sum = getScore(df.sort_values(by=['srch_id', 'combined'], ascending = [True, False]).reset_index(drop=True))\n",
    "print(\"Sort first on booking and then on clicking: \"+str(score_apart))\n",
    "print(\"Combine then sort: \"+str(score_combined))"
   ]
  },
  {
   "cell_type": "markdown",
   "metadata": {},
   "source": [
    "Evaluation"
   ]
  },
  {
   "cell_type": "code",
   "execution_count": 3,
   "metadata": {},
   "outputs": [],
   "source": [
    "dfTest = pd.read_csv(\"../data/testWithMean.csv\")"
   ]
  },
  {
   "cell_type": "code",
   "execution_count": 4,
   "metadata": {},
   "outputs": [],
   "source": [
    "clickingModel = xgboost.Booster()\n",
    "clickingModel.load_model(\"models/10mayClickingOverFitTest50.model\")\n",
    "#bookingModel = xgboost.Booster()\n",
    "#bookingModel.load_model(\"models/9mayBooking74.model\")"
   ]
  },
  {
   "cell_type": "code",
   "execution_count": 5,
   "metadata": {},
   "outputs": [],
   "source": [
    "xgmat_test_submission = xgboost.DMatrix(dfTest[featuresToUse])\n",
    "y_pred_clicking = clickingModel.predict(xgmat_test_submission)\n",
    "#_pred_booking = bookingModel.predict(xgmat_test_submission)\n",
    "dfTest['predictedPos'] = y_pred_clicking#+y_pred_booking\n",
    "dfTest = dfTest.sort_values(['srch_id','predictedPos'],ascending=[True, False])\n",
    "dfSubmission = dfTest[['srch_id','prop_id']]\n",
    "dfSubmission.to_csv(\"submissionTest10yFinal.csv\",index=False)"
   ]
  }
 ],
 "metadata": {
  "kernelspec": {
   "display_name": "Python 3",
   "language": "python",
   "name": "python3"
  },
  "language_info": {
   "codemirror_mode": {
    "name": "ipython",
    "version": 3
   },
   "file_extension": ".py",
   "mimetype": "text/x-python",
   "name": "python",
   "nbconvert_exporter": "python",
   "pygments_lexer": "ipython3",
   "version": "3.6.5"
  }
 },
 "nbformat": 4,
 "nbformat_minor": 2
}
