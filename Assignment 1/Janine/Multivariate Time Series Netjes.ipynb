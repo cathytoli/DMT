{
 "cells": [
  {
   "cell_type": "code",
<<<<<<< HEAD
   "execution_count": 74,
=======
   "execution_count": 1,
>>>>>>> 3a9b1ee8534362d21d8a9076999b95ec74ca3419
   "metadata": {},
   "outputs": [],
   "source": [
    "# iMPORT PACKAGES\n",
    "import pandas as pd\n",
    "import datetime as dt\n",
    "import numpy as np\n",
    "import math\n",
    "from datetime import timedelta\n",
    "from statsmodels.tsa.vector_ar.var_model import VAR\n",
    "from statsmodels.tsa.arima_model import ARIMA\n",
    "import warnings\n",
    "warnings.filterwarnings('ignore')\n"
   ]
  },
  {
   "cell_type": "code",
<<<<<<< HEAD
   "execution_count": 75,
=======
   "execution_count": 2,
>>>>>>> 3a9b1ee8534362d21d8a9076999b95ec74ca3419
   "metadata": {
    "scrolled": true
   },
   "outputs": [],
   "source": [
    "data = pd.read_csv(\"out_without_nan_mood_target.csv\")\n",
    "data['date'] = pd.to_datetime(data['date'])"
   ]
  },
  {
   "cell_type": "code",
<<<<<<< HEAD
   "execution_count": 76,
=======
   "execution_count": 3,
>>>>>>> 3a9b1ee8534362d21d8a9076999b95ec74ca3419
   "metadata": {},
   "outputs": [],
   "source": [
    "df = data.dropna(subset = ['mood_mean','mood_mean_TARGET'] )"
   ]
  },
  {
   "cell_type": "code",
<<<<<<< HEAD
   "execution_count": 137,
=======
   "execution_count": 4,
>>>>>>> 3a9b1ee8534362d21d8a9076999b95ec74ca3419
   "metadata": {},
   "outputs": [],
   "source": [
    "# Create test and train set\n",
    "length_train = 100\n",
    "index_test = np.random.choice(np.arange(len(df)), length_train, False)\n",
    "\n",
    "test = df.iloc[index_test]\n",
    "train = df.drop(df.index[index_test])"
   ]
  },
  {
   "cell_type": "code",
<<<<<<< HEAD
   "execution_count": 142,
=======
   "execution_count": 5,
>>>>>>> 3a9b1ee8534362d21d8a9076999b95ec74ca3419
   "metadata": {},
   "outputs": [],
   "source": [
    "def predictMoodPerson(row):    \n",
    "    #get train data\n",
    "    train_data_person = df.loc[(df['id'] == row.id) & (df['date'] < row.date)]\n",
    "    train_data_person_correct = train_data_person[[\"circumplex.valence_mean\",\"activity_mean\", \"appCat.entertainment_sum\", \n",
    "                                                   \"circumplex.arousal_mean\", \"appCat.communication_sum\",\n",
    "                                                   \"appCat.social_sum\", 'mood_mean','mood_mean_TARGET']]\n",
    "    prediction_mood_target = None\n",
    "    #fit the model\n",
    "    if len(train_data_person_correct) > 10:\n",
    "        model = VAR(endog=train_data_person_correct)\n",
    "        model_fit = model.fit()\n",
    "    \n",
    "        # make prediction on validation\n",
    "        prediction = model_fit.forecast(model_fit.y, steps=1)\n",
    "        prediction_mood_target = prediction[0][7]\n",
    "    \n",
    "    return prediction_mood_target\n",
    "  \n"
   ]
  },
  {
   "cell_type": "code",
<<<<<<< HEAD
   "execution_count": 143,
   "metadata": {},
   "outputs": [],
   "source": [
    "def predictMoodPerson2(row):    \n",
    "    #get train data\n",
    "    train_data_person = df.loc[(df['id'] == row.id) & (df['date'] < row.date)]\n",
    "    train_data_person_correct = train_data_person[['mood_mean_TARGET']]\n",
    "    \n",
    "    prediction_mood_target = None\n",
    "    #fit the model\n",
    "    if len(train_data_person_correct) > 5:\n",
    "        model = ARIMA(train_data_person_correct, order=(4,1,0))\n",
    "        model_fit = model.fit()\n",
    "    \n",
    "        # make prediction on validation\n",
    "        prediction = model_fit.forecast()\n",
    "        prediction_mood_target = prediction[0][0]\n",
    "    \n",
    "    return prediction_mood_target "
   ]
  },
  {
   "cell_type": "code",
   "execution_count": 144,
=======
   "execution_count": 6,
>>>>>>> 3a9b1ee8534362d21d8a9076999b95ec74ca3419
   "metadata": {},
   "outputs": [],
   "source": [
    "# Create empty df to save solutions\n",
    "solutions = pd.DataFrame(data={'id': [], 'date': [], 'mood_mean_target': [], 'predicted_mood_mean_target':[]})"
   ]
  },
  {
   "cell_type": "code",
<<<<<<< HEAD
   "execution_count": 145,
=======
   "execution_count": 7,
>>>>>>> 3a9b1ee8534362d21d8a9076999b95ec74ca3419
   "metadata": {},
   "outputs": [
    {
     "ename": "ValueError",
     "evalue": "x already contains a constant",
     "output_type": "error",
     "traceback": [
      "\u001b[1;31m---------------------------------------------------------------------------\u001b[0m",
      "\u001b[1;31mValueError\u001b[0m                                Traceback (most recent call last)",
      "\u001b[1;32m<ipython-input-145-f272eb85c29d>\u001b[0m in \u001b[0;36m<module>\u001b[1;34m()\u001b[0m\n\u001b[0;32m      1\u001b[0m \u001b[1;31m# Find for every row in test set the predicted mood\u001b[0m\u001b[1;33m\u001b[0m\u001b[1;33m\u001b[0m\u001b[0m\n\u001b[0;32m      2\u001b[0m \u001b[1;32mfor\u001b[0m \u001b[0mindex\u001b[0m\u001b[1;33m,\u001b[0m \u001b[0mrow\u001b[0m \u001b[1;32min\u001b[0m \u001b[0mtest\u001b[0m\u001b[1;33m.\u001b[0m\u001b[0miterrows\u001b[0m\u001b[1;33m(\u001b[0m\u001b[1;33m)\u001b[0m\u001b[1;33m:\u001b[0m\u001b[1;33m\u001b[0m\u001b[0m\n\u001b[1;32m----> 3\u001b[1;33m     \u001b[0mprediction_mood_target\u001b[0m \u001b[1;33m=\u001b[0m \u001b[0mpredictMoodPerson\u001b[0m\u001b[1;33m(\u001b[0m\u001b[0mrow\u001b[0m\u001b[1;33m)\u001b[0m\u001b[1;33m\u001b[0m\u001b[0m\n\u001b[0m\u001b[0;32m      4\u001b[0m \u001b[1;33m\u001b[0m\u001b[0m\n\u001b[0;32m      5\u001b[0m     \u001b[1;31m#add solution to solution df\u001b[0m\u001b[1;33m\u001b[0m\u001b[1;33m\u001b[0m\u001b[0m\n",
      "\u001b[1;32m<ipython-input-142-0232221801eb>\u001b[0m in \u001b[0;36mpredictMoodPerson\u001b[1;34m(row)\u001b[0m\n\u001b[0;32m      9\u001b[0m     \u001b[1;32mif\u001b[0m \u001b[0mlen\u001b[0m\u001b[1;33m(\u001b[0m\u001b[0mtrain_data_person_correct\u001b[0m\u001b[1;33m)\u001b[0m \u001b[1;33m>\u001b[0m \u001b[1;36m10\u001b[0m\u001b[1;33m:\u001b[0m\u001b[1;33m\u001b[0m\u001b[0m\n\u001b[0;32m     10\u001b[0m         \u001b[0mmodel\u001b[0m \u001b[1;33m=\u001b[0m \u001b[0mVAR\u001b[0m\u001b[1;33m(\u001b[0m\u001b[0mendog\u001b[0m\u001b[1;33m=\u001b[0m\u001b[0mtrain_data_person_correct\u001b[0m\u001b[1;33m)\u001b[0m\u001b[1;33m\u001b[0m\u001b[0m\n\u001b[1;32m---> 11\u001b[1;33m         \u001b[0mmodel_fit\u001b[0m \u001b[1;33m=\u001b[0m \u001b[0mmodel\u001b[0m\u001b[1;33m.\u001b[0m\u001b[0mfit\u001b[0m\u001b[1;33m(\u001b[0m\u001b[1;33m)\u001b[0m\u001b[1;33m\u001b[0m\u001b[0m\n\u001b[0m\u001b[0;32m     12\u001b[0m \u001b[1;33m\u001b[0m\u001b[0m\n\u001b[0;32m     13\u001b[0m         \u001b[1;31m# make prediction on validation\u001b[0m\u001b[1;33m\u001b[0m\u001b[1;33m\u001b[0m\u001b[0m\n",
      "\u001b[1;32m~\\Anaconda3\\lib\\site-packages\\statsmodels\\tsa\\vector_ar\\var_model.py\u001b[0m in \u001b[0;36mfit\u001b[1;34m(self, maxlags, method, ic, trend, verbose)\u001b[0m\n\u001b[0;32m    640\u001b[0m                                \u001b[0mself\u001b[0m\u001b[1;33m.\u001b[0m\u001b[0mdata\u001b[0m\u001b[1;33m.\u001b[0m\u001b[0mxnames\u001b[0m\u001b[1;33m[\u001b[0m\u001b[0mk_trend\u001b[0m\u001b[1;33m:\u001b[0m\u001b[1;33m]\u001b[0m\u001b[1;33m\u001b[0m\u001b[0m\n\u001b[0;32m    641\u001b[0m \u001b[1;33m\u001b[0m\u001b[0m\n\u001b[1;32m--> 642\u001b[1;33m         \u001b[1;32mreturn\u001b[0m \u001b[0mself\u001b[0m\u001b[1;33m.\u001b[0m\u001b[0m_estimate_var\u001b[0m\u001b[1;33m(\u001b[0m\u001b[0mlags\u001b[0m\u001b[1;33m,\u001b[0m \u001b[0mtrend\u001b[0m\u001b[1;33m=\u001b[0m\u001b[0mtrend\u001b[0m\u001b[1;33m)\u001b[0m\u001b[1;33m\u001b[0m\u001b[0m\n\u001b[0m\u001b[0;32m    643\u001b[0m \u001b[1;33m\u001b[0m\u001b[0m\n\u001b[0;32m    644\u001b[0m     \u001b[1;32mdef\u001b[0m \u001b[0m_estimate_var\u001b[0m\u001b[1;33m(\u001b[0m\u001b[0mself\u001b[0m\u001b[1;33m,\u001b[0m \u001b[0mlags\u001b[0m\u001b[1;33m,\u001b[0m \u001b[0moffset\u001b[0m\u001b[1;33m=\u001b[0m\u001b[1;36m0\u001b[0m\u001b[1;33m,\u001b[0m \u001b[0mtrend\u001b[0m\u001b[1;33m=\u001b[0m\u001b[1;34m'c'\u001b[0m\u001b[1;33m)\u001b[0m\u001b[1;33m:\u001b[0m\u001b[1;33m\u001b[0m\u001b[0m\n",
      "\u001b[1;32m~\\Anaconda3\\lib\\site-packages\\statsmodels\\tsa\\vector_ar\\var_model.py\u001b[0m in \u001b[0;36m_estimate_var\u001b[1;34m(self, lags, offset, trend)\u001b[0m\n\u001b[0;32m    662\u001b[0m         \u001b[0mexog\u001b[0m \u001b[1;33m=\u001b[0m \u001b[1;32mNone\u001b[0m \u001b[1;32mif\u001b[0m \u001b[0mself\u001b[0m\u001b[1;33m.\u001b[0m\u001b[0mexog\u001b[0m \u001b[1;32mis\u001b[0m \u001b[1;32mNone\u001b[0m \u001b[1;32melse\u001b[0m \u001b[0mself\u001b[0m\u001b[1;33m.\u001b[0m\u001b[0mexog\u001b[0m\u001b[1;33m[\u001b[0m\u001b[0moffset\u001b[0m\u001b[1;33m:\u001b[0m\u001b[1;33m]\u001b[0m\u001b[1;33m\u001b[0m\u001b[0m\n\u001b[0;32m    663\u001b[0m         z = util.get_var_endog(endog, lags, trend=trend,\n\u001b[1;32m--> 664\u001b[1;33m                                has_constant='raise')\n\u001b[0m\u001b[0;32m    665\u001b[0m         \u001b[1;32mif\u001b[0m \u001b[0mexog\u001b[0m \u001b[1;32mis\u001b[0m \u001b[1;32mnot\u001b[0m \u001b[1;32mNone\u001b[0m\u001b[1;33m:\u001b[0m\u001b[1;33m\u001b[0m\u001b[0m\n\u001b[0;32m    666\u001b[0m             \u001b[1;31m# TODO: currently only deterministic terms supported (exoglags==0)\u001b[0m\u001b[1;33m\u001b[0m\u001b[1;33m\u001b[0m\u001b[0m\n",
      "\u001b[1;32m~\\Anaconda3\\lib\\site-packages\\statsmodels\\tsa\\vector_ar\\util.py\u001b[0m in \u001b[0;36mget_var_endog\u001b[1;34m(y, lags, trend, has_constant)\u001b[0m\n\u001b[0;32m     34\u001b[0m     \u001b[1;32mif\u001b[0m \u001b[0mtrend\u001b[0m \u001b[1;33m!=\u001b[0m \u001b[1;34m'nc'\u001b[0m\u001b[1;33m:\u001b[0m\u001b[1;33m\u001b[0m\u001b[0m\n\u001b[0;32m     35\u001b[0m         Z = tsa.add_trend(Z, prepend=True, trend=trend,\n\u001b[1;32m---> 36\u001b[1;33m                           has_constant=has_constant)\n\u001b[0m\u001b[0;32m     37\u001b[0m \u001b[1;33m\u001b[0m\u001b[0m\n\u001b[0;32m     38\u001b[0m     \u001b[1;32mreturn\u001b[0m \u001b[0mZ\u001b[0m\u001b[1;33m\u001b[0m\u001b[0m\n",
      "\u001b[1;32m~\\Anaconda3\\lib\\site-packages\\statsmodels\\tsa\\tsatools.py\u001b[0m in \u001b[0;36madd_trend\u001b[1;34m(x, trend, prepend, has_constant)\u001b[0m\n\u001b[0;32m    101\u001b[0m         \u001b[1;32mif\u001b[0m \u001b[0mnp\u001b[0m\u001b[1;33m.\u001b[0m\u001b[0many\u001b[0m\u001b[1;33m(\u001b[0m\u001b[0mcol_const\u001b[0m\u001b[1;33m)\u001b[0m\u001b[1;33m:\u001b[0m\u001b[1;33m\u001b[0m\u001b[0m\n\u001b[0;32m    102\u001b[0m             \u001b[1;32mif\u001b[0m \u001b[0mhas_constant\u001b[0m \u001b[1;33m==\u001b[0m \u001b[1;34m'raise'\u001b[0m\u001b[1;33m:\u001b[0m\u001b[1;33m\u001b[0m\u001b[0m\n\u001b[1;32m--> 103\u001b[1;33m                 \u001b[1;32mraise\u001b[0m \u001b[0mValueError\u001b[0m\u001b[1;33m(\u001b[0m\u001b[1;34m\"x already contains a constant\"\u001b[0m\u001b[1;33m)\u001b[0m\u001b[1;33m\u001b[0m\u001b[0m\n\u001b[0m\u001b[0;32m    104\u001b[0m             \u001b[1;32melif\u001b[0m \u001b[0mhas_constant\u001b[0m \u001b[1;33m==\u001b[0m \u001b[1;34m'skip'\u001b[0m\u001b[1;33m:\u001b[0m\u001b[1;33m\u001b[0m\u001b[0m\n\u001b[0;32m    105\u001b[0m                 \u001b[0mcolumns\u001b[0m \u001b[1;33m=\u001b[0m \u001b[0mcolumns\u001b[0m\u001b[1;33m[\u001b[0m\u001b[1;36m1\u001b[0m\u001b[1;33m:\u001b[0m\u001b[1;33m]\u001b[0m\u001b[1;33m\u001b[0m\u001b[0m\n",
      "\u001b[1;31mValueError\u001b[0m: x already contains a constant"
     ]
    }
   ],
   "source": [
    "# Find for every row in test set the predicted mood\n",
    "for index, row in test.iterrows():\n",
    "    prediction_mood_target = predictMoodPerson(row)\n",
    "    \n",
    "    #add solution to solution df\n",
    "    if prediction_mood_target is not None:\n",
    "        solutions = solutions.append({'id': row.id, 'date': row.date, 'mood_mean_target': row.mood_mean_TARGET,\n",
    "                                      'predicted_mood_mean_target': prediction_mood_target}, ignore_index=True)"
   ]
  },
  {
   "cell_type": "code",
   "execution_count": 112,
   "metadata": {
    "scrolled": true
   },
   "outputs": [],
   "source": [
    "#solutions.head(33)\n",
    "# Gaat fout bij 31 AS14.24 2014-04-19 7.800000 48.954000"
   ]
  },
  {
   "cell_type": "code",
<<<<<<< HEAD
   "execution_count": 105,
=======
   "execution_count": 8,
>>>>>>> 3a9b1ee8534362d21d8a9076999b95ec74ca3419
   "metadata": {},
   "outputs": [],
   "source": [
    "def calculateAccMSQ(solutions, name_target,name_predicted):\n",
    "    correct = 0\n",
    "    squared_error = 0\n",
    "\n",
    "    for index, row in solutions.iterrows():\n",
    "        squared_error += math.pow(row[name_target]-row[name_predicted],2)\n",
    "        if (row[name_target] == row[name_predicted]):\n",
    "            correct = correct + 1\n",
    "        \n",
    "    accuracy = correct/ len(solutions.index)\n",
    "    msq = squared_error / len(solutions.index)\n",
    "    return accuracy, msq\n",
    "    "
   ]
  },
  {
   "cell_type": "code",
<<<<<<< HEAD
   "execution_count": 106,
=======
   "execution_count": 9,
>>>>>>> 3a9b1ee8534362d21d8a9076999b95ec74ca3419
   "metadata": {},
   "outputs": [
    {
     "name": "stdout",
     "output_type": "stream",
     "text": [
<<<<<<< HEAD
      "0.5368177051599147\n"
=======
      "0.0 17.527522184861475\n"
>>>>>>> 3a9b1ee8534362d21d8a9076999b95ec74ca3419
     ]
    }
   ],
   "source": [
    "accuracy, msq = calculateAccMSQ(solutions, \"mood_mean_target\", \"predicted_mood_mean_target\")\n",
    "\n",
    "print(msq)"
   ]
  },
  {
   "cell_type": "code",
<<<<<<< HEAD
   "execution_count": 26,
=======
   "execution_count": 10,
>>>>>>> 3a9b1ee8534362d21d8a9076999b95ec74ca3419
   "metadata": {},
   "outputs": [
    {
     "name": "stdout",
     "output_type": "stream",
     "text": [
<<<<<<< HEAD
      "0.0 1.0\n"
=======
      "0.5638297872340425 17.73404255319149\n"
>>>>>>> 3a9b1ee8534362d21d8a9076999b95ec74ca3419
     ]
    }
   ],
   "source": [
    "solutions2 = solutions.round({'mood_mean_target': 0, 'predicted_mood_mean_target': 0})\n",
    "accuracy, msq = calculateAccMSQ(solutions2, \"mood_mean_target\", \"predicted_mood_mean_target\")\n",
    "print(accuracy, msq)"
   ]
  }
 ],
 "metadata": {
  "kernelspec": {
   "display_name": "Python 3",
   "language": "python",
   "name": "python3"
  },
  "language_info": {
   "codemirror_mode": {
    "name": "ipython",
    "version": 3
   },
   "file_extension": ".py",
   "mimetype": "text/x-python",
   "name": "python",
   "nbconvert_exporter": "python",
   "pygments_lexer": "ipython3",
   "version": "3.6.8"
  }
 },
 "nbformat": 4,
 "nbformat_minor": 2
}
